{
 "cells": [
  {
   "cell_type": "markdown",
   "metadata": {},
   "source": [
    "# Concatenating, saving and zipping txt files"
   ]
  },
  {
   "cell_type": "markdown",
   "metadata": {},
   "source": [
    "This may be needed if the data files are given in seperate hemispheres like the fv91 ones."
   ]
  },
  {
   "cell_type": "code",
   "execution_count": 1,
   "metadata": {
    "collapsed": true
   },
   "outputs": [],
   "source": [
    "import numpy as np"
   ]
  },
  {
   "cell_type": "markdown",
   "metadata": {},
   "source": [
    "Start by locating your files and loading them in with numpy. Our vertex files had a column numbering the rows so we will need to exclude it when loading the files in. "
   ]
  },
  {
   "cell_type": "code",
   "execution_count": 2,
   "metadata": {
    "collapsed": false
   },
   "outputs": [
    {
     "name": "stdout",
     "output_type": "stream",
     "text": [
      "/rri_disks/home/htian/Data/fv91_srfData_20170215\n"
     ]
    }
   ],
   "source": [
    "cd '/home/htian/Data/fv91_srfData_20170215/'"
   ]
  },
  {
   "cell_type": "code",
   "execution_count": null,
   "metadata": {
    "collapsed": true
   },
   "outputs": [],
   "source": [
    "vtx_noinfl_lh = np.loadtxt('coord_left_noninflated.txt')[:,1:] \n",
    "vtx_infl_lh = np.loadtxt('coord_left_inflated.txt')[:,1:]\n",
    "tri_lh = np.loadtxt('tiles_left.txt').astype(int)\n",
    "\n",
    "vtx_noinfl_rh = np.loadtxt('coord_right_noninflated.txt')[:,1:] \n",
    "vtx_infl_rh = np.loadtxt('coord_right_inflated.txt')[:,1:]\n",
    "tri_rh = np.loadtxt('tiles_right.txt').astype(int)"
   ]
  },
  {
   "cell_type": "markdown",
   "metadata": {},
   "source": [
    "Use numpy to concatenate the left and right files for both vertices and triangles, double checking that you have placed them in the same order as they are in the connectivity matrix. If the hemispheres are missing, that can be done as shown below. "
   ]
  },
  {
   "cell_type": "code",
   "execution_count": 3,
   "metadata": {
    "collapsed": false
   },
   "outputs": [],
   "source": [
    "tri_lhrh = np.concatenate([tri_lh,tri_rh+vtx_infl_lh.shape[0]])\n",
    "\n",
    "vtx_noinfl_lhrh = np.concatenate([vtx_noinfl_lh,vtx_noinfl_rh])\n",
    "vtx_infl_lhrh = np.concatenate([vtx_infl_lh,vtx_infl_rh])\n",
    "\n",
    "hemi = np.concatenate([np.zeros_like(vtx_infl_lh[:,0]).astype(bool),\n",
    "                       np.ones_like(vtx_infl_rh[:,0]).astype(bool)])"
   ]
  },
  {
   "cell_type": "markdown",
   "metadata": {},
   "source": [
    "Our file had overlapping x coordinates so we will need to seperate them. "
   ]
  },
  {
   "cell_type": "code",
   "execution_count": 6,
   "metadata": {
    "collapsed": true
   },
   "outputs": [],
   "source": [
    "vtx_infl_shift_lh = vtx_infl_lh.copy()\n",
    "vtx_infl_shift_lh[:,0] -= vtx_infl_lh[:,0].max()\n",
    "vtx_infl_shift_lh[:,0] -= 1.\n",
    "\n",
    "vtx_infl_shift_rh = vtx_infl_rh.copy()\n",
    "vtx_infl_shift_rh[:,0] += np.abs(vtx_infl_rh[:,0].min()) \n",
    "vtx_infl_shift_rh[:,0] += 1.\n",
    "\n",
    "\n",
    "vtx_infl_shift_lhrh = np.concatenate([vtx_infl_shift_lh,vtx_infl_shift_rh])"
   ]
  },
  {
   "cell_type": "markdown",
   "metadata": {},
   "source": [
    "Now, save the files into text files. We need to include a dummy file for our normals so we will create a file of zeros with the same shape of our vertices file."
   ]
  },
  {
   "cell_type": "code",
   "execution_count": 7,
   "metadata": {
    "collapsed": true
   },
   "outputs": [],
   "source": [
    "np.savetxt('vertices.txt', clris)\n",
    "\n",
    "np.savetxt('triangles.txt', tlr, fmt= '%s')\n",
    "\n",
    "ns =np.zeros_like(clri)\n",
    "np.savetxt('normals.txt', ns)\n",
    "\n",
    "np.savetxt('hemispheres.txt', hemi)"
   ]
  },
  {
   "cell_type": "markdown",
   "metadata": {},
   "source": [
    "Finally, zip them together."
   ]
  },
  {
   "cell_type": "code",
   "execution_count": 8,
   "metadata": {
    "collapsed": false
   },
   "outputs": [
    {
     "name": "stdout",
     "output_type": "stream",
     "text": [
      "  adding: vertices.txt (deflated 73%)\n",
      "  adding: triangles.txt (deflated 69%)\n",
      "  adding: normals.txt (deflated 100%)\n"
     ]
    }
   ],
   "source": [
    "!zip -rj newzipfile.zip vertices.txt triangles.txt normals.txt hermispheres.txt"
   ]
  },
  {
   "cell_type": "code",
   "execution_count": null,
   "metadata": {
    "collapsed": true
   },
   "outputs": [],
   "source": []
  },
  {
   "cell_type": "code",
   "execution_count": null,
   "metadata": {
    "collapsed": true
   },
   "outputs": [],
   "source": []
  },
  {
   "cell_type": "code",
   "execution_count": null,
   "metadata": {
    "collapsed": true
   },
   "outputs": [],
   "source": []
  },
  {
   "cell_type": "code",
   "execution_count": null,
   "metadata": {
    "collapsed": true
   },
   "outputs": [],
   "source": []
  },
  {
   "cell_type": "code",
   "execution_count": null,
   "metadata": {
    "collapsed": true
   },
   "outputs": [],
   "source": []
  }
 ],
 "metadata": {
  "anaconda-cloud": {},
  "kernelspec": {
   "display_name": "Python [default]",
   "language": "python",
   "name": "python2"
  },
  "language_info": {
   "codemirror_mode": {
    "name": "ipython",
    "version": 2
   },
   "file_extension": ".py",
   "mimetype": "text/x-python",
   "name": "python",
   "nbconvert_exporter": "python",
   "pygments_lexer": "ipython2",
   "version": "2.7.13"
  }
 },
 "nbformat": 4,
 "nbformat_minor": 2
}
