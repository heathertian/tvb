{
 "cells": [
  {
   "cell_type": "code",
   "execution_count": 39,
   "metadata": {
    "collapsed": false
   },
   "outputs": [],
   "source": [
    "%pylab nbagg\n",
    "from tvb.simulator.lab import *\n",
    "LOG= get_logger('demo')\n",
    "from tvb.simulator.plot.tools import *"
   ]
  },
  {
   "cell_type": "markdown",
   "metadata": {},
   "source": [
    "# Exploring information flow between memory and oculomotor systems"
   ]
  },
  {
   "cell_type": "markdown",
   "metadata": {},
   "source": [
    "We want to look into possible pathways and their functional significance. We will start off by running a V1 stimulations to check our parameters. Once you are happy with your activation times and parameters. We will stimulation one of the hippocampal nodes and check their activation times if they ever activate. "
   ]
  },
  {
   "cell_type": "markdown",
   "metadata": {},
   "source": [
    "## Defining the stimulus "
   ]
  },
  {
   "cell_type": "markdown",
   "metadata": {},
   "source": [
    "We'll start by choosing a specific node to stimulate, in this case V1, and defining the weighting of the stimulus coming into that node. Below we'll define the temporal profile with the default Gaussian equation. "
   ]
  },
  {
   "cell_type": "code",
   "execution_count": 4,
   "metadata": {
    "collapsed": false
   },
   "outputs": [],
   "source": [
    "v1_node = 68\n",
    "#spatial pattern\n",
    "weighting = numpy.zeros((154))\n",
    "weighting [[v1_node]] = 0.03\n",
    "\n",
    "#temporal profile\n",
    "eqn_t = equations.PulseTrain()\n",
    "eqn_t.parameters['onset'] = 10000\n",
    "eqn_t.parameters['T'] = 1000.0\n",
    "eqn_t.parameters['tau'] = 50.0"
   ]
  },
  {
   "cell_type": "markdown",
   "metadata": {},
   "source": [
    "We will be using a connectivity matrix that is not the default matrix and so we will need to load in this matrix. Make sure after loading it in you should name the files appropriately, zip them and then place the package in the connectivity file in tvb's data. "
   ]
  },
  {
   "cell_type": "code",
   "execution_count": 5,
   "metadata": {
    "collapsed": false
   },
   "outputs": [],
   "source": [
    "new_conn= connectivity.Connectivity.from_file(\"newconn.zip\")\n",
    "new_conn.configure()\n",
    "new_conn.weights= (np.loadtxt('/home/htian/Data/avg9/weights.txt'))\n",
    "new_conn.tract_lengths= np.loadtxt('/home/htian/Data/avg9/tract_lengths.txt')"
   ]
  },
  {
   "cell_type": "markdown",
   "metadata": {},
   "source": [
    "Now, combine the spatial pattern with the temporal profile into one object. We must first configure the stimulus which happens automatically in the simulator. "
   ]
  },
  {
   "cell_type": "code",
   "execution_count": 6,
   "metadata": {
    "collapsed": false
   },
   "outputs": [],
   "source": [
    "stimulus = patterns.StimuliRegion( temporal = eqn_t, \n",
    "                                  connectivity = new_conn, \n",
    "                                  weight = weighting)"
   ]
  },
  {
   "cell_type": "code",
   "execution_count": 7,
   "metadata": {
    "collapsed": false
   },
   "outputs": [],
   "source": [
    "stimulus.configure_space()\n",
    "stimulus.configure_time(numpy.arange(0.,12000, 2**-4))"
   ]
  },
  {
   "cell_type": "markdown",
   "metadata": {},
   "source": [
    "## Simulate"
   ]
  },
  {
   "cell_type": "markdown",
   "metadata": {},
   "source": [
    "We must define the parameters for our simulation. Here we are using parameters that we've come up with based off of the Spiegler model and previous trials. Adjust these values to what best fits your data."
   ]
  },
  {
   "cell_type": "code",
   "execution_count": 8,
   "metadata": {
    "collapsed": false
   },
   "outputs": [],
   "source": [
    "mod= models.Generic2dOscillator(d = (1/1000.) * 76.74,\n",
    "                                tau =1., f= 1.,e= 0., g= -0.1, \n",
    "                            alpha =1., gamma= 1., c= 0., b= -12.3083, beta =0., a =0.)\n",
    "integrators = integrators.HeunStochastic(dt = 0.1, noise=noise.Additive(nsig=5e-15)) \n",
    "coupling = coupling.Linear(a=0.01)\n",
    "monitors= monitors.TemporalAverage(period = 1.0)\n",
    "new_conn.speed= 8."
   ]
  },
  {
   "cell_type": "markdown",
   "metadata": {},
   "source": [
    "Create and run the simulation "
   ]
  },
  {
   "cell_type": "code",
   "execution_count": 9,
   "metadata": {
    "collapsed": false
   },
   "outputs": [],
   "source": [
    "sim = simulator.Simulator(\n",
    "        model = mod,\n",
    "        connectivity = new_conn,\n",
    "        coupling = coupling,\n",
    "        integrator = integrators,\n",
    "        monitors = monitors,\n",
    "        stimulus = stimulus, \n",
    "        simulation_length = 12000,\n",
    "        ).configure()\n",
    "\n",
    "(tavg_time, tavg_data), = sim.run()"
   ]
  },
  {
   "cell_type": "markdown",
   "metadata": {},
   "source": [
    "## Visualize"
   ]
  },
  {
   "cell_type": "markdown",
   "metadata": {},
   "source": [
    "Since the stimulated node's amplitude is much greater than the amplitudes of the other nodes. To be able to see the data in an appropriate scope we will exclude the stimulated node from certain calculations. Here we are inlcuding all the data except the data of the stimulated node into an array. "
   ]
  },
  {
   "cell_type": "code",
   "execution_count": 10,
   "metadata": {
    "collapsed": false
   },
   "outputs": [],
   "source": [
    "lst_nodes = [i for i in range(154) if i != v1_node]\n",
    "nostimnode=tavg_data[:, 0, lst_nodes, 0]"
   ]
  },
  {
   "cell_type": "markdown",
   "metadata": {},
   "source": [
    "In the graph, the black lines will represent all nodes except the stimulated node, red is for the stimulated node, and green is for certain nodes that we want to investigate.\n"
   ]
  },
  {
   "cell_type": "code",
   "execution_count": 11,
   "metadata": {
    "collapsed": false
   },
   "outputs": [],
   "source": [
    "datas_raw= (nostimnode)\n",
    "v1_raw= (tavg_data[:, 0, v1_node, 0])\n",
    "follow_raw=( tavg_data[:, 0, 36, 0],tavg_data[:, 0, 45, 0],tavg_data[:, 0, 46, 0],tavg_data[:, 0, 47, 0],\n",
    "             tavg_data[:, 0, 69, 0],tavg_data[:, 0, 70, 0],tavg_data[:, 0, 72, 0])\n",
    "#follow nodes are in the order FEF, MSTd, MSTl, MT, V1, V2, V3, V4 \n",
    "\n",
    "datas= np.squeeze(datas_raw)\n",
    "v1= np.squeeze(v1_raw).T\n",
    "follow = np.squeeze(follow_raw).T"
   ]
  },
  {
   "cell_type": "code",
   "execution_count": 40,
   "metadata": {
    "collapsed": false
   },
   "outputs": [
    {
     "data": {
      "application/javascript": [
       "/* Put everything inside the global mpl namespace */\n",
       "window.mpl = {};\n",
       "\n",
       "mpl.get_websocket_type = function() {\n",
       "    if (typeof(WebSocket) !== 'undefined') {\n",
       "        return WebSocket;\n",
       "    } else if (typeof(MozWebSocket) !== 'undefined') {\n",
       "        return MozWebSocket;\n",
       "    } else {\n",
       "        alert('Your browser does not have WebSocket support.' +\n",
       "              'Please try Chrome, Safari or Firefox ≥ 6. ' +\n",
       "              'Firefox 4 and 5 are also supported but you ' +\n",
       "              'have to enable WebSockets in about:config.');\n",
       "    };\n",
       "}\n",
       "\n",
       "mpl.figure = function(figure_id, websocket, ondownload, parent_element) {\n",
       "    this.id = figure_id;\n",
       "\n",
       "    this.ws = websocket;\n",
       "\n",
       "    this.supports_binary = (this.ws.binaryType != undefined);\n",
       "\n",
       "    if (!this.supports_binary) {\n",
       "        var warnings = document.getElementById(\"mpl-warnings\");\n",
       "        if (warnings) {\n",
       "            warnings.style.display = 'block';\n",
       "            warnings.textContent = (\n",
       "                \"This browser does not support binary websocket messages. \" +\n",
       "                    \"Performance may be slow.\");\n",
       "        }\n",
       "    }\n",
       "\n",
       "    this.imageObj = new Image();\n",
       "\n",
       "    this.context = undefined;\n",
       "    this.message = undefined;\n",
       "    this.canvas = undefined;\n",
       "    this.rubberband_canvas = undefined;\n",
       "    this.rubberband_context = undefined;\n",
       "    this.format_dropdown = undefined;\n",
       "\n",
       "    this.image_mode = 'full';\n",
       "\n",
       "    this.root = $('<div/>');\n",
       "    this._root_extra_style(this.root)\n",
       "    this.root.attr('style', 'display: inline-block');\n",
       "\n",
       "    $(parent_element).append(this.root);\n",
       "\n",
       "    this._init_header(this);\n",
       "    this._init_canvas(this);\n",
       "    this._init_toolbar(this);\n",
       "\n",
       "    var fig = this;\n",
       "\n",
       "    this.waiting = false;\n",
       "\n",
       "    this.ws.onopen =  function () {\n",
       "            fig.send_message(\"supports_binary\", {value: fig.supports_binary});\n",
       "            fig.send_message(\"send_image_mode\", {});\n",
       "            fig.send_message(\"refresh\", {});\n",
       "        }\n",
       "\n",
       "    this.imageObj.onload = function() {\n",
       "            if (fig.image_mode == 'full') {\n",
       "                // Full images could contain transparency (where diff images\n",
       "                // almost always do), so we need to clear the canvas so that\n",
       "                // there is no ghosting.\n",
       "                fig.context.clearRect(0, 0, fig.canvas.width, fig.canvas.height);\n",
       "            }\n",
       "            fig.context.drawImage(fig.imageObj, 0, 0);\n",
       "        };\n",
       "\n",
       "    this.imageObj.onunload = function() {\n",
       "        this.ws.close();\n",
       "    }\n",
       "\n",
       "    this.ws.onmessage = this._make_on_message_function(this);\n",
       "\n",
       "    this.ondownload = ondownload;\n",
       "}\n",
       "\n",
       "mpl.figure.prototype._init_header = function() {\n",
       "    var titlebar = $(\n",
       "        '<div class=\"ui-dialog-titlebar ui-widget-header ui-corner-all ' +\n",
       "        'ui-helper-clearfix\"/>');\n",
       "    var titletext = $(\n",
       "        '<div class=\"ui-dialog-title\" style=\"width: 100%; ' +\n",
       "        'text-align: center; padding: 3px;\"/>');\n",
       "    titlebar.append(titletext)\n",
       "    this.root.append(titlebar);\n",
       "    this.header = titletext[0];\n",
       "}\n",
       "\n",
       "\n",
       "\n",
       "mpl.figure.prototype._canvas_extra_style = function(canvas_div) {\n",
       "\n",
       "}\n",
       "\n",
       "\n",
       "mpl.figure.prototype._root_extra_style = function(canvas_div) {\n",
       "\n",
       "}\n",
       "\n",
       "mpl.figure.prototype._init_canvas = function() {\n",
       "    var fig = this;\n",
       "\n",
       "    var canvas_div = $('<div/>');\n",
       "\n",
       "    canvas_div.attr('style', 'position: relative; clear: both; outline: 0');\n",
       "\n",
       "    function canvas_keyboard_event(event) {\n",
       "        return fig.key_event(event, event['data']);\n",
       "    }\n",
       "\n",
       "    canvas_div.keydown('key_press', canvas_keyboard_event);\n",
       "    canvas_div.keyup('key_release', canvas_keyboard_event);\n",
       "    this.canvas_div = canvas_div\n",
       "    this._canvas_extra_style(canvas_div)\n",
       "    this.root.append(canvas_div);\n",
       "\n",
       "    var canvas = $('<canvas/>');\n",
       "    canvas.addClass('mpl-canvas');\n",
       "    canvas.attr('style', \"left: 0; top: 0; z-index: 0; outline: 0\")\n",
       "\n",
       "    this.canvas = canvas[0];\n",
       "    this.context = canvas[0].getContext(\"2d\");\n",
       "\n",
       "    var rubberband = $('<canvas/>');\n",
       "    rubberband.attr('style', \"position: absolute; left: 0; top: 0; z-index: 1;\")\n",
       "\n",
       "    var pass_mouse_events = true;\n",
       "\n",
       "    canvas_div.resizable({\n",
       "        start: function(event, ui) {\n",
       "            pass_mouse_events = false;\n",
       "        },\n",
       "        resize: function(event, ui) {\n",
       "            fig.request_resize(ui.size.width, ui.size.height);\n",
       "        },\n",
       "        stop: function(event, ui) {\n",
       "            pass_mouse_events = true;\n",
       "            fig.request_resize(ui.size.width, ui.size.height);\n",
       "        },\n",
       "    });\n",
       "\n",
       "    function mouse_event_fn(event) {\n",
       "        if (pass_mouse_events)\n",
       "            return fig.mouse_event(event, event['data']);\n",
       "    }\n",
       "\n",
       "    rubberband.mousedown('button_press', mouse_event_fn);\n",
       "    rubberband.mouseup('button_release', mouse_event_fn);\n",
       "    // Throttle sequential mouse events to 1 every 20ms.\n",
       "    rubberband.mousemove('motion_notify', mouse_event_fn);\n",
       "\n",
       "    rubberband.mouseenter('figure_enter', mouse_event_fn);\n",
       "    rubberband.mouseleave('figure_leave', mouse_event_fn);\n",
       "\n",
       "    canvas_div.on(\"wheel\", function (event) {\n",
       "        event = event.originalEvent;\n",
       "        event['data'] = 'scroll'\n",
       "        if (event.deltaY < 0) {\n",
       "            event.step = 1;\n",
       "        } else {\n",
       "            event.step = -1;\n",
       "        }\n",
       "        mouse_event_fn(event);\n",
       "    });\n",
       "\n",
       "    canvas_div.append(canvas);\n",
       "    canvas_div.append(rubberband);\n",
       "\n",
       "    this.rubberband = rubberband;\n",
       "    this.rubberband_canvas = rubberband[0];\n",
       "    this.rubberband_context = rubberband[0].getContext(\"2d\");\n",
       "    this.rubberband_context.strokeStyle = \"#000000\";\n",
       "\n",
       "    this._resize_canvas = function(width, height) {\n",
       "        // Keep the size of the canvas, canvas container, and rubber band\n",
       "        // canvas in synch.\n",
       "        canvas_div.css('width', width)\n",
       "        canvas_div.css('height', height)\n",
       "\n",
       "        canvas.attr('width', width);\n",
       "        canvas.attr('height', height);\n",
       "\n",
       "        rubberband.attr('width', width);\n",
       "        rubberband.attr('height', height);\n",
       "    }\n",
       "\n",
       "    // Set the figure to an initial 600x600px, this will subsequently be updated\n",
       "    // upon first draw.\n",
       "    this._resize_canvas(600, 600);\n",
       "\n",
       "    // Disable right mouse context menu.\n",
       "    $(this.rubberband_canvas).bind(\"contextmenu\",function(e){\n",
       "        return false;\n",
       "    });\n",
       "\n",
       "    function set_focus () {\n",
       "        canvas.focus();\n",
       "        canvas_div.focus();\n",
       "    }\n",
       "\n",
       "    window.setTimeout(set_focus, 100);\n",
       "}\n",
       "\n",
       "mpl.figure.prototype._init_toolbar = function() {\n",
       "    var fig = this;\n",
       "\n",
       "    var nav_element = $('<div/>')\n",
       "    nav_element.attr('style', 'width: 100%');\n",
       "    this.root.append(nav_element);\n",
       "\n",
       "    // Define a callback function for later on.\n",
       "    function toolbar_event(event) {\n",
       "        return fig.toolbar_button_onclick(event['data']);\n",
       "    }\n",
       "    function toolbar_mouse_event(event) {\n",
       "        return fig.toolbar_button_onmouseover(event['data']);\n",
       "    }\n",
       "\n",
       "    for(var toolbar_ind in mpl.toolbar_items) {\n",
       "        var name = mpl.toolbar_items[toolbar_ind][0];\n",
       "        var tooltip = mpl.toolbar_items[toolbar_ind][1];\n",
       "        var image = mpl.toolbar_items[toolbar_ind][2];\n",
       "        var method_name = mpl.toolbar_items[toolbar_ind][3];\n",
       "\n",
       "        if (!name) {\n",
       "            // put a spacer in here.\n",
       "            continue;\n",
       "        }\n",
       "        var button = $('<button/>');\n",
       "        button.addClass('ui-button ui-widget ui-state-default ui-corner-all ' +\n",
       "                        'ui-button-icon-only');\n",
       "        button.attr('role', 'button');\n",
       "        button.attr('aria-disabled', 'false');\n",
       "        button.click(method_name, toolbar_event);\n",
       "        button.mouseover(tooltip, toolbar_mouse_event);\n",
       "\n",
       "        var icon_img = $('<span/>');\n",
       "        icon_img.addClass('ui-button-icon-primary ui-icon');\n",
       "        icon_img.addClass(image);\n",
       "        icon_img.addClass('ui-corner-all');\n",
       "\n",
       "        var tooltip_span = $('<span/>');\n",
       "        tooltip_span.addClass('ui-button-text');\n",
       "        tooltip_span.html(tooltip);\n",
       "\n",
       "        button.append(icon_img);\n",
       "        button.append(tooltip_span);\n",
       "\n",
       "        nav_element.append(button);\n",
       "    }\n",
       "\n",
       "    var fmt_picker_span = $('<span/>');\n",
       "\n",
       "    var fmt_picker = $('<select/>');\n",
       "    fmt_picker.addClass('mpl-toolbar-option ui-widget ui-widget-content');\n",
       "    fmt_picker_span.append(fmt_picker);\n",
       "    nav_element.append(fmt_picker_span);\n",
       "    this.format_dropdown = fmt_picker[0];\n",
       "\n",
       "    for (var ind in mpl.extensions) {\n",
       "        var fmt = mpl.extensions[ind];\n",
       "        var option = $(\n",
       "            '<option/>', {selected: fmt === mpl.default_extension}).html(fmt);\n",
       "        fmt_picker.append(option)\n",
       "    }\n",
       "\n",
       "    // Add hover states to the ui-buttons\n",
       "    $( \".ui-button\" ).hover(\n",
       "        function() { $(this).addClass(\"ui-state-hover\");},\n",
       "        function() { $(this).removeClass(\"ui-state-hover\");}\n",
       "    );\n",
       "\n",
       "    var status_bar = $('<span class=\"mpl-message\"/>');\n",
       "    nav_element.append(status_bar);\n",
       "    this.message = status_bar[0];\n",
       "}\n",
       "\n",
       "mpl.figure.prototype.request_resize = function(x_pixels, y_pixels) {\n",
       "    // Request matplotlib to resize the figure. Matplotlib will then trigger a resize in the client,\n",
       "    // which will in turn request a refresh of the image.\n",
       "    this.send_message('resize', {'width': x_pixels, 'height': y_pixels});\n",
       "}\n",
       "\n",
       "mpl.figure.prototype.send_message = function(type, properties) {\n",
       "    properties['type'] = type;\n",
       "    properties['figure_id'] = this.id;\n",
       "    this.ws.send(JSON.stringify(properties));\n",
       "}\n",
       "\n",
       "mpl.figure.prototype.send_draw_message = function() {\n",
       "    if (!this.waiting) {\n",
       "        this.waiting = true;\n",
       "        this.ws.send(JSON.stringify({type: \"draw\", figure_id: this.id}));\n",
       "    }\n",
       "}\n",
       "\n",
       "\n",
       "mpl.figure.prototype.handle_save = function(fig, msg) {\n",
       "    var format_dropdown = fig.format_dropdown;\n",
       "    var format = format_dropdown.options[format_dropdown.selectedIndex].value;\n",
       "    fig.ondownload(fig, format);\n",
       "}\n",
       "\n",
       "\n",
       "mpl.figure.prototype.handle_resize = function(fig, msg) {\n",
       "    var size = msg['size'];\n",
       "    if (size[0] != fig.canvas.width || size[1] != fig.canvas.height) {\n",
       "        fig._resize_canvas(size[0], size[1]);\n",
       "        fig.send_message(\"refresh\", {});\n",
       "    };\n",
       "}\n",
       "\n",
       "mpl.figure.prototype.handle_rubberband = function(fig, msg) {\n",
       "    var x0 = msg['x0'];\n",
       "    var y0 = fig.canvas.height - msg['y0'];\n",
       "    var x1 = msg['x1'];\n",
       "    var y1 = fig.canvas.height - msg['y1'];\n",
       "    x0 = Math.floor(x0) + 0.5;\n",
       "    y0 = Math.floor(y0) + 0.5;\n",
       "    x1 = Math.floor(x1) + 0.5;\n",
       "    y1 = Math.floor(y1) + 0.5;\n",
       "    var min_x = Math.min(x0, x1);\n",
       "    var min_y = Math.min(y0, y1);\n",
       "    var width = Math.abs(x1 - x0);\n",
       "    var height = Math.abs(y1 - y0);\n",
       "\n",
       "    fig.rubberband_context.clearRect(\n",
       "        0, 0, fig.canvas.width, fig.canvas.height);\n",
       "\n",
       "    fig.rubberband_context.strokeRect(min_x, min_y, width, height);\n",
       "}\n",
       "\n",
       "mpl.figure.prototype.handle_figure_label = function(fig, msg) {\n",
       "    // Updates the figure title.\n",
       "    fig.header.textContent = msg['label'];\n",
       "}\n",
       "\n",
       "mpl.figure.prototype.handle_cursor = function(fig, msg) {\n",
       "    var cursor = msg['cursor'];\n",
       "    switch(cursor)\n",
       "    {\n",
       "    case 0:\n",
       "        cursor = 'pointer';\n",
       "        break;\n",
       "    case 1:\n",
       "        cursor = 'default';\n",
       "        break;\n",
       "    case 2:\n",
       "        cursor = 'crosshair';\n",
       "        break;\n",
       "    case 3:\n",
       "        cursor = 'move';\n",
       "        break;\n",
       "    }\n",
       "    fig.rubberband_canvas.style.cursor = cursor;\n",
       "}\n",
       "\n",
       "mpl.figure.prototype.handle_message = function(fig, msg) {\n",
       "    fig.message.textContent = msg['message'];\n",
       "}\n",
       "\n",
       "mpl.figure.prototype.handle_draw = function(fig, msg) {\n",
       "    // Request the server to send over a new figure.\n",
       "    fig.send_draw_message();\n",
       "}\n",
       "\n",
       "mpl.figure.prototype.handle_image_mode = function(fig, msg) {\n",
       "    fig.image_mode = msg['mode'];\n",
       "}\n",
       "\n",
       "mpl.figure.prototype.updated_canvas_event = function() {\n",
       "    // Called whenever the canvas gets updated.\n",
       "    this.send_message(\"ack\", {});\n",
       "}\n",
       "\n",
       "// A function to construct a web socket function for onmessage handling.\n",
       "// Called in the figure constructor.\n",
       "mpl.figure.prototype._make_on_message_function = function(fig) {\n",
       "    return function socket_on_message(evt) {\n",
       "        if (evt.data instanceof Blob) {\n",
       "            /* FIXME: We get \"Resource interpreted as Image but\n",
       "             * transferred with MIME type text/plain:\" errors on\n",
       "             * Chrome.  But how to set the MIME type?  It doesn't seem\n",
       "             * to be part of the websocket stream */\n",
       "            evt.data.type = \"image/png\";\n",
       "\n",
       "            /* Free the memory for the previous frames */\n",
       "            if (fig.imageObj.src) {\n",
       "                (window.URL || window.webkitURL).revokeObjectURL(\n",
       "                    fig.imageObj.src);\n",
       "            }\n",
       "\n",
       "            fig.imageObj.src = (window.URL || window.webkitURL).createObjectURL(\n",
       "                evt.data);\n",
       "            fig.updated_canvas_event();\n",
       "            fig.waiting = false;\n",
       "            return;\n",
       "        }\n",
       "        else if (typeof evt.data === 'string' && evt.data.slice(0, 21) == \"data:image/png;base64\") {\n",
       "            fig.imageObj.src = evt.data;\n",
       "            fig.updated_canvas_event();\n",
       "            fig.waiting = false;\n",
       "            return;\n",
       "        }\n",
       "\n",
       "        var msg = JSON.parse(evt.data);\n",
       "        var msg_type = msg['type'];\n",
       "\n",
       "        // Call the  \"handle_{type}\" callback, which takes\n",
       "        // the figure and JSON message as its only arguments.\n",
       "        try {\n",
       "            var callback = fig[\"handle_\" + msg_type];\n",
       "        } catch (e) {\n",
       "            console.log(\"No handler for the '\" + msg_type + \"' message type: \", msg);\n",
       "            return;\n",
       "        }\n",
       "\n",
       "        if (callback) {\n",
       "            try {\n",
       "                // console.log(\"Handling '\" + msg_type + \"' message: \", msg);\n",
       "                callback(fig, msg);\n",
       "            } catch (e) {\n",
       "                console.log(\"Exception inside the 'handler_\" + msg_type + \"' callback:\", e, e.stack, msg);\n",
       "            }\n",
       "        }\n",
       "    };\n",
       "}\n",
       "\n",
       "// from http://stackoverflow.com/questions/1114465/getting-mouse-location-in-canvas\n",
       "mpl.findpos = function(e) {\n",
       "    //this section is from http://www.quirksmode.org/js/events_properties.html\n",
       "    var targ;\n",
       "    if (!e)\n",
       "        e = window.event;\n",
       "    if (e.target)\n",
       "        targ = e.target;\n",
       "    else if (e.srcElement)\n",
       "        targ = e.srcElement;\n",
       "    if (targ.nodeType == 3) // defeat Safari bug\n",
       "        targ = targ.parentNode;\n",
       "\n",
       "    // jQuery normalizes the pageX and pageY\n",
       "    // pageX,Y are the mouse positions relative to the document\n",
       "    // offset() returns the position of the element relative to the document\n",
       "    var x = e.pageX - $(targ).offset().left;\n",
       "    var y = e.pageY - $(targ).offset().top;\n",
       "\n",
       "    return {\"x\": x, \"y\": y};\n",
       "};\n",
       "\n",
       "/*\n",
       " * return a copy of an object with only non-object keys\n",
       " * we need this to avoid circular references\n",
       " * http://stackoverflow.com/a/24161582/3208463\n",
       " */\n",
       "function simpleKeys (original) {\n",
       "  return Object.keys(original).reduce(function (obj, key) {\n",
       "    if (typeof original[key] !== 'object')\n",
       "        obj[key] = original[key]\n",
       "    return obj;\n",
       "  }, {});\n",
       "}\n",
       "\n",
       "mpl.figure.prototype.mouse_event = function(event, name) {\n",
       "    var canvas_pos = mpl.findpos(event)\n",
       "\n",
       "    if (name === 'button_press')\n",
       "    {\n",
       "        this.canvas.focus();\n",
       "        this.canvas_div.focus();\n",
       "    }\n",
       "\n",
       "    var x = canvas_pos.x;\n",
       "    var y = canvas_pos.y;\n",
       "\n",
       "    this.send_message(name, {x: x, y: y, button: event.button,\n",
       "                             step: event.step,\n",
       "                             guiEvent: simpleKeys(event)});\n",
       "\n",
       "    /* This prevents the web browser from automatically changing to\n",
       "     * the text insertion cursor when the button is pressed.  We want\n",
       "     * to control all of the cursor setting manually through the\n",
       "     * 'cursor' event from matplotlib */\n",
       "    event.preventDefault();\n",
       "    return false;\n",
       "}\n",
       "\n",
       "mpl.figure.prototype._key_event_extra = function(event, name) {\n",
       "    // Handle any extra behaviour associated with a key event\n",
       "}\n",
       "\n",
       "mpl.figure.prototype.key_event = function(event, name) {\n",
       "\n",
       "    // Prevent repeat events\n",
       "    if (name == 'key_press')\n",
       "    {\n",
       "        if (event.which === this._key)\n",
       "            return;\n",
       "        else\n",
       "            this._key = event.which;\n",
       "    }\n",
       "    if (name == 'key_release')\n",
       "        this._key = null;\n",
       "\n",
       "    var value = '';\n",
       "    if (event.ctrlKey && event.which != 17)\n",
       "        value += \"ctrl+\";\n",
       "    if (event.altKey && event.which != 18)\n",
       "        value += \"alt+\";\n",
       "    if (event.shiftKey && event.which != 16)\n",
       "        value += \"shift+\";\n",
       "\n",
       "    value += 'k';\n",
       "    value += event.which.toString();\n",
       "\n",
       "    this._key_event_extra(event, name);\n",
       "\n",
       "    this.send_message(name, {key: value,\n",
       "                             guiEvent: simpleKeys(event)});\n",
       "    return false;\n",
       "}\n",
       "\n",
       "mpl.figure.prototype.toolbar_button_onclick = function(name) {\n",
       "    if (name == 'download') {\n",
       "        this.handle_save(this, null);\n",
       "    } else {\n",
       "        this.send_message(\"toolbar_button\", {name: name});\n",
       "    }\n",
       "};\n",
       "\n",
       "mpl.figure.prototype.toolbar_button_onmouseover = function(tooltip) {\n",
       "    this.message.textContent = tooltip;\n",
       "};\n",
       "mpl.toolbar_items = [[\"Home\", \"Reset original view\", \"fa fa-home icon-home\", \"home\"], [\"Back\", \"Back to  previous view\", \"fa fa-arrow-left icon-arrow-left\", \"back\"], [\"Forward\", \"Forward to next view\", \"fa fa-arrow-right icon-arrow-right\", \"forward\"], [\"\", \"\", \"\", \"\"], [\"Pan\", \"Pan axes with left mouse, zoom with right\", \"fa fa-arrows icon-move\", \"pan\"], [\"Zoom\", \"Zoom to rectangle\", \"fa fa-square-o icon-check-empty\", \"zoom\"], [\"\", \"\", \"\", \"\"], [\"Download\", \"Download plot\", \"fa fa-floppy-o icon-save\", \"download\"]];\n",
       "\n",
       "mpl.extensions = [\"eps\", \"pdf\", \"png\", \"ps\", \"raw\", \"svg\"];\n",
       "\n",
       "mpl.default_extension = \"png\";var comm_websocket_adapter = function(comm) {\n",
       "    // Create a \"websocket\"-like object which calls the given IPython comm\n",
       "    // object with the appropriate methods. Currently this is a non binary\n",
       "    // socket, so there is still some room for performance tuning.\n",
       "    var ws = {};\n",
       "\n",
       "    ws.close = function() {\n",
       "        comm.close()\n",
       "    };\n",
       "    ws.send = function(m) {\n",
       "        //console.log('sending', m);\n",
       "        comm.send(m);\n",
       "    };\n",
       "    // Register the callback with on_msg.\n",
       "    comm.on_msg(function(msg) {\n",
       "        //console.log('receiving', msg['content']['data'], msg);\n",
       "        // Pass the mpl event to the overriden (by mpl) onmessage function.\n",
       "        ws.onmessage(msg['content']['data'])\n",
       "    });\n",
       "    return ws;\n",
       "}\n",
       "\n",
       "mpl.mpl_figure_comm = function(comm, msg) {\n",
       "    // This is the function which gets called when the mpl process\n",
       "    // starts-up an IPython Comm through the \"matplotlib\" channel.\n",
       "\n",
       "    var id = msg.content.data.id;\n",
       "    // Get hold of the div created by the display call when the Comm\n",
       "    // socket was opened in Python.\n",
       "    var element = $(\"#\" + id);\n",
       "    var ws_proxy = comm_websocket_adapter(comm)\n",
       "\n",
       "    function ondownload(figure, format) {\n",
       "        window.open(figure.imageObj.src);\n",
       "    }\n",
       "\n",
       "    var fig = new mpl.figure(id, ws_proxy,\n",
       "                           ondownload,\n",
       "                           element.get(0));\n",
       "\n",
       "    // Call onopen now - mpl needs it, as it is assuming we've passed it a real\n",
       "    // web socket which is closed, not our websocket->open comm proxy.\n",
       "    ws_proxy.onopen();\n",
       "\n",
       "    fig.parent_element = element.get(0);\n",
       "    fig.cell_info = mpl.find_output_cell(\"<div id='\" + id + \"'></div>\");\n",
       "    if (!fig.cell_info) {\n",
       "        console.error(\"Failed to find cell for figure\", id, fig);\n",
       "        return;\n",
       "    }\n",
       "\n",
       "    var output_index = fig.cell_info[2]\n",
       "    var cell = fig.cell_info[0];\n",
       "\n",
       "};\n",
       "\n",
       "mpl.figure.prototype.handle_close = function(fig, msg) {\n",
       "    fig.root.unbind('remove')\n",
       "\n",
       "    // Update the output cell to use the data from the current canvas.\n",
       "    fig.push_to_output();\n",
       "    var dataURL = fig.canvas.toDataURL();\n",
       "    // Re-enable the keyboard manager in IPython - without this line, in FF,\n",
       "    // the notebook keyboard shortcuts fail.\n",
       "    IPython.keyboard_manager.enable()\n",
       "    $(fig.parent_element).html('<img src=\"' + dataURL + '\">');\n",
       "    fig.close_ws(fig, msg);\n",
       "}\n",
       "\n",
       "mpl.figure.prototype.close_ws = function(fig, msg){\n",
       "    fig.send_message('closing', msg);\n",
       "    // fig.ws.close()\n",
       "}\n",
       "\n",
       "mpl.figure.prototype.push_to_output = function(remove_interactive) {\n",
       "    // Turn the data on the canvas into data in the output cell.\n",
       "    var dataURL = this.canvas.toDataURL();\n",
       "    this.cell_info[1]['text/html'] = '<img src=\"' + dataURL + '\">';\n",
       "}\n",
       "\n",
       "mpl.figure.prototype.updated_canvas_event = function() {\n",
       "    // Tell IPython that the notebook contents must change.\n",
       "    IPython.notebook.set_dirty(true);\n",
       "    this.send_message(\"ack\", {});\n",
       "    var fig = this;\n",
       "    // Wait a second, then push the new image to the DOM so\n",
       "    // that it is saved nicely (might be nice to debounce this).\n",
       "    setTimeout(function () { fig.push_to_output() }, 1000);\n",
       "}\n",
       "\n",
       "mpl.figure.prototype._init_toolbar = function() {\n",
       "    var fig = this;\n",
       "\n",
       "    var nav_element = $('<div/>')\n",
       "    nav_element.attr('style', 'width: 100%');\n",
       "    this.root.append(nav_element);\n",
       "\n",
       "    // Define a callback function for later on.\n",
       "    function toolbar_event(event) {\n",
       "        return fig.toolbar_button_onclick(event['data']);\n",
       "    }\n",
       "    function toolbar_mouse_event(event) {\n",
       "        return fig.toolbar_button_onmouseover(event['data']);\n",
       "    }\n",
       "\n",
       "    for(var toolbar_ind in mpl.toolbar_items){\n",
       "        var name = mpl.toolbar_items[toolbar_ind][0];\n",
       "        var tooltip = mpl.toolbar_items[toolbar_ind][1];\n",
       "        var image = mpl.toolbar_items[toolbar_ind][2];\n",
       "        var method_name = mpl.toolbar_items[toolbar_ind][3];\n",
       "\n",
       "        if (!name) { continue; };\n",
       "\n",
       "        var button = $('<button class=\"btn btn-default\" href=\"#\" title=\"' + name + '\"><i class=\"fa ' + image + ' fa-lg\"></i></button>');\n",
       "        button.click(method_name, toolbar_event);\n",
       "        button.mouseover(tooltip, toolbar_mouse_event);\n",
       "        nav_element.append(button);\n",
       "    }\n",
       "\n",
       "    // Add the status bar.\n",
       "    var status_bar = $('<span class=\"mpl-message\" style=\"text-align:right; float: right;\"/>');\n",
       "    nav_element.append(status_bar);\n",
       "    this.message = status_bar[0];\n",
       "\n",
       "    // Add the close button to the window.\n",
       "    var buttongrp = $('<div class=\"btn-group inline pull-right\"></div>');\n",
       "    var button = $('<button class=\"btn btn-mini btn-primary\" href=\"#\" title=\"Stop Interaction\"><i class=\"fa fa-power-off icon-remove icon-large\"></i></button>');\n",
       "    button.click(function (evt) { fig.handle_close(fig, {}); } );\n",
       "    button.mouseover('Stop Interaction', toolbar_mouse_event);\n",
       "    buttongrp.append(button);\n",
       "    var titlebar = this.root.find($('.ui-dialog-titlebar'));\n",
       "    titlebar.prepend(buttongrp);\n",
       "}\n",
       "\n",
       "mpl.figure.prototype._root_extra_style = function(el){\n",
       "    var fig = this\n",
       "    el.on(\"remove\", function(){\n",
       "\tfig.close_ws(fig, {});\n",
       "    });\n",
       "}\n",
       "\n",
       "mpl.figure.prototype._canvas_extra_style = function(el){\n",
       "    // this is important to make the div 'focusable\n",
       "    el.attr('tabindex', 0)\n",
       "    // reach out to IPython and tell the keyboard manager to turn it's self\n",
       "    // off when our div gets focus\n",
       "\n",
       "    // location in version 3\n",
       "    if (IPython.notebook.keyboard_manager) {\n",
       "        IPython.notebook.keyboard_manager.register_events(el);\n",
       "    }\n",
       "    else {\n",
       "        // location in version 2\n",
       "        IPython.keyboard_manager.register_events(el);\n",
       "    }\n",
       "\n",
       "}\n",
       "\n",
       "mpl.figure.prototype._key_event_extra = function(event, name) {\n",
       "    var manager = IPython.notebook.keyboard_manager;\n",
       "    if (!manager)\n",
       "        manager = IPython.keyboard_manager;\n",
       "\n",
       "    // Check for shift+enter\n",
       "    if (event.shiftKey && event.which == 13) {\n",
       "        this.canvas_div.blur();\n",
       "        // select the cell after this one\n",
       "        var index = IPython.notebook.find_cell_index(this.cell_info[0]);\n",
       "        IPython.notebook.select(index + 1);\n",
       "    }\n",
       "}\n",
       "\n",
       "mpl.figure.prototype.handle_save = function(fig, msg) {\n",
       "    fig.ondownload(fig, null);\n",
       "}\n",
       "\n",
       "\n",
       "mpl.find_output_cell = function(html_output) {\n",
       "    // Return the cell and output element which can be found *uniquely* in the notebook.\n",
       "    // Note - this is a bit hacky, but it is done because the \"notebook_saving.Notebook\"\n",
       "    // IPython event is triggered only after the cells have been serialised, which for\n",
       "    // our purposes (turning an active figure into a static one), is too late.\n",
       "    var cells = IPython.notebook.get_cells();\n",
       "    var ncells = cells.length;\n",
       "    for (var i=0; i<ncells; i++) {\n",
       "        var cell = cells[i];\n",
       "        if (cell.cell_type === 'code'){\n",
       "            for (var j=0; j<cell.output_area.outputs.length; j++) {\n",
       "                var data = cell.output_area.outputs[j];\n",
       "                if (data.data) {\n",
       "                    // IPython >= 3 moved mimebundle to data attribute of output\n",
       "                    data = data.data;\n",
       "                }\n",
       "                if (data['text/html'] == html_output) {\n",
       "                    return [cell, data, j];\n",
       "                }\n",
       "            }\n",
       "        }\n",
       "    }\n",
       "}\n",
       "\n",
       "// Register the function which deals with the matplotlib target/channel.\n",
       "// The kernel may be null if the page has been refreshed.\n",
       "if (IPython.notebook.kernel != null) {\n",
       "    IPython.notebook.kernel.comm_manager.register_target('matplotlib', mpl.mpl_figure_comm);\n",
       "}\n"
      ],
      "text/plain": [
       "<IPython.core.display.Javascript object>"
      ]
     },
     "metadata": {},
     "output_type": "display_data"
    },
    {
     "data": {
      "text/html": [
       "<img src=\"data:image/png;base64,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\">"
      ],
      "text/plain": [
       "<IPython.core.display.HTML object>"
      ]
     },
     "metadata": {},
     "output_type": "display_data"
    }
   ],
   "source": [
    "#time vs temporal average graph\n",
    "figure()\n",
    "plot(tavg_time, datas,'k', alpha = 0.5)\n",
    "plot(tavg_time, v1, 'r', alpha = 1)\n",
    "plot(tavg_time, follow, 'g', alpha =0.5)\n",
    "ylabel(\"Temporal average\")\n",
    "xlabel (\"Time(ms)\")\n",
    "plt.grid('off')"
   ]
  },
  {
   "cell_type": "markdown",
   "metadata": {},
   "source": [
    "## Finding thresholds\n",
    "\n",
    "We will need to define thresholds of each invidual node. Here we are using the data 200 ms before stimlation. After finding the maximum amplitude of each node in that time period, we will make an array in the same shape as the shape of the data we are comparing it to. Next, look for when the data is greater than the maximum then when it is less than the maximum. Finally, we add them together in a single array to see when it passes threshold."
   ]
  },
  {
   "cell_type": "code",
   "execution_count": 13,
   "metadata": {
    "collapsed": false
   },
   "outputs": [],
   "source": [
    "time_notrans = tavg_time[range(9800,12000)]\n",
    "data_notrans_mean= tavg_data.squeeze().T[:,range(9800, 10000)]\n",
    "data_notrans= tavg_data.squeeze().T[:,range(9800, 12000)]\n",
    "\n",
    "data_notrans_posthr= []\n",
    "data_notrans_negthr= []\n",
    "data_notrans_thr= []\n",
    "\n",
    "for node in range(len(data_notrans_mean)):\n",
    "    data_notrans_posthr.append(np.array(data_notrans[node]>(data_notrans_mean[node].max())))\n",
    "    data_notrans_negthr.append(np.array(data_notrans[node]<(data_notrans_mean[node].min())))\n",
    "    \n",
    "    data_notrans_thr.append(np.array(data_notrans_posthr[node] + data_notrans_negthr[node]))"
   ]
  },
  {
   "cell_type": "markdown",
   "metadata": {},
   "source": [
    "## Finding activation times"
   ]
  },
  {
   "cell_type": "markdown",
   "metadata": {},
   "source": [
    "Here we will be finding the activation times using the positive and negative thresholds. We have already compared the data with the thresholds to see what times it will surpass them. We will first find them for all nodes followed by calculating them for the specified nodes."
   ]
  },
  {
   "cell_type": "code",
   "execution_count": 14,
   "metadata": {
    "collapsed": false,
    "scrolled": true
   },
   "outputs": [],
   "source": [
    "activation_time=np.array(np.zeros(len(data_notrans_thr)))\n",
    "for node in range(len(data_notrans_thr)):\n",
    "    for time in range(9800,12000):\n",
    "        if np.array(data_notrans_thr[node][time -9800]) == True:\n",
    "            activation_time[node]=time\n",
    "            break\n",
    "        else:\n",
    "            activation_time[node]= nan\n",
    "#activation_time"
   ]
  },
  {
   "cell_type": "markdown",
   "metadata": {},
   "source": [
    "Compare the times to see if they match the results from the empircal data, if not change the parameters and try again."
   ]
  },
  {
   "cell_type": "code",
   "execution_count": 15,
   "metadata": {
    "collapsed": false
   },
   "outputs": [
    {
     "data": {
      "text/plain": [
       "array([ 10389.,  10031.,  10031.,  10003.,  10000.,  10002.,  10001.,\n",
       "        10003.])"
      ]
     },
     "execution_count": 15,
     "metadata": {},
     "output_type": "execute_result"
    }
   ],
   "source": [
    "s = [36,45,46,47,68,69,70,72]\n",
    "activation_time_spec=np.array(np.zeros(len(s)))\n",
    "i= 0\n",
    "\n",
    "for node in s: \n",
    "    for time in range(9800,12000):\n",
    "        if np.array(data_notrans_thr[node][time -9800]) == True:\n",
    "            activation_time_spec[i]=time\n",
    "            break\n",
    "        else:\n",
    "            activation_time_spec[i]= nan\n",
    "    i += 1\n",
    "activation_time_spec"
   ]
  },
  {
   "cell_type": "markdown",
   "metadata": {},
   "source": [
    "## Loading in region labels"
   ]
  },
  {
   "cell_type": "markdown",
   "metadata": {},
   "source": [
    "Load in region labels and place them in a dataframe for easy manipulation later. "
   ]
  },
  {
   "cell_type": "code",
   "execution_count": 16,
   "metadata": {
    "collapsed": false
   },
   "outputs": [],
   "source": [
    "import pandas as pd\n",
    "pd.set_option('display.max_rows',200)\n",
    "df_tavg = pd.DataFrame(np.squeeze(tavg_data),index=tavg_time)\n",
    "\n",
    "labs= pd.read_csv('/home/htian/Data/kelly_matrix/labelnames.txt',sep='\\t')['acronym'].values\n",
    "\n",
    "lh_labs = [l + '_L' for l in labs]\n",
    "rh_labs = [l + '_R' for l in labs]\n",
    "region_labels_lr = np.concatenate([lh_labs, rh_labs])\n",
    "\n",
    "df_tavg_labs = df_tavg.copy()\n",
    "df_tavg_labs.columns= region_labels_lr\n"
   ]
  },
  {
   "cell_type": "markdown",
   "metadata": {},
   "source": [
    "## Bar Graphs"
   ]
  },
  {
   "cell_type": "markdown",
   "metadata": {},
   "source": [
    "We'll be graphing a bunch of bar graphs for visualization purposes."
   ]
  },
  {
   "cell_type": "markdown",
   "metadata": {},
   "source": [
    "#### activation times of all nodes"
   ]
  },
  {
   "cell_type": "markdown",
   "metadata": {},
   "source": [
    "To display the activation times we will want to start displaying the time of the stimulation as 0. To do this we will need to loop through the activation times and subtract 10000 from each value. If the value is already less than 10000 we will replace it with nan since it does not activate."
   ]
  },
  {
   "cell_type": "code",
   "execution_count": null,
   "metadata": {
    "collapsed": false
   },
   "outputs": [],
   "source": [
    "activation_times=np.zeros(len(activation_time))\n",
    "\n",
    "for i in range(len(activation_time)):\n",
    "    if activation_time[i] == 0 or activation_time[i] < 10000:\n",
    "        activation_times[i]= nan\n",
    "    else:\n",
    "        activation_times[i]= activation_time[i] - 10000"
   ]
  },
  {
   "cell_type": "markdown",
   "metadata": {},
   "source": [
    "Since our data doesn't include the stimulated node, we will need to remove that label from our labels. "
   ]
  },
  {
   "cell_type": "code",
   "execution_count": null,
   "metadata": {
    "collapsed": true
   },
   "outputs": [],
   "source": [
    "lst_nodes = [i for i in range(154) if i != v1_node]\n",
    "labels_nostim=region_labels_lr[lst_nodes]"
   ]
  },
  {
   "cell_type": "markdown",
   "metadata": {},
   "source": [
    "Now, just load the labels and activation times into a dataframe. Then, sort the activation times in ascending order. Finally, plot the ordered activation times."
   ]
  },
  {
   "cell_type": "code",
   "execution_count": null,
   "metadata": {
    "collapsed": true
   },
   "outputs": [],
   "source": [
    "df_activation= pd.DataFrame(activation_times, region_labels_lr) \n",
    "\n",
    "df_activation_sort = df_activation.sort(columns =0)"
   ]
  },
  {
   "cell_type": "code",
   "execution_count": null,
   "metadata": {
    "collapsed": false
   },
   "outputs": [],
   "source": [
    "ax = df_activation_sort.plot(kind='barh', title=\"distances\", figsize=(17,17), legend=False)\n",
    "y_pos = np.arange(len(df_activation_sort))\n",
    "width= 0.35\n",
    "rects = ax.barh(y_pos, df_activation_sort, width)\n",
    "\n",
    "ax.set_ylabel('node acronyms')\n",
    "ax.set_xlabel('time activation(ms)')\n",
    "ax.invert_yaxis()\n",
    "ax.set_title('Node Activation Times')"
   ]
  },
  {
   "cell_type": "markdown",
   "metadata": {},
   "source": [
    "#### activation times of specific nodes"
   ]
  },
  {
   "cell_type": "markdown",
   "metadata": {},
   "source": [
    "Now repeat the same process for your specified nodes"
   ]
  },
  {
   "cell_type": "code",
   "execution_count": null,
   "metadata": {
    "collapsed": false
   },
   "outputs": [],
   "source": [
    "activation_times_spec=np.zeros(len(activation_time_spec))\n",
    "\n",
    "for i in range(len(activation_time_spec)):\n",
    "    if activation_time_spec[i] == 0 or activation_time_spec[i] < 10000:\n",
    "        activation_times_spec[i]= 0\n",
    "    else:\n",
    "        activation_times_spec[i]= activation_time_spec[i] - 10000"
   ]
  },
  {
   "cell_type": "markdown",
   "metadata": {},
   "source": [
    "Here, you will need to manually include your label names in the same order as before or feel free to write a loop to include the labels that you want. "
   ]
  },
  {
   "cell_type": "code",
   "execution_count": null,
   "metadata": {
    "collapsed": true
   },
   "outputs": [],
   "source": [
    "lab_spec= np.array(['FEF_L', 'MST(45)', 'MST(46)', 'MT_L', 'V1_L', 'V2_L', 'V3_L', 'V4_L'])"
   ]
  },
  {
   "cell_type": "code",
   "execution_count": null,
   "metadata": {
    "collapsed": true
   },
   "outputs": [],
   "source": [
    "df_activation_spec= pd.DataFrame(activation_times_spec, lab_spec) \n",
    "\n",
    "df_activation_spec_sort = df_activation_spec.sort(columns= 0)"
   ]
  },
  {
   "cell_type": "code",
   "execution_count": null,
   "metadata": {
    "collapsed": false
   },
   "outputs": [],
   "source": [
    "ax = df_activation_spec_sort.plot(kind='barh', title=\"distances\", figsize=(6,3), legend=False)\n",
    "y_pos = np.arange(len(df_activation_spec_sort))\n",
    "width= 0.05\n",
    "rects = ax.barh(y_pos, df_activation_spec_sort, width)\n",
    "\n",
    "ax.set_ylabel('node acronyms')\n",
    "ax.set_xlabel('time activation(ms)')\n",
    "ax.invert_yaxis()\n",
    "ax.set_title('Node Activation Times')"
   ]
  },
  {
   "cell_type": "markdown",
   "metadata": {},
   "source": [
    "#### distances"
   ]
  },
  {
   "cell_type": "markdown",
   "metadata": {},
   "source": [
    "We'll be making a bar graph to display the distances in order of closest to farthest nodes from our stimulated node (V1 for this case)."
   ]
  },
  {
   "cell_type": "code",
   "execution_count": null,
   "metadata": {
    "collapsed": true
   },
   "outputs": [],
   "source": [
    "i =v1_node\n",
    "distances= np.array(np.zeros(len(new_conn.tract_lengths)))\n",
    "\n",
    "for j in range(len(new_conn.tract_lengths)):\n",
    "    distances[j]= new_conn.tract_lengths[i, j]"
   ]
  },
  {
   "cell_type": "markdown",
   "metadata": {},
   "source": [
    "Here we will need to slice the distances array at 77 because we only care about the distances of the nodes in the left hemisphere. Load them into a dataframe then sort. Then, plot. "
   ]
  },
  {
   "cell_type": "code",
   "execution_count": null,
   "metadata": {
    "collapsed": true
   },
   "outputs": [],
   "source": [
    "df_distances= pd.DataFrame([labs, distances[:77]]).T\n",
    "\n",
    "df_distances_labs= df_distances.sort(columns= 1, ascending= True)"
   ]
  },
  {
   "cell_type": "code",
   "execution_count": null,
   "metadata": {
    "collapsed": false
   },
   "outputs": [],
   "source": [
    "ax = df_distances_labs.plot(kind='barh', title=\"distances\", figsize=(10,10), legend=False)\n",
    "\n",
    "y_pos = np.arange(len(distances[:77]))\n",
    "width= 0.35\n",
    "rects = ax.barh(y_pos,df_distances_labs[1], width)\n",
    "ax.set_ylabel('node acronyms')\n",
    "ax.set_xlabel('Distances')\n",
    "ax.set_title('Distance from node \"V1\"')\n",
    "ax.invert_yaxis()\n",
    "\n",
    "ax.set_yticks(range(len(labs)))\n",
    "ytickNames = ax.set_yticklabels(df_distances_labs[0])"
   ]
  },
  {
   "cell_type": "markdown",
   "metadata": {},
   "source": [
    "## Finding amplitudes of each node"
   ]
  },
  {
   "cell_type": "markdown",
   "metadata": {},
   "source": [
    "To find the amplitudes we will need to loop through the data (excluding the stimulated node) and make an array of each node's max"
   ]
  },
  {
   "cell_type": "code",
   "execution_count": null,
   "metadata": {
    "collapsed": false
   },
   "outputs": [],
   "source": [
    "#no stim node in this data set\n",
    "max_amp= []\n",
    "for node in range(len(nostimnode.T)):\n",
    "    max_amp.append(max(abs(nostimnode.T[node, :])))"
   ]
  },
  {
   "cell_type": "code",
   "execution_count": null,
   "metadata": {
    "collapsed": true
   },
   "outputs": [],
   "source": [
    "df_max_amp= pd.DataFrame(max_amp, labels_nostim) \n",
    "\n",
    "df_max_amp_sort= df_max_amp.sort(columns=0)"
   ]
  },
  {
   "cell_type": "code",
   "execution_count": null,
   "metadata": {
    "collapsed": false
   },
   "outputs": [],
   "source": [
    "ax = df_max_amp_sort.plot(kind='barh', title=\"amplitudes\", figsize=(10,10), legend=False)\n",
    "y_pos = np.arange(len(df_max_amp_sort))\n",
    "width= 0.35\n",
    "rects = ax.barh(y_pos, df_max_amp_sort, width)\n",
    "\n",
    "ax.set_ylabel('node acronyms')\n",
    "ax.set_xlabel('amplitude')\n",
    "ax.invert_yaxis()\n",
    "ax.set_title('Amplitudes')"
   ]
  },
  {
   "cell_type": "markdown",
   "metadata": {},
   "source": [
    "## Heat Map"
   ]
  },
  {
   "cell_type": "markdown",
   "metadata": {},
   "source": [
    "As another way to visualize the dissipation of the stimulus is to use a heatmap. It is important to adjust vmin and vmax accordingly.  "
   ]
  },
  {
   "cell_type": "code",
   "execution_count": null,
   "metadata": {
    "collapsed": false
   },
   "outputs": [],
   "source": [
    "import seaborn as sns\n",
    "\n",
    "fig, ax = plt.subplots(figsize = (10, 10))\n",
    "sns.heatmap(df_tavg_labs.ix[9800:12000].T, ax=ax, vmin=-0.001, vmax=0.001, xticklabels='')\n",
    "ax.imshow(df_tavg.ix[9800:12000].T.values,vmin=-0.001, vmax=0.001, aspect='auto',cmap='coolwarm',\n",
    "          interpolation='none')\n",
    "ax.set_yticklabels\n",
    "ax.grid('off')\n",
    "for label in ax.get_yticklabels(): label.set_rotation(0)"
   ]
  },
  {
   "cell_type": "markdown",
   "metadata": {},
   "source": [
    "## Covariance matrix"
   ]
  },
  {
   "cell_type": "markdown",
   "metadata": {},
   "source": [
    "We will need to calculate the covariance values 200ms before the stimulationand plot them on a matrix"
   ]
  },
  {
   "cell_type": "code",
   "execution_count": null,
   "metadata": {
    "collapsed": false
   },
   "outputs": [],
   "source": [
    "dat_notrans_prestim= np.squeeze(nostimnode.T)[:,range(9800, 10000)]\n",
    "dat_notrans_cov = np.cov(dat_notrans_prestim)\n",
    "\n",
    "fig, ax= plt.subplots(figsize= (9,9))\n",
    "fig.canvas.draw()\n",
    "ax.set_xticks(range(len(labels_nostim)))\n",
    "ax.set_yticks(range(len(labels_nostim)))\n",
    "ax.set_xticklabels(labels_nostim,rotation=90,fontsize=8)\n",
    "ax.set_yticklabels(labels_nostim, fontsize=8)\n",
    "plt.imshow(dat_notrans_cov, cmap= 'jet')\n",
    "plt.grid('off')\n",
    "plt.colorbar()"
   ]
  },
  {
   "cell_type": "markdown",
   "metadata": {},
   "source": [
    "#### Eigenvector matrix"
   ]
  },
  {
   "cell_type": "markdown",
   "metadata": {},
   "source": [
    "Calculate the Eigen vector matrix from covariance matrix and plot"
   ]
  },
  {
   "cell_type": "code",
   "execution_count": null,
   "metadata": {
    "collapsed": false
   },
   "outputs": [],
   "source": [
    "from scipy.linalg import eig\n",
    "\n",
    "dat_notrans_cov_evals, dat_notrans_cov_evecs = np.linalg.eig(dat_notrans_cov)\n",
    "\n",
    "fig, ax =plt.subplots(figsize= (9,9))\n",
    "fig.canvas.draw()\n",
    "ax.set_xticks(range(len(labels_nostim)))\n",
    "ax.set_yticks(range(len(labels_nostim)))\n",
    "ax.set_xticklabels(labels_nostim,rotation=90,fontsize=8)\n",
    "ax.set_yticklabels(labels_nostim, fontsize= 8)\n",
    "\n",
    "dat_notrans_cov_evecs_154 = np.zeros([154,154])\n",
    "dat_notrans_cov_evecs_154[:153,:153] = dat_notrans_cov_evecs\n",
    "plt.imshow(dat_notrans_cov_evecs_154, cmap= 'jet')\n",
    "plt.grid('off')\n",
    "plt.colorbar()"
   ]
  },
  {
   "cell_type": "markdown",
   "metadata": {},
   "source": [
    "---\n"
   ]
  },
  {
   "cell_type": "markdown",
   "metadata": {},
   "source": [
    "Later, our data will require a null entry so we will create a version of our eigenvector matrix that has 155 nodes as the last one will be for the null entry. "
   ]
  },
  {
   "cell_type": "code",
   "execution_count": null,
   "metadata": {
    "collapsed": false
   },
   "outputs": [],
   "source": [
    "dat_notrans_cov_evecs_155 = np.zeros([155,155])\n",
    "dat_notrans_cov_evecs_155[:153,:153] = dat_notrans_cov_evecs"
   ]
  },
  {
   "cell_type": "markdown",
   "metadata": {},
   "source": [
    "## Time Slice on Brain Surface"
   ]
  },
  {
   "cell_type": "markdown",
   "metadata": {},
   "source": [
    "To follow the dissipation visually, we will be plotting the data on a brain surface."
   ]
  },
  {
   "cell_type": "code",
   "execution_count": null,
   "metadata": {
    "collapsed": false
   },
   "outputs": [],
   "source": [
    "from tvb.datatypes.cortex import Cortex\n",
    "from tvb.datatypes.region_mapping import RegionMapping\n",
    "from tvb.datatypes.projections import ProjectionMatrix\n",
    "import pandas as pd\n",
    "from matplotlib.tri import Triangulation\n",
    "from numpy import pi, cos, sin\n",
    "from matplotlib import cm"
   ]
  },
  {
   "cell_type": "code",
   "execution_count": null,
   "metadata": {
    "collapsed": true
   },
   "outputs": [],
   "source": [
    "def plot_surface_mpl(vtx,tri,data=None,rm=None,reorient=None,view='superior',\n",
    "                     shaded=False,ax=None,figsize=(6,4), title=None,\n",
    "                     lthr=None,uthr=None, nz_thr = 1E-20,\n",
    "                     shade_kwargs = {'edgecolors': 'k', 'linewidth': 0.1,\n",
    "                                     'alpha': None, 'cmap': 'coolwarm',\n",
    "                                     'vmin': None, 'vmax': None}):\n",
    "\n",
    "    # in the namespace inadvertently. \n",
    "    vtx,tri = vtx.copy(),tri.copy()\n",
    "    if data is not None: data = data.copy()\n",
    "\n",
    "    # 1. Set the viewing angle \n",
    "  \n",
    "    if reorient == 'tvb':\n",
    "        # The tvb default brain has coordinates in the order \n",
    "        # yxz for some reason. So first change that:   \n",
    "        vtx = np.array([vtx[:,1],vtx[:,0],vtx[:,2]]).T.copy()\n",
    "        # Also need to reflect in the x axis\n",
    "        vtx[:,0]*=-1\n",
    "\n",
    "    # (reorient == 'fs' is same as reorient=None; so not strictly needed\n",
    "    #  but is included for clarity)\n",
    "\n",
    "    # ...get rotations for standard view options\n",
    "    \n",
    "    if   view == 'lh_lat'    : rots =  [(0,-90),(1,90)  ]\n",
    "    elif view == 'lh_med'    : rots =  [(0,-90),(1,-90) ] \n",
    "    elif view == 'rh_lat'    : rots =  [(0,-90),(1,-90) ]\n",
    "    elif view == 'rh_med'    : rots =  [(0,-90),(1,90)  ]\n",
    "    elif view == 'superior'  : rots =   None\n",
    "    elif view == 'inferior'  : rots =   (1,180)\n",
    "    elif view == 'anterior'  : rots =   (0,-90)\n",
    "    elif view == 'posterior' : rots =  [(0, -90),(1,180)]\n",
    "    elif (type(view) == tuple) or (type(view) == list): rots = view \n",
    "\n",
    "    # (rh_lat is the default 'view' argument because no rotations are \n",
    "    #  for that one; so if no view is specified when the function is called, \n",
    "    #  the 'rh_lat' option is chose here and the surface is shown 'as is'                          \n",
    "                            \n",
    "    # ...apply rotations                          \n",
    "    if rots is None: rotmat = np.eye(3)\n",
    "    else:            rotmat = get_combined_rotation_matrix(rots)\n",
    "    vtx = np.dot(vtx,rotmat)\n",
    "\n",
    "    # 2. Sort out the data\n",
    "                                    \n",
    "    # ...if no data is given, plot a vector of 1s. \n",
    "    #    if using region data, create corresponding surface vector \n",
    "    if data is None: \n",
    "        data = np.ones(vtx.shape[0]) \n",
    "    elif data.shape[0] != vtx.shape[0]: \n",
    "        data = np.array([data[r] for r in rm])\n",
    "    \n",
    "    # ...apply thresholds\n",
    "    if uthr: data *= (data < uthr)\n",
    "    if lthr: data *= (data > lthr)\n",
    "    data *= (np.abs(data) > nz_thr)\n",
    "\n",
    "    # 3. Create the surface triangulation object \n",
    "    x,y,z = vtx.T\n",
    "    tx,ty,tz = vtx[tri].mean(axis=1).T\n",
    "    tr = Triangulation(x,y,tri[np.argsort(tz)])\n",
    "                \n",
    "    # 4. Make the figure \n",
    "    if ax is None: fig, ax = plt.subplots(figsize=figsize)  \n",
    "  \n",
    "    #if shade = 'gouraud': shade_opts['shade'] = \n",
    "    tc = ax.tripcolor(tr, np.squeeze(data), **shade_kwargs)\n",
    "                        \n",
    "    ax.set_aspect('equal')\n",
    "    ax.axis('off')\n",
    "    \n",
    "    if title is not None: ax.set_title(title)\n"
   ]
  },
  {
   "cell_type": "code",
   "execution_count": null,
   "metadata": {
    "collapsed": true
   },
   "outputs": [],
   "source": [
    "def plot_surface_mpl_mv(vtx=None,tri=None,data=None,rm=None,hemi=None,   # Option 1\n",
    "                        vtx_lh=None,tri_lh=None,data_lh=None,rm_lh=None, # Option 2\n",
    "                        vtx_rh=None,tri_rh=None,data_rh=None,rm_rh=None,\n",
    "                        title=None,**kwargs):\n",
    " \n",
    "    if vtx is not None:                                    # Option 1\n",
    "        tri_hemi = hemi[tri].any(axis=1)\n",
    "        tri_lh,tri_rh = tri[tri_hemi==0],tri[tri_hemi==1]\n",
    "    elif vtx_lh is not None:                               # Option 2\n",
    "        vtx = np.vstack([vtx_lh,vtx_rh])\n",
    "        tri = np.vstack([tri_lh,tri_rh+tri_lh.max()+1])\n",
    "\n",
    "    if data_lh is not None:                                # Option 2\n",
    "        data = np.hstack([data_lh,data_rh])\n",
    "    \n",
    "    if rm_lh is not None:                                  # Option 2 \n",
    "        rm = np.hstack([rm_lh,rm_rh + rm_lh.max() + 1])\n",
    "    \n",
    " \n",
    "    # 2. Now do the plots for each view\n",
    "\n",
    "    # (Note: for the single hemispheres we only need lh/rh arrays for the \n",
    "    #  faces (tri); the full vertices, region mapping, and data arrays\n",
    "    #  can be given as arguments, they just won't be shown if they aren't \n",
    "    #  connected by the faces in tri )\n",
    "  \n",
    "    # LH lateral\n",
    "    plot_surface_mpl(vtx,tri_lh,data=data,rm=rm,view='lh_lat',\n",
    "                   ax=subplot(2,3,1),**kwargs)\n",
    "    \n",
    "    # LH medial\n",
    "    plot_surface_mpl(vtx,tri_lh, data=data,rm=rm,view='lh_med',\n",
    "                   ax=subplot(2,3,4),**kwargs)\n",
    "    \n",
    "    # RH lateral\n",
    "    plot_surface_mpl(vtx,tri_rh, data=data,rm=rm,view='rh_lat',\n",
    "                   ax=subplot(2,3,3),**kwargs)\n",
    "    \n",
    "    # RH medial\n",
    "    plot_surface_mpl(vtx,tri_rh, data=data,rm=rm,view='rh_med',\n",
    "                   ax=subplot(2,3,6),**kwargs)\n",
    "    \n",
    "    # Both superior\n",
    "    plot_surface_mpl(vtx,tri, data=data,rm=rm,view='superior',\n",
    "                   ax=subplot(1,3,2),title=title,**kwargs)\n",
    "    \n",
    "    plt.subplots_adjust(left=0.0, right=1.0, bottom=0.0,\n",
    "                      top=1.0, wspace=0, hspace=0) \n",
    "    "
   ]
  },
  {
   "cell_type": "code",
   "execution_count": null,
   "metadata": {
    "collapsed": true
   },
   "outputs": [],
   "source": [
    "def get_combined_rotation_matrix(rotations):\n",
    "    rotmat = np.eye(3)\n",
    "    \n",
    "    if type(rotations) is tuple: rotations = [rotations] \n",
    "    for r in rotations:\n",
    "        newrot = get_rotation_matrix(r[0],r[1])\n",
    "        rotmat = np.dot(rotmat,newrot)\n",
    "    return rotmat"
   ]
  },
  {
   "cell_type": "code",
   "execution_count": null,
   "metadata": {
    "collapsed": true
   },
   "outputs": [],
   "source": [
    "def get_rotation_matrix(rotation_axis, deg):\n",
    "    # (note make deg minus to change from anticlockwise to clockwise rotation)\n",
    "    th = -deg * (pi/180) # convert degrees to radians\n",
    "    \n",
    "    if rotation_axis == 0:\n",
    "        return np.array( [[    1,         0,         0    ],\n",
    "                          [    0,      cos(th),   -sin(th)],\n",
    "                          [    0,      sin(th),    cos(th)]])\n",
    "    elif rotation_axis ==1:\n",
    "        return np.array( [[   cos(th),    0,        sin(th)],\n",
    "                          [    0,         1,          0    ],\n",
    "                          [  -sin(th),    0,        cos(th)]])\n",
    "    elif rotation_axis ==2:\n",
    "        return np.array([[   cos(th),  -sin(th),     0    ],\n",
    "                         [    sin(th),   cos(th),     0   ],\n",
    "                         [     0,         0,          1   ]])"
   ]
  },
  {
   "cell_type": "markdown",
   "metadata": {},
   "source": [
    "We willl now need to load in the region mapping files to help us create the plotting surface. Here, we have appended the path where our files are located. Our region mapping file works when manually loaded in so that is what we will do for our file but feel free to attach the zip file name instead. "
   ]
  },
  {
   "cell_type": "code",
   "execution_count": null,
   "metadata": {
    "collapsed": false
   },
   "outputs": [],
   "source": [
    "ctx_file ='/home/htian/Data/newzip.zip'\n",
    "rm= np.loadtxt('/home/htian/Data/region_mapping.txt').astype(int)\n",
    "hemi= np.loadtxt('/home/htian/Data/fv91_srfData_20170215/hemispheres.txt').astype(int)"
   ]
  },
  {
   "cell_type": "code",
   "execution_count": null,
   "metadata": {
    "collapsed": false
   },
   "outputs": [],
   "source": [
    "ctx = cortex.Cortex.from_file(source_file = ctx_file)\n",
    "vtx,tri = ctx.vertices,ctx.triangles\n",
    "df_tavg = pd.DataFrame(np.squeeze(tavg_data),index=tavg_time)"
   ]
  },
  {
   "cell_type": "markdown",
   "metadata": {},
   "source": [
    "We're going to normalize all values at their respective time. We will set the stimulated node to 0 because we only care about the amplitudes of all other nodes and we don't want it to be taken as the maximum."
   ]
  },
  {
   "cell_type": "code",
   "execution_count": null,
   "metadata": {
    "collapsed": true
   },
   "outputs": [],
   "source": [
    "notstim= np.squeeze(tavg_data).copy()\n",
    "notstim[:, 68]= 0\n",
    "m = np.array([(np.abs(notstim[i])).max() for i in range(len(notstim))])\n",
    "for i in range(len(notstim)):\n",
    "    for j in range(len(notstim[1])):\n",
    "        print i,\n",
    "        notstim[i,j] /= m[i]\n",
    "        \n",
    "df_notstim = pd.DataFrame(notstim,index=tavg_time)"
   ]
  },
  {
   "cell_type": "markdown",
   "metadata": {},
   "source": [
    "# Make the plot"
   ]
  },
  {
   "cell_type": "markdown",
   "metadata": {},
   "source": [
    "We will be saving the figures then displaying them since these are a little big and have difficulties loading them on the spot. Expect at least a few minutes for the figures to load. Change the ts times to display the time frames you want to look at. "
   ]
  },
  {
   "cell_type": "code",
   "execution_count": null,
   "metadata": {
    "collapsed": true
   },
   "outputs": [],
   "source": [
    "cd '/tmp'"
   ]
  },
  {
   "cell_type": "code",
   "execution_count": null,
   "metadata": {
    "collapsed": false,
    "scrolled": true
   },
   "outputs": [],
   "source": [
    "fig, ax = plt.subplots(ncols=1, nrows=10)\n",
    "cmap = cm.Reds\n",
    "cmap.set_under(color='w')\n",
    "\n",
    "kws = {'edgecolors': 'k', 'vmin': 0, 'cmap': cmap, \n",
    "       'vmax': 1, 'alpha': None, 'linewidth': 0.01}\n",
    "\n",
    "ts=[10000.5, 10035.5, 10070.5, 10105.5, 10140.5, 10175.5, 10210.5, 10245.5, 10280.5, 10315.5]\n",
    "\n",
    "for t_it,t in enumerate(ts):\n",
    "\n",
    "    data = np.append(df_notstim.ix[t].abs().values, nan)\n",
    "    \n",
    "    plot_surface_mpl_mv(vtx=vtx,tri=tri,rm=rm,data=data, figsize=(10,10),\n",
    "                    hemi=hemi ,shade_kwargs=kws) \n",
    "    \n",
    "    f = '/tmp/braintmp_v1_t%1.1fms.png' %t\n",
    "    plt.savefig(f,bbox_inches='tight')\n",
    "    plt.close()"
   ]
  },
  {
   "cell_type": "code",
   "execution_count": null,
   "metadata": {
    "collapsed": false,
    "scrolled": false
   },
   "outputs": [],
   "source": [
    "fig, ax = plt.subplots(nrows=10, figsize= (12,40))\n",
    "\n",
    "for t_it,t in enumerate(ts):\n",
    "    f =  '/tmp/braintmp_v1_t%1.1fms.png' %t\n",
    "    ax[t_it].imshow(plt.imread(f))\n",
    "    ax[t_it].axis('off')\n",
    "    ax[t_it].set_title('t=%1.1fms' %t,fontsize=9)"
   ]
  },
  {
   "cell_type": "code",
   "execution_count": null,
   "metadata": {
    "collapsed": false
   },
   "outputs": [],
   "source": [
    "fig, ax = plt.subplots(ncols=1, nrows=10)\n",
    "cmap = cm.Reds\n",
    "cmap.set_under(color='w')\n",
    "\n",
    "kws = {'edgecolors': 'k', 'vmin': 0, 'cmap': cmap, \n",
    "       'vmax': 0.01, 'alpha': None, 'linewidth': 0.01}\n",
    "\n",
    "ts=[10000.5, 10035.5, 10070.5, 10105.5, 10140.5, 10175.5, 10210.5, 10245.5, 10280.5, 10315.5]\n",
    "\n",
    "for t_it,t in enumerate(ts):\n",
    "\n",
    "    data = np.append(df_notstim.ix[t].abs().values, nan)\n",
    "    \n",
    "    plot_surface_mpl_mv(vtx=vtx,tri=tri,rm=rm,data=data, figsize=(10,10),\n",
    "                    hemi=hemi ,shade_kwargs=kws) \n",
    "    \n",
    "    f = '/tmp/braintmp_v1_t%1.1fms.png' %t\n",
    "    plt.savefig(f,bbox_inches='tight')\n",
    "    plt.close()"
   ]
  },
  {
   "cell_type": "code",
   "execution_count": null,
   "metadata": {
    "collapsed": false,
    "scrolled": false
   },
   "outputs": [],
   "source": [
    "fig, ax = plt.subplots(nrows=10, figsize= (12,40))\n",
    "\n",
    "for t_it,t in enumerate(ts):\n",
    "    f =  '/tmp/braintmp_v1_t%1.1fms.png' %t\n",
    "    ax[t_it].imshow(plt.imread(f))\n",
    "    ax[t_it].axis('off')\n",
    "    ax[t_it].set_title('t=%1.1fms' %t,fontsize=9)"
   ]
  },
  {
   "cell_type": "markdown",
   "metadata": {},
   "source": [
    "Next, we will be displaying figures at given eigen vector slices."
   ]
  },
  {
   "cell_type": "markdown",
   "metadata": {
    "collapsed": false
   },
   "source": [
    "#display the data with one color\n",
    "\n",
    "kws = {'edgecolors': 'k', 'vmin': 0, 'cmap': 'Reds', #'vmin': 0.4\n",
    "       'vmax': 1, 'alpha': None, 'linewidth': 0.01}\n",
    "\n",
    "fig, ax = plt.subplots(ncols=4,nrows=2,figsize=(12,6))\n",
    "\n",
    "for e_it in range(4):\n",
    "    dat = np.abs(dat_notrans_cov_evecs_155[:,e_it])\n",
    "\n",
    "    plot_surface_mpl(vtx=vtx,tri=tri,data=dat,rm=rm,ax=ax[0][e_it],\n",
    "                     shade_kwargs=kws,view='rh_lat', title='evec %s' %e_it)\n",
    "\n",
    "    plot_surface_mpl(vtx=vtx,tri=tri,data=dat,rm=rm,ax=ax[1][e_it],\n",
    "                     shade_kwargs=kws,view='superior')\n",
    "    "
   ]
  },
  {
   "cell_type": "markdown",
   "metadata": {},
   "source": [
    "---"
   ]
  },
  {
   "cell_type": "markdown",
   "metadata": {},
   "source": [
    "# HC stimulation\n"
   ]
  },
  {
   "cell_type": "markdown",
   "metadata": {},
   "source": [
    "Now repeat the process with the node you want to stimulate. "
   ]
  },
  {
   "cell_type": "code",
   "execution_count": 51,
   "metadata": {
    "collapsed": false
   },
   "outputs": [],
   "source": [
    "%pylab nbagg\n",
    "from tvb.simulator.lab import *\n",
    "LOG= get_logger('demo')\n",
    "from tvb.simulator.plot.tools import *"
   ]
  },
  {
   "cell_type": "markdown",
   "metadata": {},
   "source": [
    "These parameters are the same as the ones above. If you change the parameters in the V1 stimulation, remember to change them here as well."
   ]
  },
  {
   "cell_type": "code",
   "execution_count": 52,
   "metadata": {
    "collapsed": false
   },
   "outputs": [],
   "source": [
    "conn = new_conn\n",
    "mod= models.Generic2dOscillator(d = (1/1000.) * 76.74,\n",
    "                                tau =1., f= 1.,e= 0., g= -0.1, \n",
    "                            alpha =1., gamma= 1., c= 0., b= -12.3083, beta =0., a =0.)\n",
    "integrators = integrators.HeunStochastic(dt = 0.1, noise=noise.Additive(nsig=5e-15)) \n",
    "coupling = coupling.Linear(a=0.01)\n",
    "monitors= monitors.TemporalAverage(period = 1.0)\n",
    "conn.speed= 8"
   ]
  },
  {
   "cell_type": "markdown",
   "metadata": {},
   "source": [
    "### Defining the weighting of the stimuli"
   ]
  },
  {
   "cell_type": "markdown",
   "metadata": {},
   "source": [
    "Specify the name and node number of the node you want to stimulate ."
   ]
  },
  {
   "cell_type": "code",
   "execution_count": 53,
   "metadata": {
    "collapsed": true
   },
   "outputs": [],
   "source": [
    "stim_node= 29\n",
    "stim_name= 'CA1'"
   ]
  },
  {
   "cell_type": "markdown",
   "metadata": {},
   "source": [
    "Don't forget to change these values if you change them above."
   ]
  },
  {
   "cell_type": "code",
   "execution_count": 54,
   "metadata": {
    "collapsed": true
   },
   "outputs": [],
   "source": [
    "weighting = numpy.zeros((154))\n",
    "weighting [[stim_node]] = 0.03\n",
    "\n",
    "#temporal profile\n",
    "eqn_t = equations.PulseTrain()\n",
    "eqn_t.parameters['onset'] = 10000\n",
    "eqn_t.parameters['T'] = 1000.0\n",
    "eqn_t.parameters['tau'] = 50.0"
   ]
  },
  {
   "cell_type": "markdown",
   "metadata": {},
   "source": [
    "### Creating the stimulus"
   ]
  },
  {
   "cell_type": "code",
   "execution_count": 55,
   "metadata": {
    "collapsed": true
   },
   "outputs": [],
   "source": [
    "stimulus = patterns.StimuliRegion( temporal = eqn_t, \n",
    "                                  connectivity = conn, \n",
    "                                  weight = weighting)\n",
    "\n",
    "stimulus.configure_space()\n",
    "stimulus.configure_time(numpy.arange(0.,12000, 2**-4))"
   ]
  },
  {
   "cell_type": "markdown",
   "metadata": {},
   "source": [
    "### Putting together the simulator"
   ]
  },
  {
   "cell_type": "code",
   "execution_count": 56,
   "metadata": {
    "collapsed": false
   },
   "outputs": [],
   "source": [
    "sim = simulator.Simulator(\n",
    "        model = mod,\n",
    "        connectivity = conn,\n",
    "        coupling = coupling,\n",
    "        integrator = integrators,\n",
    "        monitors = monitors,\n",
    "        stimulus = stimulus, \n",
    "        simulation_length = 12000,\n",
    "        ).configure()\n",
    "\n",
    "(tavg_time, tavg_data), = sim.run()"
   ]
  },
  {
   "cell_type": "code",
   "execution_count": 57,
   "metadata": {
    "collapsed": false
   },
   "outputs": [],
   "source": [
    "lst_nodes = [i for i in range(154) if i != stim_node]\n",
    "nostimnode=tavg_data[:, 0, lst_nodes, 0]"
   ]
  },
  {
   "cell_type": "code",
   "execution_count": 58,
   "metadata": {
    "collapsed": true
   },
   "outputs": [],
   "source": [
    "datas_raw= (nostimnode)\n",
    "d_raw= (tavg_data[:, 0, stim_node, 0])\n",
    "follow_raw=( tavg_data[:, 0, 36, 0],tavg_data[:, 0, 69, 0],tavg_data[:, 0, 72, 0],tavg_data[:, 0, 22, 0],\n",
    "             tavg_data[:, 0, 13, 0],tavg_data[:, 0, 14, 0],tavg_data[:, 0, 40, 0],tavg_data[:, 0, 66, 0],\n",
    "             tavg_data[:, 0, 8, 0], tavg_data[:, 0, 19, 0])\n",
    "\n",
    "datas= np.squeeze(datas_raw)\n",
    "d= np.squeeze(d_raw).T\n",
    "follow = np.squeeze(follow_raw).T"
   ]
  },
  {
   "cell_type": "code",
   "execution_count": 59,
   "metadata": {
    "collapsed": false
   },
   "outputs": [
    {
     "data": {
      "application/javascript": [
       "/* Put everything inside the global mpl namespace */\n",
       "window.mpl = {};\n",
       "\n",
       "mpl.get_websocket_type = function() {\n",
       "    if (typeof(WebSocket) !== 'undefined') {\n",
       "        return WebSocket;\n",
       "    } else if (typeof(MozWebSocket) !== 'undefined') {\n",
       "        return MozWebSocket;\n",
       "    } else {\n",
       "        alert('Your browser does not have WebSocket support.' +\n",
       "              'Please try Chrome, Safari or Firefox ≥ 6. ' +\n",
       "              'Firefox 4 and 5 are also supported but you ' +\n",
       "              'have to enable WebSockets in about:config.');\n",
       "    };\n",
       "}\n",
       "\n",
       "mpl.figure = function(figure_id, websocket, ondownload, parent_element) {\n",
       "    this.id = figure_id;\n",
       "\n",
       "    this.ws = websocket;\n",
       "\n",
       "    this.supports_binary = (this.ws.binaryType != undefined);\n",
       "\n",
       "    if (!this.supports_binary) {\n",
       "        var warnings = document.getElementById(\"mpl-warnings\");\n",
       "        if (warnings) {\n",
       "            warnings.style.display = 'block';\n",
       "            warnings.textContent = (\n",
       "                \"This browser does not support binary websocket messages. \" +\n",
       "                    \"Performance may be slow.\");\n",
       "        }\n",
       "    }\n",
       "\n",
       "    this.imageObj = new Image();\n",
       "\n",
       "    this.context = undefined;\n",
       "    this.message = undefined;\n",
       "    this.canvas = undefined;\n",
       "    this.rubberband_canvas = undefined;\n",
       "    this.rubberband_context = undefined;\n",
       "    this.format_dropdown = undefined;\n",
       "\n",
       "    this.image_mode = 'full';\n",
       "\n",
       "    this.root = $('<div/>');\n",
       "    this._root_extra_style(this.root)\n",
       "    this.root.attr('style', 'display: inline-block');\n",
       "\n",
       "    $(parent_element).append(this.root);\n",
       "\n",
       "    this._init_header(this);\n",
       "    this._init_canvas(this);\n",
       "    this._init_toolbar(this);\n",
       "\n",
       "    var fig = this;\n",
       "\n",
       "    this.waiting = false;\n",
       "\n",
       "    this.ws.onopen =  function () {\n",
       "            fig.send_message(\"supports_binary\", {value: fig.supports_binary});\n",
       "            fig.send_message(\"send_image_mode\", {});\n",
       "            fig.send_message(\"refresh\", {});\n",
       "        }\n",
       "\n",
       "    this.imageObj.onload = function() {\n",
       "            if (fig.image_mode == 'full') {\n",
       "                // Full images could contain transparency (where diff images\n",
       "                // almost always do), so we need to clear the canvas so that\n",
       "                // there is no ghosting.\n",
       "                fig.context.clearRect(0, 0, fig.canvas.width, fig.canvas.height);\n",
       "            }\n",
       "            fig.context.drawImage(fig.imageObj, 0, 0);\n",
       "        };\n",
       "\n",
       "    this.imageObj.onunload = function() {\n",
       "        this.ws.close();\n",
       "    }\n",
       "\n",
       "    this.ws.onmessage = this._make_on_message_function(this);\n",
       "\n",
       "    this.ondownload = ondownload;\n",
       "}\n",
       "\n",
       "mpl.figure.prototype._init_header = function() {\n",
       "    var titlebar = $(\n",
       "        '<div class=\"ui-dialog-titlebar ui-widget-header ui-corner-all ' +\n",
       "        'ui-helper-clearfix\"/>');\n",
       "    var titletext = $(\n",
       "        '<div class=\"ui-dialog-title\" style=\"width: 100%; ' +\n",
       "        'text-align: center; padding: 3px;\"/>');\n",
       "    titlebar.append(titletext)\n",
       "    this.root.append(titlebar);\n",
       "    this.header = titletext[0];\n",
       "}\n",
       "\n",
       "\n",
       "\n",
       "mpl.figure.prototype._canvas_extra_style = function(canvas_div) {\n",
       "\n",
       "}\n",
       "\n",
       "\n",
       "mpl.figure.prototype._root_extra_style = function(canvas_div) {\n",
       "\n",
       "}\n",
       "\n",
       "mpl.figure.prototype._init_canvas = function() {\n",
       "    var fig = this;\n",
       "\n",
       "    var canvas_div = $('<div/>');\n",
       "\n",
       "    canvas_div.attr('style', 'position: relative; clear: both; outline: 0');\n",
       "\n",
       "    function canvas_keyboard_event(event) {\n",
       "        return fig.key_event(event, event['data']);\n",
       "    }\n",
       "\n",
       "    canvas_div.keydown('key_press', canvas_keyboard_event);\n",
       "    canvas_div.keyup('key_release', canvas_keyboard_event);\n",
       "    this.canvas_div = canvas_div\n",
       "    this._canvas_extra_style(canvas_div)\n",
       "    this.root.append(canvas_div);\n",
       "\n",
       "    var canvas = $('<canvas/>');\n",
       "    canvas.addClass('mpl-canvas');\n",
       "    canvas.attr('style', \"left: 0; top: 0; z-index: 0; outline: 0\")\n",
       "\n",
       "    this.canvas = canvas[0];\n",
       "    this.context = canvas[0].getContext(\"2d\");\n",
       "\n",
       "    var rubberband = $('<canvas/>');\n",
       "    rubberband.attr('style', \"position: absolute; left: 0; top: 0; z-index: 1;\")\n",
       "\n",
       "    var pass_mouse_events = true;\n",
       "\n",
       "    canvas_div.resizable({\n",
       "        start: function(event, ui) {\n",
       "            pass_mouse_events = false;\n",
       "        },\n",
       "        resize: function(event, ui) {\n",
       "            fig.request_resize(ui.size.width, ui.size.height);\n",
       "        },\n",
       "        stop: function(event, ui) {\n",
       "            pass_mouse_events = true;\n",
       "            fig.request_resize(ui.size.width, ui.size.height);\n",
       "        },\n",
       "    });\n",
       "\n",
       "    function mouse_event_fn(event) {\n",
       "        if (pass_mouse_events)\n",
       "            return fig.mouse_event(event, event['data']);\n",
       "    }\n",
       "\n",
       "    rubberband.mousedown('button_press', mouse_event_fn);\n",
       "    rubberband.mouseup('button_release', mouse_event_fn);\n",
       "    // Throttle sequential mouse events to 1 every 20ms.\n",
       "    rubberband.mousemove('motion_notify', mouse_event_fn);\n",
       "\n",
       "    rubberband.mouseenter('figure_enter', mouse_event_fn);\n",
       "    rubberband.mouseleave('figure_leave', mouse_event_fn);\n",
       "\n",
       "    canvas_div.on(\"wheel\", function (event) {\n",
       "        event = event.originalEvent;\n",
       "        event['data'] = 'scroll'\n",
       "        if (event.deltaY < 0) {\n",
       "            event.step = 1;\n",
       "        } else {\n",
       "            event.step = -1;\n",
       "        }\n",
       "        mouse_event_fn(event);\n",
       "    });\n",
       "\n",
       "    canvas_div.append(canvas);\n",
       "    canvas_div.append(rubberband);\n",
       "\n",
       "    this.rubberband = rubberband;\n",
       "    this.rubberband_canvas = rubberband[0];\n",
       "    this.rubberband_context = rubberband[0].getContext(\"2d\");\n",
       "    this.rubberband_context.strokeStyle = \"#000000\";\n",
       "\n",
       "    this._resize_canvas = function(width, height) {\n",
       "        // Keep the size of the canvas, canvas container, and rubber band\n",
       "        // canvas in synch.\n",
       "        canvas_div.css('width', width)\n",
       "        canvas_div.css('height', height)\n",
       "\n",
       "        canvas.attr('width', width);\n",
       "        canvas.attr('height', height);\n",
       "\n",
       "        rubberband.attr('width', width);\n",
       "        rubberband.attr('height', height);\n",
       "    }\n",
       "\n",
       "    // Set the figure to an initial 600x600px, this will subsequently be updated\n",
       "    // upon first draw.\n",
       "    this._resize_canvas(600, 600);\n",
       "\n",
       "    // Disable right mouse context menu.\n",
       "    $(this.rubberband_canvas).bind(\"contextmenu\",function(e){\n",
       "        return false;\n",
       "    });\n",
       "\n",
       "    function set_focus () {\n",
       "        canvas.focus();\n",
       "        canvas_div.focus();\n",
       "    }\n",
       "\n",
       "    window.setTimeout(set_focus, 100);\n",
       "}\n",
       "\n",
       "mpl.figure.prototype._init_toolbar = function() {\n",
       "    var fig = this;\n",
       "\n",
       "    var nav_element = $('<div/>')\n",
       "    nav_element.attr('style', 'width: 100%');\n",
       "    this.root.append(nav_element);\n",
       "\n",
       "    // Define a callback function for later on.\n",
       "    function toolbar_event(event) {\n",
       "        return fig.toolbar_button_onclick(event['data']);\n",
       "    }\n",
       "    function toolbar_mouse_event(event) {\n",
       "        return fig.toolbar_button_onmouseover(event['data']);\n",
       "    }\n",
       "\n",
       "    for(var toolbar_ind in mpl.toolbar_items) {\n",
       "        var name = mpl.toolbar_items[toolbar_ind][0];\n",
       "        var tooltip = mpl.toolbar_items[toolbar_ind][1];\n",
       "        var image = mpl.toolbar_items[toolbar_ind][2];\n",
       "        var method_name = mpl.toolbar_items[toolbar_ind][3];\n",
       "\n",
       "        if (!name) {\n",
       "            // put a spacer in here.\n",
       "            continue;\n",
       "        }\n",
       "        var button = $('<button/>');\n",
       "        button.addClass('ui-button ui-widget ui-state-default ui-corner-all ' +\n",
       "                        'ui-button-icon-only');\n",
       "        button.attr('role', 'button');\n",
       "        button.attr('aria-disabled', 'false');\n",
       "        button.click(method_name, toolbar_event);\n",
       "        button.mouseover(tooltip, toolbar_mouse_event);\n",
       "\n",
       "        var icon_img = $('<span/>');\n",
       "        icon_img.addClass('ui-button-icon-primary ui-icon');\n",
       "        icon_img.addClass(image);\n",
       "        icon_img.addClass('ui-corner-all');\n",
       "\n",
       "        var tooltip_span = $('<span/>');\n",
       "        tooltip_span.addClass('ui-button-text');\n",
       "        tooltip_span.html(tooltip);\n",
       "\n",
       "        button.append(icon_img);\n",
       "        button.append(tooltip_span);\n",
       "\n",
       "        nav_element.append(button);\n",
       "    }\n",
       "\n",
       "    var fmt_picker_span = $('<span/>');\n",
       "\n",
       "    var fmt_picker = $('<select/>');\n",
       "    fmt_picker.addClass('mpl-toolbar-option ui-widget ui-widget-content');\n",
       "    fmt_picker_span.append(fmt_picker);\n",
       "    nav_element.append(fmt_picker_span);\n",
       "    this.format_dropdown = fmt_picker[0];\n",
       "\n",
       "    for (var ind in mpl.extensions) {\n",
       "        var fmt = mpl.extensions[ind];\n",
       "        var option = $(\n",
       "            '<option/>', {selected: fmt === mpl.default_extension}).html(fmt);\n",
       "        fmt_picker.append(option)\n",
       "    }\n",
       "\n",
       "    // Add hover states to the ui-buttons\n",
       "    $( \".ui-button\" ).hover(\n",
       "        function() { $(this).addClass(\"ui-state-hover\");},\n",
       "        function() { $(this).removeClass(\"ui-state-hover\");}\n",
       "    );\n",
       "\n",
       "    var status_bar = $('<span class=\"mpl-message\"/>');\n",
       "    nav_element.append(status_bar);\n",
       "    this.message = status_bar[0];\n",
       "}\n",
       "\n",
       "mpl.figure.prototype.request_resize = function(x_pixels, y_pixels) {\n",
       "    // Request matplotlib to resize the figure. Matplotlib will then trigger a resize in the client,\n",
       "    // which will in turn request a refresh of the image.\n",
       "    this.send_message('resize', {'width': x_pixels, 'height': y_pixels});\n",
       "}\n",
       "\n",
       "mpl.figure.prototype.send_message = function(type, properties) {\n",
       "    properties['type'] = type;\n",
       "    properties['figure_id'] = this.id;\n",
       "    this.ws.send(JSON.stringify(properties));\n",
       "}\n",
       "\n",
       "mpl.figure.prototype.send_draw_message = function() {\n",
       "    if (!this.waiting) {\n",
       "        this.waiting = true;\n",
       "        this.ws.send(JSON.stringify({type: \"draw\", figure_id: this.id}));\n",
       "    }\n",
       "}\n",
       "\n",
       "\n",
       "mpl.figure.prototype.handle_save = function(fig, msg) {\n",
       "    var format_dropdown = fig.format_dropdown;\n",
       "    var format = format_dropdown.options[format_dropdown.selectedIndex].value;\n",
       "    fig.ondownload(fig, format);\n",
       "}\n",
       "\n",
       "\n",
       "mpl.figure.prototype.handle_resize = function(fig, msg) {\n",
       "    var size = msg['size'];\n",
       "    if (size[0] != fig.canvas.width || size[1] != fig.canvas.height) {\n",
       "        fig._resize_canvas(size[0], size[1]);\n",
       "        fig.send_message(\"refresh\", {});\n",
       "    };\n",
       "}\n",
       "\n",
       "mpl.figure.prototype.handle_rubberband = function(fig, msg) {\n",
       "    var x0 = msg['x0'];\n",
       "    var y0 = fig.canvas.height - msg['y0'];\n",
       "    var x1 = msg['x1'];\n",
       "    var y1 = fig.canvas.height - msg['y1'];\n",
       "    x0 = Math.floor(x0) + 0.5;\n",
       "    y0 = Math.floor(y0) + 0.5;\n",
       "    x1 = Math.floor(x1) + 0.5;\n",
       "    y1 = Math.floor(y1) + 0.5;\n",
       "    var min_x = Math.min(x0, x1);\n",
       "    var min_y = Math.min(y0, y1);\n",
       "    var width = Math.abs(x1 - x0);\n",
       "    var height = Math.abs(y1 - y0);\n",
       "\n",
       "    fig.rubberband_context.clearRect(\n",
       "        0, 0, fig.canvas.width, fig.canvas.height);\n",
       "\n",
       "    fig.rubberband_context.strokeRect(min_x, min_y, width, height);\n",
       "}\n",
       "\n",
       "mpl.figure.prototype.handle_figure_label = function(fig, msg) {\n",
       "    // Updates the figure title.\n",
       "    fig.header.textContent = msg['label'];\n",
       "}\n",
       "\n",
       "mpl.figure.prototype.handle_cursor = function(fig, msg) {\n",
       "    var cursor = msg['cursor'];\n",
       "    switch(cursor)\n",
       "    {\n",
       "    case 0:\n",
       "        cursor = 'pointer';\n",
       "        break;\n",
       "    case 1:\n",
       "        cursor = 'default';\n",
       "        break;\n",
       "    case 2:\n",
       "        cursor = 'crosshair';\n",
       "        break;\n",
       "    case 3:\n",
       "        cursor = 'move';\n",
       "        break;\n",
       "    }\n",
       "    fig.rubberband_canvas.style.cursor = cursor;\n",
       "}\n",
       "\n",
       "mpl.figure.prototype.handle_message = function(fig, msg) {\n",
       "    fig.message.textContent = msg['message'];\n",
       "}\n",
       "\n",
       "mpl.figure.prototype.handle_draw = function(fig, msg) {\n",
       "    // Request the server to send over a new figure.\n",
       "    fig.send_draw_message();\n",
       "}\n",
       "\n",
       "mpl.figure.prototype.handle_image_mode = function(fig, msg) {\n",
       "    fig.image_mode = msg['mode'];\n",
       "}\n",
       "\n",
       "mpl.figure.prototype.updated_canvas_event = function() {\n",
       "    // Called whenever the canvas gets updated.\n",
       "    this.send_message(\"ack\", {});\n",
       "}\n",
       "\n",
       "// A function to construct a web socket function for onmessage handling.\n",
       "// Called in the figure constructor.\n",
       "mpl.figure.prototype._make_on_message_function = function(fig) {\n",
       "    return function socket_on_message(evt) {\n",
       "        if (evt.data instanceof Blob) {\n",
       "            /* FIXME: We get \"Resource interpreted as Image but\n",
       "             * transferred with MIME type text/plain:\" errors on\n",
       "             * Chrome.  But how to set the MIME type?  It doesn't seem\n",
       "             * to be part of the websocket stream */\n",
       "            evt.data.type = \"image/png\";\n",
       "\n",
       "            /* Free the memory for the previous frames */\n",
       "            if (fig.imageObj.src) {\n",
       "                (window.URL || window.webkitURL).revokeObjectURL(\n",
       "                    fig.imageObj.src);\n",
       "            }\n",
       "\n",
       "            fig.imageObj.src = (window.URL || window.webkitURL).createObjectURL(\n",
       "                evt.data);\n",
       "            fig.updated_canvas_event();\n",
       "            fig.waiting = false;\n",
       "            return;\n",
       "        }\n",
       "        else if (typeof evt.data === 'string' && evt.data.slice(0, 21) == \"data:image/png;base64\") {\n",
       "            fig.imageObj.src = evt.data;\n",
       "            fig.updated_canvas_event();\n",
       "            fig.waiting = false;\n",
       "            return;\n",
       "        }\n",
       "\n",
       "        var msg = JSON.parse(evt.data);\n",
       "        var msg_type = msg['type'];\n",
       "\n",
       "        // Call the  \"handle_{type}\" callback, which takes\n",
       "        // the figure and JSON message as its only arguments.\n",
       "        try {\n",
       "            var callback = fig[\"handle_\" + msg_type];\n",
       "        } catch (e) {\n",
       "            console.log(\"No handler for the '\" + msg_type + \"' message type: \", msg);\n",
       "            return;\n",
       "        }\n",
       "\n",
       "        if (callback) {\n",
       "            try {\n",
       "                // console.log(\"Handling '\" + msg_type + \"' message: \", msg);\n",
       "                callback(fig, msg);\n",
       "            } catch (e) {\n",
       "                console.log(\"Exception inside the 'handler_\" + msg_type + \"' callback:\", e, e.stack, msg);\n",
       "            }\n",
       "        }\n",
       "    };\n",
       "}\n",
       "\n",
       "// from http://stackoverflow.com/questions/1114465/getting-mouse-location-in-canvas\n",
       "mpl.findpos = function(e) {\n",
       "    //this section is from http://www.quirksmode.org/js/events_properties.html\n",
       "    var targ;\n",
       "    if (!e)\n",
       "        e = window.event;\n",
       "    if (e.target)\n",
       "        targ = e.target;\n",
       "    else if (e.srcElement)\n",
       "        targ = e.srcElement;\n",
       "    if (targ.nodeType == 3) // defeat Safari bug\n",
       "        targ = targ.parentNode;\n",
       "\n",
       "    // jQuery normalizes the pageX and pageY\n",
       "    // pageX,Y are the mouse positions relative to the document\n",
       "    // offset() returns the position of the element relative to the document\n",
       "    var x = e.pageX - $(targ).offset().left;\n",
       "    var y = e.pageY - $(targ).offset().top;\n",
       "\n",
       "    return {\"x\": x, \"y\": y};\n",
       "};\n",
       "\n",
       "/*\n",
       " * return a copy of an object with only non-object keys\n",
       " * we need this to avoid circular references\n",
       " * http://stackoverflow.com/a/24161582/3208463\n",
       " */\n",
       "function simpleKeys (original) {\n",
       "  return Object.keys(original).reduce(function (obj, key) {\n",
       "    if (typeof original[key] !== 'object')\n",
       "        obj[key] = original[key]\n",
       "    return obj;\n",
       "  }, {});\n",
       "}\n",
       "\n",
       "mpl.figure.prototype.mouse_event = function(event, name) {\n",
       "    var canvas_pos = mpl.findpos(event)\n",
       "\n",
       "    if (name === 'button_press')\n",
       "    {\n",
       "        this.canvas.focus();\n",
       "        this.canvas_div.focus();\n",
       "    }\n",
       "\n",
       "    var x = canvas_pos.x;\n",
       "    var y = canvas_pos.y;\n",
       "\n",
       "    this.send_message(name, {x: x, y: y, button: event.button,\n",
       "                             step: event.step,\n",
       "                             guiEvent: simpleKeys(event)});\n",
       "\n",
       "    /* This prevents the web browser from automatically changing to\n",
       "     * the text insertion cursor when the button is pressed.  We want\n",
       "     * to control all of the cursor setting manually through the\n",
       "     * 'cursor' event from matplotlib */\n",
       "    event.preventDefault();\n",
       "    return false;\n",
       "}\n",
       "\n",
       "mpl.figure.prototype._key_event_extra = function(event, name) {\n",
       "    // Handle any extra behaviour associated with a key event\n",
       "}\n",
       "\n",
       "mpl.figure.prototype.key_event = function(event, name) {\n",
       "\n",
       "    // Prevent repeat events\n",
       "    if (name == 'key_press')\n",
       "    {\n",
       "        if (event.which === this._key)\n",
       "            return;\n",
       "        else\n",
       "            this._key = event.which;\n",
       "    }\n",
       "    if (name == 'key_release')\n",
       "        this._key = null;\n",
       "\n",
       "    var value = '';\n",
       "    if (event.ctrlKey && event.which != 17)\n",
       "        value += \"ctrl+\";\n",
       "    if (event.altKey && event.which != 18)\n",
       "        value += \"alt+\";\n",
       "    if (event.shiftKey && event.which != 16)\n",
       "        value += \"shift+\";\n",
       "\n",
       "    value += 'k';\n",
       "    value += event.which.toString();\n",
       "\n",
       "    this._key_event_extra(event, name);\n",
       "\n",
       "    this.send_message(name, {key: value,\n",
       "                             guiEvent: simpleKeys(event)});\n",
       "    return false;\n",
       "}\n",
       "\n",
       "mpl.figure.prototype.toolbar_button_onclick = function(name) {\n",
       "    if (name == 'download') {\n",
       "        this.handle_save(this, null);\n",
       "    } else {\n",
       "        this.send_message(\"toolbar_button\", {name: name});\n",
       "    }\n",
       "};\n",
       "\n",
       "mpl.figure.prototype.toolbar_button_onmouseover = function(tooltip) {\n",
       "    this.message.textContent = tooltip;\n",
       "};\n",
       "mpl.toolbar_items = [[\"Home\", \"Reset original view\", \"fa fa-home icon-home\", \"home\"], [\"Back\", \"Back to  previous view\", \"fa fa-arrow-left icon-arrow-left\", \"back\"], [\"Forward\", \"Forward to next view\", \"fa fa-arrow-right icon-arrow-right\", \"forward\"], [\"\", \"\", \"\", \"\"], [\"Pan\", \"Pan axes with left mouse, zoom with right\", \"fa fa-arrows icon-move\", \"pan\"], [\"Zoom\", \"Zoom to rectangle\", \"fa fa-square-o icon-check-empty\", \"zoom\"], [\"\", \"\", \"\", \"\"], [\"Download\", \"Download plot\", \"fa fa-floppy-o icon-save\", \"download\"]];\n",
       "\n",
       "mpl.extensions = [\"eps\", \"pdf\", \"png\", \"ps\", \"raw\", \"svg\"];\n",
       "\n",
       "mpl.default_extension = \"png\";var comm_websocket_adapter = function(comm) {\n",
       "    // Create a \"websocket\"-like object which calls the given IPython comm\n",
       "    // object with the appropriate methods. Currently this is a non binary\n",
       "    // socket, so there is still some room for performance tuning.\n",
       "    var ws = {};\n",
       "\n",
       "    ws.close = function() {\n",
       "        comm.close()\n",
       "    };\n",
       "    ws.send = function(m) {\n",
       "        //console.log('sending', m);\n",
       "        comm.send(m);\n",
       "    };\n",
       "    // Register the callback with on_msg.\n",
       "    comm.on_msg(function(msg) {\n",
       "        //console.log('receiving', msg['content']['data'], msg);\n",
       "        // Pass the mpl event to the overriden (by mpl) onmessage function.\n",
       "        ws.onmessage(msg['content']['data'])\n",
       "    });\n",
       "    return ws;\n",
       "}\n",
       "\n",
       "mpl.mpl_figure_comm = function(comm, msg) {\n",
       "    // This is the function which gets called when the mpl process\n",
       "    // starts-up an IPython Comm through the \"matplotlib\" channel.\n",
       "\n",
       "    var id = msg.content.data.id;\n",
       "    // Get hold of the div created by the display call when the Comm\n",
       "    // socket was opened in Python.\n",
       "    var element = $(\"#\" + id);\n",
       "    var ws_proxy = comm_websocket_adapter(comm)\n",
       "\n",
       "    function ondownload(figure, format) {\n",
       "        window.open(figure.imageObj.src);\n",
       "    }\n",
       "\n",
       "    var fig = new mpl.figure(id, ws_proxy,\n",
       "                           ondownload,\n",
       "                           element.get(0));\n",
       "\n",
       "    // Call onopen now - mpl needs it, as it is assuming we've passed it a real\n",
       "    // web socket which is closed, not our websocket->open comm proxy.\n",
       "    ws_proxy.onopen();\n",
       "\n",
       "    fig.parent_element = element.get(0);\n",
       "    fig.cell_info = mpl.find_output_cell(\"<div id='\" + id + \"'></div>\");\n",
       "    if (!fig.cell_info) {\n",
       "        console.error(\"Failed to find cell for figure\", id, fig);\n",
       "        return;\n",
       "    }\n",
       "\n",
       "    var output_index = fig.cell_info[2]\n",
       "    var cell = fig.cell_info[0];\n",
       "\n",
       "};\n",
       "\n",
       "mpl.figure.prototype.handle_close = function(fig, msg) {\n",
       "    fig.root.unbind('remove')\n",
       "\n",
       "    // Update the output cell to use the data from the current canvas.\n",
       "    fig.push_to_output();\n",
       "    var dataURL = fig.canvas.toDataURL();\n",
       "    // Re-enable the keyboard manager in IPython - without this line, in FF,\n",
       "    // the notebook keyboard shortcuts fail.\n",
       "    IPython.keyboard_manager.enable()\n",
       "    $(fig.parent_element).html('<img src=\"' + dataURL + '\">');\n",
       "    fig.close_ws(fig, msg);\n",
       "}\n",
       "\n",
       "mpl.figure.prototype.close_ws = function(fig, msg){\n",
       "    fig.send_message('closing', msg);\n",
       "    // fig.ws.close()\n",
       "}\n",
       "\n",
       "mpl.figure.prototype.push_to_output = function(remove_interactive) {\n",
       "    // Turn the data on the canvas into data in the output cell.\n",
       "    var dataURL = this.canvas.toDataURL();\n",
       "    this.cell_info[1]['text/html'] = '<img src=\"' + dataURL + '\">';\n",
       "}\n",
       "\n",
       "mpl.figure.prototype.updated_canvas_event = function() {\n",
       "    // Tell IPython that the notebook contents must change.\n",
       "    IPython.notebook.set_dirty(true);\n",
       "    this.send_message(\"ack\", {});\n",
       "    var fig = this;\n",
       "    // Wait a second, then push the new image to the DOM so\n",
       "    // that it is saved nicely (might be nice to debounce this).\n",
       "    setTimeout(function () { fig.push_to_output() }, 1000);\n",
       "}\n",
       "\n",
       "mpl.figure.prototype._init_toolbar = function() {\n",
       "    var fig = this;\n",
       "\n",
       "    var nav_element = $('<div/>')\n",
       "    nav_element.attr('style', 'width: 100%');\n",
       "    this.root.append(nav_element);\n",
       "\n",
       "    // Define a callback function for later on.\n",
       "    function toolbar_event(event) {\n",
       "        return fig.toolbar_button_onclick(event['data']);\n",
       "    }\n",
       "    function toolbar_mouse_event(event) {\n",
       "        return fig.toolbar_button_onmouseover(event['data']);\n",
       "    }\n",
       "\n",
       "    for(var toolbar_ind in mpl.toolbar_items){\n",
       "        var name = mpl.toolbar_items[toolbar_ind][0];\n",
       "        var tooltip = mpl.toolbar_items[toolbar_ind][1];\n",
       "        var image = mpl.toolbar_items[toolbar_ind][2];\n",
       "        var method_name = mpl.toolbar_items[toolbar_ind][3];\n",
       "\n",
       "        if (!name) { continue; };\n",
       "\n",
       "        var button = $('<button class=\"btn btn-default\" href=\"#\" title=\"' + name + '\"><i class=\"fa ' + image + ' fa-lg\"></i></button>');\n",
       "        button.click(method_name, toolbar_event);\n",
       "        button.mouseover(tooltip, toolbar_mouse_event);\n",
       "        nav_element.append(button);\n",
       "    }\n",
       "\n",
       "    // Add the status bar.\n",
       "    var status_bar = $('<span class=\"mpl-message\" style=\"text-align:right; float: right;\"/>');\n",
       "    nav_element.append(status_bar);\n",
       "    this.message = status_bar[0];\n",
       "\n",
       "    // Add the close button to the window.\n",
       "    var buttongrp = $('<div class=\"btn-group inline pull-right\"></div>');\n",
       "    var button = $('<button class=\"btn btn-mini btn-primary\" href=\"#\" title=\"Stop Interaction\"><i class=\"fa fa-power-off icon-remove icon-large\"></i></button>');\n",
       "    button.click(function (evt) { fig.handle_close(fig, {}); } );\n",
       "    button.mouseover('Stop Interaction', toolbar_mouse_event);\n",
       "    buttongrp.append(button);\n",
       "    var titlebar = this.root.find($('.ui-dialog-titlebar'));\n",
       "    titlebar.prepend(buttongrp);\n",
       "}\n",
       "\n",
       "mpl.figure.prototype._root_extra_style = function(el){\n",
       "    var fig = this\n",
       "    el.on(\"remove\", function(){\n",
       "\tfig.close_ws(fig, {});\n",
       "    });\n",
       "}\n",
       "\n",
       "mpl.figure.prototype._canvas_extra_style = function(el){\n",
       "    // this is important to make the div 'focusable\n",
       "    el.attr('tabindex', 0)\n",
       "    // reach out to IPython and tell the keyboard manager to turn it's self\n",
       "    // off when our div gets focus\n",
       "\n",
       "    // location in version 3\n",
       "    if (IPython.notebook.keyboard_manager) {\n",
       "        IPython.notebook.keyboard_manager.register_events(el);\n",
       "    }\n",
       "    else {\n",
       "        // location in version 2\n",
       "        IPython.keyboard_manager.register_events(el);\n",
       "    }\n",
       "\n",
       "}\n",
       "\n",
       "mpl.figure.prototype._key_event_extra = function(event, name) {\n",
       "    var manager = IPython.notebook.keyboard_manager;\n",
       "    if (!manager)\n",
       "        manager = IPython.keyboard_manager;\n",
       "\n",
       "    // Check for shift+enter\n",
       "    if (event.shiftKey && event.which == 13) {\n",
       "        this.canvas_div.blur();\n",
       "        // select the cell after this one\n",
       "        var index = IPython.notebook.find_cell_index(this.cell_info[0]);\n",
       "        IPython.notebook.select(index + 1);\n",
       "    }\n",
       "}\n",
       "\n",
       "mpl.figure.prototype.handle_save = function(fig, msg) {\n",
       "    fig.ondownload(fig, null);\n",
       "}\n",
       "\n",
       "\n",
       "mpl.find_output_cell = function(html_output) {\n",
       "    // Return the cell and output element which can be found *uniquely* in the notebook.\n",
       "    // Note - this is a bit hacky, but it is done because the \"notebook_saving.Notebook\"\n",
       "    // IPython event is triggered only after the cells have been serialised, which for\n",
       "    // our purposes (turning an active figure into a static one), is too late.\n",
       "    var cells = IPython.notebook.get_cells();\n",
       "    var ncells = cells.length;\n",
       "    for (var i=0; i<ncells; i++) {\n",
       "        var cell = cells[i];\n",
       "        if (cell.cell_type === 'code'){\n",
       "            for (var j=0; j<cell.output_area.outputs.length; j++) {\n",
       "                var data = cell.output_area.outputs[j];\n",
       "                if (data.data) {\n",
       "                    // IPython >= 3 moved mimebundle to data attribute of output\n",
       "                    data = data.data;\n",
       "                }\n",
       "                if (data['text/html'] == html_output) {\n",
       "                    return [cell, data, j];\n",
       "                }\n",
       "            }\n",
       "        }\n",
       "    }\n",
       "}\n",
       "\n",
       "// Register the function which deals with the matplotlib target/channel.\n",
       "// The kernel may be null if the page has been refreshed.\n",
       "if (IPython.notebook.kernel != null) {\n",
       "    IPython.notebook.kernel.comm_manager.register_target('matplotlib', mpl.mpl_figure_comm);\n",
       "}\n"
      ],
      "text/plain": [
       "<IPython.core.display.Javascript object>"
      ]
     },
     "metadata": {},
     "output_type": "display_data"
    },
    {
     "data": {
      "text/html": [
       "<img src=\"data:image/png;base64,iVBORw0KGgoAAAANSUhEUgAAAoAAAAHgCAYAAAA10dzkAAAgAElEQVR4nOydd5RUVdDtD0kRkCAqIiACiiCSo4hKzgKC5KQCguQgCkgYcs455wySYUByRiTnjETJNEni7PdHzWV6ejrNqXpPv/fVb61ZOj19Lmd6uu/d95yqvY1RFEVRFEVRFEVRFEVRFEVRFEVRFEVRFEVRFEVRFEVRFEVRFEVRFEVRFEVRFEVRFEVRFEVRFEVRFEVRFEVRFEVRFEVRFEVRFEVRFEVRFEVRFEVRFEVRFEVRFEVRFEVRFEVRFEVRFEVRFEVRFEVRFEVRFEVRFEVRFEVRFEVRFEVRFEVRFEVRFEVRFEVRFEVRFEVRFEVRFEVRFEVRFEVRFEVRFEVRFEVRFEVRFEVRFEVRFEVRFEVRFEVRFEVRFEVRFEVRFEVRFEVRFEVRFEVRFEVRFEVRFEVRFEVRFEVRFEVRFEVRFEVRFEVRFEVRFEVRFEVRFEVRFEVRFEVRFEVRFEVRFEVRFEVRFEVRFEVRFEVRFEVRFEVRFEVRFEVRFEVRFEVRFEVRFEVRFEVRFEVRFEVRFEVRFEVRFEVRFEVRFEVRFEVRFEVRFEVRFEVRFEVRFEVRFEVRFEVRFEVRFEVRFOX/E2IYY1IYYxLql37pl37pl37p1/+orxSGruOKEm1SGGOgX/qlX/qlX/qlX/8jv1IYRbEgoTEGFy9ehMvlivTVpEmTKI/pl/evJrFjw7Vrl/0xtm2DK2FCmfn88ANczZrZj9+/H66YMWXm0rcvXKVKRX6tPN9XzZrRnCX+vUKF4Bo2zH78zz/DVaeOzFx+/JG+bMd37gxX5coyn8MhQ+AqWtR+fI8ecJUvL/O6rFsHV7Jk9uP79IGrbFmvP4v2a3X1KlzGwHXunN1c+vWDq2RJmdfF5YIrXTq4Fi+2GztgAFwlSgT9/ICv1TffwNWli/3r4vG5Z3316AHX11/bje3VC65y5Vj/fqTXau1auN55x+5YISFwVa4s9rpcvHDBEYAJ/2UdofwPJaExBi6XC560atUqymOKd1rFjg0cO2Z/gIMHgYQJZSbTpAnQtq39+LNngZgxZeYydChQvnykh6K8r9q2pTlLULQoMGGC/fjOnYF69WTm0qIFwPkM9e4NVK8u8zkcMwYoVcp+/MCBQKVK/HkAwI4dwLvv2o8fOhSoUMHrj6L9Wj14ABgD3LplN5cRI4CyZe3GeuPDD4F16+zGjh4NlCkT9NMDvlbVqgF9+9rNRfp16dcPqFrVbuyQIcDXX7P++Uiv1bZtQMqUdgfq149eVyFct2+rAFRYqAAUoFWsWMDx4/YHOHRIVgD+/LP9+HPn5ATgkCFRLtZR3lc//ww0bizz7xUpAkycaD++Sxfg++9l5tK8OdC6tf34Pn2AatVkPoejRwOlS9uPHzQIqFiRPw8A2L4dSJHCfvywYVFuKhyi/Vrdv08C8PZtu7mMGhUt0RWQdOmA9evtxkZT5Ad8rapUIcFig/Tr0rcvUL263VgvN6HRJdJrtWUL8N57dgcaMIBeVyFcN2+qAFRY+BSAoaGhYm/U/98JjRMHOHnS/gCHDgGvvy4zmcaN+QIwRgyZuXi5+47yvvrlF+DHH2X+vcKFgUmT7MeHhADffSczl2bNgDZt7Mf37QtUrSrzOeRekAcPZq+ivISzggIAw4cD5cp5/VG0X6t790gA3r1rN5fRo3krq56kTQts2GA3duxYoGTJoJ8e8LWqXJkEiw3Sr0vv3kDNmnZj/bxfgiXSa7VpE5A6td2BBg0CvvmGNRd3XNevqwBUWPgUgEo0iBMHOHXKfvzhw0CCBDJz+fFHElW2nD9PF0UJghEO7drJCcBChYDJk+3Hd+0KfPutzFyaNgV++sl+fL9+cqsFI0fytuS8rORas3UrkCqV/fiRI4GvvpKZy9279F63Pf+NGRMt0RWQNGlIYNgwfjxQvLjcXCpVoq1/G6IpRgPSsydQq5bdWO5735ONG+nvZMOQIXIr6QBcf/+tAlBhoQJQgtixgdOn7ccfOSIrANu1sx//119yAjCYrcN27YBGjWT+vUKFgClT7Md36wbUrSszF24tZv/+tAojwYgRPNEksI32Es4WGiC7vXjnDr3X792zGz9uHFCihMxcAFpZ2rzZbuyECUCxYnJzqViRbuBsGDdOVoz26AHUqWM3dtQoXvmDJ+vX01a9DX7qV21wXb2qAlBhoQJQglixqHnCliNHgPjxZebSqBHQvr39+AsX5ARgMM0D7dsDDRvK/HsFCwJTp9qP797d/kLjCXcrfsAAue0i7jbYsGHsbbSXbN5sv4UG8OsZ3bl9m97r9+/bjR8/XlZ0vfceCWQbJk2iJigpKlSgFSsbpMUo58aM2wDlydq11Kxjw/DhcjdSAFyXL6sAVFioAJQgRgyqnbPl6FEgXjyZuTRsKCMAw8L4cxk4MLCI6dAB+OEH/r8FAF9+CUybZj++Rw+gdm2ZuXC34iU7b/00TgTF8OFy266bNtlvoQGyF/Rbt+i9/vCh3fgJE2RFV6pUVCNpw+TJVAMrRfny9L6xYeJEasiSomtX+9pc6VXaNWuAjz6yGytZvgDAdfGiCkCFhQpACYyhrVNbjh2TE4A//ECiypaLF+n3efGCP5cBAwJvY/76K9CgAf/fAoAvvvjvCMBGjXhb8ZKdt9ytJ0lbjw0bqNnBFsn6shs36L3+6JHdeGmhkyIFdUnbMGUKlUBI8dVXJPxtkBajXbrY2zNJr9KGhgIZMtiNjaZVTyBcf/2lAlBhoQKQS1gYXUQuXLA/xrFjwGuvycznhx9IVNly6RL9Ps+f8+cSTB1bx45yAvDzz4Hp0+3Hc4rNPeGuxEp23nK90EaOlLtwcWqoANkVnevX6b3+zz9246WFzrvvkk+iDdOm0Qq4FGXL0t/dhqlTqRxDik6dgPr17cZOnCi7SrtqFfDxx3Zjx44V3Y52nTunAlBhoQKQy4sXdBG5dMn+GMePA3HjysynQQOeALx8WU4ABtPJ2rGj/cndkwIFgBkz7Mf36mVvN+EJdyVWsvN28GDeaqJkIf26dcAHH9iPnzBBrsHg2jV6rz9+bDd+yhRZoZM8ObBrl93Y6dNpBVyK0qXp727DtGmyc+nY0b5MRFqkr1gBfPKJ3djx40W3o11nz6oAVFioAOTy/DldRC5ftj/GiRNyArB+fTph2uIIwGfP+HMJ97LzS6dOcukbBQoAM2faj+/dG6hRQ2YuXCEu2Xk7aBCvnlDS141TRA/Iruj8/Te9158+tRs/darsqluyZMAff9iNnTmTVsClKFWK6i1tmDFDdi4dOtg3ikmvRi5bBmTJYjd24kTR7WjX6dMqABUWKgC5PH1KF5ErV+yPceIE8OqrMvOpX59ElS1XrvAuiu707Rs4+qhzZ7n0jc8+A2bNsh/fp4994oAnXCEu2XkbTDOOPyT97n7/HUif3n78pElydXfOe932Zkd61e3tt4Hdu+3GzppF738pSpSgLUsbZs6UnUv79vZeodKrkUuWAFmz2o2VfO8CcJ08qQJQYaECkMuTJ3QR+ftv+2OcPAm88orMfOrVI1Fly9Wr9Ps8ecKfS3icmV+6dJFL38ifH5g92358MII1WOrV4wlxyc7bYJpx/CFZd8fpogRkt/S45Q4zZtCqsxRvvQXs2WM3dvZsev9LUbw4bVn+F+byyy/2eeHSq5GLFwPZs9uNnTJFdDvadfy4CkCFhQpALv/8QxeRa9fsj3HqlJwA/P57ngB0tsUkBGDv3oFX1CTj1z79FJgzx348J3TeE64Ql+y87d+flyoimTKxerV9FyUg2+3qNDzZdrxLr3QlTQrs3Ws3du5cIF8+ubkULUr1ljbMmSM7l7ZtKVnHBumV0d9+A3LmtBs7bZrodrTr6FEVgAoLFYBcHj2ii8iNG/bHOHWK4uQk+O47WlWzxRGAtoXx7vTqFbimLiRELn4tXz66ENrCFUrufP897+8g2XnLFbaSfnehofZdlIBsTZdjeWTreTlrluxK1xtvAPv22Y2dNw/Im1duLkWK2OdqS8/lp5+A5s3txs6eTTeGUixYAOTObTd2xgzR7WjX4cMqABUWKgC5PHhAF5GbN+2Pcfo0xclJ8N13JKpscTojba0x3Ammq7ZrV7n4tbx56eJjC3er1B3u30Gy85a7tS3pd7dyJZApk/346dPlGi+4sYdz5siKiyRJgAMH7MYuWADkySM3F06u9vz59iLJG61bAy1a2I2VXhnliNtZs0RLBlwHD6oAVFioAORy/z5dRG7dsj/GmTNyAvDbb3nCg+uN5k4wvnrdusnFr/2XBCD37yDZecttbpk0Sa52iWOjAcjWdJ0/Tyk+tsydK7vSlSgRcPCg3diFC4FcueTmwolVlJ5Ly5ZAq1Z2Y+fPlxXGnO3tOXNEV4xd+/erAFRYqADkcu8eCaY7d+yPceYM5QlLULcurarZ4ghA23QEd3r0CCwAu3eXS9/Ik4dO+LZwu2Xd4f4dJDtvufY2kyfL1d0tXw5kzmw/fuZMuVWUc+eAmDHtx8+bJysuEiYEDh2yG8upTfMGJ1Xnt9+AHDnk5tKiBdCmjd3YBQtkxSinwWXePNHVSNfevSoAFRYqALncvUuC6e5d+2OcPcu7ELlTty6tqtnixGPZ5qO6E4y4k4xfy52bTvi2cP3y3KlTh/d3GDtWrvOWa3AtaXjM8VEDZIv6z57l3Xhx6sG8kSABcOSI3VhOd6o3Pv/c3lRdei7NmlEdoA3SwphzAyK8Gunas0cFoMJCBSCXO3dIMN27Z38M7kqEO3XqkPCy5eZN+n0ePODPJZjt3WBWCYMlVy7afrKFm5jhTu3avL/DuHFynbfciDtJw+OlS+191ABZi5HTp3nNVwsXyoqL+PGBo0ftxi5ZAmTLJjeXzz6zN1Xn/o09adoU+Plnu7HSYpTj/bhwoegNg2v3bhWACgsVgFxu3SLBdP++/THOnePVIrnDFR7O7yMlAAM1ePTsKRe/ljMn3fHbws3MdadWLRK3tkiG2HNXWSXNdLlCZe5cucYLrv2S9FZnvHgUC2nDsmWyoovjqblsGW+b35PGjYF27ezGSotRzs3QokWiNwyuXbtUACosVABycVbMOFum58/zuhHd4QoPCUHrEEyHbzBWMcGSIwedZG0ZOlQuf7dmTRK3tkhar3Tvzmu0mT5drvGCuyIjaTFy8iQvgUd6dSluXEoFsoFbW+lJvnz2nprcRh9PGjWiNBAbpMUox4dyyRLR94tr504VgAoLFYBcnJo5TtME147CnVq1eMLj9m3+lrZDMB5/wZhFB0uOHHRRtmXYMLn83Ro1SNzaImm9EsxKrD8kEy+4qyCSdVTcDG5OLJg3Xn2VRKkN0qKL01G/ciXP69GThg3tc7WlXxdOnJvwKq1r+3YVgAoLFYBcJHzzJAUgd+XJqWmUeE8EE/Mmmb+bPTtPAA4fLpe/W706iVtbJK1XunblmW1LJl5wLUIkGy+OH6dtV1uWLuU1tHjyyitUl2jDqlWyoit3bvuO+tBQIGNGubk0aGCfqy39ukyYYF+asWKF6Gqka+tWFYAKCxWAXCSi0y5c4CUSuMNdeXK6mqUE4Pff+39OMHnBwZItG63K2DJihFz+brVq9LvZImm9wo3bk0y84Ao4SY+5o0ep8cIW6e3F2LHJEsoGadHFaahavZqX9+xJ/fr2sYqhobzoQU84udhcE3QPXJs3qwBUWKgA5HLlCgmmp0/tj8GNpHKnRg3eypOErY1D586UieuPvn3l8nezZqVVGVskBWDVqvS72SJpvRKMEPeHZJwWdwtX0tbjyBGyXrFFensxViyyprFhzRpZoZMjh31D1e+/A+nTy83l++/tTdXXrJEVoxx/Tm4MogeujRtVACosVAByuXyZBNPz5/bHcASgbSi9O9Wr81aeXC6+sbVDp06BBWC/fnL5u1my0KqMLSNHAmXLysylShX63WyRtF4JRoj7QzJOi9vEsXixXOft4cPA66/bj5eudYsZkxrCbJAWXdmz2zdUrV0LfPCB3Fy+/dbeVH3tWuDDD+XmMnq0fUSjsEh3rV+vAlBhoQKQi4R4u3SJLyIduFuPTrLJ7dv8uXTsSNs3/ujfXy5+LXNm6oa0ZdQooEwZmblUrky/my2S1iudOgX+O/hDsvOWKyYl/e4OHaL0DVtWrZLddjWG6oFtkBY6nHKK9euBdOnk5lK3rr211bp1snPh3CSuXSsq0l3r1qkAVFioAOQiUb8nsYrowN16dLKNJQTgr79SAbc/JPN3P/mEtuVs4dzde/LNN/S72cIxnPWkY8fAfwd/SHbezpnD206W9HU7cABInNh+/OrVstuuxtD5xAZp0ZUli305xcaNQJo0cnOpXdve2mrDBiBtWrm5cBrF1q8XXRl1/f67CkCFhQpALhIdvI4AfPaMP5+qVXlbj44AvHWLP5dffwV++MH/cyTzd7kCcMwYoFQpmbl88w39brZIeu8F83fwh2SeKjfJgxsl587+/UCSJPbj16yRW9EJC6PP3aVLduOlhQ5nNX3TJiB1arm51Kpl39i2aRPw/vtycxk61N4qauNG0b+Ra/VqFYAKCxWAXCRSPCQaSRyqVOFtPT54QHO5eZM/lw4dghOAUvm7mTJRXZYtY8faF3h7UqkSZQvbIum916EDeanZIhl5NmsW7/eSNDzetw944w378b//Lrft+vw5fe4uX7Ybv2mT7Kpbpkz2N1NbtgDvvSc3lxo17MtapOfCSQvavFlUjLpWrVIBqLBQAciFGygPAFevyglAbu3Zw4dyArB9+8DCY9Agufzdjz+muixbOBYPnlSsSNnCtkh677VvT2kKtkhGns2YwVvZlOy83bsXSJrUfrxks8OzZ/S5u3LFbvzmzbKrbpzP0tatQMqUcnOpVs2+rEV6LoMG2d+wCotR14oVKgAVFioAuZw+Tf5dHBwByPESdKhcmVd75gjAGzf4c2nXLrDwGDxYLn83Y0ayWrBl/HigeHGZuXz9Na0W2CLpvdeuHfDjj/bjFy2Si7Di1jauWiXnpfbnn8Bbb9mPl6y7e/qUPnd//203XnqlK0MG+8/S9u1AihRyc6la1f6mVnounJrlbduAVKnEpuJatkwFoMJCBSAXbqA8EGEm/fgxfz7c2rNHj2gu16/z5xKM8OBsqXiSIQMV5tvCcfn3pEIFngCU9N775RegcWP78YsXy3XeTpvGs7eRNDzevRt4+2378Rs2yG27Pn5Mn7tr1+zGb9smu9L10UdU42jDjh1A8uRyc+Hc1O7cKTuXfv3sfUt37BAVo64lS1QAKixUAHLhBsoDEXFyEgKwUiWeAPznH96FyJ1ghMfQoSSWJOBctABZAVi+PP1utsyZI+e99/PPQJMm9uMlM2+nTuUZXEt23v7xB5Asmf34jRvlarqcz53tjZf0SteHH1KNow27dgHvvCM3F0497a5dvL+xJ5zkol27RMWoa9EiFYAKCxWAXI4f5wXKAzJ5wg4VK/KaD7grEe78/HNwAtC2q86Tjz6yv2gBwMSJQNGiMnMpVw4YNsx+/Ny5ct57bdsCTZvaj5fMvJ0yhRdxJ5nswBUqknV33NrbnTuBd9+VmQtAtY3r1tmN/eMP3sqqJxUr2q+mc1d5Pendm5pSbOciKEZdCxeqAFRYqADkcuwYL1AeoLt+Y2j7lQu3+cARgLa1SO60bRt45WnYMHtfLU/Sp+cJwEmTgCJFZOby1VfkGWbLvHly3ns//QQ0a2Y/XjLzdvJkoHBh+/GSiRc7dvBE05YtcjVdTve9rf2S9Kpb2rRU42gDt7bSkwoV7FfT9+wB3nxTbi49e5Itje1cBF8X14IFKgAVFioAuRw5wguUB6jhQkoAcpsPnjyhuVy9yp/LTz8FXnkaPlwuf/fDD6kz0xauOHGnbFnKFrZl/nwgd26ZubRpAzRvbj9++XK5zluuyJZMvOBum0p2mHIN2Lnb2Z6kSUNb3Dbs2cPrrvakfHn7m6m9e3lWP5507w7UqWM3dt8+0dfFNW+eCkCFhQpALtw8USBCAD58yJ8Pt/nA6Ua0taNwJ5iVpxEj5AQgZ9sK4G9PulOmDMVG2SJpvty6NdCihf34FSvkOm8nTuTVWUqmKXAbJ7Ztk6u7czK47961Gy+96pY6NXkL2sD1V/Tkq6/sb6a4Zt+edO1K0XT/gbm45s5VAaiwUAHIhZsnClDdjzG0DcSFs10C8P3I3GnTJrAA5GRrepIunf22FcBvUHCndGnKFrZF0ny5VSugZUv78StXki+cBFyrHcnEi61beVu43C1kd+7epc+d7blYeqvzvfdoi9sGbsSeJ2XK2H+WDh4EEiWSm0tICPDdd/ZzEXxdXLNnqwBUWKgA5CJxsrt1S04Ali/Paz5wBKBtIoE7rVsH3nocOZJO8BKkTUsCwRauRYk7pUpRtrAtkubLLVuSCLRF0nqFa7YtmTPLbeLYuVOu7u7OHfrc3b9vN1561S1lShLINhw8yL8pdqd0aYpptEFih8adzp2BevXs5yL4urhmzlQBqLBQAchFYln/9m3eyd8dbvepE0llm0nqTqtWgbceR42iE7wEadPa1y0BfJNid0qWtL9oAbLmyy1akBi3RdJ6hRu3J5ntyj2WpMUI9yZQeqszRQqqkbRBWnSVLEnvGxskarTd6dgRaNDAbuzRo0CCBGJTcU2frgJQYaECkItEkbEjAO/d48+H23364gXN5eJF/lyC2XocPZpWyyTgFK4D/Jgyd0qUsL9oAbLmy82b03a8LZLWK2PG8P7ektYr3NVESYsRpwzEtg5Yets1eXLa4rZBWnSVKEGlAzZIuDS4w8nVPn5cdC6uqVNVACosVABykai9cbZ/pAQgp/s0LExOAAaz9cgVBO68/7594TogKwCLF6ftTlskzZebNaOGHFskrVdGj+at+G7dKhd5xq0n/PNPubo7pxHM1gtUohbZnXfeoRVOG6RFV7Fi1Dxkw4kTfJ9Wd4KJt/TFyZOic3FNnqwCUGGhApDL7t387jtuAbg7Zcvyuk8dAXjhAn8uLVoEFoDcLUF3UqemFSJbZs4EChSQmUvx4varFoCs+XLTpuTJaMvatXKdt6NG8Wo+JSPPuFm+knYn3DQg6W3Xt98maxkbJMzx3SlShOyDbDh5kh/V6Q4nVlEiNtQN18SJKgAVFioAuUj4bzkC0NYCwh2u/QhAc/nrL/5cmjcPXHs2diyvKcAdTuciAMyaBXz2mcxcihWjaDlbJM2XmzShVBZb1q3jCSV3uF3fkpFnXE9BycYLJw/8yRO78UePym67vvUWrXDaIBGP6U7hwmTRZMPp00CcOHJz4aTqnDkjOhfX+PEqABUWKgC5SDjwcz3A3OFYJjhICcBmzQLXno0bx7MFcSdVKvvORQCYPRvIn19mLkWL2m9bAbLmy40b09aVLevXy1mvcH0fJa1XuFvb+/fL1d1dvUqfu2fP7MZLb7smTUornDacOiUrugoWJIsmG86eBWLFkpsLx1T93DnRubjGjVMBqLBQAchF4oJ07x6d/O/c4c+ndGme/QhAczl/nj+XYGrPxo/nGQO7kzIlbRHaMmcO8OmnMnPhbFsBsubLjRoB7dvbj9+wQc56ZfhwXvbzzp3UoCABt7nlwAE5j7nLl+lz9/y53fjjx4HXXpOZC0Arm/v22Y09cwaIHVtuLl9+SR36Npw7B8SIITeXYJwNfPHXX6JzcY0ZowJQYaECkIvElpQjAG1joNzh+s8BdJI6d44/l6ZNAwvACRP+OwJw7lwgXz6ZuRQuTNFytkiaLzdsSN2LtmzcKGe9MnQomZXbIpl5y7W3kfS7u3SJzgEvXtiNl952TZyYVjhtOHcOiBlTbi6ff071uTb89Re9rlJwPDUvXqS5hIWJTMU1apQKQIWFCkAuEnmg3BxQd0qV4vnPAXTyPnuWP5cmTQI3H0ycSNulEnC8ywBg3jwgb16ZuRQqZF+3BACrVsmZL//wA/Drr/bjN22Ss14ZMoTyqm3ZvVvOe2/VKp7Ilmy84IoD4QYDJEpEAteG8+dlRddnn1F9rg3CootlqeSs8tqKfA9cI0aoAFRYqADksmUL35biwQM6Mdy6xZ8PxzTVIVYsGQHYuHHg5oOJE2m7VIJ337X3LgOA+fOBPHlk5lKwIE8AhobKmS83aEAGtrZs3ixnvTJ4MFCxov14yczblSt52+ySfnfclSrpbdfXXydrGRsuXJAVXfnzU3mGDc7Kqu3WuiecjnpunacHrmHDVAAqLFQAcpEwpnUE4M2b/PmUKMHznwNIAJ45w59L48Zkm+CPSZNou1SC5MmpRsyWBQuA3Lll5vLll/aF6wBtT0qZL9evD3TqZD9+yxZeZq47gwYBlSrZj5fMvF2xgtdoc/SoXOPF+fO8+jDpZocECUjg2uCsugmtdCFfPirPsOHKFVHRFdQ5zRfcTm8PXEOGqABUWKgA5CKRTfrwoZwA5BoQA7SScPo0fy4//hi4+3TyZNoulYBjXgvICsAvvqBsYVvWrJEzX65XjzJMbZEoc3AYOBD45hv78Xv3ynnvLV/Os9qRbLzgdohK193Fi0cC1wZuQ4snefLQ6rwNwqILjRrZd9Rfv87zevTANWiQCkCFhQpALtw0AQB49IhODDdu8OfDNSAGyMLh1Cn+XII5WU6ZIicAkyWzN68FgIULgVy5ZOby+ef2nYsAWZRwPOrc+f57oEsX+/Hbtsl57w0YAFSubD9e0ntv6VJe2sqJE3KNF9wtXOlmh9deI2sZG5xVt6dPZeaSOzd9Nm1wRJdtwoonnIYqJ+7v0SORqbgGDFABqLBQAchFwiTXEYDXr/PnwzUgBqiYXEIANmwY2H5k6lSql5MgWTJqErDlt9+AnDll5lKgAEXL2SKZvvHdd0BIiP14Se+9/v2BKlXsx+/fDyRJIjOXJUt4ecuSKRNcw2Lpuru4cUng2iC96pYzJ302bXAi9mwzlj3h1NM6me8PHiKRD90AACAASURBVIhMxdWvnwpAhYUKQC7cNAGA7k6lBGDRojIC8ORJ/lx++CHw3fLUqVQvJ8Hbb/ME4KJFQI4cMnP57DN76wpANn3j22+Brl3tx0t67/XrB1SrZj/+4EE58+XFi4Hs2e3HSxoec21cuDYynnDOAU6sndSqW44c9Ley4dYtUdHFKqdwEp8kMt8BuPr2VQGosFAByEWiVuvxYzoxXLvGnw83gQKgC5Ht3b87wdiPTJtG9XIScOKrAL4gcCd/fnvrCkA2faNuXaBbN/vxkt57ffoA1avbjz90SM57jyv4JTtvT5zg5edK193FiWNfB+ysugltdSJbNlqtteHOHVHRhe++sy+ncPxeJRKfALj69FEBqLBQAciFayYLRAjAv//mz4ebQAHQhej4cf5cGjQILACnT6d6OQnefNM+vgrgbwm68+mnFC1ni2T6Rp06QPfu9uMl8q4devcGatSwHy/pvbdwIW/L/+xZucYLbkOJdLcrxwnAqXWTWnXLkoWysW2QzFkHeKvpjtuDhN8rAFevXioAFRYqALmEhvINe588kROA3AQKgC5EEgKwfv3A9TIzZsgJwKRJqUvUFm5TgDv58tl7lwGy6Ru1awM9etiP372bttcl6NULqFnTfvyRI2RRIgG361syZuzoUZ6noHTdXcyY9mlATq3b/fsyc8mcmSx7bJCM2QR4N1OSbg8AXD16qABUWKgA5MI1kwWoW84YMgrlUqiQjAC07QB0p169wP5zM2dSw4QEnPxSgFYZsmSRmUvevPbeZQClb0gJwFq1gJ497cdLmi/37EnzsYUrlNzhGn9Ldt5yha1TdydkMcLKA3dW3aSuK5ky0XnWBkmTfYD3WXJqvSXcHgC4unVTAaiwUAHIhWsmC0QIwCtX+PPhRpABPA8wd4IpmJ41ixomJEiSxD6/FOD7wrmTNy9Fy9kiGb9WsyatvNmyZ4+c916PHrQiacuxY3Lmy9zoP8nOW+7WtmTdXVgYHevCBbvxLpfsqtvHH9NOiw3OqpuQ6EKNGlTGYIOz0yNR6w3AFRKiAlBhoQKQy7JlfNHw7BmdGC5f5s+nYEFeAgVAKyy2KQDuBOM/N2sWNUxIICEAuWLegWNeC8jGr3EuWgBtq0t573XvTttotpw4IWe+PGcObdXbIpl4cfAg5e/a4tTdSdidvHhBx7p40W68ZLY5QDXWq1fbjZV0WACog71PH7uxznleYqcHgKtzZxWACgsVgFwk6saeP5cTgF9+yUugAHgxUO4E0zE3ezY1TEiQODFw4ID9eInVXIfcuanGzBbJ+LXq1e0vWgBtq0t573XrRl3JtnDtUtyZPZt38yGZM3vgAM/eRtLuhHs+koy2BMhl4fff7cZK1lcDQNWqZGVkgyOsJc7zAFwdO6oAVFioAOQi0TnqnHAvXeLPR0oAHj7Mn8u33wY2IJ4zR04AJkpEKym2SNRzOuTKZZ9eAMjGr1WrBvTtaz9+/345772uXenGwJZTp+TMl7nlB5Kdt/v381ZZJe1OuCUpkslGAPmsrltnN9ZZdZMorwEoxWbAALuxzta67cqqB64OHVQAKixUAHKRMA/mbrm488UXvAgygGqRDh3izyUYy4S5c3nbcO4kTMib96pVVG8kASe9AJCNX+OsWgC0OsXZnnSnSxcqDbCFm5jhDrcB6epVuc5bbsaxZOMFd9XM2XYVqnVDunTki2mD5M01AFSqBAwaZD/eGGoeEsDVrp0KQIWFCkAuEvFhkneGn3/OiyAD+ELKIRgDYm4hvjuvv85buZSw9HHIkYNuDmzZvl0ufq1KFYpgs+XgQTnz5c6dqTnIFknzZa4FkWO9ItF5u2cP+VjaIml3whVw0tuuadKQLZINwqtu+PprYPBg+/ExY9p3V3vg+uUXFYAKCxWAXLheYgC/684dbgYtQBd7zlaqQ506wQlAjhWHO9zaRQlTb4fs2e3jqwDK35WKX+NsWwF0MyBlvtypE/lD2nLuHJkUSzBtGi+G8Pp1ucizP//keS1KNl5wt3AlXQ0AskPavNl+vOCqGypUAIYOtR8fOzYZiAvgattWBaDCQgUgF66XmIPUSapAAV4GLUDbfZxmCofatQObps6fzxfQDlwBuGYN8NFHMnPJlo0nAHfulItf++YbYOBA+/GHD8uZL3fsSAkxtpw/L2e+PHUqdc3b4livSHTectNWJP3uuE0ckk1tAHXDb9liPz5GDHtTa0/KlQOGD7cf/8or9hF7HrjatFEBqLBQAchl7lyZLUwpAfjZZ7wMWoAK/jl2Kg61agVOoJBYQXWIH5/nX/j77/xcZ4esWe3zSwHK35WKX+PWLR05Ime+/OuvlBFti6T58pQp5Jtpi2TkGTdvWbLxgruaKL3tmioV1cTaEiuW2KobypYFRo60Hx83LnWyC+Bq1UoFoMJCBSAXqS5WjvO+O/nz8zJoAb6fnkMwrvkLF1LHrATx4vESTNaupY5DCbJkIYsgW/74Qy5+rWJFXt2SpPlyhw5Aw4b24x3zZQkmT6boRFskI8927uTVfEr63UkYOUtuu6ZIQTWxtsSJI7bqhtKlgdGj7cfHiycTswnA1aKFCkCFhQpALlwvMQepbQopAciJVHMIJoFCoonGgZthvHYt8MEHMnPJnNk+wB6g/F2p+LWvvwaGDLEff/y4nPly+/ZAo0b24x3zZYn0jYkTgaJF7cc71isS58/t23ld35KNFxIdxTFiiDU7IHlyEsi2vPKK2KobSpYExoyxH58ggUzKEgBXs2YqABUWKgC5SGXZcsLX3fn0U1qV5PDGG2RLwaVGjeAEINdGxyFuXEqKsGXdOjkB+MknlCxiy59/8rpC3eEWrp84Qa+tBO3aAY0b2493zJcl0jcmTACKFbMf7wilu3f5c9m2jef7KJkn7qxscjwFY8aU23Z95x1aEbeFe15wp0QJYNw4+/FcpwI3XE2aqABUWKgA5MK1knCQOmHmy0d1iRySJiVbCi7VqweOIFu0iDpmJXj1Vd6d/vr15DkmQaZMlCxii2T+bvnywLBh9uMl0zd+/hlo0sR+vGO+LJG+MX48ULy4/XjJzNstW3jRf5KGxxKpIrFjk2WPBG+/TSvitnBLQ9wpVoxuHGxJlEjGYguA68cfVQAqLFQAcpk2jcyXucSKJXPCzJuXLwDffFNOAAaKIFu8+L8jADdsANKmlZnLxx9Tsogtkvm73M5FyfSNtm2Bpk3txzvmy0+f8ucybhyt6Ngiab2yeTOQOrX9eMdMXsLwWKK7OU4cet9I8NZbvPORVLQlABQpAkyaZD8+SRIZhwUArkaNVAAqLFQAcuFaSThI3THnzUveehzefJO2ILkEE0EmEaXn8MorvIvOxo1kOitBxoyULGKLZP7uV18BI0bYj5dM3/jpJ6BZM/vxjvmyRPrGmDFU02WLZObtpk3kd2eLZOethL8h92bMnaRJeSUpUslGAHWNT55sPz5pUpn6agCuhg1VACosVABy4VpJOMSOLdOplicPeetxeOst3paLQ9WqgQXg0qVkmSIBt9uPexF2J0MGShaxRTJ/l2tdceaMnPlymzZA8+b2469dk0vfGD2aujptefhQznpFYvVZqvNWIuEkblyxble2KwE3I9ydggXppt8W7mqmG64GDVQAKixUAHKZNIm2BbhIbZnkzk3eehzefptXdO1QpUrgDNqlS8kyRQLuKip3G86dDBkoWcQWyfzdMmWAUaPsx589SzWqErRuDbRoYT9eMn1j1Ch6bWyRtF6RqD+V6ryV2GaXrLtLnJgn4KRsrQB+1nqyZDI31wBc9eqpAFRYqADkwrWScOBuXzpICMBkyWQEYOXKgTNoly0jyxQJuIav3EJ8dz76iJJFbJHM3+V6l507J5e+0aoV0LKl/XinPu3RI/5cRo6k1VFbHj+Ws16R6ECXchK4fJl+r2fP7I8RP75c3R03m1zK1QDgJy0lT06m3wK4vvtOBaDCQgUgF24noYOUV1WuXGSuzCFZMpmTVDAZtMuXywlA7gVw61ZKHZAgfXpKFrFFMn+3VCmed9n583Lmyy1bkgi0xelQlYhfGz6c6iNtcbz3JKxXJFJopOqIJax2BO1O8PrrPDEp1dQG8H1W332Xcr4FcNWtqwJQYaECkAu3k9Dh1VdlvKpy5iRvPQ7vvMMzXnUIJoN2xQryzJOAuwW2dSvPi82dDz8kY2lbJPN3S5YExo61Hy8Zv9aiBdUB2iKZvjFsGFnk2OJ470lYr0jkUEslXjhpKxyzbcm6O27EI9dGxp18+Xg+qylT8lJN3HDVrq0CUGGhApDL2LG8TkIHKbPSHDn4ApDrvO9QqVJgAbhyJXnmScAVgFwzXnc++IC29WyRzN/lmtdKCAKHZs2oE9gWJ32DY1LsMHQomWTb8vw5zeXyZf5cVq+mulEOUp23EoJfKk8c4Cf8SO1oAHyXhffeoxtNAVw1a6oAVFioAOTC7SR0kOqay5GDzJU5JE8us01RsSIwaJD/56xcSZ55EnC7ILlxXO6kS0eF/bYcPSqXv1u8OJUq2OLEr0mkbzRtSl6AtkjElDkMGUIxebY43nsS1iurVvE/B1I3kefP82s+33hDzO4EcePyhK3UDS3Ar7F+/31qNhPAVb26CkCFhQpALtxOQofXXpPpmsuencyVObz7rsw2RcWKwODB/p+zahV55klgDK1W2bJjB/3uEqRNS9Yethw7Jpe/y00vcGrCJNI3mjShNBBbnPQNifi1QYPoPWqL473Hec85SKyES51DJLq+pdKEAH6DXIoUYtuu7BKbtGnJb1QAV9WqKgAVFioAuYwYwSskd5CyTciWjcyVOaRIQduhXL7+mlZZ/BEaKiMAJYxwd+6k1QIJ0qThneiPH5fL3y1alLrVbXHi1zhdoQ6NGwO//GI/3knfkIhfGziQ6lQ5SHnvrVjBb4bi1so5nDlDDSUc3npLxkwe4De3pEoltu2K7Nl5OywffMDbGXDDVaWKCkCFhQpALsOHU9QWF6mTt4QATJlSRgBWqBBYAErUPgEyUVi7dlEDjATvv88TgCdOyOXvcuOrJOPXfvwRaNfOfryTvnHrFn8uAwZQpzqHGDFkrFeWLeP7YUpFnp06xU9+kfISBcjeifMav/ee2LYr+/zKbQ5zw/XNNyoAFRYqALlwC8kdpHyzsmYlc2UOKVPK3DGXL0+vjz8kuh8BmYL8P/6ggnEJUqemZBFbTp6Uy98tXJgXXyUZv9aoEdC+vf14J31DIn6tf38yK+cQMybPe9JBIhGH65fncPIk/+bjnXfkGi+4zV3vv8/7LLqTJQuJdVu4/qBuuCpWVAGosFAByIVbSO4gdffOPUEBtGWyZQt/LuXKkdWGP9as4fufATICcPduWrmQgLvqILEK41CoEEUW2iIZv9awIdChg/34R4/k4tf69aO4Qg6xYsl47y1ZQtuLHKSsVyTKD6QayQB+nSW3HtedTz6h7XpbMmbkJQS54apQQQWgwkIFIJfBg3mF5A5SxqmZM/MFoNSWSblytEXuj99/p20RLs+e8T3Z/vyTapck4Iro06f5dVgO3PxSyfi1H34AOna0Hy8Zv9anD1CtGu8YUt57ixZRBz8HKeuVY8f4HehSjRcStb3p0vEsmdz5+GNqXLMlUybeeDdc5cqpAFRYqADkIlFIDpAAlNi+yZyZ0jU4pE4tIwC/+oqaZPyxdi0/AguIMOXlpDL8+SelBkjA3UY/c4ZWlyT48ktg2jT78ZLxa/XrA5062Y934teuXePPpXdvoEYN3jGkEnx++406TDlIWa9IeFBKNV5IrOwL1t0hQwZqXLMlc2beCqIbrrJlVQD+D6CrMeayMea+MWajMSaTn+cmNsbMNMbcNcbcNsZMN8Yk8njON8aYY8aYh8aYI8aYrz1+vtEY88QYcy/837xnjGnk499TAchFopAckKvf4W5RAPz6NYeyZQMLQIkMVCAilouTy7pnj5wA5HZSS1hxOHAD7G/elItfq1cP6NzZfrwj9CXyd3v1AmrW5B1DKsFn4ULymOOQNKlM5u3hw/wYQqldBGdln3NjJ1h3xz5W1qz8HZpwXKVLqwD8j9PWGPOXMeZjY8yrxphexphLxph4Pp6/whizxhiTxBjzhjHmd2PMYref5zXG/GOMqWCMiWWMqWiMeWSMyeH2nA2GRGcwqADkIlFHBMjV72TKRJ5iHLgdrA5lygAjR/p/zvr1tEXDRWJlaO9euohKwPVSPHdOTgB+/jkwY4b9eCd/VyJ+7fvvgS5d7MdLbPU79OwJ1KrFOwY3pcJh/nwgTx7eMaSsVw4epBtSDlKNFxI3dtxVO3e4q4nZs/NdGsJxlSqlAvA/zlljTFO372MZY64ZY2p6ee57xpgwY8wnbo9lCX8sZfj3k4wxCz3G/WaMGe/2/QZjTLcg56cCkEvfvvw6IoAE4IED/ONICMA0aWSKpsuUIaNsf2zYQEXaXCRqw/bto200Cbih7+fO8dMYHAoUAGbOtB/v5O9KxK999x0QEmI/XjJ+rXt3oHZt3jHixZOxb5o3j2LGOEhl3h44QPWEHKTOIc6NHedzza3bc4eb8COR1BSOq0QJFYD/YRIaEm95PR5fbYwZ4OX55Qyt5nny2BhTNvz/9xpjfvH4eXtjzJ9u328wxtwwxtwyxhw1xvQ2xsT3M0cVgBz69AGqV+cfJ3FiGQEocbKT6porXZqi8vyxYQNdLLg43aGcC8X+/UCSJPy5APz4qfPn+XmsDp99BsyaZT/eyd+VOE98+y3Qtav9eAm/R4du3YC6dXnHkLJvmjMH+PRT3jGkMm/37eN/DrhCyUGi61uiLMaBK2xz5eJntYfjKlZMBeB/mJSGBOBHHo/PMcaM8/L8WsaYq14e/9sYUyP8/08bYxp6/LyRMeak2/f5DNUSGmNMZkOicbaPOaoA5CJRRwTQCVeigy9jRv52R9q0MifvUqUCC8CNG2m7iIvEhUJi5cOB64P2119yAjB/fmD2bPvxTv6uRPxa3bokvGyR6Ap16NqVBCkHqe792bPp78RBKvNWohTigw9kGi8kjL8lrLEcuFvbefLwsoTdcBUtqgLwP4zkCmCZ8P8PZgXQky+MMU8N1SB6myOaNGmCVq1aoVWrVgiVqpX434JEHRFAAlCigy9DBr7PlJRtQsmSwJgx/p+zaZOMAJQwCD54kLbiJUiWjJeEcOEC/T5hYfy5fPopMHeu/Xgnf1cifq1OHdp65SCVvxsSQlvSHBImlKndnTWLVmo5cMsOHCS64dOnJ4snLhLRf1mzitXd4b33Ato7Ddg2AP229vP+w3z5aLvfktDQ0JfX6iapUqkA/I/jrQbwuvFdA/jCRK4BzBr+mHsN4AKPcZ41gJ44AjCul5/pCiCX7t3posZFysJBQgB+8IGMACxRAhg71v9zNm+mrmMuEisFhw7xi98duPVYFy/S7/PiBX8uefOyLjq4d4/mcvs2fy61awM9evCOESOGTP5u587UlMJBqnZ3xgxq1uEgFeEoYYj+0UcyhsfOzQdn9Tl7dmDxYv5cgICv8dPnT/F2/7eRsHdCuB57ua7mz0/b/QK4ChZUAfgf5ydjzHlD1i+vGarHu2h8dwEvM8aEGmOSGmPeNNQFvMjt53kNrRKWN8bENsZUMmQH43QBv22MKeF2/EzGmN3GmPk+/j0VgFwk6ogAOQsHCcsDqe2bEiWAceP8P2fLFrqr5uKsFHBEioT9hQO3I/PSJfp9nj/nzyVPHuoytcV5bSXyd2vVorIJDjFjyuTvdupEvoQcpMyXp08nux4OUt57u3bxIxElSlGAiPKDAA1I1x5cQ5cNXRDmbcU8Z06xurtAq6xLjy9FqkGpkHd8XgzaPijqEwoU4NXjuuH64gsVgP8DCDFU2/fARPYBTGXIp+8zt+cmNsbMMOQDeMcYM81E/eNWMuQD+MhQk0cFt5+9Z4zZFT72nqHaQG0C+b+JxDYSQAJwzx7+cSS2Xj78UGb7pnhxYPx4/8/ZsoUuXFycVSrOVtHhwxTJJ8Gbb/L+npcv0+/z7Bl/Lrlz8+qOJPN3a9QgA2YOsWLJ5O927Ag0aMA7htTK/bRpZNjNQcp7b+dOqifk8PHHfDcCIKID3Y8FUVhYGMrPLg8TYnDwby/b8blyidXd4Z13/NZZfj3na3Rc1xHzDs/De4Pfw/MXHjdwX3zBs2Ryw1WggApAhYUKQC5duvC3kQC+YHCQEIDp08sYpxYrFlgAbt1K2ypcJLaKjhyRE4DcFd0rV+j3efqUP5dcucho2BbJ/N3q1alznkPs2DL5u7/+StF0HKRu3KZMocxmDlLee9u300oXB6nO2yBMyKfun4p3BryDLyd/iZ6be0Z9AncF3B0/tb33n9xHnG5xcOrWKTx9/hRxusXB6VseMYHcVB43XPnzqwBUWKgA5NK5M6UbcJEycZWIPZJyzi9aFJgwwf9ztm377wjAo0f5EVgO3JWhq1fp93nyhD8X7haYZP5utWrknclBKn+3fXugYUPeMd58U+ZzO3kyULgw7xhp0sgYuEfjM/n8xXPv265SnbdODKGfHOpi04ph+K7hGL9nPPJNyBf1Cfny8Zqg3PFznt57ZS8S94lwEUg/PD1WnfKw5CpUiJfL7YYrXz4VgAoLFYBcJLaRADqxSJi4SjRwSBVwFy0KTJzo/znbt1NsGhenVojzXj52jIx9JeDa+vz9N/0+jx/z58I1n5XM361aldJzOLzyCnDqFH8u7doBP/7IO4aU+fKkSUCRIrxjSHnvBVGW8ejpIzRd0RQJeyfEtP1eVrSkOm+vXQv4OUgxMAW2/LUFV+5dQayusXDtgcf79NNPeTZI7vhZ2Z9/ZD5yjo3Icy4zswyG7RwW+UlFipDYF8CVJ48KQIWFCkAuEttIgNyF5IMP+BcBqeikIkXowuaPHTv4201AhFkxJ63i+HGK9pKA2xzgXPj8rHwEDbcLUiKOy6FKFaB/f94x4sYFTp7kz+WXX4DGjXnHkDJfnjCBSiY4SHXvB9GZP+/wPLw/5H1UX1AdtX/zkqYi1XnrrIT7KIW4+89dmBCDmw+pPjX3uNyYvG9y5CdxjdDd8WPX1WdLH1SeF5EL33JVSzRf2Tzyk4oVC3xTHCSuXLlUACosVAByad8eaNSIfxyub5yDxCpAxowy0UmFCwcnALkF50BQxeIBOXGCxIUEXHuQ69fp93n0iD+XbNl4qzFPn9Jcrl7lz6VyZWDAAN4xpPJ3f/4ZaNKEd4wATQFBM348NU1xkGreCsKc/Zfff0H9JfWx+vRqvD/Ey3Nz5JDpvHVqYX00Q+24uAPJ+kd0LDdd0RStQ1tHfhI3C9sdP4lNDZY2QLvf2738fuQfI1FqRqnITypRInBddJC4cuZUAaiwUAHIRWIbCZBbSZCIcZPKzixUKPB2x86ddBHlcusWXSgePLA/xsmTwKuv8ucC8A2CndonP8XvQZM1K7B0qf34Z89oLleu8OfyzTfAwIG8Y8SLR9v1XH76CWjalHeM5MllzJfHjSNxwEGqdjeIfO4iU4tg9O7RuPf4HmJ1jYWLLo9kFm7jkYNjh+TDD3Pi3okoNCWieWbg9oGoOLdi5Cd98YVY4wUSJiS/UC8UnloY4/dEiLs1p9fgg2EfRH5SqVKBvVGDxJU9uwpAhYUKQC6//MJfRQD40WEOEoXgUhYOBQtSd6M/du2SEYBBdAsG5NQpqi+T4PXXfV4ogsL5fTiC1oFbkP/8Oc3l8mX+XCpVAgYP5h0jfnxq2OHSpg3QrBnvGClSUB0rlzFjSBwEoNGyRmgd2hp/3fVihC1hAg/QNnK6dD5/HBYWhiR9kmD3ZSpZyTk2J2Yf8qixy51bpvPWMUT3kYjTZnUbNFkRcf797ehvyD4me+QnFSwo1niBBAl8Zj+nHpwa689G7L6cu3MOsbrGwtPnbtvXZcoEjscMElfWrCoAFRYqALm0bctfRQDkcjwlBGCmTDIWDsGceP/4g286C8ismJ0+TR2mEiRIwMuIdVY0OVvaDpkzA8uX249/8UIuf/frr4EhQ3jH8HMRjhatWwMtWvCOkTKljPny6NFA6dJ+n+KsthWdVhRZR2eN+gSplfu1a2k72Qdnbp9BnG5x8PgZNWa0XNUSjZd71FJy02ccAmRil55ZGiN2jXj5/d4re5GkT5LITypcWKzxwtfq85PnTxCza8xIwvz5i+d4pfsrOHnTrV61bFlg5EiRqbgyZ1YBqLBQAcjlp5/4qwiA3FaShBfYJ5/wBINDMJ5XErFTQIQA5NTMnT5NHnMSxI/PEylOTSOnqcWB68kWFiaXv1uhAjB0KO8YCRPyxLVDq1ZAy5a8Y6RKFTAbNihGjSJx4IeVJ1ci3dB0uHzvMmKExMC9xx7vjUyZZFbu16whL1AfzD08N9Iq24IjC5BldJbIT8qXTyby7Nw5Sn7xwftD3o+06nbnnzswIQZ3/3GzgwrGjSBY4sb1Wn968uZJvNL9lSjGzxlGZMCKk26fvXLlgBEjIIErUyYVgAoLFYBcJFYRALkg99Sp+WkA3BUjh2Bqb3bvJgscLk7TBKdr9swZWQHI2aZ0upolPpsSwsAYmfzd8uWBYcMCP88fiRLx6isdWrQgEchB4vMGkCj46iu/T/l5zc+ot4Q8R98d+C42nvNY6Ze6cVu9muoJ/cyj/pKICL3jN44jbo+4kf0A8+eXsV45e9bnZ/LBkwcwIQZ/34/cnZ6odyLsv+rWgR+MIX2wvPqq1w70VadW4aPhUV+zr2Z9hSE73Fa8K1Tgv//DcX38sQpAhYUKQC4SqwiAXC1R6tT8FYnMmWVMXD//nDJO/fHnn2SmyyUIv7CAnD1LMWMScBsVHF9DjrG1g8TWoDHA+fP8uZQrBwwfzjuGn07MaNG8Od3AcXj/fRnz5eHD6bXxQ57xeTD9AH2eys8uj/7bPOx0pMyXQ0PJCcAHxacXx6g/Rr38/uHT13ACTgAAIABJREFUhzAhBtcfuBmFf/YZMHMmfy5+yjIO/H0ACXsnjGJEnW1MNiw65uZ7GUwmebD4MCEfsWsESs+MuoXfKrRVZCuYihX5JRDhuDJkUAGosFAByKVFC/5FBCABuG0b/zjvvccXgFmy8LpGHYKxX9izR0YAOsbJnOSMANtN0YJrVeIkm3CyjR0yZuT7OsaIQa8Pl6++4m+BcU22HZo1oxKOABy5fgQT9/rYQkyTht91D9C2eIUKPn/seuxCrK6xcOEubcP32NQDVeZXifwkbre3w8qVdNPggwwjMiD0VOT305v93sSfl90SMqSsV06d8tmZH3oqFBlGZIjyeIU5FTB4h1ujUalS1GQjgY8c6tahrdF0RdRa8L5b+0b+O33zDTBokMhUXOnTqwBUWKgA5NK8OXUTckmZUkYApkrFL0qXupAUKBB4FWDvXnLX5xLAMDYozp8noSNB3LjkK2jLvXv0+9y+zZ+LRHdozJheL3zRRqIInhuz59C0KTVxBaDeknowIQbt17aPGnuWNq1M+saQIdQg44PQU6FIOzTCmmX16dVIMyRN5CdJmS+vWEHbyV4ICwtD/J7xcfha5BrM7GOyR151k8q89ePNOXnf5EgWMA5RVt1Kl6YaSwl83AjVWFgDvTb3ivL4lH1T8OXkLyMeqFKF74MZjuuDD1QAKixUAHIJchUhIBLCDZARklIxTsFsA+3bRxd0Lo5hLEcABug4jBY+aoWC5v59msutW/y5SPjDxY5NNZJcypThX4z9xHFFiyZNyAzaD89fPMfb/d/G2D/HIlHvRNh+waNMQyp9Y/Bg2h70wbCdw/DVrIgawVuPbsGEGNx4eCPiSdzIP4dly6gMxAtO8kakJgvQlvTQnW7NPcFYQAWDn3jGXpt7ofqC6lEeH7ZzGMrNdttOF+y89VULW3RaUUzYEzX3fNWpVZFXKSWiEMNxpU2rAlBhoQKQSxAXkaCQ6iaUEIDZssmsJOTPHziCad8+2tLjEiAxICguXJATgNy82gcPaC43b/Lnkj49PyHCR+1TtCldmr8d99ZbVDrA5ccfycfTD9subMMbfd/AsxfPUGZmmcgiB5BL3xg4kLYHfdA6tDWarYzsNpBuaDqsPu22spszp4z58tKldBPohcPXDiNBrwRRVkKbrWyGNqvddkKkrFeOHiXbHy80W9ksauoHgKXHlyLzKDcBK1F3CkR0w3uxQ8o8KjOWnYhaf7n3yl680dftBrd6daBvX/5cALjSpFEBqLBQAcilceOAF5GgkKjdA2SaSbJnl1lJCCaEff9+KurncvkynZyfPw/8XF8EMJ2NFlzB9PAhzeXGjcDPDcSHH5K3GweuoHUoWZKfhCCVm92oEUU5+qHtmraou6guAKDT+k6os6hO5CekTy+TvjFgAMXk+aDS3EoYuD1ygkrx6cUx9k+31zJ3bmDBAv5cFi+mm0Av+Kq767+tf6QcXBQpImO9cvgwmap7ofK8ylEbYQAcunYIr/dyG1O+PN96CPBriJ6sfzLsuhTVyP+S6xJMiIkwg65ZE+jdmz8XAK7UqVUAKixUAHIJ4iISFFJ2EhJ2MlJbSZ9+GtgL7MABGQEYIDLq/9kxHLhbpo8e0VyuXw/83EBIbFNyt7QdJDoypXKzGzYEOnTw+5QMIzLgt6OUabv42GJ8MsqjNk4qfaN/f6oP80HOsTmx4Ehkcff94u/RaX2niAfy5JFJ31i0iM4BXpiwZwKKTisa5fG5h+ci7/i8EQ8UKwZMiLolGm0OHSLbHy8UmFQAMw5EbTS5+fAmTIjBw6fhpvAS5uOAz0zsF2EvELNrTJy7cy7qkOdPYUIMLrku0QO1awM9e/LnAsCVKpUKQIWFCkAuQVxEgiJ1ar6BM0ACkJsoIhXkni8fMHeu/+ccPOjzBB8tJFbvHAHIWUV08NEtGDT//ENzuXaNP5d06fiNCtymFofixfmebFKxiT/8APz6q88fP372GDFCYry8eF+4ewExu8aMEBYAdVhLpG/07QtUq+bzx0n7Jo3cZQugy4Yu+HbxtxEPBPN5C4aFC2k72QshG0Jeroi6s+PiDiQfkDzigeLFZaxX/NwgphuaDmvPRF3ZfhH2ArG6xsL5O+G2RZUqyXTePn5Mn8m/I/sO3nh4I7Lg9OCNvm9gz5XwkoW6dYHu3flzAeBKkUIFoMJCBSCXH34AOnbkH0ciwQOQiZSTqiXKmzfwBenQIUp24CJRvyexjewQMybPNsXHxcaKtGn5ViVcWxuHIFeGHj19hKLTikYRPQDkYhPr1/f72T124xhe6/EaXoTRinBYWBje7Pcmdl50+7elcrP79KH6MC/cf3I/asMHaDWuyNQiEQ8Es+IeDAsW0HayF+ovqY9f10UVzZfvXYYJMS/j4US2+gGfTWJhYWGI1zMejlz3nraTrH8y/HEpfJW4cmWZzlvnpsxjVd6pi/RFxhEZsfJk+Hvku++Arl35cwHgSp5cBaDCQgUgl/r1gU6dAj8vEBIZvoDM6kiuXDK1RHnyBM4DPXTIZ41PtJDo4JVoJHGIEYNnnPzkidftJisk3ltcY2uHIGO55h2eh9d6vIZk/ZPh7G2PlVSp1Jx69fx+dpedWBZly9fTBJkds+fQuzdQo4bXHx2+dhjxe8aP0nix+vRqpB/uFtkWTNNVMMybR59dL5ScURKjd4+O8viLsBeI0y0OztwOL3soVYryjbns3evVJ9T12AUTYnD7kXebpE9GfRIRwValikznrVOX69GYtf7s+kgWPZ4UnFIQk/dNpm/q1QO6dOHPBYArWTIVgAoLFYBc6tUDOnfmH0fKUFaiPkqqmDyYmqTDh312+UULCQEo4SXowE3OcOqNrlzhz0VidZkbbedQpAgwaVLAp3016yt03dgV3y3+LqrVR8qUMqk533/v92I8eMdgVJgT2Zy5/dr2L+PYAMil5vTsCdSq5fVHy08sR6aRmaI8fuT6EcTrGS9CGAbjuxkMc+fSdrIXPhn1idduVwBIMyQNNpzbQN9I2P0AlBTkJSryxM0TeLX7q1F9GcMpPLVwhOiqVk2m89axZvLw5pxzaA4+nfCpz2FV51dFny196BupBQMArrfeUgGosFAByOW774CQEP5xJLbpADkBKFFMHoyQPHJERgBKmDhLpIk4cLNznz3z2XEYbSQajBIkoL8VlyDsQW48vPFyNWnVqVVINzRd5CdIeWYG+Ow2WdEEP62O7PE5/cB0FJhUIOIBqdScHj2oQcALI/8Y6TVm7N7jezAhBrcehXtFSqVvzJ5N28leSNwnMfZd9W7C/cXkLzB1/1T6RiLxBaBzWbJkUR7eeG4jUg9O7XNY1flV0XdruOirUUOm89ZHOs/QnUNRfnZ5n8Oar2yOVqHhmdNSJUMAXEmTqgBUWKgA5PLttzI1HRKF+oCMRUYwW7fBEMxW8tGjtLrERSLGTSJPGIjwC7twwf4YjuXEpUu8uQAyFkOvv06rtVwKFQKmTvX7lNG7RyP/xPwAgOsPrkfd6pOyTKpb1+9nt8T0ElG2O6MIDynT9O7dgTp1vP6o7Zq2aLy8sdefJeqdCPuvhsfiSaVvzJpFJu4e+KpFdIhky1KuHDBsGH8uu3ZRWYsHsw/NRr4J3lcpAfIIfCnea9aU6bx18rk9rpe/rvsVDZY28Dms5+aeqLmwJn3TqJFM0yAAV5IkKgAVFioAuUh1daVLJ5Mo8NZbtG3CIZjmjWAIppnEj9N/tDh7ljpvOVy/Tif4f/7hHefFC5+GsdE+hoQAlFgxS5iQOra5BCFSvl/8PTqui1glST04deRuTynLpDp1gG7dfP443dB0+P1MZJPnM7fPIHa32Hj+IrxRSCp+rWtXupn0QuV5ldFvq/catkhbsgULBhTXQTFjBm0ne3D8xnG/266NlzfGz2vCTfErVJDx3tuxg2o+PRi0fRC+nuM7Oq/7pu4Rno21a9MKK5fbt+kzef9+pIcbLG0Q6f3qSSTrnMaNgXbt+HMB4EqcWAWgwkIFIBepk4tUpJRESoKUnUQwdjLHj1OHKZczZ8h7j8ONG3SCf/SIdxwJ8SYhIh0k0mESJSJLDi5ffAFMn+73Kfkn5o/k71ZpbqWIGipArmPez2f36fOniNU1VhRvt8fPHsOEGFy5F16bKWWZFBJCW9JeyDM+D+Ye9v55LDWjVMQqZaFCMukb06fT38mD9WfXR80fdqPLhi74bnH47/D11xRvx2X7dnr/euBvVRQAxuweg5IzStI3dev6FfpBc/MmfSYfRrZ7KTe7HIbt9L3aGSmZpGlTmeQoAK6ECVUAKixUAHKpVUtme0EirQGgjjkJAShhJxGMofTx4z7D3qPF6dOUvsHBxwk+2vhJDAgaiW1kB4l0mMSJKbWFS4A6tbCwMCTpkySS/Uuvzb0ip0xIdcz7+eyeunUKcbrFiVjpc+Pt/m9HpD5IWSZ16UJNKV5IOSgltv7lfQW3wdIG6LA2fEsxyAabgEydSiu1Hsw9PBd5xnvvDgaAEbtGoOyssvSNlPfe1q20gu1B7d9qo9tG36Lut6O/IefYcC/Db7+VqdP2sUOQb0I+zDnk+3y569IuvN3/bfqmeXOZ7HgArgQJVAAqLFQAcpEqMJbKFE2alKwTOAQT4RYMwWyPnTghIwBPnZITgA8e8I7jNHBwO3i5jSQO0bBNGbZzGNquaYtnLzyscJIkIU82LgE6VZ2av/tPIrbZ1pxeE3nlKV06mYapGjWAXr28/ij0VCg+Gv6R159FSuWQ6pjv1Ik6RD0ICwvDK91fwcmb3lNYum3shtq/hTePFC0qk74xZQqtJnow8o+RKDOzjM9hkdJAvvlGxntv82ba8vfAlx2Nw5a/tiDVoHDhGKDbO2icJjGPGuG0Q9NGdD974fyd84jZNSbdTLRsCbSOml9sgyt+fBWACgsVgFyqVycTVy5SmaJvvMG/UEv5iWXLFlgAnjxJMWNcTp2ivFoOt255rfGJNj4io6IN10rGIUjj5GcvnuGdAe/gnQHvoOSMki8NkAHQ+4p7YwFQc4Gf99aWv7Yg5aDIW363Ht2K3O0qVS5RvbrPm7eRf4xEqRmlvP6swpwKGLwjfHtTqmGqY0egQdRGgrv/3IUJMbj7z12vwybvm4yCUwrSNxIpKwCtIhYuHOXhrhu7ek0BcYjkh1elCsXbcdm0ibb8PcgzPg/mHfb9ukeyiZGyXvFhE5WgVwKfhtQAmZqbEINrD64BrVqRCBTA9dprKgAVFioAuVStKmMy+tFHcgKQu1UX4CIdNMF0SEoIN0BGSPoo8o42jokzN8UjRgxemohDkObgq06twrsD38Wdf+4gXs94OHTtUMQPJUoLALq58LO6PH7PeK9Zs2/1eysi2UGqXMKPP1zHdR1Rf0nUFTmAOkxbh4av4kg1TP36K8VKenDy5km80v0Vn40XoadCkWFEBvpGImcZIKPuolH/Bs1WNkOb1W18Djt07RBe7xVu6l61qoz33oYNZJHlga8YOIfbj27DhBjce3wvYORf0HhJCnr49KHfzmiHuD3i4viN40CbNkCLFvy5AHC9+qoKQIWFCkAuUne6UqHySZLICEAJQ9msWQN7pEnU7gEyW8l37tAJ/t493nGcGDdujm/MmLw8YYcgvSGrL6j+souz0JRCGLN7TMQPJbrLgYBxZW1Wt0HTFU2jPB5p2zV9eplyCT83b/WW1PPZ2dlvaz9UmV+FvpGql23fnixCPNj619YoK6Lu7LmyB0n7JqVvSpYExozx+dygGT+eIvs8qL6gOnpv8V3u8vf9vyPi4KR2RtavpxVfD5L0SeLTjxCgrfPY3WLj9K3TJKzbt+fPxUve+IW7FxAjJEbk1XIvJB+QHDsu7gDatgWaNePPBYArThwVgAoLFYBcKlcGBg7kHydDBiA0lH+cxIn53ZoFCsgYymbJEjgl4fRpfvcuINNN7MPnK9r4yAyNNrFiUXczlyC8IR88eYC4PeLi8DXy+uu4rmNEbVmQxwiKfPn8bpmWmVkGI3ZFNRCuOLciBm0PbyqQWi2vXNnnzVuZmWUw8o+RXn826+CsiOSHACuaQdOuHfDjj1Ee/u3ob8gxNofPYY4Aef7iOVC6tEz82rhxtJroQbFpxTB+j+8t5qfPn8KEGFx0XfRbXxkt1q6lFV83nr94jhghMXDhrv8GqZei68cfZaxXvKQNHfj7ABL3SRxwaKaRmSia7pdfgCZN+HMB4IoVSwWgwkIFIBepbreMGeUEINevTSpRIHNmYPly/8+RsG8BZPwEHaf/u97rrYLm0SM6zg3/20IBiR2bBDKXIFbvdl7cibf6RURurTq1KnK+qUTCDBAwHtDX1l7LVS3RYlX41lnGjDKr5X4aFXKOzYmFR71390aqU5RaLf/5Z6/CIJKdiRec+rLrD65T/NpI76I1WowZQ6uJHmQbkw2Ljvnv6k/SJwn2Xtkr546wZg0JfjduPrwJE2Lw4In/Zq2so7NiyfEl9LpKWK+cOxclbWjDuQ1+c4AdCkwqQNZG7dt7Ffo2uGLEUAEYDeIbYyoaY1qEf580/Ot/MyoAuVSsKON39fHHwKpV/OMkSiQjAAN4tQXFJ58EFoASBs4AJYpwBeC9e16jnqKNj9D4aBMnDtVIcgmifm/i3okRzQSg5oMYITFw9X54I0uQdYQB8dM1+/T5U8TsGtPryk4k41+pz4qfm7d3B76LbRe8eyc6XZ3PXjyTWy1v25Y84jzotrFbhKGxD+L3jE9NCFLxa6NH02qiB/7saBzSD0+P1adXk8m2hEH+6tUk+N0IlAPs8HLFsmlTGesVL+eqSHYzfnjpFeij1tMGF4k/FYBB8Ikx5rIx5i9jzIPwx0obY+b9azP6b6ACkIuU4/3HHwMrV/KPkzAhcOhQ4Of544svZCKlPvkEWLHC/3MkItwAmUg5H2Hv0ebBAzrOrVu847zyCjW3cAnCGqh1aGs0WRF5BSrL6CwRdXdBdhIHJFcun755f939K0JYebDw6MKIC22mTDKfFR83by/CXiBW11g4e9t7/eXT508jtiCDMLYOip9+8lob1nRF0yh5xJ68P+R9bDy3keLXhg/nz2XkSFpNdCMsLCyikcEPn038jFa6AsTsBc2qVXRudGP7he1IPiB5wKE1FtZAr829yHuvje/mlaDxUq88ce9Er01LntRdVBddN3b12e0dbcLCVABGg3XGmFbh/38n/L8JjTEX/53p/GdQAcilfHmZzEupi5pEZuuXX8pESgXzO50/H2VbxYojR4AECXjHcAQgV7hJCclXX6XmFi5BWAOVnFEySs1bw2UN0XZNW/omGl6CfsmZ02dyhr8L++7Lu/Fmvzfpm2BuLILh66+BIUOiPOx4ET586tsQ/GV9mdRnpXVrr92hVeZX8RkD55B7XG7MPzKfzkUSN6MjRtBqohsPnjyACTG4+dD/qnaFORUwZMcQSjWRMF9esYL+3m4sP7Ecn4z6xMeACJqsaELiuWVLsl/h4sVpoP+2/hENQX5oFdqKShg6d/bq9xhtnj9XARgNbhljYoX//223x13/wlz+S6gA5FKunMy2i9RF7fXXSQxxkMoUDWar7vz5KIXVVhw+TL87B2fljrt1G82t5BsPb6D87PIoMrVI5OzZuHGpuYVLEJ3hqQalolUkNwZuH4iKcyvSNxJpIoDfdJj5R+Yj17hcXn927cG1CFEWTG1pMPgQTAf/PoiEvRP6HfqyvqxgQTJO5uLDH67glIKYut//Z7H0zNJkiuxD0EabYcPovOZGJDNjPzRY2gC/rvuVzJc7d+bPZfly+nu7MXX/VHw5+cuAQzuu64h6S+rRaythveIltajD2g5ouCzwlu7LbOKQEJ+JL9Hi6VMVgNHgtDHm7fD/dwRgSmPMyX9nOv8ZVAByKVtWpvA6mHq5YEiQQEYASlzUMmYMLAC9dNZZcegQbX9zcGr3uM0b0WwmGb17NDKPyoyaC2ui/OzyET947TVqbuESoDPc9djl1cts0bFFyDYmG30jkScM+E2HGbpzaOTf341IW5DBdJcHQ7lyXlfvV59e7TMFxKHotKKYsGeCXP6uj1Wqj0d+jFWn/H+G6iyqQ7FoFSvKNKQNHUqlLW78efnPiBVYP3RY2wE/LP1Bznx56VKyk3Jj8I7BEfWgfhi0fRDdwLRpQ9vAXLw0mjVa1gjtfg/cYfwyJq9bN4qm4/L4sQrAaNDPGLPcGJPKkAB80xizwBjT/d+c1H8AFYBcypSRsV6QWtWIH5/q4ThIXdSCsba5cEFGAB48SA0wHKS6dx07mSAFYLFpxTBw+0AcvX4UcXvEjehujBeP/7cEAjYGeXYAOxz4+wAS9k5IxfapUlEuK5ds2Xyag/+85mc0Xt7Y59D0w9Njzek1dIxA/pLB4KNpIpgVppeeeFL5uz7q1N7s9yb2XPHfwNNmdRs0W9mMupolLKkGD6bVRDciGU77G+qIswYNZMyXlyyhmwY3/Jl0uzN532QUmlLIZ4NNtPFSZlJ1ftWAW/QAWQd9NvEzoEcPapDh8uiRCsBo8JoxZo4xJiz864UxZkX44/+bUQHIpVQpGfNVqVWN+PH5q0aFC8tc1IIxt/ZirmrFgQO00sVByr/PMZQO4nN1+9FtxO4W+2XDwUfDP4povIgfn7+aCwRsDPLsAHa49/heRN3Xe+9RLiuXrFl9vs9rLqyJHpt6+BxadFpR6uoMJmM6GHys3vfd2hfVFlTzO7T5yuZoFdpKLn+3WbMonarPXjxDjJAY5Kvnhz5b+tB8K1eWyd8dNIhWE92YfmA6Pp/0ecChMw7MQIFJBajTtUMH/lwWLaKyATcaL2/80rDcH4uPLaYV7F9+ARr7vrEIGi+7DMWnF/frjeiw6tQqZByRkbwRa9Xiz+XBAxWAFqQwxnxhjEn/b0/kP4IKQC4lSwJjx/KPkyWLzKpGvHh8ASi1qhGMYe+lSySWXvh30g/I/v18ASiV4OFEygWRKDL9wHRkHR2xxdXu93aosbAGfZMgAb+hBwjYGNRmdRufK29v9XsLuy/vBlKnplxWLn5WugtNKYTJ+yb7HPr94u/RaX0nv3WE0aJ0aWDUqCgPt1zVEi1X+c9r7bGpB2r9VosSMyTyd5s2pZUqNyIla/jhZSdqlSoysZQDB9JqohvBbruGngql7fNGjWTMlxcupM5xN6rOr4q+WwPHzG06vwmpB6emeXhJWYk2Xm4yc43LFXHD5oddl3YhWf9klI5SowZ/LvfuqQBU2KgA5CIVwB5MbFowvPYav3GgSBHKA+USTGSXIwCf+y8uD8j+/dTswEEqwzcamcLVF1RHlw1dXn6/8+JOJO6TmLZdX3+db+kDBKwLrTi3IgZu9751mHd8Xsw9PBd4/31g40avz4kWfpqdXm7x+iBkQwjqLqrrt5M4WpQq5bV8o9qCauizxX+M2dg/x6LE9BJy+buNG9NKlRsH/j6ARL0DlzUsPb6UbiL8ZBtHi/79aTXRjV/X/YoGSwPbl7ysFfTy+1ixYAF5R7rxsv4yAC+beTp0kPHe27cvyjkm3dB0WH92fcChLzOd+/ShvxOXu3dVAEaDVcaYlV6+fjPGDDbG5Pr3pvavogKQS7FiMltAfmqjosVrr/GtQ6S2tT78MLAA9BKwbsW+fWR3wuHpU5rL1au849y6Rcd54D+pAKAi/+UnIlbE/nn2D2J2jUnbfgkT8k29gYB1obnH5ca8w97j2V7WuqVJA2zYwJ+LD2ugsLAwxO8Z/2UUnTdepmL48RKMFj5W74PpvH0Z0SaVv+slruz3M7/jw2Ef+hgQwfYL2/HuwHcpf7e376zeoOnXj3KS3Wi4rCHarw2cp3vm9hnE6hoLYU2bRFnRtGLePCBv3kgP5RibA78dDXwDcNF1ESbE4HnHDjLee3v3kqemG2/0fcNvJrHDy/SSfj2jvLZW3L6tAjAajDHG/GOMWWaMGW6MWWqMeWSMmWhIHD4zxlT512b376ECkEvRojLbpdmyydQ1xY3LF4BS21offkhZnv64coXE0rOo5r/RwsvJORjCwsJw61G479+zZzSXK1d4c7l5k47z0LePHAA8ef4EsbvFxrk75yI9/uGwDylNIVEifq4zELAs4J0B75CnnRdervykSwesD7zSERAf1kB3/7kLE2Jw5x/f1jkvRZefNJFo4WP17qPhH9Hr74eXcXA+VhGjTaNGFBPmRqTMYT+cunUKcbrFQVhNofxdL6tUleZW8rlK7M7tR7dhQgzuNWsoY748dy7waeTXIPXg1Nh0PnA5wkvvwk5tgHr1+HP580+KVQznRdgLxAiJgfN3zgcc+vzFc8pJ7t8pyuqqFTdvqgCMBnOMMeU9HisX/rgxxtQ2xuz/fzqj/wYqALkULizTMStV2P7qq/z0CKlt7Q8+ANat8/+cq1dJLD19yvu39uyhyLNoMmDbACTolQAnbp6IEICXL/PmcuMGHefRI79PO3L9yP9h76yjovj+/39pKQm7uwu7sFvswsKut50oKrh0gxKCWCgKiI2iiKjY2J3YYiuKgUjs8/fH3V2YzZmd/f70nM8+zuHA7s4Ml2V35zn3vl7PJ0w8TVAoZNY/Do4bjOCLwbTeSIV/HyuUlAX8KfgDHYEOMrMz5T6++fpm9NjWg93/kg0KMq/vf7wPE08TpfFe51+dR6XASnRGSEmeMGsUXOhY+Vjh5jvlz/vDTw9pHJmd/DpCzsyYIdM1u/7yetjttFOwQxFi8ZztMEoz+bve3jJ1al22dkH0DdXWUGJR9HLhZGpuzZe4OKBDB8Zd5l7muPNBdWmEUCiEgZsBMtbM04z33uXLNBNbxNffX6nYzVVd6wsAFt4WuBWwjEYQ8uXjR60A5MA3QoiO1H26pMgI2oAQ8v3/64j+DbQCkC/dumnGM09The2GhvzzY3v31kxdE5tZo/fvqVj684ff75K6OmfD48+PYeJpgoGxA9E0oilyfov9P3cxAAAgAElEQVQSPDLliyHWfPxIj/P7t9LNEu4myM0RdUp1orNuVlYqEzxYUaKEwouCZ1nPoO+mr9Dg99TzU6ixtga72Vw2KOgMZ7PcKZnpateWzgzxRU6pQ0FhAavOW8lM16C+mjGCnz6dxoQVw/OMJ8btHadyV7HQeTJ5iGbydz09gXHM39s0oikSH7KrUbb0scTNxePkGltzZudOmrcs4k/BHxABwdvv7Gbpy/qXxSXBdM1476Wn00xsEZLlbpYOBjXW1kBawDwZix21+PBBKwA58IQQ0k3qvq6EkGein00JMyHkfwWtAORLly6ayc1t0UIzhe2GhjSzkg99+mims7lmTfYCMFd5p6NKrlzhLAAHxg7E3KS5yCvIQ7OIZoi4HE7H8lr5yV8lHz6w+psEpwQ0HUCKmFsx1DPM2lplhi8rlFwUnH5xGlWDqyrc9cXXF9Bz1UNePRb1nGxQ0BkefSNapfee2JYmq1NrID6e/1jkdLt/yflCa7X+KK/fFAqF0HfTx9Ph3TWTvyvHOHnpsaWYm8TOv65CQAVcnNGfGg3zxcMDcHBg3FUlqArOvjzLavcaa2vg1LKRmknf2LED6FRkP8O2M1pMvdB6SHZ10Iz33sWLNBJRBFtzbDEtNrTAvoBpNIGGL+/eaQUgB2YSWvMXTQhxFX3/SQiZJXp8OCEk9m8M7C+jFYB80VQYvKY6Gw0M+AtATVnbsGkcYCmWVHLlClC2LOvN8wryYOJpIllKck1zxejdozUjAFnOao5MGCm32/Ta22uw8rGCsJQ1Xdrmi5LXxI5bO9Bhcwe5jwHFvOhsaqq29GGDgs5wrzNeRfY3ChCngTzoaUOXBvkip3wj40sG7dZkMatTPqA8Lo621UwW+JQpwJo1jLumHZyG1SdWy99eiqYRTZH4Xw/N5O+6uckIJjMvM6UNOsVpsaEF9i0fRL0N+bJ9O73IFiEuFWBLu03tEOc2SkbQqsX58zQRR8Txp8dRN7Qu6917bu+JzQHjZHKW1eLNG60A5EhvQkgMIeSk6HvvvzucfwKtAORLp050mYIvmups1NcHnj7ldwxNdTbWqKHUOiQnLwdPMi6xWi5ViVR9jsrNMy/DysdKUn936vkpVAysCCEhNJ2EDyzrGhuGN8ShR7KmyL/yfkFHoIN3Va3p0jZflLwmvM96w3638q7Esv5lcblDNdWm3myoU0duLSEb7z1A1ABg1xiIjeU/FjmRh5cyL6F8QHkFOzBpsr4JEie0lZsnzJnJk2XEG9vGC0DUuTyvk4yIVAtXV8aSaX5hPoiAKKwTlabHth7Y7NRXM+kb27bRMhsRko5nlvTf2R/r3QfJLGmrxdmz1BBdxK67u9B2Y1slOzAZmTAS/gFDaXoUX16/1gpALbzRCkC+dOyomZNRq1aa6WzU1weePeN3DE11NlavrtA8uKCwAHY77WDhVRKZ5qobJlRy6RKjPkcVgRcCaTaniJy8HBi6GyLDmtB8Yj6w6GzOK8ijS4hZ8oVZjbU1cMLGgs5s8kVPT+FrYvbh2Vh6bKncx8Q0i2iGgz0qq471Y4OCulCHfQ5KU0DEtI5qjYRh9TVz0dWlCxUYxUjOSEbD8Iasdu+xrQc2T21Oo9P4MnEiFV5Sx99ynZ3DwND4oVi7oC3g4sJ/LGvWUEEq4tOvTyACgl95yrvaxYxIGIGAlV01k76xdSudqRUhSdRgybi94+Dp3pta5PDl9Gn6mSZCYkvEkpmHZmKlf19qQM6Xly+1ApAjuoSQWoSQ9oSQDsW+/pfRCkC+dOigmXokTVlbKDnZs0ZBQgJnqlVTGB+29NhS1A+rjxExgzBgDIGQhWeeUtLTgQoVWG8+NH6oTJqA7RZbbG5OgBeqbR2UwsLb8P7H+zD2MJbpABbTf2d/hHY3ozObfNHVBZ4/l/vQwNiBWJeufAar746+iBxQQa59C2dq1pRbFtBvRz9EXFF90TEgdgDCxtSmtWF86dxZpn5XktnKgtF7RsNnZiMancaXCRNkGjjY+t0BNCVlzeLmMo0kauHiwrBNkZgYs2x2mJ44HatWd6DehnzZvJk264iIvxOPdpvasd59btJcLPXorBnz5VOn6KqGCO+z3irLFoqz/Phy/OfXha6w8OX5c2Tr6moFIEsaEUIek6IcYPH3wr85qH8ArQDkS7t2mulIbNNGM9YWSk72rLGz04wAVJAfm5ufC2MPY1x7ew1f3jxBmWUEqfd45iBLFWgrQygUooxfGZx/dZ5x/8rUlZg4hPB//ljE2x15fETpTMbcpLlYMsSEzmzyRUdHoai1ibRRKTImH5iMNSPLyDVw5oyCsoA2G9tg9z3Vr/8pB6bAeVJVzTRedeokIyTDLoVhYCy7Gq15R+Zh8dw6NDqNLw4OtPmiGDXW1sCp56dY7b7k2BLMW9pIxkpGLVavpk0pIiQxZixxTHHEbOcWmknf2LSJuhKIkCSwsMT5pDOmerShMXl8OXmSzmCLWJayDHOS5rDe3euMF8b6tmX8PWrz9Cmy9fW1ApAlKYSQrYSQCoSQr4SQ8oTWAf4vmj8XRysA+dK2LXWr50ubNpo5jpKTPWvs7IDwcP5jqVqV1s1Icer5KZQPKE9nFL58weTBBCuO8DSNvXCBtQB89PkRjNyNZDoJj2YcRe15hP8M6uvXVAAqmTGJuBKh9ETmd84PIx1K0JlNvhDFy9qlfEvRrF8lrExdiRkTrBRGuHFCQVkA20gtp1QnzJxRQWbpVi06dpRZSnZLc6NxcyxwS3ODw8JqNDqNL+PGyZg4W/lYsUqZAKhlzHjHOjJm0mqxahX1JRRx7Mkxmu/LEu+z3hjj0ohxDLWJiqKuBCL8zvlh1G72Yi7oQhCGeTSRyTZWi9RUWsMqYnridKw6wV5wh18OxwCfZowZTbXJyEC2oaFWALLkCyHEXPTzN9H3UoSQ+39nOP8MWgHIF00t3WpKSOro8K9hGzBAM95mVaoA587J3L3qxCqM3zee3sjKQnQzgvYb2vD7XRcuAJUqsdo0/k48Wke1lrn/dfZr6LoQ5D5WHJvGilevqOhSglOqE2YkKj5Bxt2JQ7v/DOjMJl8UNLb8yvsFIiB4/0N59nHopVAMnGEOHD6sdDtWKCgLsPC2wK33qlNPgi8GY8jc0prx3uzQQaZ+d1HyIixKXsRq94grEei7tDyNTuPL2LGMGDcuKROAyDTaqZpMnJxaODkxZu+4LrtGXolE3zW1GLOIahMZSWuSRbDNJBaz9cZWdHOvDQwbxn8sKSnUxkiE/W57+J1j/7+PuRWDTt51GTWNavPoEbJLlNAKQJZ8JrQGkBBCMgkVgzqEWsH8L6MVgHzRVPeuppaSlcz2sGbgQM14m1WuTK0TpGi3qV1RqsDXr3hmSaDvps+6yFwuUhYNynBNc4XDPllbCKFQCNOVBHev8lzqfPlSpQAcu3csPM8oTm04/+o8Ki7TpcKWD0KhQmubp1lPoe+mr7AOUcyee3vQcoExkMjOCFgpcmaFxV2mb76rTmCJvR2L9otKaiZ9p317GTuZifsnwi2NnZdewt0EtFluDfj6qt5YFWPG0Ag2EeJ0j2+/v7HaPe5OHDqsLA8sX85/LCtWMOr3Iq5EoN+Ofkp2YLLr7i60XVNJM+kbERGMpom5SXNVNi0V58CDA7Bxr6QZ8+XkZGpkLqLvjr6IvMLeLSHxYSKaeVWl3ed8efAA2SYmWgHIkguEkNainw8TQnwIIU6EkEd/bUT/BloByJeWLTWT4NGunWaaSTRhYzJokGYEYKVKMgLw2+9v0HPVK0pa+PYNQkJQJbAyUp/ySJo4d47OOLJg7N6xcD8tPzGh+SyCvSd4zn6+eKFSANpusUXMLcX+ka+zX0NnDUHeOflNNKwpLFSYbpL+Op2V5cn5V+dRcbk+cPAgv7EAcmeFP/z8wNrc98SzE6i13Fgz+dtyLroGxg5E2CV2///Up6mos9KcIdzUxt6eMZP4/Otz6LrqqhTnYpIzktFgtRWwbBn/sTg6Mjp42Xg0FiflSQrqCkoxOonVJjycrkiIcNjnoPC9K4/TL06jmpu1ZsyXjx6lWdYi2m9qj7g77P0o056nobpHaYavodrcu4dsMzOtAGRJT0KIrejn5oSQF4QuCw/8WwP6R9AKQL5oKsO3fXvNCUC+RsaDBmnG3LZiRZkZrMSHiUzz1OxsgBCMix8F55POUBspjy5ltIpqhYS78pfb7Ufpwms/z3rE58/pUrwSqgRVwZkXisVdQWEB9FwInqfyLC8oKFCYb5z4MBFNI5qqPMSzrGfQcyEo2K+Bme7KlWVeE/c+3oOppymr3e98uAMzZz2ZCDe1kFN20XFzR8TeZmfrdP3tdZRyNpKp3VOLUaMYtYTX316Hta81690vZV5CORcTYCn72TGFLFvG8PBzTHHE7MPsLV2uvLmCMgJTam3Dl7Aw+nkkYlDcIISks/9suv3+Nkq6ltCM+XJSEtC4seRmo/BGOPKY/WrBjXc3YOVmykg2UZs7d5Btbq4VgCzQI4Q0JTTvVwsTrQDki42NZpbGOnTgn26gZLmPE4MHa8bctmJFmRo2tzQ35myCSABGnV2HrtE8lkbOnKH1ZSoQCoUw9zJXWG/m0lMPk7bzrBd6/px2YysgvzAfuq66Kuu7qi7Rw+lDPGcj8/Ppa+KtbHbq5uub0WNbD5WH+J3/m9YKJmzlNxZA7mvizIszqBZcjdXuH39+pJ50GzRQo9q6tUznfcPwhkjOYOd3+OLrC+iu0UGhhwbyd0eOBAICJDdPPjuJmutqst4940sGDNfoQriYXf2iUpYsYaR4cG12yPiSAX2BLoQTNJC+ERLCmL3rsrULtt1k3wD0Ovs1iICgYIAGzJcPHQKaFl0wVQ6qjHMvZWucFfEs6xn0BLoQdlScvMOaW7eQbWGhFYAs0CU0Bk5X1Yb/g2gFIF+aNqUfDHyRU5DOGSXLfZwYMgRYu5bfMQDqyyfVxWq/255Z+/b9O0AILj1I5ZSrKcPp06wE4Nvvb6Ej0EFOnnzj6Z0tDNA+rLn64wBoF7GensKHX3x9AV1XXeQXKjaKBoCOswyxYzePWVGAppEQQtNJpPA+640xe9gZ5Fqu1MONnRqwO5Hzmtj/YD9abGjBaveCwgLoriF4vl4Ds25yzNfLB5THpUx21jvZudkgAoKv7hqwXhk+nOEnuPf+XrTc0JL17p9/fabCeJEG0jcWL2bk+I5IGIGA8wFKdpA/lh8OyhNmWLF2LaN+zybSBgcesF9xkeRHD+zFfywHD9ILfhElvUtKoiTZIH5eftrybHgDgBs3kG1lpRWALLlDqPWLFiZaAciXJk000x2piUQRsQCUs9zHiaFDNSMAy5eX8bFrvL4x8wP8xw+AEGS/ewEiIPj065N6vystjeHSr4hTz08pnW26Wt0I1l4W6o1BzNOnNJFFAadfnEaVINX1imMcTOC1naeVxp8/9DXxXrbTd3HyYsw/Mp/VYRosKYEj0RoQOnJeExuvbUSv7exP0KVXGeBq2Er+Y5HK3xYKhTQN5ksGq92FQiH01ujgqavqCDuVDBvGSBRhOzsrpqCwgMa1LdJA5+3ChfRLRI9tPbD5+mbOY3k1cQj/sQQHMzp4uXgjAvR/pCvQwfPBnfmPZf9+WvKDoi7tl9/YN9zlFeSBCAjeduZ5gQkA164h29paKwBZMpHQDGBbQkhlQkjFYl//y2gFIF8aN9aMQa6tLf94KyX1XpwYOlQz8VblyjFO9vmF+TBwM2CeYH/+pGP+8gUVAytyWlJhkJbGcOlXROSVSKViI9vSmJ8QBYAnTwADA4UPx9yKge0WW5WHWT6sJGZFDVK5nVJyc+nz++GDzENcCuq7zzXH5o0aSHYoV04m3cTnrA/rmUgAqLfcFMfWsROuSmnRgtHA9fPPTxABwZecL6wPUca5BK4INOB3J3XRFXA+ACMSuHnXlVxjiDuLNJB5u2ABnQUU0XJDS+y9z63+s6TACLcmaSDxIjCQ4eFn7WuN62+vczqEpasJbg5tz38s+/bRiwYUzf6y7dIWY+xqiAddG6veUBVXriC7dGmtAGSJsNiXOAFE/PP/MloByJeGDTUTkWVryz/eSkm9FyeGDdNMvJXUyf7Bpwco4VECBYXFItJ+/aJj/vwZ3bd1x8ZrG9X7XadO0ZgxFSxOXoy5SUqWyUxNUcGnjPpCFAAyMgBDQ4UPe5z2YNVVGdbXGnYh7P3X5PL7N31+P36UeahPTB9suLqB1WHGTS8Fj/UaiNMqW1Ym33hZyjLl/xMpOiyxQmyQBixGbGwYDVyvvr2CjkCH+fpUQb1VJXFMMJ7/WAYPZjRecfW7A4BqLiVxepEG/O7mzaN1gCJqrqvJyqSbMRZXK6RN1oDfXUCAJMVDKBRCz1VPYX62wrG4l8Lp4a34j2XPHlo3CvpaIQLCuktbTHkPS6T3qK96Q1VcuoTssmW1ApAl9ZR8/S+jFYB8adAAOHaM/3HkxFJxRkm9Fyek6pHURupkv+feHjSPlFr+KCYA5yTNwZJjanbgSsU0KcJupx1CLymxuDE1RZfw1th6Y6t64wCAx48BIyOFD89InAGnVNWJDYmdyqGJP/tGALnk5NDn95PsjCaXrNklE8pj7joNzOiUKQNcvcq4a/KByVhzag3rQwxcWA6hASP5j6VZM4a1za33t2DpY8npEO2dyiJuzXD+Y5GyXpqTNAfLUrhZujR3LosDi9j79Slk7lyGnQyXRBIxNm4VsX8qu0xlpfj5UYscFM3Qfv71mdMhmnpWRuJI1d3uKklIoJ3joN3o5l7mnA9Rz7sSUvrU5j+W9HRkly+vFYBaeKEVgHypV486xPOlc2cgRrEvHCvEAlBOvRcnhg/XTL6p1MneNc21KAFETDGBEnopFHY71ezWO3ECqK36g7VReCMcfqSkZtPMDBO3DoZrmqt64wCAR4+AEiUUPtxvRz+sv6w6a/lGy0qwcGdnj6KQYgJbGi5djD5jqsA+SAPLaKVLA9euMe4aFDdIuSiXYtLcKhD49Ve9oSqkGrhOPT/FqfMWAOyWV8F6Fw2IroEDGek7Y/eOhdcZbo0u3Z2rYetiDcy6zZ5NvQDBPZFETDf3WtgyTQOzbj4+1CQbwJvvb0AEBHkFeZwO0cm7LmLsFedusyY+nnpHgnpjVg5iZzxfnNZ+dbC7v+paZZVcuIDsihW1ApADQwkhhwghV0S3OxBC7P7ecP4JtAKQL3XrAseP8z9O5878A+6VFPxzYsQIhiWF2pQuzRCAo3aPgvdZb+Y2xZYojz89zvkELEEqp1MRlj6WuPnupuINzM2xOn4Gph6cqt44AODhQ8DYWOHDzSKasepk/NCoGoiAKOxYZkWxGsviCIVCGLkb4dHnR6wOs3lELXT3a6T+OMSUKgXcYM4mcfHeA4Al/9XCXB8NFPVLNXDtvb8XraK4iRaHZbXh4ayBZAc7O2B90UVB/539WV0kFGe4cz0ELdGAxch//0ki5cSJJNm53M4RQz2aIHiGBmbdvL1pTB6A+x/vw8TThPMhBvjaIGys6s8GlcTFUbcGAEceH0HD8IYqdpClZ6ANNg3kLhxlOHcO2ZUrawUgS2YRQt4SQtwIIdmi+5oQQs79tRH9G2gFIF/q1KGzT3zp0oW/AFRS8M+JkSM1E3BfqhRjtqfx+sY4+FAqTaLYmF9nv4aOQAe/839z/13Hj6sUgOIlJKUNHiVLIipxDaeuVBkePABMFJ+oyvqXZWU1Uli7FvQEuniW9Uz9sYi6rJGVxbhbYmHy+yurwyQOro8mXuySVpRiZQXcZArweqH1cOwJ+zIKrxkNMMaLvUWKQho1oua+Irh2IwPAgqWNsdi5Lf+x9O9PY89EcE2ZAIBpzs3gvISdnY5SZs6kecDgnkgiZpJnGwhmaaDWzdMTGE9XDS6+vogKARU4H2JcQAd4Omhg1m3nTlqrDZqP3H4T9xnx4es6Imio6vQdlZw5g+yqVbUCkCUPCTWDJoSQr6Lv+oRmBP8voxWAfKlVi9af8aVrV2Abe4NTuYjFlJyC/+L8Kfij/DhSqQRqU6oUcJ127AmFQhh7GOPBpwdSgymatRQKhTDzMsPt97e5/67jx+lsrBIefX4EI3cjCIVCxRtZWCD5eATqhdZTvI0q7t8HTOUv3eYV5EFHoFMUhaeMOnVQ0asULrzikQcs8lnEV6bQe/LlCQzcDJQ/F8W42L8pyrtzq4+Ti6UlcItpwl3arzSuvb2mYAdZNky1QW8PDYiLhg0ZHfx+5/xgv5ubd51gSUtMcm7Cfyx9+wKRRbmy9cPqszakFrPMuR3mLOM+KyXDjBnASmqzwzWRRMwC7y5YNFt1Ta5KPDyACRMA0Li7+mHc/+9zgnvBcVIl/mOJiaErNQA2XN2APjF9OB9icnhvrBnJw+9UTFoasqtX1wpAlnwt9nOW6LsuoXFw/8toBSBfatakFiR86doViI7mdwwlHZ9izrw4A3MvcwyOG6zY72zUKEYuqdpYW0uW+958fyN/dk9q2brFhhbYc0+N+LOUFFqPqYQTz06oXmK2tMT9s/th7GHMWhzJcO8eYGYm9yHxLCerOqa6ddHCvzZnCw4GoqQVfGPaVXCdTXnSqyX0BXrqPydiLCyA20UCv1BYyCoVpTh7JrVFS3cNzEY2aMDo4F9xfAX+O8zN6iZkcUcMctZAUX+fPkBUlORm+YDySH+drmQHWbydu2GsowZE1/TpwOrVALgnkohx8emLKXPZRTMqxc1NEim36+4utN3IfbZ1ZchgzJhWjv9Ytm2jn9MA/M/7Y9TuUZwPsXDDUCwabcV/LCdPIrtmTa0AZMllUpQFLBaAnQkhF/7OcP4ZtAKQL9Wr0xQKvnTrxl8AKun4BIDLmZdh5mWGwAuBmLh/IuqF1pNveWFvD/j68hsLwFjuO/PijPyiaanO5WG7hiHwghoNKMeOAfWVzw5sv7kdnbeqqB2zssKPqxf4eQHevQuYy+8QvJx5GWX9y7I7Tr16sFvbBuGXw9UbB0CFHyFUCBbj4MODaBbRjPVhsru2p4kKOVmqN1ZGyZLAnaL0hC85X2hqxJ8frA9xakJnVHflPislQ/36jA7+GYkzOEWeAcCORT1h66yBmq7evYGNRRZIXOozxUS62KHfcg2MZepUwJkm0Oy7v491SktxgvyHYdgCDSx1CgTA5MkAgKirUegd05vzIXzDx8J+Zin+Y9m6lX5OA1h9YrVCm57rb68j7bn8SQGXzeMxxaEk/7GkpiK7Vi2tAGTJYEKXe50JIT8IIUsJIW+ItglEKwD5Uq0acPYs/+N0704/YPggFoByOj4BWli+4jgt7v5T8AeVAivJn20bPZp23/HF0lIiAKNvRKPL1i6y20h5Fy5OXox5R+bJbqeK5GQ6o6MEVtFnollLa19rTsuSDO7coUJHDpyEV/36mBreB84necTBff1Kn9/v3xl3b7q2CT2392R9GGHnTjByNeAsSmQwN6cCWcTjz49VL8tLcXtcL5gLFNvssKZuXUYHP9fIMwA4smgAGrpoQFz07Als2gSgKHv5w09utby71oxAO6cy/McyZQqwZg0AYOuNregW3Y3zITYHjEOPRRp4XtasoeMBnXUbmSDf/udS5iW4pbnJvZCIjJyGvnN4pvsAwJYtQA+azjLvyDy5llUJdxNg4mkCC28L9N3RV2bFI3DbLAyfIn91gBMpKciuU0crADnQlxByjBDyjNCZP/u/O5x/Aq0A5EuVKsA5HqbBYrp3px8wfFBi+ZHxJQOG7oZ4870oJSToQhBabmgpe/IdM0ZzAlBU7+V80hmTD0yW3UYqvSQkPQQDYwdy/11Hj9KaLiXMSZqDpceWKj+OqG7RJtIG+x/sV76tIm7fpkudcoi4EoG+O1j66TVogNVRYzDtII94r6ws+vz+YJ4Yvc54sTKjltClCyq7W+PsS54XO2ZmdIlcxMXXF1ExsCKnQ7wdMwBEQFTXsqqiTh1GB3+PbT2w5Tq392D6whEo78LTqgegwkL0/n/7/a1adicpAgfUX6kBoTNpEp15AxB8MRhD44fK3ezVt1fYe38vPv6ULTnZEzwdrZZqYCzOzsA0+vpfdWKV3PfCytSVMPE0QbOIZrCJtMHb70wj/LhNC9F+gQZE16ZNQC/aJDRx/0S4pbkxHhYb3R9+dBhZOVlosr4J1l5kRmpuil2KXjMUOwSwJjkZ2fXqaQWgFl5oBSBfKlcGzp/nf5xiJwC1UWD5AQALjy7E6D3MJIcff37A0scSF19fZG48Zgy1X+BLsXqvsXvHwuO0h+w24vzizEwAdIasaYQa9hFHjqgUgEPih8h8IMsg6lweFDcIIekhyrdVxK1bVPzKweWkC6YcYJli0bAhwrb+hwGxA9QbB0BfC4TQ10YxFiUvwoKjC9gfp1s3NPeqxto4WiGmprRJRsShR4fQZD23Joo/o4aDCAje/eBpeF67NrUPEtE8sjkre57iPF7gAKM1GqiNLLYCcP/jfZh6cheVl11novxqDYiLiRNp7R0AwSkBJh2YJLNJ/J146Lvpo2pwVTRZ30Smm/z4ugWos5y7ZYsMq1bRphQAc5Pmysy6Pfr8CCU8SuDex3vIK8jDsF3DZC5sjkSvQsMlin05WRMVRWs1If+zZOahmZi4f6LkduLDRJT1L4uff4reewm7BWgzRwOz10eOILtBA60AZEk6IWQqIcT0bw/kH0MrAPlSqRJw8aLq7VTRsyewmX3gulwUWH7kFeTB0sdS7uyN/W572RSGsWMBL24mtHIpVu/VblM7+bYWUgLw1vtbKOldkvsJNSmJ2noooVVUK+y+t1v5cUTehXOT5qqeLVTErVu0/lEO0w5OY19n1qgR9sSs5OxNx+DzZ/r8/vrFuHv8vvHwPOPJ/jjdu6O3TyPW0XEKMTGhPokiom9Ec19iHD0aZgJD3P1wV/W2ypDq4K8WXA1nXpzhdIUYt6IAACAASURBVIjPC2eACAh+5f1SvbEyirkAnH91HpUCZbtWf+f/xuC4wWgQ1gDj9o5DfmE+4/FHbgtQwkWP3zgAwMEBcKcZ0fIuFD7+/IjSfqWRcDcB+YX5sNtpJ1ObdzlsJcquVByHyJqVK6ktDWh2tfSsm/1ue0Yt3pMvT2DoboiX315K7ju/wxuVlivO5mZNZCTt1gbQfVt3RlrQp1+fYOxhzPAYFQqFaLOxDfzPFzkqHDsQiPoL9fmP5fBhZDdqpBWALFlJCHlCCPlOCNlECGn7d4fzz6AVgHypUAFI59atJ5devSQ1QGojFoBSlh9pz9NQzr+cXC+vLde3yPpZjRtH/bf4Ym4uEYBl/MrI974TCumYX1NbFLHxLOdmg6QkoLHykPUKARVkZzulKVMGuHIFfuf81OryA0DrHhUIQLuddgi7FCb3MRkaN8b5eH+5YoA1nz7R5zeHaSbdO6Y3oq5GKdhJDj16YJxfO/mzuFwoUYImpYgIvBCIEQkjuB1jzBhUE1ji9AuezVc1atAMaRHmXua48+GOzGZ/Cv7gadZTuQ1TBQvngwgIO1sfZRTzAT386DAar2e+loVCISbun4i2G9siOSMZjcIbwTHFkbHNBw8nEAFBbn4uv7GMHy95/085MEXmAnHSgUkYGj9UcpGWnZsNcy9zxvv7UYQHjFx0+Y0DoIbU/9HO7EFxg7AufZ3koYefHqKERwmZ535EwggsSl4kuX03LgRmqzQwlogI6tcIoOWGlozZcO+z3uixrYfMLttvbmc00VxM2oAKyzQwlsREZDdpohWAHOlBCIklhPwmhNwhhCz4u8P562gFIF/KlwcuX+Z/HE0IQAWeb44pjnKXcQAgMzsTeq56TMFV7ATACzMz4O5dfM/9rjzDkxDg1SvJTUsfS87Zozh8mCY7KEDsv/fq2yuF2wCQ5BfH34lHu03tuI1BzI0btJlEDlzyd9GkCZ7u2Qh9N33ORrwSPn6kz+9vZjF688jm3Goce/bEwoBe3JaN5WFkRLOSRTilOmHmoZncjjF2LFq4VuS/HF29usTCKa8gD0RAGDWyAPAr7xe6RncFERCYeZnhxDMp0/dFi2DhYohb75nehpwpFgW549YO2G6xZTy8+95ulPMvJxnfw08PUdK7JE49PyXZJtfTTa3mERmKrQAM2zUMQReKcsG//v4KI3cjGT/POUlz4LDPQXL7fVSQZsTo8uXAnDkAgC5bu2DbzSKvVPfT7hgcN1hml4uvL8LMy0zSgPF6zxYQAZHveMCF8HBgAC3HqBNSB6lPi8oHWke1RvQNWReHLzlfoO+mL5mRvJ8SC5NVOvzGAQAHDiC7aVOtAFSTUoSQREJI4d8eyF9GKwD5IhIMvJGygVALBZ5vjdc3RsLdBIW7NQpvxFwaHT+eGrDyRVTwf/PdTVh4Wyhe1iUEeFm0ZKNWA8ahQzTbVQGvvr2Crquu6sL6cuWAy5dx/tV5zs0JEq5fp7WEcigfUF71LKSYpk3x68BufpY0Hz7Q5zeXeSKuFFgJ519xqF3t1QueQUO5NY7Iw9AQyCjyn1RmvZKVkyVf+I4bh16utbnNYMqjWjWJhdPHnx9lYveEQiH6xPRB562d8e33N4Skh6B8QHmmwFqyBDWcmUJMLWxtadIEgNBLoTKNULZbbGXskZxSnTBs17CiO7y9Yeyix79Tu1gTWI9tPbD5elFpStTVKLSOai2zy/2P92HkbiRpCPm9JUozYnTZMmDuXAD0c6F4jaZNpA2235RNTxIKhagaXBVHM6jH4/eDCZqxMAoNBQYNAkDTfK68oZ/773+8h56rnsK/tfu27pJ64jdph0AERGb5njP79iHbxkYrADlSmVArmGeEmkOH/93h/HW0ApAvZcrIhNurhZQRrFqIBWCx/+erb6+g56qnNPJrcfJipqdVsRogXogK/vfe34vmkc0Vb6ejA7woMgJm1awhTWIi0EyxvcqFVxfYGR+XLw9cuoRnWc+g56qn3qzBtWu0llCKgsIC6LrqMuqTlNKsGXDwIEp6l1QvHQWgBtuEUMNtEUKhEIbuhnj8+bGSHaXo3RtRax34ReQBgIEB8OSJ5Kb0DJOY8Mvh0HXVhYW3BVzTXJkPjh+P0a5NZXOluVK1qsTC6eGnhzD2YDZQpDxJQSnfUpIcXKFQiJEJI5mlAUuXovnqMup3jIvp2BGIpXnI7qfdMWH/BMlDt97fgrGHMb7kMJu7nmU9g4GbQdGspa8vyq8uwSpmUCnFfEBbRbViGJHbbrFV2BzVNbpr0fs2OhpGLjr8xeiSJcD8+QCAGmtrSIT206ynMHAzUPi5NvvwbMxJojOHwsOHobuG4PnX5/zGsm4dMGQIAKZP47ab29BmYxuFu4Wkh6D7tu4AgB8X0kAEROZ/yZk9e5DdooVWALJkOCHkCCEkjxBymhDiQAgp8VdH9G+gFYB8KV1aEnfGC00IQDmmv1FXo2SWk6Q5+PAgGoUXa6CYMEEzAtDEBHjwAIEXApkzFdJICcCFRxdi4dGF3H7XwYNKBeDue7vZNVOIajrFXmzvf7znNg4AuHqVXhhIIbb3YG1fYmMDHDiAuqF1kfIkRfX28nj3jr4m8opmPsV1lt9+f1OyoxR9+mD/uv9gE2mj3jjE6OsDT59Kbkov6wF0BqyUbymcfnEaZ16cgYW3BdOv0sEBc1zbqt+kI6aYhdOFVxdkZny7RXeTEZ8vvr6AgZtBUd3ZsmXovrISZ/sYGTp0AOJok9Ti5MWYf2S+5KFZh2Yp7Bzvt6NfUWOEnx/qO5lzylWWS7EoyNohtSVLnWLBKc/2BQDWXlxb1AyyfTvKrjTA5Uye5TGLFwMLaNmBta81rr+ln7V+5/yU2ikdeXwE1YKr0VWHo0dh5aTLvaxEmuBgYOhQ5ObnMj4b7HfbQ3BKoHC34hfhwitXoOeiATGakIDsli21ApAl7wghvoSQOn97IP8YWgHIl2JxZ7zo2xfYwLPDUo7p77i94+By0kXpbm++v4Guq26RieqECRIbCF4YGwMPHmD+kfmMomwZdHWB588lN4MvBmNI/BBuv+vAASqYFLD24lp2x6xYUdLVrVYtIkBLAsrKpn1ce3sNpXw5mOM2bw7s34/OWzvLXepixdu39DWRX7TklPElQ24OcKGwEF5nvDBq9yj4nfNjLlP17Ytzocv4NaQAgJ4e8OyZ5Gbj9Y2R9DhJcjsrJwuWPpYMwbvn3h5YeFsUifGJE+Hi2lW+ryQXKlWSWDglPU5iNF6kv06HmZeZ3Jkau512RY0Rjo4YvqKmeuk1xWnXDti1CwAw+cBkyfHzC/Nh6WOpcLl+3/19qLVOFP8WEIB2jtZKyz1YMWIEEEANscv4lZEsdYZdCpPMZMnj8efHMHQ3pLYnMTGo42iM40+PK9yeFQsXAosWQSgUQs9VD0+z6MVD1+iuWH95vcLdfuf/homnCW3qOXYM1ZcaKEznYE1QEDB8OKNcQPz/USV0a4fUpq/z69dhtUKH0S2sFvHxyG7dWisAWaL/twfwj6IVgHyxspIJt1eLfv0YYfBqIRaAxUx/qwVXY/UhXCGgQpFNzMSJgKur0u1ZYWwMPHyIQXGDlC/pSomCfff3KV8ylseBA1QwKWDpsaWSJSGlVKoEXLgAAGgQ1gBHHh/hNg6ANgWVk80eTXqchIbhyr0KGbRoAezbB/vd9vA9p2Y035s39DVRULSUfeHVBRkhl1eQh6HxQ1FzXU14nPZAvdB6mHloZpFI7NcPj8NcYehuyM/zTkrsS2feOqU6ye2m7BPTp2iWZdIkrBP0k9sAwImKFSX/65hbMYyYwJmHZirMBT786DAqBlakAnnFCkxzbIDVJ1bzG0vbtkACFW5D44ci+GIwAOD0i9Mo41dGYRPQzz8/i5bzAwPRd0k5/rWRw4dTsQMwSgWGxA9RuexeO6Q2Dj06BOzciVaLzNTL9S7OggXAkiX4+eenpJEsNz8XJTxKyDSiSDMwdiB8zvoAKSlotsAIBx8e5DeWgABg5Eg8+fJEcgF19c1VWPpYqmzSmnxgMpxSnYCbN1FtsS7/Dva4OGS3basVgBzQJYTUIoS0J4R0KPb1v4xWAPJFKtxebTQhAKVSH8RLD99zv6vYkX5Yik86xZMAeCGy/GgW0Ux5jZTUsiCnvFwx+/dTwaSAMXvGsKsZKzYr1H1bd0YBPGsuXaK1hFJsub5F4QxKVk4Wnnx5wmxSadkS2LtXYewUKzIz6WuisOgEdeDBAZml3JD0ENQNrSvp1H757SUqBFQommXp3x9fwwNBBERSE6cWOjqShh+hUAgDNwNkfKFNId9+f4OJp4ncGrYjj4+gnH85unw+eTJiBEPRaUsn9ccB0OV+0WzvuvR1khnigsIClPUvq7Cxo6CwAJWDKtMmAycnLF3aFHOT5vIbS5s2wG7aiNU1uquko9QxxZFhLiyP3jG96QVWUBBGL6wMv3N+/MYydCgQHCwpg/j48yPyC/NR0rskrr65qnTXeUfmUeEcG4se8yzUe/8wDjgPWLoUb76/kaSjnHlxBuX8y6m8EAm8EAi7nXZAaio6/2es/iy6GD8/wN4e195eQ2k/WuMbkh6Cfjv6qdx1y/UttBTn9m00naNLRTIfdu5Edvv2WgHIkkaEkMeEECGhnb/i79ouYK0A5EfJkoxsU7Xp35/6TPFBKvUh9nYsWm5oyWpX1zRXjNs7jt6YPFkzAlBk+aFyKVWqMUBcK8fJQmLfPiqYFNBpSyd2J4DKlSV1YeP3jVfP9y49nYoLKRRlEfuf9wcREOi66qJ1VOuiov5WrYA9e+B+2p1hscGJ16/pa6LYyXLjtY2MZo7Pvz7DysdKZrYz8WEiyvmXo52xdnYQhoczluHUopjlj9geSFzIv+naJoWv10JhIeqG1sWOWzuAKVOQtGYss25VHUQNPwCw5tQayZJy2vM0lPEro7QBSNJksHIlPBe3LnrvqEurVsBe2mxRvNu1YXhDleblktq7tWsxc251rExdyW8sQ4YA69bh3Y93kprVi68vwtrXWmVT1NGMo6i+tjoQH49h/1nLbfDhxJw5gKMj7n+8DxNPmiziftpdYSZwcS5lXoKVjxUKT6Ri4FQThF4K5TcWHx9g9Gicen4KNdfVBEDr/9xPq66XFi+P/755FbbT9OjrmA8xMcju2FErAFmSQgjZSgipQGj3b3lCSAwhZNTfHNQ/gFYA8kUq21Rt7OyA9YprWlghlfrw3+H/WDdTJD1OQr3QevTG5MmSMHheGBri291rqi0YpKxBCgoLoO+mj2dZzxTvI83evfQkqoCa62ri5LOTCh+XUKWKpDN0WcoydsvG0ly8SJcXpZDX3OJ91hul/UrjypsryM3PxcT9E1E1uCpt0GjdGti9G1FXo9Anpg/3cQBUbBHCuMvzjCdDsCw9tlRuQb1QKIRNpA3t+hwwAAgPRzn/cup3mUqZfos7rcUzOV22dimahZZD0IUgOoM6dSouukxh19WtjLJlJR6e84/Ml8yyzjsyDzMSZyjdNelxEm0yWL0K6xd2RP+d/fmNpWVLehEDWrZx+sVpPMt6Bn03fZXNOpLau7V+WP5fbcw+PJvfWAYNAkJCJEbLAOCW5sZKdH3P/Q5dV1283hmBydPKyKYMcWX2bGD5clx8fVHy/+65vScrMZdXkAdjD2PcS4rGeAdT/ibm3t7A2LE48OCApESlSlAVWW9IOQiFQpTzL4czadth56CH8Mvh/MaybRuyO3XSCkCWfCGEmIt+/ib6XooQcv/vDOefQSsA+SKVbao2mhSAotSHJuubsK7Bef/jfVFn6JQpgIvyxhFWGBjg1uVDMPcyV75cIyUAAfrBKi+6TiF79lDBJAehUMiwbRDz5MsTzEicgUbhjbAsZRltMihmDRJ0IQhD44eyH4OYCxfoUrIUo/eMZixDP/78GCU8SuDa2yIbIaFQiO7bulOh2KYNkJDAOOFw5uVLGQFYXIj+zv8NKx8rhRFoe+7tQaXASsgbaAeEhaFReCP16iIBmdi/K2+uoIwf7ZZ+8fUF9N30lXZdi7f5PGM8HjnPhpG7Eb96RFHqC1AUjScUClE5qLLKTtqcvBwYexjjjvNMxM3tKpumw5UWLWgZAyCx/Ym8EokuW7uw2r3Wulo4HDgT3tMb8J+NHDgQCAvDpcxLKB9ASxm6bO3COgawxYYWiN+0EAsnlOPezS/NrFmAkxOSM5JRP6w+8gryYOJpwtoWqWt0V2yIW4I59uZYlrKM31g8PYHx47Ht5jZ02dpF4i0qaZ5TwYiEEfDcuxBjR+nxtzDauhXZXbpoBSBLPhNaA0gIIZmEikEdQsjPvzaifwOtAOSLVLap2ohmWHhRLPYrOzcbOgIdvP3+lvXulQIr0U65qVMBZ2d+YwEAAwMkpm2QibUCqNBJf52Ovff34reJISMdAgDab2ovPztYEbt3KxSAn359AhEQRih7xpcMWPtaY/y+8Yi9HYs+MX3QLKIZvtWuApyhYijuTpx6aSDnz9OlZCm6RXdj2IUMiB0gt9Hg/sf7MPYwxq2eTYBdu+Q2bbDmxQtad1eMsXvHwusMTXrYcWsH6ofVVyikCoWFqBxUGUnj2wKhofw6kgsK6OvzDV3iTs5IRoOwBgAAn7M+rGqpWmxogegFXfF59WL+Gbyi3GcA6L+zPyKuRCDjSwZdqsv/rWJnWjfr7dIdR2f3lvwdamNjAxw8iILCAhABwatvrzB271jWM2hTD06Fo29PRExuQuve+GBnB4SH49iTY6gXWq9oJu0ju5WOeUfmYW5oPwjGVOTfqT1zJrBqFXbd3YW2G9vicuZluqzLMhln9YnVmBDZFyuHllQ5q6sSd3dgwgSEXgrFoLhBiL8Tz+nCLOB8AIZs6olZg/Ww4vgKfmPZvBnZ3bppBSBLLhBCWot+PkwI8SGEOBFCHv21Ef0baAUgX6SyTdVGdNXNi2KxX6lPU1E1uCqn3fvE9KFLE9OmaUYA6usjNGmNzAnpw88PsIm0gYW3BWqH1Ib1coLkNGYM3oiEEQg4H8D+dyUk0BkzOdx4dwOWPpaS29m52agfVp9hTZNXkId+O/qh54wSEIriwdKep6FacDX2YxBz7hxdSpaiYXhDieXJuZfnYOFtoTDhY/6R+Rg9sxSwaxej65Azz5/Tztti9NreCxuv0dSZzls7q7QwWZayDGPnVwbWrVNo3MyK/Hz6+nxLL0qKR551je6KiCuqa2DdT7tj8IrqKFi5gn8Gb6lSEg/PdpvaIf5OPDZd28S6uSTySiQ6r6mG9JkDJDNlatOsGZCYiC85X0AEBN9zv6NSYCVWy4sAEH0jGh08aiLWwQYdN3fkNxZRPXLC3QS02diGdaermF13d6G5Tw0Ej6is3gx6caZPB1avRtTVKPSO6Y31l9dzMiM/mnEUNX0rwre/Bex32/Mbi6srMGkSPE57wGGfAxYcXcBpuf3ks5Oo6lcRy/vo8V+m37gR2T16aAUgS3oSQmxFPzcnhLwgdFl44N8a0D+CVgDyxchIZvlSLTQpAHNz4XnGEyMSRnDafXHyYvrBNG0asJqnrQUA6OlhacJ0xofd199f0SyiGex32yM3PxdCoRBbWxvA3MOU4aXF2Qw6IYFaacjh8KPDjIaBFcdXoPPWzjIF7d9zv6O8ox52J9AGmEefH6lne3L2LF1KlqKUbynJcq/9bnulnb0ZXzJg6KKDtzsiJM0SakVZPXtGbXaKYRNpg4MPD0rSFFTFzN18dxMmznr4GeyLGYkz1G8yyMujr8937wDQztvBcYMlVibibmBl3P1wFyXW6OGn0xJY+ljyy+C1spJ4eNYLrYeUJymYsH8Ca0uXR58fwVCgh1vTB8HI3Uj9cQA0x/rQITzNekobbb48hb6bPusZzidfnsBAoIf9Y1vwb47p2xeIjJQ0C4Wkhyg1XZYmMzsTugJdrB9aWalvICumTgVcXOB/3h8jE0Zi6sGpcmfP8grycPv9bUaUH0A/b4iAIKCPOae/QS5r1gCTJ8MxxRFzkubAdosttt7YytjkyZcnmHpwKjps7oCRCSMZS9Xisazsqct/mX7DBmT37KkVgFp4oRWAfJHqYFWbQYNo1iQfiuW+DoobBP/z/px233J9C605mj4dWCU/n5UTuroYsbUfw5Zi6sGp6LW9F9PuxMQEAfsdUSWoiuSEF3A+gJuA3bWLmunKYcPVDZImitfZr2HiaaLQzmJj79Ko6VMRfwr+SIQX59ims2dpzmwx8gryQAQEmdmZePP9DQzdDfHki/LXTf85lhCEDodQKISxhzEeflKj1ODpU2qzU4yKgRVx4dUFlWkKYoRCIRqtKImdvuOxMnWl+ktpf/7Q1+d7WufnctIFUw9ORXJGMqqvrc5KaAuFQtRYbY4jK0ei5rqa/DJ4LS2Bm9SQt4xfGVx9cxXV11ZnnboiFApRQWCO/bO6yuQIc6ZxYyApCVffXEVpv9KIvhHNqa5QKBSigpsFwic04G/WLUolCjgfgJEJIzFmzxiZRJRCYSHOvTyHgPMBiLsTJxPJVs2rLJzty7F2IVDIlCnAmjVYfWI1ph2chmYRzRh1zUKhEB6nPVDarzSM3I2g56qHSQcmMeryavpWgtMgU/XKOYrj4gJMnYqZh2bCKdUJZl5mjAuQw48Ow9jDGBP3T8TO2zuxKHkRjD2MGYbVNQOqYm5/HQyIHcBvLBERyO7dWysAtfBCKwD5oq/PMDFWm8GDgRD5GZusEeW+CnNzaceZgsJ+RVzKvIRSvqUgnDEdWMnTSgIAdHXROrQpdt2lCQfnX52HqaepbAySiQkK799D241tJWa/cXfiuBXWx8cD7eVv73zSWRKlNe3gNIzeM1rhYQpq10Qjv+qS5UgzLzPc/cDR5ufMGRkBmJmdKfExW3NqDauu0aRBDVDB3RL5hfmoFlyN8/8TAL04MTCQ3CzuvdduUzvJUrAq3P5riOEeTRF0IUh5rJ8ycnOpAPxIo8RmH54NxxRHLDm2BNMOTmN9mOnLG2LxqtYyObWcsbAAbt2SpEycfXkW+m76rIv6AWC0axM4z28CIiCc6m1laNQIOHIEx58eR52QOphyYIrMTNefgj+IvBKJGYkzMCNxBlKfpjJE8yifVpg/oyrMvMzUHwcA9OoFbNwoEV3SZvLvf7xH3x19Ye1rjUFxg9A0oilKepdkGC2PWdcZEydbonZIbX5jmTQJcHXFvCPzsODoAui76Us+P/IK8jBu7zhUX1sdJ56dQKGwEI8/P0bX6K5oENZAMrM9MrIHJtmX4F+nuXo1MH06xuwZgyXHlsDI3UhyIXvq+SmYeprKpLCIP/PEtj4jtvaH/QjCMB1Xi/BwZPftqxWAWnihFYB80dNjJBuojQYF4MtPT6Dnqid3+SgrJwuHHx3GuZfnZAx9f/z5QTMu/3PQjADU0UFZn9JIf50OoVCIFhtawPOMp+x2ok7q9NfpMPE0watvr3D25VlUCZKto1NIXBzNU5XDlANT4HLSBVk5WSjhUUK5oKtVC1t2LkPD8IYQCoWoE1KHew7v6dNA9eqMu669vQZrX2sUCgtRLbia5ISgjIKOHVDO3QKpT1PROqq1eqkKGRm0y1qEeBnq/sf70HfTV5jrKs2N8T1hJjAqmiVWh5wcKgA/0ROzOOGkWUQzxN+JZ32YXYt7o6lLGfSO6c0v9aJkSeD2bWTnZoMICCKvRKLtRmYZQU5eDkLSQzAgdgC6b+sOzzOeDKEX6TYYXR3LwdTTlHWThFwaNACOHsXue7vROqo16oTUYUTk3Xh3A/VC66FReCOsOL4C847MQxm/Mhi2a5hEsIYEj0bXhVYgAsKM8eNKz57A5s2Yd2QeZh6aCR2BjuSz4uPPj6i5riZGJoxkzPrtursLZl5mkguKwE1T0XmOiaTLW21EueQT9k/AjMQZ9AJVJHodUxzRMLyhTOd4QWEBhu0ahm7R3ZBXkAfvuDnoNk1fJuuZMytXAjNnov/O/phycIokWzwrJwsVAysqrGHde38vzLzM8DTrKbwOOaLjZIJmEYpzy1kRGors/v21AlALL7QCkC86OrTTUgU///xE7O1YTE+cDv/z/rJmuiLzVV68ewcQgoRbsTJJD19yvmDi/onQc9VD3dC6qBhYERbeFgi8EMiohau+tjpOzBsAODnxGwuAHH0iCU0/+PAgKgRUkN9dWcxLcUTCCCw4ugDPvz6HnqueSuNZCbGxCgVg75je2HB1A8IuhaleBqpdGznHklDKtxROPDuBzls7Y9vNbezGICYtDahRg3HXkcdH0CCsAc69PAcrHyuaaKEKW1vMC+6NaQenwW6nnXreYY8f0zpV8U2RZ1xIegi6RndlfRjhyBGo5GoBzzOe6teY/fpFBeBnmjbSc3tPBF8Mhq6rLqMO8U/BH8TejsWA2AGw3WKLsXvHIjkjWXLi/zR/GnTX6GBI3BAa9aUuZmbA3bt48fUFdF11Me3gNIZVyM13N1ElqApsIm2w9uJaRF6JRJ+YPrDysaIpIAAeeC5ECRc9VAqshHMvz6k/lvr1gWPHEHU1Cl2ju0JHoCMpPbj57iasfa2x5tQahrD7/Oszum/rjpYbWuLnn5+4un41Sq7Wk0SmqU337sCWLZiwfwLG7Bkj6eL/nf8bHTZ3gP1ue7kNIadfnIaJpwnOvTyHM7v8UHaFHgzdDWW244SDA+DhgcFxgzEiYQQ1vAb1YTTzMlMYB/fjzw80Wd8Eq06sQkpyOCov0YGppym/saxYAcyahY6bO8Jup52kFGLi/onot6Of0hKGmYdmou+Ovjh6MQaVFhHUWFtD4basWLcO2QMGaAWgFl5oBSBfiiUbKOLGuxuoE1IHDcIaYHHyYgyIHQALbwskZyQXbTR0KLBWSV4uG96+BQjB4qMLMevQLMndt9/fRoWAChgQO4BhrnzsyTHUDqmNMXvGSE4sdjvtELK4I/2w48mDq6tSCgAAIABJREFU0gQl3I1QWFiIFhtaKDb5NTeXpKlcyrwEMy8ziS8h62W1nTuBjvK7HxuFN0LS4yQ0j2yuesmzTh3g+HGsOL4CQ+KHwH63PXeRceoUULMm466tN7aia3RXzD48m30NXadOOL/RGVY+Vpi4f6J6prqPHtFOdRHnXp5D5aDK6LW9l0w+8+33t7EoeRH6xPRB75je8D7rjcxs6tmHUaMww6Mt7Hfbo5y/bM4xK37+pO+XL1TY2ETaYHHyYoaVxpMvT9A8sjlqh9SGz1kf7Ly9E8uPL0cZvzIYkTCCzjrNn4/mzmXRa3svOKY4qjcWgM4837uH62+vo5RvKdQNrSuJ6Drz4gxKepeUeAMWJ+ZWDEw9TRF/Jx5CLy+UXW2Emutq8ov3qlcPSEmB3zk/dNrSSWLK/v7He5QPKK/QxDivIA9dtnbBiIQRyN0UCSNnHRi4GaisL1VKt25AdDQGxQ1Cr+29JOUTjimOaLmhpdJax/DL4agQUAGvD2wHWUMvANlY6ihk3DjAywtdo7vCdostVqauxI8/P1ApsBLDUkkeN9/dhLGHMc6nbgUREP4zo8uXA7Nno8n6JmgW0QyRVyKR/jodpp6mjG70/MJ8XH1zFZuubULC3QQ8zXqKrJwslPErg00nA0AEBFY+VuqPAwCCg5E9cKBWAGrhhVYA8kEq2UAeKU9SYOppCrc0N8Zs1o5bOyRXywAk+Zu8ePMGIATtN7WTzFpdf3sd1r7WcD/tLvcK9f2P92i8vjEm7J8AoVAIxxRHzHBsSD/seJJci6BecC0kPU5CWf+yijsaS5YE7tyR3Oy0pRN8zvqgrH9ZRmewUnbuBGxt5T5k4W2B+DvxMPU0VZ2LXLcukJKC51+fw8DNADMPzcSCowvYjUHMyZNArVqMu3zO+mBUwiiU9itNvRZF/Cn4g73392Li/onotb0XxuwZg/WX11PPws6dUbgtGlWCqmD4ruFyPQNV8vAhYGwsubn/wX40i2jG6Lr9+ecnZh+eDRNPEzjsc0DU1SiEXQpDvx39YOZlhpD0EAjtR+Gg10RUDarKSO/gxI8f9P2SRbuZqwRVQf8d/SWzbtffXoeVjxUWHF0gM0P68edH9N3RF03WN8GXhTOxzKkVmkU041Q7KIOJCXD/PlKfpqLmuprQddXF199f8eTLE1j7Wiu1pUl6nAQTTxOc9ZqFoUsqo/ra6vyyZkUXHk6pTmgR2QIT909EobAQvWN6w363vdLn+9OvT6i+tjrWrRuLDotKwtzLXGVmr1K6dAG2UbPjhuENEXElApczL8PYw1hlPaxQKETvmN6YFWGH+osMJCsAajN2LODtjeaRzVEtuBr23t+L5ceXw3aLLeM5effjHULSQzDt4DRMOzgNvud88fLbSyxOXowuYa1QZTFRr6GrOMuWAXPnompwVZh7meNy5mX039lfchEiFAoRdycOtdbVgoW3BbpFd0PrqNYwcDNA3x194XnGE3WCa6L8Yhr7yMvEPDAQ2YMHawWgEo4TGgGn6uv/GldCyBtCyA9CSBqhucSKsCSE7CQ0rSSL0Lg6C6ltRhBCHhBCfhFC7hFChqpxDDFaAcgHcbKByNhWmhPPTsDU0xQ7b++U+3jghUDUWleLnuyHDdOIAMzVI5LUizff36BiYEWVrvPvfrxDOf9yiLoahW03t8F2ZQX+AlAoRGRLgt4bO0tqp6T5lfcL73+8R4GFOUMA7n+wH5WDKqN5ZHPsf7Cf3e/bsQPoJOvfJq5rnHJgCsOU9sefH4i4EoHRe0aj7ca26LW9F1adWIXbbaoDKbTmr+PmjhgSNwSjdo/i9refOAHUZha/Lzy6EEPihqBSYCXJ8tnxp8dRc11N1FhbA06pTthwdQNc01zRKqoVSvuVxhb7ehBGR2Nx8mK0iWqD4buGcxsHADx4QGe6RERdjULzyOaoE1IHQJEno+0WW7kZvyeenUDloMqYsaAWsr1dYeBmwMjv5cT37/T98pXua+JpgvL+5ZHyJAUPPz1Eab/S8D3nq3D3/MJ8DI0fijary2HfsoGw9rVWvyEFoML4wQMk3E1A7XW1YRNpg5y8HDQMb8jwiFRE2KUwlBeYw3V2I5TzL0cj89Sldm3gxAnMOjQL1YKrIeJKBEIvhaLG2hpyo+C+537Hw08PkZmdiYLCAqQ9T4OpqxGmzCwPC28L1v6BcuncGdi+HTaRNjD1NEX663TYRNowMm8LhYVIzkiGwz4HNF7fGBUDK6LNxjZwTHFEckYyTNxKoN8ME+i76avXvS5m9GjA1xc11taArkAXZ16cQQmPEpJs8e+53zEnaQ6M3I3QfVt3OKU6YdWJVbDbaQcDNwOM3TMWpbws0H66DnRddbnFS0qzZAkwfz5KepeErkAXZ1+chamnKT7+/Ihfeb8wbu84lA8oj83XNzNmGt9+f4v5R+bD1NMU5XzLoPEswt/E3N8fX4cO0QpAJXiz/Pq/ZBkh5CUhpCEhxIgQ4kVoEomJgu2TCBWlVoQQa0JF7IFij7clhPwmhAwhhOgRQoYRQnIIIS04HKM4WgHIB3GywVvZZcqzL8/CzMtMaf1YQWEBOm3phMXJi4Hhw4EgnsHpmZlIr0Rg7WuNX39+oc3GNph0YBKrK02xWI2/E48yLsaAI4+lNQAoLIRTD4Jh0f1g4mkiqUl6lvUMy1KWocbaGpJlGX1ngm7hrbH5+mbkFeQhvzAfFQMrou3GtuwD3GNi6IlLioefHsLI3QgW3hY49/Ic8gvzEXghEBbeFmgV1Qrup90RdycOkVciMXrPaJis1sHo0K7IzM7E+svrUXtdbdbGwBJSU+mMTjHG7BmDVhtaYd6ReRAKhXA+6QxzL3OEXQqTqacSCoVIfJiIsisNMNG/I1KfpsLcy1ximsyJe/dorZsIj9MeqB1SGwuOLsCHnx9QL7QeRu8ZzbTlkeLVt1do4FQSDm7N0T26O/Rc9Vh59smQnU3fL9++IScvB0RAYOhmiI8/P6J+WH1WUV25+bnovLoSRq2sAx2BDj9rD5GJ+4arG1A1uKokD7jtxrYyS4U5eTlIfZqKqKtRCL4YjJhbMbj/8T6GuDdC12VlYORuJOlgV4tatYCTJ2G/2x6G7oZIfZoKC28LRiRdVk4WPM94omlEUxABvdAjAgJzL3OM3jMaQ/xaoPFSE5h4mvDrju7UCdixA5WDKkPfTR+br29GteBqkqXcS5mX0GZjG5TzL4elx5Yi8WEizr08h9jbsRi9ZzSMPYzRwr8Oqi/Rh6G7ofrZ0QAwahTg7w8LbwtY+ljCYZ8DJh2YBIDOGFdfWx1do7vKbcB5+e0lBsYOhLmHCcos04Ghu6FEOKrFokUQLlwAXVdd1Auth4GxA7H02FLk5OWg89bOsN1ii3c/3inc/diTYyjhXgJGqwj/rnFfX7weOUgrAP9xnhFC5ha7rUcI+UAIGSdn26qEECEhpHGx+5qK7qssur2FELJXar99hJCNop+rsThGcbQCkA9iY9v3zCWOy5mXUdK7JCKvRKo8hLhO5a19fyBQeSKDSl6/xtq2BP139MO4vePQflN75ObnAqCi4vHnx0h8mIhN1zZhy/UtOPjwIB5/fiwRiIuSF6HD5g60iHzZXH5jKSjA2GEEzUMb47/D/+HHnx9YcHQBSniUwKjdo3Do0SF8+PkBv/N/43F1c6zb54i6oXVRO6Q2jj05hlUnVqHG2hpYfpzlTOT27XTpSooTz06grH9Z1Auth3ff36HD5g6oG1pXxkJDzOsWtTE2tBtK+ZZC/J146LnqcU8DOX6cLiUXo1t0N5h5meHEsxNw2OeA6murq+wafdOnA1p6VUffHX1h7mXOOdkFAK2tNDeX3Jx/dD7MvMxw6NEhtN3YFqP3jJbbaFMoLERmdibufLiDux/u4v5EO1QXWKFbdDcYuRvh4uuL3Mfy7Rt9v2Rn43X2axABQdetXTFu7zh0i+7GGEehsBBnX56Fa5orhu8ajvab2sN2iy2G7xqO5U6tUcqlBMr6l+XWKS6NIY0g9D7rDQtv2uBi4mnCaCw4/+o87Hfbw8jdCFWCqqDX9l4YEj8EHTZ3gJG7EaoKLGHqrAcdgQ4m7p+o/lhq1AD+H3tvHVZF/v7/v+gGkbQQW+zWNdeOXXXtXl1zV1ffdq1x6A4RFAtFRcUCsQu7W7ELu8UWBM7j+8fAwJE6wH6ut7/fm8d1ccGZMzPn5pwzM/fc8bwPHqTJsiboOusyaPMgOeKblJKE9zFvTNxMaLmiJeGXw3n56SVKpZLE5ETOPDnD5N2TMVbooTNHci7UmaqSLU2aQHg4Rq5GOAQ5UMqvFKsvrSZFmSK/R3MPzM02gnXnzR3aBNRFY65AQ6HB7ts5z1XOkV69UHp7o+moSb1F9dBz1uPu27tsv7UdEzcT3A67kaJMQalU8vTDU04+Osn+e/s58uAIcfFxJKck47VpEmKulHbNWH6RZ/7zHz5OGINQCNqtaoehqyGP3z+my9ouNA1tyudvn/n87TO77+zG66gXY7aPYUT0CCbtnsTCMwuJfRHL8didaKR+RgWKjLq7c63vL4UO4A+MqZAcr4bfLd8thPDJYv0uQormfU+CEOLX1L/PCyGmfff8DCHE2dS/u6qxj+9tLHQA80uasO2LF/KitDomv+N+JKUkcTjuMLNjZtNuVTvsA+wxdTfFxtuG+ovrM37neM48OUPXtV2Z+HeFf8UB7NNT0G5lO0r6leTJhycceXCEP7f+iaWXJbrOulRbUI3WYa1pHdaa6guqo+usSwnfEozeNppjD49R0q8kZnN0OTatf8FsSUqi3giBtqM2ay6voey8sjRf3jzrGiJzc7h4kaSUJIJOBWHsZsygTYPQctSiZ4SaYtBhYVk6gCsvrqSIRxEm7ppIaf/S9N/UP8si9qSUJB68e8CppmU4ut5HvtBVnF8x72PY9uyRivozYB9gj5m7GQM2DcAhyCFTXdTzj8+Juh6F62FXRkaPpM+GPvQZbc0Q7ybY+dth5m6Wv2kTV65INZapdFzdER0nHX5b+xtNljVRKdC/8uIKjgcdaRbaDH0XfTQUGpi4mWDkaiQVrisM0HbURigEqy+tzrst8fHS8fLhAxefXUTHSYdu67ph420jR07eJ7zH7bAbdv52WHha0GdDH7yPeRN+KZzVl1bjfsSdHrMqoD9X6nbVcdKRb3LyjI4O3L7N2B1jEQqpMzNNPP3qy6t0Cu+EiZsJE3dN5MqLKzx5/4QTj06w9eZWoq5Hse/ePgLdu1F+uvT+2AfYqz0uLRP29nDoEGUCylDavzRGrkY8ePeAm69vUmdRHRyCHIi5F8P9+PtsuLoBx4OOjNk+hpHRIxmzfQxOB51YvmAk9SZItrQOa50/OwAaNyZlTTgaCg1qh9SmdkhtPiZ+pHtEd8rNK8epR6c4FHeI6Xun02F1BxyCHLDxtsHG24bKQZXpsLoDM5YNoMFoXYRCMCJ6RP5t6dGDz74eCIWg0vxKDN8ynMjrkRi6GrLq0irWXllLnw19sPWxRSgEtj62lA8sT0m/kmg6alLEowhdFrei0XDJ6SpQ09C4cTyePBKhEFQLrsb4neP5I+oPqgVXY+PVjfRa30u6KfC3o+f6nkzZM4V/9v/DmO1jaLOyDYauhpTxK03dVFsyCuTnGTc3Tg1oX+gAqom5EGKZEOKRECJRCPEtw8//FSWF5ABW+m75OiHE4izWHyiEeJbF8udCiP6pf98RQoz67vk/hRC38rCPjJgKIXj+ugBFulmQnJLMjVc3WH5hOZN2T6LHuh40C21G3ZC6VF9QnSpBVai5sCbNQpvRZ0MfFAcURF2P4v7b+wXr0srGlluvb7Hq0iom7ZrEb2t/o+nSptRaWIvK8ytTJagK9RbVo3VYawZsHMDcmLlsiN3AnTd3cpfq+PpVFrZNSkli4ZmFGLgY0HVtV7qv646ZuxlFPYrSdmVbRkSPYOKuiQzbMoxO4Z2osbAGVl5WaDpqouekh5grqKaw4aelP8mddz5HfTh0/xBx8XHq1Ys8fIj1ZCmtNiRyCKX9S1PUsyijto7i4P2DJCYnkpicyO3Xt4m6HoXXUS9GRY+i8dLG2HjboKnQRN9JHzFXYDfbhLYr2zJ482AcDzgSeS2Sc0/O8ej9I/UuuElJGM8QFPeyxdDVEN/jvvLF8VPiJy4/v8y6K+uYvnc6XQbpUM23PLY+tth421DUoyjaTpKjoe2oTfPQ5gyNGkrAiQDWx65n+63tnH58mkfvH6V/RitWwM+ZZU0m756MhkIDYzdjHA86olQqSUhK4PjD43gf86br2q6U8C2BhkJDcnj+0cTEyQAdRx05RS0UgrL+ZWkW2oyhUUPxPOLJ0nNLiYiNYN/dfVx8dpEH7x6kCwjv3i3JemRA30UfO387KRL58RlKpZLzT8+jOKCg1sJasgPSeFljfl7xM42WNKL2ZGOquBSnhE8J2Q4LDwsaLm7I6O2j8T/uz6Kzi1h5cSVbbmwh5l4Mpx6f4s6bO7z7+k5yWi9flgSPUykfWB5rL2vKB5bn1edXfEz8yOKzi6m3uB76zvr8vPxnhkQOYdiWYXRe05kmy5pQb3E9qs4ww0Fhha23rWxL7YW1mbhzIovOLmLx2cUsObuElRdXsvXGVg7FHeL80/PceXOH+K/xki1v30rHy6dP7L6zGw2FBnrOeuy7u4/4r/E4HnTEzN2MqsFVGRI5hP4b+9M0tCl2/lLjScbPw3aOoXTcKATGLsb029iPNZfXsPHqRtZcXsOay2vYfG0ze+7s4eiDo1x4doG7b+/yPuF9ujOvrQ137tAmrA36Lvr8tPQnPiR8YPre6eg769N5TWdGbxtN/cX15XSrrY+t3AVayq8UOgpVu+z97Qk4HsD2m9vZenMr0Tei2XJ9C5HXI9l1exfHHh7jyosrxMXHpX9GIAmHH5Y6j83czXA77Eb45XCMXY3psKoDPSJ6YOFpgbaTNrVCajFw80Am757MrP2zmLJnCoM2D6Kme2k056Tb0npFaw7cPcD+u/vZcWsH229tJ/pGNFtvbpW/K1dfXuXBuweq70ujRrwPD0UoBPrO+qy/up76i+tTfUF1hm8Zjq2PLZZelgyJGkLQqSB23t7J6cenOf34NDtv7yT4dDBDQjpgPU1DtuXP6D+58vwKh+IOsefOHvbd3ce+u/vYe3cv++/t58yTM9x6fYsXn16onl+6d+epn6N8Lgg5E4K+i/TZmHuYUzmoMrNjZnM47nCmc+S35G+ceXIGl83jqTA2/X3xPe7L9VfXOfHohCRZE3eYg/cPypHDi88ucvftXTlDIfP331yd+gcaCimdPGrrKKy8rKi2oBoWnhbM2DeD2Bex2d4sJiQlEHV+DW0HpNsSERvB9VfXOff0HKcen+LYw2McijtEzL0YTjw6wZUXV7j39h4vP71UfV9cXNg9uHAUnLqECiHOCSH6CqkZo6+Qomnj/w9f89+MAP6S+nduEUB1oojf24iYLqSW/X/zJ+2k+P3j3H7+bTvy8tr5tacg+/+3f34ke9S15d+y+d/YT6Et/9+w5f+P/1OhLT++LT/S+XW6KHQA1eSxEMI+9e/41N+VhdSV+39JVjWAL0X2NYApQrV+r2bqsow1gBu/2y5jDaA6+8iIqRACvQY6aP2kiWYjDTQG5u/LqKEQaCk00FVoY6zQx9rJFHsXSxzcSlDHvSxNvRzo4Fub7n6N6BfQnH4Bzeju34j2vnVo6u1ADQ977FysMHcyxkChg7ZCE418HhgZbTFxMsDG2YzybrbU8LCnoXclWvvW4reARvQPbM2g+W3oPb8Fv81vSoeA+jT3q0ltr/LYu9pg4WyKgaMuOgpNNPNsgwaaCk10nXUxdjXGysuK8oHlabK0Cb3X9+avbX8xc99MvI56sejsInqML4GWQgMjFyPKBZTD1N0UoRCYuJpg5WmFlZcV5h7mGLpInXWaCk21TnQaCqn7TdtJG0MXQ4p6FqVMQBnqhtSlXVg7+m3ox9gdY5kTMwe/436EXQij/YxSiLkCLYUWPy39iSm7pjB8y3DahrWlenB1inkXw9jVGB1HHTQUGtm/D1nYou2kjYGLAUU8ilDcpzgV51ek/ihN2gQ1pO+Gvvy9/W9m7Z+F73FfFDEKhEKyo++GvkzdPZXOazpTbUE1LD0t5XRk2mcu5qj32WgqNNF21EbfWR8TNxMsvSyx87PDIciBBn/r09a3Fn3X92XM9jHM3DcTHScddBx1aLqsKcGnghkVPYr6i+tj7i5NXdB30cfE1QRDF0N0nXTV+t7Kn4ujNrpOuhi6GlLEvYhc11Z5fmXqTTShjVtlekb05K+tf0mRBydd2oS1IfBEIH3W96GMn9RMY+BigLm7OSZuJpn+V43Zuduh5aiFjpMOes56GLsaY+ZuhrVXui11pxellaIM3dd1x9bbFg2FBg7zHXA84Ei7sHYYOBtg5GpEcZ/iWHhayBFVfWd9TN2kqJaRiyH6MwXa30Xz0uxMs0HXWRd9Z30MXAwwdjPG3MMcW29b7P3tqRpUlYazbGk3vSS9InrJ/8PI6JG0W9kOHUcdzN3NKeZdDC2FFtqO2lh6WlI2oCyVAytTfl55SvuVxtbbFtNpAj1HXVU7Uo8VXSdddJ110XPWk20xcTOhqGdRbLxtsPOzo1JgJWo7laDZpKJyFLeoe1F6rO2Boashpu6mWHtbIxQCS09LHIIcaLSkEa1WtKJNWBuaLmtKzQU1Ke1fGoupGuhliDprKDTkz0PfWV/6cUl9T1yNKeJRBCsvK0r4lqDsvLJUC67GTx4VaDvGlNJ+pREKQYXACpQLKIeOkw7mHuZoKDQo5VuKxksb03lNZ/qs70PviN50XtOZVita0WBxAyoGVsR6uhY6Gc4vmgpN+bUzvh+GLoYYuRph5m6GpZclJXxLUH5eeaoFV6ORXxXaDNPF3EM6RuqH1EfXSXqspdCimE8xWq1oxZDNQxgWNYyBmwbSe0Nvfg3/lZYrWtJwSUOqL6hOqRn6KrboOulKx5qrofz6xm7GmLqZUsS9CJaelhTzKUZpv9JUml+J2iG1aRpcl079BaZu0jm18vzKaCm0MHI1wsTVhCZLm/BH5B8MjRrKoM2D6L2+N13WdKH9yvY0DW1K3UV1qRpUFbtZxujMST/fGbgYYOpmirGrsWyHiZsJpu6mmHuYY+NtQ0m/kpQLKEfV4KrUX1yflkub07mvwMBZH6EQWHtZSzOMFVrUXFCTgZsGMmzLMAZsHEDP9T3pvKYzbVa0ocmyJtReWJuSo0ti0sIEw0baiHqFDqC6vM/w90shhE4Wy/8vmCyEiBOS9IuBkLqOH4nsu4C3CiF2CSEshBCWQurgjczwfEMhRfi6CiG0hRA9hCQHUycP+8hIYQ3gD0Jin55YKYwYEjkEAxcDPI548Pj9Y3bd3oXnUU/6bexHjYU1sA+wp7R/aWosrEHnNZ2ZuW8m225uo2loU8r4lGJ4F1FgW3ZN+g2zubq0X9Wefhv7YeBiwF/b/uLm65tZrp9WgB10KogyAWWoGlwVS09LrCdnbpDJEktLOHcu0+IPCR8QCkHLFS0p5lOMgZsHZkrzvPnyhgP3D7A0cAiBgyriedSTmftmUjW4KlZeVmg5auWtXq16ddiqKuhbJaiKnJrsvKazSg3hy08viYiN4J/9/9B7Q29qhdSitJs1xaZpUW5eOWy9bdFx0kHLUSvb9y9b2rWDxemjzor5FKNMQBmsvKxUxKnfJ7xn9aXVdF3bFX0XfQxdDHEIcqDhkobU8qtE6QkaKs5yyJmQvIvzps5kBalZSCgEJX1LynYkJCUQej6UhksaouesR7tV7Zi2dxo+x3zwPOrJ3ANzmbj5T7r3Fth4SU6RuYc5l55fypsdIImU/yVpIuo66+IQ5EDV4Kp8TfrKmy9vmLhrIvou+vy65lcWnV3Ehqsb8Djiwfid4+XC/NHbRzO6k8DWwwqhELQJa5Ol3EquzJ8PnTvLc4SL+xYn4EQAHxM/8vf2vzFyNWL2/tmEXwpn7oG59NnQh1ohtbDzt8PWx5YyAWVosbwFQ/oZYOYs1e/NiZmTv1rC9euhQQM8j3oiFAJDF0MOxx0m8GQghq6GzImZQ+DJQLqs7SLXzBm5GkllF55F0XLUQs9Zj2ZjjTFMdYzDL2UtYZUrx45BiRIM2DQAbSdtivkUI/ZFLOXmlaNHRA8CTwXSaGkjNBQalJtXji5ruzAyeiRjd4xlcORgmoY2lW7O/tFFTyF9d7dc35L762bFvXugpcWv4b9i6GpIzYU18TnmQxH3Ivgd96PlipboOuvSZmUbnA85s/naZjktHBEbwcx9M2m4pCE6czXRnSs5ozH3YvJnS2rZUIMFdTBxM6F1WGuahTajTVgbeq3vha6zLh1Xd2T5heXExceppJPfJ7xn953djNo6CuO5umgWRgDV5qoQokzq3yeE5EA1EVnXy/3bKFJf55NQ1QEsJaR0dJMM6xYRQqwWkoZfvBBipcj84fYQkg7gFyHENSFJwmREnX2kUegA/ij06cM0l5/ptb4Xpx6fonxgeVosb8GDdw9y3Oz159e0WN6Clita0iS4LqG1NQpsyv0Jf6A9VwNjV2MO3j/IxWcX6b+pPzpOOtRfXJ9pe6cRdjGMTdc2sfDMQoZtGYaNtw3lA8uz5NwSNl3dhLlHEVoOVm2QyRYrKzibtXCtsZsxus66XH91naahTakSXIV9d/dlXnHZMlLatGbVpVXYeNvQZ0MfuqzpgpGrUd46VmvUgOholUXd1nXDyNWI6BvRNF7WmCbLmqRPyMiKHTt4V8uBrmu7Ui24GpZelpT0K6m+DWm0bw+LFskPGy9tLHdVmrmbZdll/i35G1deXGHrza2EXQxjdbQLKxsbUcK3BFWCqiAUIncx7Kz44w9QSDInAScCMHM3w+WQC4auhplmJd98fROfYz50j+hOpfklLGC6AAAgAElEQVSVsPKywsbbhhrzq/BbH5EaJdVQ0WXMEzNnwp/SpBtrb2tK+JagwZIGTN49WV7l8fvHTN87nWI+xSjqWZT2q9rz17a/GLtjLL+t+43ivsUxnCFFtzQdNfM/xi0oCH79ldgXsWg7adNvYz9M3Ezk78ehuEPUDqlNcd/iOB104ubrm/JFXalUcvvNbRwPOlJkenpkKd910Bs3Qv36rLq0CgMXAwZuGkjtkNokpyRz/OFxSviWoO3KtvKNyLuv77j68iqnHp/i/NPzxMXHcfPVTRqOM0QoBGbuZrm8YA6cOAHFizMnZg6ajppUCa6CzzEfXnx6Qd1FdWkV1ornH5/z9stbdt3eRcCJAGbum8nEXRNRHFAQdjGMc0/OMXx0SflmId/ExYGGBv/Z+R+EQqrj3Hh1I26H3bD0suTKiyvceXOHeSfn0W9jP9lBLxNQhvqL6zM0aijLzi/DZXxdxFyR/0k4AAkJIAQ9wn5By1ELQxdD9t3dR/nA8kzdM5WH7x7ifsSd+ovro+WohbGbMXb+dlh6WSIUglJ+pRi9bTRus34uTAHngf8ISUBZCCH6CCklmiKEmPVfs+jHoNAB/FHo25fr7pPQc9bj7Ze3fEz8yIjoEZi5m+F11CtT56pSqWTv3b3Y+dvRbV034r/EY+CszzUbzQKbkjL+P+jP1WLCrgnyBQSkaFvo+VCGbxlO8+XNqbe4Hp3COzFp9yRi7sWQnJKMUqmkybImtFnekj+6Sg0yuWJtDWfOZPlUleAqVJ5fmfmn5vMt+Rs+x3wwdTel/uL6eB/zZtvNbURej8TRryuVpxpRyq8U4ZfDefHxBTpOUor64bucR/WpULNmJgfw7+1/U2thLUZEj+Dzt88MjhyMhacFYRfDMkmoKJVKdq1xotxkXTqs7sCeO3vQd9bPu5YgQIcOEJLu5PVa3wt7f3tCzoRwOO4wRq5GuY62u304CruJmoyKHoW5hzm6zrr5m0AwdCjMnQtIU2xK+pVkSNQQwi6GYepuqpa+2ov7Vyg3TtB7XU+MXI2yFAdXi3/+gZHSOL0aC2ugodDg0P1DGLkaqY5XRJKTOfnoJMGng5m2dxqTdk/C77gf225spfIYQYuQRmg7aXPt5bX82RIcDL/8wpMPTxAKQdPQpgzcPJCua7vK73OKMoXI65GyOLGZuxml/UtTxKMI2k7adArvhN0kTew8bNB31s/lBXNg0yaoW5etN7di7mHO9L3TKRNQRv6OxH+NZ8z2Meg669Ijogfhl8MliZ+X11gfu56+G/ui46SDzXRtTBwNqBJUJf+2nDwJtrYEnAigiEcRpu2dhoWnBW+/vOVDwgf6bOiDtbc14ZfDs4x2Xn5+mRbLW2A4WwsDhQ41F9bMvy0PHoCQum71XfSZsGsC1RZUI0WZgsshF8zczeTZzlmhVCoJOhWE1lwNtOdq0jw0s96o2qRKh43bOAwdJx0GbJJSvTdf38TC00JFbPvzt8/EvojlcNxhzj45KysH3H5zG/25WmgUOoD5pqyQauP+1yl0AH8U+vUDDw8aLGmgEtnZe3cvdRbVwczdjIGbB+J40JGpe6ZKNWge5vif8EepVHL2yVmKuJmSoq1VcFsmTKDmLEsiYiOwD7DPdeZmRnbe3omFpwX9I3qjaCHg1avcN8rBAWy3qh2/R/5OjYU15Atq/Nd4Fp1dRJe1XagSXIXaIbXp6VGX8H7V5NSm73FfGi5piKajZo4ix5moVQu2qKaaXA+70nZlW8w9zOVOvLT3pnxgeSbumkjAiQBmx8ym3uJ6FHU2IaBbMVKUKYzfOZ66i+rmfZoIQMeOsDBdz23M9jG0WN6Cjqs7AhBzLwYLTwuGbRkmC22noVQqWXN5DWYuxkzpYsCJhycwcTPJv27esGEwZw4Au27vws7fjuK+xVEqlbgddsPG24aLzy5mu/mrz6+oG1SDfj0EE3eMp6RfSbV0MrNk1iwYIUmLtA5rjX2APeGXw1l1aRXmHua5zsFVKpX0Xt+LnwcLGgbXRigKMK5s4ULo1EkWttZz1uPJhyfY+tiy9NzSTKsnJCVw7uk5Dscd5tzTc3xN+orjQUccxmli5GyArY9t/uwAiIyEOnU4HHeYop6S+sDma5ux8rJSmdwSFx/H9L3Tqbe4Hoauhhi4GFArpBaTdk/C55gPxadqo5GaFs83p0+DjQ3LLyynuG9xJu6aSNuVbRm/czwgfQarL63Gzt+OivMrMnn3ZIJPB+N+xJ12q9qh76LPb2t/w2yWFhoKwS/hv+TflkePQAgWnQnByssK3+O+lPQrSURsBADhl8MxdDVkZPTITN+D229u0z2iOxaeFujMlaK0AzcNzL8tqcMD5kRPwNrbGt/jvvLkpsvPL2Ptbc24HeOyVaA49vAYRT2Kojm3sAlEXXSFVPen/9825Aek0AH8UejXD9zdCT4dTONljVWeUiqVnHx0kn/2/8PgyMGMiB7BknNLeJ+Q/rkFngyk/eJmkrRFQZk4kT4zK+J+xJ31seux9bFVK22YokyhVkgtfI/70mJZM1bUFPD6da7bYWMjXTCy4I+oP5ixbwYmbiY5TxRYvFiqmUu1I00eophPsdxfPyO1a0NUlMqi0POhtFzREvsAe5XRdInJiWy4uoGR0SPptq4bgzYPIvR8KPGRa6FGDZJTkrH1saX7uu6M2zEub3YAdOoECxbID50OOtFtXTd0nXXlz+PBuwe0X9UeU3dThm0ZJjui1RZUw8rLisit3mBtzZyYOTQNbUqdRXXybgfA8OEwezYAZ5+cxcrLCkNXQ668uIJSqcTlkAsmbiasj12fKcJ46fklqfYr7BcStAQ1FlSn3LxybLi6IX+2zJ4t2YMUFW2+vLmsNTdh1wTKzSuXbdRXqVQyfe90SvmVIs5UyLWRuUo+ZUdICHTogFKpRNdZFzN3M049PsXuO7sxdjPOVez74P2DGLoasrGhKbqO2lRfUD1/doD0va1Vi8vPL2PsJjXyJKck0zqstex45cSzj8+w9LLEsbc1Jk4GDNxcAEfn7FmwsmLztc2U9i8ta4Dqu+irCG0nJCUQERvB8C3D+XXNr/SI6IHfcT/ux9+nanBVxo4shZFCj6FbhubfltQZ6esuraGEbwkGRw5m4ZmFOAQ5yOn2u2/v8uuaX9F20qbF8hb03tCbeovroeOkw/Atw2m5oiU9JpfGRKErTW7KL6nz4312zKb8vPKyluCgzYMAuPX6lqy9uPXmVjk6+vj9YybsmoCBiwFNlzWl2eySmEzTLnQA1eSBkJowClGl0AH8UUgdev7682t0nXXzPGqr69queGyZIonbFpSJE5k7rQGDIwejVCppuaIlo7aOynWzlRdXUtKvJF+TvmLvV5oD9mo6gLa2cCpr5252zGyGbRnG2B1j6bexX/b7WLxYqplDilBZe1uz5vIa6i+un/vrZ6ROHSmSkoFdt3dROagyc2Lm0GVtl9z3ER0NNWuy7+4+rL2t6buxb/7Snb/8IqUYUwk5E0LH1R1xCHLI5DwdeXCEqXum8uuaXxkSNYRl55dJZQOpkZi6i+oyJHIIHVZ3yLsdIEXcZs0C4H78fTQdNem4uiM+x3zkVSJiI7D2tqZpaFM8j3oy/9R8+mzog76LPrNjZpPy+BHPjaROW3t/ew7cP5A/W+bMkSKSwKito+i1vhcV50uTV1KUKYyIHkGZgDKceaIaVf7y7Qujt42mhG8Jrj+9TIy9wMbTEiNXo0wvoTaLFsnfOxtvG5osa4LfcWmk45yYOZTyK5Vtvej1V9ex8bZhwekFLG1mTCXv0rRY3iL/tmzZAjVr8vDdQ1lj8fqr61x7eQ0jVyN23NqR7aYpyhTar2pP/0398e5uS3n3YozZPib/tpw7BxYW7L+3n1J+pTB2MyY5JZnxO8fz09Kfcq1zdDnkgkOQAz6DK2DvbFEwp+vZMxCCnde3UtKvJNUWVCMxOZFK8yvJn1UaD949YPHZxXgd9WLVpVU8/fCU3Xd2Y+5hjuO4mtgpzAo28g9ACBbv9aBqcFVaLG9BXHwcBi4GnH0i1UEnJCXgetgVWx9b9Jz1JI1WR006rO5A5LVI9F30mTizLsWnGhU6gGoyXggxT0ids4WkU+gA/igMGABuboDUdDA7ZrbamyalJGHqbsrZU1HSeKuCMmkSaya1l+es3nt7DxM3kxzrZJ5+eIq5hzmbrm0iKSUJbSdt7hcR8OZN7q9XrJhUM5QFi84uosPqDtx9exddZ13i4uOy3seiRVLNHNBhdQcUBxT4n/Dnt3W/5f76GalbFzZvVll06fklzNzNuB9/Hx0nHZ58eJLzPrZsgVq1+CPqD8btGEfrsNZZpgNz5ddfpSaDVDZf20ydRXWYsW8GAzYNUG8fp07xpKzUDT1973Q50pBnRo6Uau+Aj4kfEQqB22E32q1qp7La+4T3+Bzzodu6bnQK78S0vdO4H39fevLRI9ZUE9RZVAdTd1MuP7+cP1vmzpVqEoEZ+2YwJGoImo6a8ueSokzB+ZAzBi4GDNg0gIVnFqI4oMA+wJ56i+tx7+09SExk7s+CNkuaFWyc3JIlcuS5clBlhkQOoed6aXqNUqlkaNRQygeWz1QjeebJGYr5FGPmvpkolUqG99SjdVADuq7tmn9btm6FGjXk7vkGSxqw4sIKQKrbNPcwV4m+paFUKpmyZwql/UsT/zWeXsNMqe9dkX/2/5N/Wy5cgKJFOfvkLJZelhi4GHDt5TU+f/tM5aDKuBxyyXbTs0/Oyg7RwL9sqelaCseDjvm35flzEILjdw/KztTnb585cP8Axm7GOdYIf0j4QNl5ZaUGkUn2VFFY4X/CP/+2AGhqEnEgiOoLqmPmboZSqWTGvhk0X95cJXr+LfkbN17d4NjDY3KH+i/hv/D39r/p/U9Fyk41K3QA1eS2ECJJSJIpd4Q0OSPt53+ZQgfwR2HAAHCVokRR16PyNFbq+MPjFPUsSsqtm/+OAzh5Muf/04ciHkXkE1Lo+VAsPC2yvIAkpSTRKbyTHKF78O6BVHunKaTpD7lRvLjUNZgF225uo9qCaoCU7ss2lRUSAh07EvsiFj1nPZ5/fM7k3ZPzHsWoW1cqps/Ay08vEQrBl29faLeqHW6H3XLeR1QU8fWrY+hqyIVnF6i2oBpbb27NeZus6NxZkhlJ5eiDo5T0K8nJRycp4lFEvYksJ08yr60pLVe0ZNyOcUzaPSnvdgCMGiV13yI5DHrOeuy4vQN9F/0sR+tlycOH/P6bYPLuyQiFyN2Rzg5HR6krGfA+5k2v9b2os6gOay6vUVnt+qvrzNg3gzYr2zBo8yBWXVqVfkwlJNBysGD0hj8K1mCwdCm0kWrlflr6k1x2kHbcJKck43jQEUNXQ/pv6o/HEQ9ZWsn9iLu8XtW/Nem7pD1Doobk35Zt26BaNZRKJZqOmgzbMoy/tv0lPz07ZjZFPYtyKO6QvOzLty9M2DWBYj7FuPX6FgClp+jQwrd6wUaVXbwIRYpw+81tdJx0+GnpT6y8uBKQHDwjVyPWXVmXabP78fex87eTHcSKUw1o5FaOgBMB+bfl5UsQgquPzmPoaoillyUnH0k3nEOjhtI0tGm2x9LQqKG0CmtFijKFSjNNqeVYjGXnl+XfFgBtbXYeWY5DkAM6TjrceXOH9wnvKe5bPMcZzqsurcLC04KXn15SYXYRKkwtUugAqsmoHH7+lyl0AH8UBg6UHcDE5EQsPC3UHlzudNCJXut7wa1boJePebHfM2UKn/4elak4fsa+Gdj523HlxRV5WVJKEn039qXagmq8+SJF+w7HHcbOt5Q09is+PtPuM5GDA3jx2UWKeBQBpAuHoathekQpI6nF+GnjuwD6buyL+xF3Nf/pVOrVk+Q0MpCiTEHbSZu7b++yPnY9ZQLK5JzCiozEv2dJuZbTysuK04+zrnHMkS5dIDBQfnjr9S10nXVJSUmhTEAZNl/bnMPGqZw4wU9/6hByJoS+G/uq6AfmiT//hBkz5IclfEtw9MFR7Pzt2H1nt1q7SL5/D4upgugb0QiFyP8MXycnGDwYkG5MWoe1ZuKuiWqVKaTx5f0b9P8RuO/8h5YrWubPDoBly6C1NHe34+qOBJwIkKLf331HLz2/xIx9M+i5vifT905XKfF49/UdGnMFI1f0UKtWL1t27ICqVQEw9zDH84hnpprPBacXoOesR4vlLRiwaQB2/nbUXVRXvrF7/vE5GnMFrf1qsfjs4kwvoTapIwhffX6FUAhGbxvN2B1j0029tUMeEZlWfxlzL4bS/qUZu2MsSqWSN1/eSJ3V7hVYfmF5/m15/RqE4MmLOwiFoO3KtgSflkorPn/7TL3F9fg98neVY1qpVOJ00AkLTwsevnvIx8SPaMwV1HIsxsarG7N7JfXQ1eXYifWU8C1BnUV1ZEc45l4Mhq6GWUbG7769i6m7KdE3ovmQ8AGNuYJy0wodwEIKRqED+KMwaBC4pKdFxu4Yq3Y0oFloM+lkffMm6BdARiKNKVNgzBjs/O1UnFClUsms/bMwcDFgaNRQ/tn/D+XmlaPGwhq8+JSu97fy4kqaLWmsvgNYogQcP57lU2kXkE+JnwCpKaRHRI/MKy5YwL6+DTB1N+XlJ0l6plloMznqoDb168OGzM0JJf1KcvTBUb4lf8M+wD5TtCkjKZs2UmGyHuGXw0lKSUJDoZGrnmOWdO0K8+bJD98nvEcoBO++vmPugblqpbfv79+E9hzBq8+vaB3WOv/Ri7/+kgSYU6m5sCbRN6IZvmW42k7LkVMbsJwiuPTsEsZuxvmzA8DZGX7/HZCi5bVDahN9I5pK8yupvYs9V6MpNUHgu9eJ7hHd829LaCi0agVA/039cTvsRoMlDfIkPr77zm7KjNdgcGiXgqU6d+4EBwcAygSUYe2VtWg7aWeK0L76/IqAEwG4HXZj07VNKpmGrTe3UnmCLg19KstdsvniyhUwMeFb8jeEQhB4MpCflv6kssqB+weotqAa5h7mlPQriZm7GR5HPOSo6M7bOyk7TZ86bvbq3exkx5s3IASf3j5HKAQTdk1gcORg+eknH55QOagyjZc1ZtftXRx9cJQBmwZg420jO2MH7h+gxD8GVHK0Yu/dvfm3BUBPj9jT2zFxM2Fk9EgV/Uqng07YeNuo3DDGvoillF8puQ7y6IOj2M4xpNi0whrAvGAlhBgnpDm844QQ1v9dc34ICh3AH4VBg6QLWyqXnl/CwMVARb4hK15/fo2Ok45UG3fzJhgYFNyWqVNh9GjarWrHorOLMj19/ul5Ju+ezKDNgwi/HJ5JZsX5kDODIvpKDuA7NaYrlCwpTQ7IgrR0Y5p47fOPzzF1N2XTNdU07dv53lSaZqSStioTUCbviv0NGkgTFb6j/uL6rI+Vli88s5CqwVWzTdFvCp2C7XQdEpISePrhaf6jXb/9BgHpqa+09+LW61vceXMHXWddXn3OWWbHY/VfdBgmRYWrL6iev1Q0wOjRMG2a/LB1WGtCz4ey49YOSvmVUqtcYerGUfzeTXAo7hCl/Uvnzw6QbpQGSbWMh+MOy7VrGesAc2PStnEM7yyYtW0Sw7cMz78tK1ZASymCOGb7GKbsmcL4neNVUq+5MXPfTH7vpU2XRS0JPBmY+wbZsXs3VK4MQO2Q2kRej8Ta2zpPItezY2YzeJAJlTxLqR3ZzZKrV8FYcvINXAzYcWsHes56mY6D5JRkTj46ycH7BzOd6xQHFPT704pyrtbsv7c//7bEx4MQKN+/R8tRiyXnllA5qLLKKp+/fWb8zvGUDyyPmbsZI6NHSrWiqXgc8aD7xBLYOuaiRqAOBgY8PH8QoRAsOruIn1f8LD+lVCrxP+GPgYsBndd0pkeENFZQcUAhO8bzT82nwww7jKfrFDqAalJHCPFWSBM0tqX+jheqI9T+Fyl0AH8Ufv9dxQEEaLysca4XhJAzIXKzBjdu/DsO4LRpMFpK2UzYNSHPmw/fMpxZOyZLDqA6361SpeBo9hepcvPKqVwAIq9HYuRqJE8E+ZDwgRauFeg83kZO46TJcuR5/FrDhlk6gF3WdmHeSSka9zXpK8V9i2dZw5SQlEA5N1sWdS8NwIVnF+QUdp7p1g38VQvOS/mVki/oTZY1ybE2KjklmbKexVnbwgIAWx9bufYpz4wZI90YpNJnQx+8jnqRmJyIuYc5xx9mHcHNiIN/eTZU02Tztc3UXVQ3f3aAVCoxUJIoiX0Ri4mbCSAdL7kJY6dRLagK66sIxmweztQ9U3PfIDvCwqBFCwBm7Z/F8C3D2XxtMw5BDmrvouGShoQ10KN5UL28R6wzsmcPVJS6oVuuaMmKCyvotq5bntL+7Va1I6ijJbauRQvm6Fy7BoaGgPS9O/HwBJZelmp9T9LouLojAX3LYOlsInfI5ov37+Wb0aKeRdl/dz9CIXj7RY365FS6reuG56hqGCh0uPHqRv5tATAy4t2l0wiF4MiDI5i4mWS6gbr28hoeRzxwOuiUqYFocORgZk6uXagDmAdihBAzvls2XQhx4L9gy49EoQP4ozB4sFTblIGwi2FUCa6S4+SGFstbyI4J16/LJ90CMW0a/PUXwaeDZdHhvNBmZRuWHJknnXQ/qDF2zM4OjhzJ9unmy5tnujCuuLACXWddai6sibGbMa1cK/Kpa7qtaY0baaljtWnUCCIyp75GbR3F9L3pKdC1V9Zi4WnB0w9PVdbzOupFdXc7khtI8jM7bu3IFG1Qm+7dwU9VpqLuorpy9HPdlXXY+dtlK3QddT2Kku7WfCstRei0HLVUohp54u+/pdKAVEZvGy07TkOjhuaaBr7y4goGzvp8MNRi8dnFmbqH84Sbm9Q0BXKENTE5EY8jHnRe0znXzZ98eIKmoyZvDAT91vTIf10kwMqV0FyaDOF73JceET2I/xqPlqOWWhNo3n19h5ajFo+t9anuXzH/EVqAvXuhQgUAflv3G/NOzmPeyXm0X9Verc2/JX/DyNWIy3VKou+kWzBHJ8PNaKX5ldh9Zzdd13bF+5i3WpsrlUosPC040aEqOgqtPMtiqfDhg3QuevuWMgFlOHD/AGXnlc1ThLO4b3H2DWyCUIhMx3yeMTEhJfYKQiG4++ZuJm3E3Kg0vxLrx7UpdADzwGshhM53y3SFEG/+C7b8SBQ6gD8KgwdL3Y0Z+PLtC5ZeltnKrzx6/whtJ22efXwmLbh+HYwKoGmWxvTp8Oef7L+3nzIBZfK8efnA8uy5uEk66X78mPsGpUvn6ACm1VZ9z9svb1l5caUUHZg/X2qaSCXfkbeffoJ1mSN7igMKlbohgAGbBvDzip/lNOzaK2sxcjXiyAonKZIILDu/LP9NBj16gK+vyqKOqzvKnYLJKcmUDyxP2MWwLDdvsbwFHqtGQenSckH9x0Q1Po+sGDsWJqfXKs2JmcPQKEmKZdftXZTwLZFjGnjirokMDOsKurq4H3HPWdMxNzw8JN1MpGhsWrPStZfX0HfR5/O3zzluHno+lAYL64IQtF/eOssyB7VZvRqaSWP+lp1fRuswqSGk8bLGakn/bLmxRapdNDCglFcxjjzI/jjIlf37oXx5AIZEDcHxoCOXn1/GyNVIrWk4xx4ew9LLki9l7Qo2HQVUGtIaLGnA+tj1eB31UlvmJq17OL5JPYRCyHW9+eLTJ+lc9OYNtUJqEXU9in4b+6ldb/no/SM0HTWJ69kWoRC5fr9yxcwMrlzBxM2E2BexNFraSO3I75svb9BQaHDxr+6FDmAeiBNC2H23zE5IAtH/yxQ6gD8KQ4ZkcgBBiijVW1wvyyig8yFn2qzMMK7p2rV/xwGcMQNGjeLJhydoKDTUl/kAWQPw3r3zeXMADx/O9umpe6bmLucSGCg1TaSy7eY2qgZXVdPqDDRuDGvXZlq86OyiTFGrd1/f0WVtF6y8rKi/uD6GrobSLNqICCmSiCRo239T/7zbAdCzJ/j4qCxKu7CnsfTcUirNr5SptiptEsWbfVvB3p4br25g4GKQvznAAP/5D0xKl5AJPBkoi2J/S/5GMZ9i2UavviV/w8rLiv2Hw0BPj8m7J6t0hOYZT0/o21d+aOhqyLWX11AqlZQPLM+WG1ty2Fhyot33zAEhqL+wTv4nkgCEh0OTJkC6TiOA40FHqTM/F8btGCd1revrY+xiSOyL2PzbEhMDZcsCMH7neCbsmkCKMgULTwu1Uq8uh1zoub4nLyqVRCiEPFYxX9y+LYvSt13ZliXnlnD84XEsvSzV+g4uObeEpqFNeda0VsEmtQB8+SKdi169osXyFoRdDGPeyXl0Cu+k1uYbr26kxsIa3OvZGi2FZv6PoTTMzeHSJUr4luD4w+OM3TGWv7f/rdamO2/vpHxgeWJHdS+sAcwDvkKIs0KINkKaA9xWCHFaCOH33zTqB6DQAfxR+OMPUGRWmP/87TM23jaZLmqvP7/GzN1MtckhQ+F1gZg5E0aNQqlUYuxmnCfB3ttvbqPrrEvyK0l7i09qpGDt7eHQoWyfnndyXu6Rg3nzVBzAkDMhaqe+VGjSBNZk7vCNvhGd5ZgupVLJ9lvbWXtlbbpIdUSEFEkE/t7+d/6193r1Am/VlNn3znBiciL1FteTpW9AiowW9y0udYYfPAhlykjSPP52+bMDYPx4mJBeD7rm8hqaLGsiP3Y77KZSzJ6RyOuRkq7ljeugr8+QqCEFm6bg5QV9+sgP0zq0QYo05tQ9//LTS0mmJe4iCEH5gLIFazBYs0a6aUDqFE2LmJ98dBJzD3OSU5Jz3NwhyIFN1zbxTV+nYNqIIH/WIEWs/4iStBJ7RPTIXbsSaBXWigWnF3Crqi16TgXUE717Vx5L2XN9T3yO+ZCQlICes55aqeX+m/ozJ2YON36uhr5jAW1JSJDORS9e0GVtFwJPBnLy0UlJO1WN5qUpe6YwInoEF3o1o6jjv3CDbWEBFy7gEOTAzts7iYiNoMxLZ7sAACAASURBVFZILbU2nXtgLgM3D+T4qF8oNt2k0AFUEwMhxBIhxDchhDL191JROB6u0AH8URg6VJpwkAULTi+gpF/J9FQv0szTTPV5V6+CiUnBbZk5U5r8ANRbXE/uflUHueYtVXuLz2qkS8qUkS5e2bDp2qbcmwYCAqSu2VRmx8yWU5R5okkTKarzHWeenMHSy1K9faxbJzuAPSJ6qIxLyxO9e2dyAH2O+WSKLN2Pv4+5hzmTdk9ix60dNFjSgE7hnaRIxYEDULaseu9hTkyYIDmBqey5s0dFduXNlzcYuhpy7uk5lc1SlCnUXVRXqrNLrQvrvKYz80/NJ994e0vvTSo1FtYg+kY0IHWoG7oaypMTvmfB6QWSPmOqNEhRj6Kcf3o+/7Zk+KwzalYmpyRT1LNojh24V19eRd9Fn4+JH3llql3w9OKhQ1I0HfA/4S/L2wSdClLNFGTB16Svci3a6VrWWLuZ598OgHv3QFMTgGFbhsmTjZqFNsu1UUepVGLrY8uB+wc41boyNi75bKJKIzFROhc9e8agzYNwPuRMYnIiRq5GXHp+KdfN6y2ux6pLqzjUpxFlnC0KZguApSWcO0ejpY2IiI3g6YenaCg0clV8AGi/qj1Bp4LY9WcbKk63KHQA84i2EKKUKBwJl0ahA/ijkIMDqFQqGbh5IA2XNOTU41O4HXbLWjA0NvbfcQD/+Uea/QoM3DwQp4NOuWyQzryT86RC/FevpJPuFzXSx2XLSo5KNpx8dBJbH9uc9+HvL3XNpvJH1B/MiZmjptUZaNpUquv6jicfnqifilq7Vo4KNV7WmPDLmR1KtejdW4p2ZWDlxZU0X94806qnH5+m69quFPUsyuyY2em1fjExUK4cC88szFdDj8zEiVIaOJXzT89j4al6MRy7YyytwlqpRL1WXFhBaf/SUhlBapNS42WNWXslc5pdbXx8pOhoKj+v+FkeeQZSzVma0O/3NA1tStCpIHj1ihQNgYZCI/vxguoQESHXe8bFx6Gh0JCjSsO3DM+xdGHugbmypuUtKy10nXQLll48fFhqqAKWX1hOqzBJnzAtKp+dUwyw/95+eYLJ3voWVPQqQLQYIC4ONDQAmLR7kpzydz7knLWOZwauv7qOvos+X5O+sqddOSq6Fy+YLUlJ0rno6VP+3v63rLvXcXXHTLOAv+ftl7eyvFB03zrUdClZMFsArK3h7FnarWonO8MVAivk2gCUokyhiEcRzjw5Q8Sfzag3o0ShA5hH6gohfkv9XUihA/jjMGyYNOQ+G74mfWVw5GDM3M0oE1Ama1mEK1fA1LTgtsyaBcMlbbS81rD9vf1vSbA0dfySWg5guXI5OoCP3z9GQ6GRs/Pl7y91zaaSnYZhrjRrBqtWZVqcJuisTmcna9bIdWH50iJMo08fqd4tA7tu78pbV3FqY4DTQSd+j/w9f3aAVP83bpz88OG7h2goNFScvfcJ76kQWEGuUYx9EYutj226oHBqjWrF+RXZc2dP/m3x85PqI1PpHtFd5UIeej6U6guqZ3Kmjj88jpGrkdS08/Ilb/UFQiH4kKBGp3p2rF8vaUeSLtSdFsk5FHcIC0+LLL+3SqUShyAH+b05XVIDa48CRpeOHpUklZDS7hmngNRYWCPHG5HR20bz59Y/AdjQuAj1/asUzJYHD6TjH1S+e+eensPEzSTHYzn4dLDsvG7oZE99rwoFsyUlRbLl8WNZqgekru3c6gAzSvqsGlCd5m4FtAXA1hZOn5ZT4yDdLEzZMyXHzc4+OYuZuxlJKUks+ashrWaULXQA1aS0EOKCkNK/8am/Lwoh7P+LNv0IFDqAPwrDh8Ps2bmulpSSlH1dUer4pQIze7bsAG68ujFPqcP2q9pLXappDuBXNQrJy5WTIlXZkJySjJajVs6RGj8/qWs2FYcgB7bf2q623TLNm0vSHllg422jnjZaeDg0bYpSqcyzxIMKfftKHa8ZOP/0PEU9i6q/j337oEIFlchHvpg8WeoETuXzt88IhcgkRH3x2UWMXI2oGlwVI1cjZsfMTnfEUmtULTwtMqWK88R3zv6I6BHM2j9LxTYLTwuVkV1KpZKfV/zMP/v/kRa8eMFdc4G2k3bBom4bNkjTY1JfI6PUTooyBTt/Ozk9nZErL65g4GIgyxTtLieo5Fc2/3aAJKZeogSALHWShuKAItvIW3JKMtbe1vKNytIWprSd36Bgtjx6JB3/SqVKDa9SqaSYT7Ecb4p+W/ebPAt4aeeStPFVrz4uW5RKyZaHD+XZ0SCJ7efWIT1m+xi5QSN4UGV+9ahRMFtAGn158iTDtgyTsxQrL66k4ZKGOW7methVTuv7jq5N15lVCh1ANdklhAgTQpinPjYXQqwQQuz5bxn0g1DoAP4oqOkA5sjly1CkgPUyINkxbBggXaiMXI3UvkiWnVdWGpX04oV00k1QYwJG+fJSpCoHSviW4NjDrKeFAJJcSmpUSKlUYuiaz47KFi2ydQBrhdQi8npk7vtIlQaJ/xovj27LF/36gbvqLOO0VLQ6sh6ApA1XsSJ9NvTB86hn7utnx5QpkhZgBgxcDLJ0bt99fce6K+sy17/FxpJsaoymo2b+RuOlERCgku6ftneaShMMSE0qVl5W8ojCDVc3YO5hnl5n9fw5Z4oLrLys8m8HwKZN0vzoVL53bmfum5llA9PQqKEqEdmIqoJGwbULZsuJE5JzgSSDlPFG4cqLKxi6GmZZYxhzLwZrb2v5xtKnrTE9Q1oVzJbHj6XjPzmZFRdWqDQIDY0amm1j1PuE9+i76HPt5TUAfLvZ0mNekyzXzRNCwIMHKhqUKcoUrLyscpTeqRxUWT7m3QaXY4BXo4LbUrIkHD/OhF0TZP3MuPg4tBy1coxGt1jegpAzIQDMHVOVgbPqFDqAavJOCGH43TKj1OX/yxQ6gD8KI0ZIqdeCcOnSv+MAzpkj1SQipZ41HTV59P5RrpslJidKelnxcfD8uXTSTVSjZq5CBSlSlQONljbKuW4sQ11Y2vzgfGne/fyzNN0hCzqFd8q2tkyFVaugeXOuvbxWMOmV/v0l0eMMJCYn5k2Mds8eqFSJVmGtWH5hef7sAGkKyBjVeraMU0nU4soVXtuY5E+gOyPz5qk0/Hge9aTvxr4qqyiVSnqu70ml+ZUYET0CQ1dD1WamZ8+kqFtgxfzbAbB5M9RJT7V+P7Xm8fvHGLsZcyguvcv9xqsb6DnrpYsbK5WE1BV0WJp1F7XanDwppReBe2/voeWoJX/3lEolFedXzDINPGrrKBUHetYvhgxflvuc6Rx5+lQ6/pOSiLweSe2QdOd249WNVJxfMcvjYuXFldRcWFN+PKeXFUODCiAanoamJty/T0RshEqkrd/GfszcNzPLTe7H30fLUUu+aZg+1I7RvgV0jEGq0zx6lLkH5qo0qlUJrpLt/OUPCR8kea3U6PL4sRUYPbtxoQOoJjeEEDbfLbNNXf6/TKED+KMwcqTUfFEQLl6UNKYKyty5kixNKhUCK2QrRp2Rm69vouesJxXBP3smXQC+qRGpqlhRilTlQN+NfXE/4p79Ct7esgN47um5vKVJM9KypTTfNQtGRo/M9mKhwsqV0KIFMfdiVNJweWbAAGns2XeYe5hnGg+VLanzYastqMa2m9vyb0vqeMCM1A6pTdT1KPX3cekSN+1N0HPWK1ja9TvNxyXnlmQ5WeTLty+EXQxj4OaBnHlyRvXJJ09YW03w05ICRnQiI6F2unNTb3E9ldQzgPsRd2osrEFSShJJKUl0WduFEdEj0ldIScG9qaDfKvVEkrPl9GmwsQGk5oXvb4IWnllIleAqKtInTz88xcjViNOPT8vLxnbTZ/KqQQWzJe34T0zMdBx8/vYZcw9zFac4jY6rO6oc5//pb86EkG6Z1sszWlpw926mGtqo61GU9i+dpRyM8yFnfgn/RX7814jiTPf/JdN6ecbeHg4flifHpDE7Zna22pHRN6KpEJhefzh0nD3T57YudADV5A8hxBEhRCsh6QC2EkIcEkIMEUIUz/Dzv0ahA/ij8G85gEXz6fhkRKFQcQB7ru+p1risbTe3USU4tXg8LQKgjgNYqVKuDuD0vdMZtXVU9it4ecnSIJuvbVaJOOSJVq1g+fIsn1K7kSIsDH7+mfDL4SpaeXlm4EBwccm0OG20llrs2gUODurXL2bH9Onw118qi9qubKvWtAuZixc57mBCCd8S+bcDMk19yZfEzePHLKgn+GW1emLA2bJlC9RKr1FLEz3OSEJSAjUW1qByUGUaLmlIleAqqhHcpCSmtRH8FVGAJh2AM2fASkppJ6ckIxRCJXKfkJRAKb9SKlGmUVtHZaoNHNRHF+d1qs5+nslQAnLu6blMHeNT9kzJ9LovPr1Ax0mH+/H35WVDfjdDsbSAzihIotR37nDi0QmK+RSTFycmJ2LpZcmB+wdUVlcqlVQIrKASNR7wpzXugb0pMKmyV0vPLaXtyrby4kvPL2Wbph8cOZj/7Ezvwu85vjiujr8UOoBqoszwk5LN45T/mnX/PQodwB+FUaMk/b2CcOHCv+cADkkX03U55JIpxZYVXke95CLljCmgXKlUSUpV5sCis4tyFnbOIA7sf8Jf7ZFTmWjdGkJDs3wq9Hyo3J2YIytWQMuW+Bzzoef6nrmvnx2DBoGzc6bFzUKbsepS5k7lLNm5k5QqDmg5aqlcWPPMjBnw558qi/pt7Je3OboXLhBd15gaCwtYSB8cDJ3TZ/5mFGBWm0ePcGkmGLhpQMFsiY6GGun/T+8NvfE66pVptcTkRBaeWcjsmNmZL/DfvjHyV8HMLeMybZcnzp6VNOZSMXU35cqLKyqrhJwJoZRfKc49Pcfma5vRd9Hn5uubKut0GaTN/M3TKRAZZKDuvLmTqdnmfvx9dJ11VWpBh28ZLk+XSaPbMGP8w1RvPPKFnh7cusW1l9cwdFWdlz5ux7hM4uHHHx6niEcRlWkov44xJzg4e5FxtUlVPVgfu14lHZ3mdG6+tlll9Tdf3qDvoq/yWbabaEWgc89CB1BNKqn5879GoQP4o/Dnn9JFtiCcPy+pzBcUR0dpNnEq225uU0t6ZMCmAeljyp48kYvAc6VyZSlVmQO77+xWER7ORIbxYON3jmfcjnxeTFu3hmXLsnxqz509VJyvRs3Y8uXQqpWK/lm++P13cMqswdhzfU98j/tmsUEW7NjB69qVCl53lzodJiNjd4zNW2fx+fMsb2KknhOdEwsWwC/pqbhLzy9h5p7H7veHD5nYTjCuIJ8PwNatUD19QozaZQIZSUykd0+B96586FZm5Lvjv5RfqUwNDinKFNwOu6HjpIOVl1WWM2ibD9di5bbMpQd5Ik0I/tMnXn9+neX3r9/GfrRc0ZIv375w4tEJDF0N5Rq3NFr+acCKNVMLZguAgQHcuJFlE9X5p+cxcjVSkXjqtb5XpoxD83GmrF6Uy0hKdahQAfbvz1LSadb+WZnKGfyO+9E0tKnKsoaTi7DCbVChA1hIgSh0AH8U/i0H0FLNaRU54eSk4gCm6fDl5kBUW1AtvSYsrQswJfdRSzg4SKnKHFCpL8wKDw+paxZJF05tB+l72rSBpVmnNdOiB7nWr4WGQuvW9N/UX60RXNkyeHCW86FHbxvNtL3T1NvH9u1c/ak8Rq4FHGH1zz/ydJg0FAcUOY5dy8S5c/i0MVRrRu7/Y++to6O63u//E9wLRYq0SEtLi7dQ3IoX91KkuLs7MQgBAsFDQnALFkKCBA8Sgru7a5Hgksz+/fHMTEauzjnfT+e33ve1FqvN3HtPDsPIvuc8z96KBAUB9ZK2bu/F3wPzYviSqGG12cLt2+jYmPFF0gHA5s1A0aLWH0fsHIFem3WuWH34gFrtGRbsdfE1a+HUKbsa4GLzisnWfV5/fl22O71E72SI3M6R1AIAL15Ys8A/J3yWjLl78+kNKiysgIKzCiK1b2rJGt9f+6XCxrXajehlSZcOuHgRbz+9BfNi+Pfdv3aHu2zqgqqLqyIhMQHLzyxHtinZnBqtSgxOh8gFyl59mjCXvMTdi0PuafYm18/fP0cW/yzWmutPCZ8km3d+GZEBG/x7GAJQByUYY90YY4Md/vwvYwhAd6FXL6qz4uHECXEC8J+keiSTyYRsU7Lh8L3Dspd8/PLRrkvN6gOmRQAWLgxsU24y+fDlg3L366RJ1DULoFRwKay7sE7990pRqxawQDqq6vXH12BeDC/ev1AeY+FCoGZNVF1c1S6hQjcdO0rmQ9vmvKqyeTN2Vy+AgrMKuj4PgKyBunWze2jOkTlosKqB9jGOH8fIhmmthsMuM38+8GdSqomcJ6Eit26hcWuGWYdn8c1l61agSBHrj/4H/DWVS9jx/j1Kd2NYf1i69EAzDi4AlRdVxoozzqk2auQb5IF9MdKd8Jp5+ZLe/+bvlnQT01mtXWx59eEVQk+EyuYDfz8kBfZuDOSbC0AZ6RcuWL0ab7y4YXf4zac3+HHWj/h+5vdIOyGtZCpH/uGpsW8x5w0DQDe827fjwtMLyODnnN0eGBeIwnML4+LTi2i1rhVKBZfCxy/2dlp5RqfGzskDDAGokdGMsQTG2FVGhtCWPyf/y0m5AYYAdBd696ZOSx6OH7cWgXPh60v1ZzbUXFbT6kElxalHp5BpUqak1TEbI1hVihRRFYAAkCsgFw7dPSR90M/PKgCzTclm19Woi9q1gZAQ2cOZJmVyjuBzJDQUqFUL38/83vUUEIAacSTiAecdnaeaYGAlKgor6n/ntIWkm/Hjrd6QFsLOhaF8aHntYxw7hi6t0rgW0WdLcDBQt671R5PJhNS+qZ1q2RS5eROVOzHttZRybNtGX+iWqanVqkrx7h0K9mPYdSpc/Vwlzp61SwJquKohxd7pJPNIhjOHNPhdKhEfT+//V7TKmCsgF+Luxeke5uuRyXBqs45GIzkyZaKkJDh7NVp4/OYxoq9FO3eMW+YyOjlOL3cx19sW8+edZeXa0dj/U8IntN3QFql8U6HQ7EJ4+vap0xAZxybH4YCRhgDUyBPGWOX/ehJuiCEA3QURAvDYMcqZ5GXCBOpAtWHo9qGKKzdLTy+1Fxl371qjoFQpUoRWUlQoH1oeq86ukj44cSLQtq11NchiAKybOnUUBWDhuYWx9arKXENDkVi7FlL6pEzyenOFzp0l4wHXX1iP0iGlJS6QIDISAc1z8TWjACREO3e2e2jXjV121hSqHD2Khh1TY/YRzu3FkBD6d7JBt8C4cQNFejPX0mJsiY6mGlYzjj5zmnjzBlmHM5y4xHGzAJDAsckCbx/e3pqooZVEUyI8PBlun1A2Zlfl9Wt6/7+g1fKf5/yM6GvKZR6OmEwmJBvPcGvHWvWT1fjqK1ohBVy6MTOZTEg+nuFmWBD/XIoVA7Zsse4oWM3JHXj14ZVdE4oFS4f3xUAfQwBq5DFjLNl/PQk3xBCA7kKfPmS2y8OxY1YfMC4mTnQSgKvPrbbLFnVkcPRg++B7myxQVYoWBbaofxH/vf5vTNwvU5xunrMlSN5ln7m6dWmFSYbay2sj5Li8QAQALFiAR/WrgnkxyQ9wzXTpIpkOc+DOAeQNzKttjE2bMKRtdr5mFMDJGgig2Lcs/jp8Jw8fRrleKRF2LoxvLqGhtFJrQ5G5RfSJuevXkWsIc2lVyg6z0bb1R62NQjaY4uNJXNw+zTcXc9SeBVfi/yx5xq/OSWSN6+HtW3r/P38OACi7oKysybEcVoEUo084SpIlC9lkgfwrNSX62GC5sXy+nnPFGABKlACiopBoSkwyztfBqw+vyOJndoAhADUyiTHW5b+ehBtiCEB3oW9fitviwcYIlgvzapotD14/QDLvZLJ3qzWW1kDwcRvhdPs24OGh7fcVK0bF9CqM3jXa3kDXlgkTgPbtse3aNt1fwHb8+SfVmMnQOaIzPPd6Ko8REoKjzcohx1TO1diuXSXTYSwNMZpEbkQE2nbJIi+cteLtbWcNBFBzkK7mi7g4/DAoOd+2OGCtsbSlyuIqurZzTVeuIPVYpm/bWIqdO6mr08yxB8d0x8u9fkbP44vH+oSAExcvUrODmbG7x8q/X2S48+oOPDwZEq9yPi/v3pEAfEZ1mZpunBy4++ouzSVWR9qMHFmzUpMcgGpLqumuzX34+iF1D0ds4J9LyZLkHwkgs39mnH6kT/jffXWXhPG8uYYA1EgmRqkfpxhjWx3+/C9jCEB3QYQAPHLEGgXFhU09nS0/zf5Jsjg6ITEBmf0z29fO3LqlXQAWL052GiqEHA+xM061w9cX+OcfzDw8U19jgiP16lGXqQzj94xHl01dZI8DAIKDsb5NSe3btHJ06yZpDm5ZGXn+/rn6GBs3okafjFh4UtraRjMOneFAUmOO5u32Q4eQcbSHkzedbsxd1rY0CWuCmYdnah7izfmT2p9DJXbtoixrM1Ked2rcuXOWhM4r6ZsrzVy+THYnZgJiA3R3XJ95fAZfjWTA9et8c/nwgQTgU6pfa7m2JabGTtU1xNnHZ5FplAdF3PGSLRvVSANovLqxrtcKQA4AGcYk0/Q5pcpvvwER5JaQf0Z+yUQUJc4/OY+MY5MjPjjYEIAa2cAYu8kYm8cYm+rw538ZQwC6C/36AUP1bdc4ceQIkCuX+nlqTJpktVSxpXtkd8kQ98P3DiOLfxb7YuZbtyh/UwslSpChrgq7buxC/hn5pQ+aBUrvzb1lg+Y1Ub8++czJEHI8RL3If/58BHb6GU3DOCOsuneXNQfP6JdRvRkFAMLDUXhIGvW6RTXMAtuR9BPT48LTC5qG+LB/D199pgWzz6ItmlZmbbh1fBeSjWfytkJa2b2bjH3NyHneKXHm6gESXW9cyK625coVMjw245g0oYX9t/cj70AG3LypfrISnz6RAHz8GADQLbIbxuzWl3R04M4B5B2SjD7XeMmRg0pkAPyz8R/4xOizljl09xC+HZ5CU6mKKqVLU4Y0gBJBJbDp8iZdl8fejcW3I1MhPiTEEIAaecsYy/FfT8INMQSgu9C/PzCEQ7gAdKcsQgDaeOrZsvLsSsnILZ8YH+eVhps3KX9TCyVLahKAD18/hIeXh2RUksW8uvrS6k5RXLqoX5+SJmTYenVrUtydHEFBGNQzv+tm1BZ69JD1htRcVL9hA74enRwnH57km4t5i92RfIH5sP/2fk1D3N21AR6ezl2PujEnrdgydPtQXXWOx2LXIfswjTWqSuzdC3yflHMrFcGmRszZSOQfQKbJXFy9CqRKZf1x3YV1+D3kd11DRF6ORPGejG7gePj8mQTgQ7JtGrp9KPpu6atriKgrUSjeN4VVuHGRM6dVSPbb2k/3TeLWq1tRdGBqTW4FqpQpA6ynvOiqi6tKmnErse3aNhQemg7xoaGGANTINcZY2v96Em6IIQDdBRECMC4OyJ1b/Tw1/P2tqRq23I+/j2TeyZwMZCsvquxc33PjBpAihbbfZ1MTo4TJZEJm/8zSYsYcX5dnWh7NgkSSBg2AOfLWGeefnEf6iemVt/jmzUOL/jkREMtpGdGzp6w3ZPWl1TVt635cu1rZP1ErEo1BAHkuOkZXyXFiSyiyjdC4KqzEsmVAtWp2D/nt90ObDc5lC3JE7wnBL301ligoERMD5LdfldZkFWRDxJFlKNmDYtO4uH6dMm/N7LyxU1+XNoDlZ5ajSkdGTVw8JCSQAHxA5s+++3zRPlxfpu/yM8tRpVsK8jflJXdu+nwE1UZ23dRV1+Wrzq5CpT5pVQ3rNVGuHLCWOpsbr26s24tyzfk1KDcwA+IXLTIEoEb+YoyFMMa+/q8n4mYYAtBdGDAAGDyYb4xDh4A8efjnMnmyNVfXkSJzi2Dp6SST2NcfXyOFTwrnnNnr17ULwF9/tdbEqFE+tLy0ua2nJ153bse/xdiwITBb3qbE0g34+M1j+THmzkWZoZl1dz060auXrDVQ+/D2mrax7qycBw9PnSkZUvj5OTUGAUCd5XU0F/dv2zgVvwxMqX6iGsuXA1Wq2D00/9h81F1RV+YCZ1Zs9UflLgLE6L59QL58dg/lC8ynq65r0b6Z+KMDo7o5Hm7csFt1P/bgmO5GpNmHZ6Hh34xsnHhITCQBeI9WQmcdnuWU86s6lyOz0eiflNbmDS7y5AFiYwEAU2On6q6NnHd0Hup3S6+aWa6JChWAMOqEd2U7esGJBajd9yvEL1liCECNfGGMmRhjiYyxzw5//pcxBKC7MHAgMGgQ3xiHDgHffss/lylTgFatJA/NOTIHpYJLWVfA1l9YL73K4LAaochvvwEbtdkydNnURTpr1dMTx3s0Qhb/LK5bwABAo0bALOU78lwBuRB7N1b+hDlzkGt0annTaq307i1rDTRy50hNiRpHlvrhm1ECRJdN0ootbTe01Rx3t2zNaFTtmYZ/LitWAJUr2z209vxalFlQRvMQM8JHoElbjTcoShw4AOS1t+TRW9c1dbsnWrRkwMeP6icr4VB3e+35NaTyTaXr/TAhxhftmzKKcuTBZCIBaBaSS08vRdXFVXUN4bvPF/+0SmW1b+Hiu++Ag9RNHHI8xClvVw2//X5o2yEjNf3wUqkSsIr8TPtv7a97OzogNgAte3yN+GXLDAGokToKf/6XMQSguyBCAMbGihGAU6fKCsA3n94g06RMiL0bi08Jn1BodiHMiJvhfOK1a3b1SIqUKmUtilZj2qFp0s0V48djZb9qKBdaTtvvlKNxY1UBWGlRJcW6nU+zAuHhyXA/nvNLtE8f2c7wWYdnoeGqhqpDbAodhhKD06mep4pMXeiAbQMwKFrb6zZgWS+06MiZSQwAK1fSl6gNu27s0hV3N3Z1d3RtLkAYHzzo9J7TazMyMqIvejRgVDfHw+3bdt6bz949A/NieP9Z+9by0OjB6Ptn0tYtF4zRnABEXIpAyfkldV0+ZPsQ9GucihJOeMmXD9hPpSFrzq/RvtDxsAAAIABJREFUdbMAUMZzn9aZgD2cFkYA3bysoF2McXvGqbsKODB+z3h07pwN8StWGALQgAtDALoLgwaRCOTh4EG60+Vl6lSgpfwWyaDoQfh1/q/oHNEZxeYVk95evHrVriNREZuuODW2Xt2KQrMLOR8YNw7jB/+KDhs7aPudcjRpAsxUtojosLGDYsfpzUBPpPD04G926NtXtjN8w8UNisbcFuYHdUWdvl/xzQOgsgCJulA9tXcjFrZGr78zqZ+oxqpVQMWKdg+dfHgSX0/+WvMQPZe2xMj6Gl+fSsTGOpVdNA1risA47fm13cLaYnR1Bnzh3Ka3pO+YV/w+J3zWXf/ZLaILxv7BgEeP+OYC0GqkuZlk7629KDCjgK7Lu27qinF1U1kj3LjIn5/qNQFsv75d+jNEgR5RPTCm2VfWMbioWpXKGEA3tHpTevpv7Y8h7XIgftUqQwDqoBRjbBZjbL355xKMsbL/3XTcAkMAuguDB1MdIA8HDzptR7lEQADQQv5DKf5jPLz2eqHYvGI4eEfGpPXKFSCNxu2+0qWBDdoMVm+/vI3k3snxKeGT/YGxY9FqeAFMOjBJ2++Uo2lTYIbEiqYNPjE+aBfu3BBhYVdAbxQYJWDVrV8/2caguHtxyBmg7vnoNbs5OnYTkA89dapkXejiU4vxx5I/JC5wplNQXXg205EcIsfq1VRHZcPtl7fh4eWh2dalZUgtBFRPq36iGhKNV50jOuvKO26+pB6mlWfUOMGDJX87Mek5SDcxHS49u6R5iJZhzTG1QpJ9CxfJk1NdIigrXFdqDIAWa1tgWtVUlHDCy/ffU8c2yLZKy3vHlr/W/YWp9TNTzScvf/wBLKU66tAToai5rKbKBfa0D28P31Y5ER8WZghAjTRljL1hjC1jjL02P1aGMbbrP5uRe2AIQHdBhACUqEdyiWnTFAWgJi5f1i4Af//daougRqIpEeknpsf5J+ftD4wZg1/GZNbtqeVEs2ZAoPLqzcqzK1E+tLzs8bmTW+DPwQISWfr3l20MuvvqLjy8PPA5QXnbsEdgDYzsIKAsICBAclU4+lo0fp7zs8QFzjSYWQ5z6gsQo2vWAOXtn3+LOfaL9y80DfHHnNJYUkHAdvThw07m64OjB+uypKkWXB5LSiSt3LnM/fskAG2EZO5puXXF3dVeUhMLfksycOYiZUqrofSdV3d0CXQAqLmsJhaWTUUJJ7wULEiejQAuPbuEtBP0if86y+tgQc2v6TOWlxo1yMsSOnO9zTRc1RBzmuRG/Nq1hgDUyBnGWFXz/780/zc1Y+zJfzMdt8EQgO7CkCH0hc/D/v1OHYkuMW0a0Lw53xgOqQSKlCkDrFuneegyC8o4dQI/Gz0QHp4MT99yfnE1bw5Mn654yuF7hxW7K/v7VcbAPtrr0WQZMEC2LvRzwmd4eHmo+s3Vm1ICc/7+QfEcTcjcFJx+dBqZ/TNrGqJswM9YW0OAT+XatUDZsnYPmUwmpPRJiWvPr2kaoti0gthcSsB29JEjTvGLei1Pis38GVE/CfAkfPiQBKDNVnLhuYWx7Zp277rf55fCusJJEW5cpEpFpSDQL9ABoHRIaWwokYo+S3j58UeK7YNNrJvKzZMtZReUxbpKX1s7ibmoVYviDEG1q3qteiovqowVf36L+PXrDQGokVc2///C/F8Pm///X8UQgO7C0KG05cfD/v1OnmQuMX06rYTxcOmSXS6pImXLWn2xtDBsxzB0juhs99jGMc3xyxhtQkSR5s1J7Cjw9O1TMC+GN5+kkxtqTyiEoG6/8s9l4EDFutBvpn6Dw/eUY7KKTMyDqKZF+OcyfbrkTcGTt080NxoUmJQTeysLqFFdt45uGhzIPS235s7rXJOyIa6ogNfL0aOUMmHDnCNzdMUR5p7yDQ59K0AAPnpEAvBTUnlEhYUVsPLsSs1DfB9YAHvyM+A5Z0QeQDsAVyhT2GQyIYVPCtx4cUPz5QVnFcTun1JaRSQXhQpZLVwsVk7P3mkXuYVmF8LO37NavQS5qFMHWEBm9a5kRxedVxSba3yH+A0bDAGokbOMseLm/7eIvl8ZYyf/m+m4DYYAdBdECMB9+8QIwMBAqoXj4eJFIL3GLbZy5WhbTyPbrm1DvsB8dvYWg8eWQffhv+idpTMtWtB2pwImkwkZ/TLizOMzksfzeWfB3n+qSB7TxaBBimUBvwX/hg0X5WsnTSYTMninwbl6nJnEAL0mJG4KEk2JSO6dHDdfqEeHZfBJiwtl9DUCSLJ+PZUNOPDr/F+x8ZK6nZDJZEIqn5S4VlB704gsx48D2e2/wFedXaVYIuA4l9Q+qXAlmwBT6idPSADa2Mk0XNUQs4/I+1o6knlSZpz+hgEvtK/UyZIuHd0Imsk+Jbt9XrgK2aZkw/G8KchRgJdffrGaOFvE6PXn2vOOv5n6DY4Vyyoml/jPP4HgYACuWfV8O/1bxFbMi/jwcEMAaqQLY+w6Y6w9YyyeMdaCMXaeMdbhv5yUG2AIQHdh2DDq+uQhJgYoIOALdsYMfgF44cL/MwH49tNbpPRJabea8Pv4XFgxqIbeWTrTsiU1PKhQcn5JyQQMy+rCw9b1+ecyeLBiWUCDVQ0UUwSev38O5sXwukYl2XM0o/Ca0LLyZnlenpbUt90lyYYN1DjkQJ3ldRB8PFj1cst25MvvBNQjnjgBZM1q95CeBI63n97SalQGAabUT5+SALRJFOkY0RFee700Xf4l8QvF2GViwKtX6heokT69XQNHodmFsOO6NiNly5b+9exJjSRcFC4MbE3Kw846OStOPNSeMJLaNzWu/ZiVVnx5qVcPCAoCkLSboMeqJ4NfBlwonQ/xERGGANRBT8bYFcZYAmPsAWNs+H87HbfAEIDuwvDh5PvGg0MuqcvMmEF2KDxcuABkyKDt3PLlrc74WrGNn3vz6Q2Se3rgTl99UVOStGpFRtgqtF7fGr77fJ0eP/3oNDJ5pYGpJWcTDUB1oQqrwr0391Y0kT358CSy+KR3ys11iZkzZV8TaiuRgHmlwzsFTEVUcpS1EB5O3pEOaE1HufniJpJ7J4cpp4BGnZMnga/tVxJPPTqluS7S0hyRkFJjbrYSz56RAHyXlJU9ZPsQzQ0pFt/AdykZIOI7IWNG4HxSs1a50HIIO6ftfW65Yfg3QzLKFeelaFFgyxbrj9/P/B57bmrz9Pvw5QOJ9O+y0oovLw0aAPPmAQA+JXwC82J49Eab7Y7F2udBsfyIj4w0BKAKFSUe8/g/n4X7YghAd0GUAPxBQMH/zJlkiMzD+fP0BaCFChXI2kMHnns90WodmVWvu7AO+cZnouQMXv76S5MADIgNQJMwZ0EUdi4Mv/t8J2ukrQuVsgBZU2wzGy9tRMmJeYHq1fnnMmuW7Gui/sr6mHt0ruLlMbdikN/vG/oi5iUigtJjHBi6fSj6blFfRT96/yi+8ftaTG726dNAFnt7k/vx9zU3GZx8eBJZ/L7SbpquxPPnJADfvrU+pMen8fKzy0jjm4bGeP2afz6ZMtmZONdbWQ9Bx4I0Xfrg9QMwL4YvyZLMpLkoXhyIirL+qLVcAAAevXlE/57ZvxYTS9eokV3eeNoJaTVb9VjNvX/Mj/jNmw0BqMJr9VP+pzEEoLswYgS/gNmzR4wAnDWLPqR4OHeOvgC0ULGiNRpJ8/BPziHdxHQIvxiO76Z/h5BRtfkFNEBmx5Mnq56299ZefDvd2V7FO8Yb7X1/k81S1sXQoYplARGXIlA8qLjs8RlxM9B48q9kO8HL7Nmyr4mum7pi7O6xipevPLsSFab+AhQrxj+XTZuAks6pElMOTtGU8br16lYUnlpATG72mTPAV/ZG2x+/fNS8qrPrxi4UDMin3TRdiRcvnMRb8PFg1FleR9Plh+4eQu6pOZ1EpMtkzkzPj5m2G9pi4v6Jmi698PQC0k9Mbxcnx0XJkvS6MVNtSTUsPrVY06WXnl2iuWTJIiaWrkkTu7ShXAG5NFv1WGsGC+RH/NathgBU4c1/PQE3xxCA7sLIkUCvXnxj7N5Nfle8KHzZa+bsWacvRlkqVaJ4L50sPrUYzIvhjyV/wDR0CH8NJUBxZ/7+qqfFf4yHh5cHHr+xN8z9e/3fmDChjmRqhm6GDVMUteeenEP6iellC8gHRQ9C/4AaQE19RrOSzJkDNJSOnhu7e6xqnNWUg1PQcmZFWonhJTISKFHC6WGtebPLzyxHlRklxcQmnj0reaOT0S8jzj1RT7BYc34Nys4uod0zU4lXr0gw2Xye6/GZi7oShWKzCzttI7tMlizAqVPWH/tt7Yeh26WTbRw5cOcAvpv+Hc3lnrLVkSZ+/dUub7xJWBPpCEsJ4u7FIfe03PR5dka68UsXzZrZmc3/MucXRF+L1nTp0ftHyYIqXz7ER0cbAlAFYwVQGUMAuguiBOCPAorsZ8+W/bLXjMTKiCw22Zh6WXZ6Ge6+uiumixoA2rQBJmlLE/lp9k/YcjWprshkMiFvYF5ET+wsmZurm+HDFVeFLXVSjiLUQrM1zTAtsBX5jvEydy7VLkkdOjoX9VcqN70M2DYAA+c1khRuuomKkhSS265twy9z1DvBpx+ajmZzq4qJTTx3TrLUocCMAppqzOYdnYd6wVW0WyYpER9PgunlS+tDe27u0RzBtvT0UlQNqUBjfPjAP5+sWe22TMfvGe9k3yRHxKUIlAwqSXMRkUvskDfeYWMHeMd4a7p027VtKDy3MAl9EbF0LVrYeY3qqY3ccX0Hfpr9E/Ddd4jfscMQgCokMMb2qPz5X8YQgO7CqFFAz558Y+zaJUYAzpkj+2WvmTNnaAtICxwC0IoII20AaNsW8PPTdGqbDW3smg4s2zPv/LxJSPIyYoTqTUGugFyIvSttTlsquBTWz+oJ1K7NP5d584D60iJPSy5xi7UtMDWko+TWrW42b5bcStaaBzx8x3D0XtBEjGm6TLNTmQVlsPa8urel7z5ftF/cSHvHvBJv3pBgsrFwOfP4DL6apO1GbPqh6Wi2tL6TlYzLZMtm1zQxI26GYs2qLQtPLkSNJdVpLg+1ZxnL4pA21H9rfwyOlk7ZcWT1udWosLAC/TuLiKVr1crOaqruirqautcBYO35tSi7oCyQJw/id+0yBKAKnxhjvip//pcxBKC7MHo00KMH3xg7dwI//cQ/l7lzZb/sNSNRHC9LlSrWcHSXERGlB5AAnKitTmnaoWlovDqpMSLoWBCqLalGArJtW/65jBypelNQaVElLDu9TPJYtinZcGzOaDKe5SUoiOwrJDh09xByBSgnfJQPLY9ViwfTVhwvW7ZINpNobb5oH94evku7iPHMvHhRcvWu3sp6qo0xADBw20AMWNFOe8e8Em/fkmD691/rQ5bn5EviF4ULiTG7x6BrWBsa47P2lAxZcuQAjiX5/i09vZTeHxqYGjsVLcOa01xE5BKXKWNnNj9uzzjVsgULQceCUG9lPSdfQ5dp3dqu0eyvdX9h8kH1umPApqYzVy7E795tCEAVjC1gZQwB6C6IEoCFCvHPRWG1RzOnTjnZY8hStSqwTFrEaEbFNFkz7doBEyZoOvXAnQPIPiU7PiVQ8kLzNc0xYd8EEpDt2vHPZdQo1ddEh40d4LnX0+lxi7/c03kBQN26/HMJDiYDWwluvbyF5N7JkZCYIHkcAPIG5kXMcl/J7l3dbNsGFHFON7FYajx4rbxlWHNZTYSuHibGM/PSJcnIQ61bjO3D28NnbR/tDVNKvHtHgskmxs1iYfLk7RPVy3tt7oURG/s4xcm5TM6cFJVnJupKlGLTki0jd45Ez4huNBcRucQOXqMBsQFosVabVZP/AX/qpE6TRkwsnUOdcY+oHhi1a5SmSycfnIy/1v0FfPMN4vfuNQSgCoYAVMYQgO7CmDFA9+58Y+zYIU4Ayqz2aEbCH02WatWApUv5fp9KbJpm2rcHfJ39/aRINCWi0OxCWHxqMRISE5DFPwt1802YQOPwMnq06mvCO8Yb7cKdxebpR6eR0S8jTEFBssJNFyEhsiuJlq5XOeGVaEpECp8UuLZ6rqSBs26ioynZQYIs/llw6tEpyWMWiswtgs3r/MR4Zl65ItnAMWT7EE2WNPVW1sPcjaO118sq8eGDpGBKNzEdLj69qHp5q3WtMHnLaBojMZF/Prly2UWnHbxzkBo7NNA9sjvGbB/uJGhdxsFqasGJBai1TFtt7MidI9F7c2/q1BYRS9e2rV2d8YidI9Brs7b671G7RqFnVE8ge3bE79tnCEAVjC5gZQwB6C6MHQt068Y3xvbtwM8/889FhGg4edIpIUGWP/4Alizh+30DBtAqIC///AP4qJsJWwg9EYrCcwsjMC4QWfyz0Fabry+Nw8uYMaqviRVnVkjGji09vRSVFlVS3LrVxYIFirWEuaflxsE7ByWPPX7zmLzL1q6UjHDTjcLr/Oc5P6t2VH49+Wuc2BQkxjLp6lVJDz//A/5ovV69E7zsgrII2zxZe72sEh8/Sm6Zfjf9Oxy4c0D18prLaiJ01xQaQ0c0mSx58gCHkhJiLj69SHYqGmi+pjmmxUyiuYjIJa5Y0c5pYO35tSizwDlPWooeUT0wetdoIGVK4Lr2+DhZ2re3KzOxruppoNfmXhi5cySQNSviDxwwBKABF4YAdBfGjgW6duUbQ2FlRBfz5/NvG544QUXgWhAlAAdrK+pWpEMHwFtbdyBAq185A3Iix9QcSQLIx4fG4UXDayLuXhzZQjgwKHoQ+mzpI2Y7HwBCQxW7iSsurIjlZ6TrOE8+PIks/lmAdeuoFosXhZXuKouryNZEAkmrlQ+3rhHTMHXtGgkDBxaeXIgaS9X9FwvOKoid24O0r5Yr8fkzCaZH9v6DJeeXRMSlCNXLf53/KzbuD6ExRPDtt8DBpJsCi6GypWRCiWpLqmFJXJBTU4vLODSabb++HYVma9stabG2BaYdmgYkTy4mlaRDB7tdhtAToai5TJtVU+v1reF/wB/IkgXxsbGGADTgwhCA7sK4cWIEYGEBUVvBwfwC8PhxILvGrNXq1YHFi/l+X//+1AnMS8eOugQgQALnfvz9pAd8fGgcXsaNA7ooF6q/+vAKHl4eTqbD1ZdWx4ITCxTtW3SxcKGin2C78HayMWxRV6JQdF5RKsIvW5Z/LgrNTi3WtkBAbIDkMYCi15J5J0PCjmgxDVPXrwMpUjg9vOnyJpQIUre8yeiXEedi1mpfLVfiyxdJ25QaS2tg4cmFqpfnC8yHfXFhgIcH/1wAIG9e4EDSyqNFfMvZFtlSPKg4ok6tob+PiFxihzrjw/cOI2dATk2X/rHkDyw5tYSeFxGpJJ062X3GhF8MV+2it2DtGP7qK8THxRkC0IALQwC6C+PHq37Zq7JtmzgByNs5euwYdQFqoUYNYNEivt/Xrx95AfLSqRPg5cU3hre3GAE4fjzQWd03rei8ogi/mORxZjKZ8PXkr3H0/lFFA2ddLFqkmCgybs84dIroJHls/rH51Lm4Zg0V4/Oi4HfZZ0sfDNsxTPbSw/cO45up39A2soh62Zs3aWXIgUN3D5F5sAKWRp1nh3Zpv1lSIiGBBNP9+3YPt1rXClNjp6pensEvA86fjJb8+7hEvnzAvn12D6WbmE5T7FmeaXkQeyFaXCydwy7DpWeXkGaCNvPtYvOKIepKFM3lzh3+uXTpAnh6Wn/cd3sf8gXm03RpudByWHN+DZAxI+KPHDEEoAEXhgB0Fzw9NX3ZK7J1q2R3pG5CQvi94/QIwJo1aYWJh759xQjAzp3tPpxdwsuLhCQvnp6axukW2c0uYeFe/D0k806G95/fi0l1AWiFViFTeNHJRbIWH1ZxGBYGlHeuV9SNQuShd4w3/tkoX3+58dJGlJxfklbLRdTL3roluWJ29d+rSOmTUjalBQBuvLiBFD4pkHj0iPb3ihImk2RyRs+onlQ3poClg/rh2UOSK5ouUaAAEBNj91CeaXlkfSttSTMhDS7fOEJ/nzdv+OdSvbrdTeaTt0/AvBg+fFE3vM49LTfi7h4Sl0rSrRut7ps59+QcMvppy00vNLsQtl/fDqRPj/hjxwwBaMCFIQDdBVECUMIfTTcqBf+aOHoU+OYbbefWqkU1Zjz06UPRabx07kwrbzyI+LcESEhqWElcfGoxKi6saP056kpUUiLGrFlA48YyV+pgyRJaRZEh5laM7CpG6/WtKQN29WrqxuRl717ZDt6FJxei+lJ5oTrv6Dz8ueJPcavlt29L1sy9/PASzIsh/qP8Z2vs3VjkmZaHrFK0vlfUkFilGrN7DLpFKjcTWerzPl4+L9nU4hLff09i3YZi84ph85XNipe9//yeVkbvXREXS+dwk/kl8QuYF8O9eGVBZzKZkNo3Na4+vSQulaR7d2rwMvPw9UPNtZHfTP0GR+4fAdKmRfyJE4YANODCEIDugohVIxmDXN0sWMAfH3bkCPmAaaF2bfqdPPTuTdFpvHTpYnd37hIitvMB2krW0Exy5d8rSO2b2voFMmHfhKQO1JkzKXyel6VLya5HBkttnZQJc8n5JbHh4gZg1SrqxuQlJkbWw2/XjV0oOEs+D9saRyZqtfzuXcmuWZPJhBQ+KXD9uXzX6IaLG1AquBRw+DBZpohAok5t+qHpaLammeJlF55eoA7dK1fI7kQEBQvSdr0NVRZXkW0WsnAv/h6ZVz9+KC6WTuIzRotlkGWb/nn8Y8kGG5fo2ZMsnsxYaiMd63ilSO2bGlf/vQqkTo34kycNAWjAhSEA3QURdWMyEVm6CQ1VLPjXhJ4vNRECsFcvik7jpWtX6r7lQURDD0DNJBrsZEwmE7JOzorD9w4DoI7cmYdn0sEZM4Cm2uK3FFm2jArpZUhITEBKn5S48eKG3eOJpkSkm5gO55+cJxuOypX557Jvn2yKx9V/ryK1b2okmqR97LpFdiNLD1E3S/fuyfrm5QzISb6QMlgzlOPigNzK9YKaSZbMqVN16emlqLq4quJl+2/vR97AvGR0LGFs7RI//kgNOzY0DWuKwLhAxcvOPD6DzP6ZgSdPxMXS1alDtc2205v1I3be2ClzAXH75W0k806GxA/vaS5P1A21Vendm1J+bEg/MT0uPFWOmbPWjL57BqRMifhTpwwBaMCFIQDdBVECsLg2p31FFi5ULPjXhJ4vtTp1qO6Qh169nD5UXaJbN7vtGZcQ4ekIkFWERkPpBqsaYMzuMYi9G4tMkzLh1Qdz52RgINBMefVHE8uXU2SfAj/M/MHpC9WyMvjxy0dNY2hi/37ZHF/L9qHcakqDVQ0w+8hsICpKzM3S/fskDBKcU1BKzi9p15zjyPg94ymOLDaWPPNEkDw5cMNehG+5ugVF5iqvdlrznGWi7VyiUCGy7LHB6qmnwJ6be/DDzB9otU1ULN2ff5K9lQ3lQ8tj9bnVMhcQJx6eQNbJWYH378WlkvTt67RbkTcwL/bf3q94mUWMJiQmAMmTI/7MGUMAGnBhCEB3QYR3XFSUGAGo0vGpCT0CsG5dp7tz3fTsSdFpvHTvbrc94xIiUl0AShTRGCl39P5RpJ+YHoXnFsbwHTZfLtOnA82b889lxQrV1buay2oi5Li9kN9+fXvSlqzKKqJmDh4kixEZckzNQXVSEpQKLoX1F9YDkZFi3isPH8pGp1nFpgzdI7tjzO4x9Pf5TltChioSZsXHHxxHtinKnpzW1cgLF8TkEgPkSRptb8o9bs84dN2kvDq+7sI6/B7yu+Jzq5v69ckT04aGqxoq/vsAwI7rO8gv0BKzZ5Oz7DL9+zs1rJWcXxIbL21UvMzu39HDA/HnzhkC0IALQwC6CyLSIyIjgRLq3mOqLFqk2PGpiUOHtK9qSNyd66ZHD37hZhmHV0iKyHUGKC2gbVvNp688uxIZ/DLYR7JNmwa00JZ5qjz4SqBSJcVTukV2c+o2nXV4FhqsMvsQqtQRaiY2lkyGZSgdUhrrLqyTPJZ7Wm7qQt20CShZkn8ullWqT84F/D2ieih23zZa3YgEyIEDioJWF6lSOcWVPXj9QLXJYOzusbQaee4ckFFbR6oqhQtTraUNs4/MRsNVyrZEwceDUXdF3aTVVRGxdA0akCWSDZ0iOknmaNuy+txqVFhYgTqRRZlSDxzoZFqvxasx+lp0UnMXY4i/cMEQgAZcGALQXRAhAEV9qS1erNjxqQmVL2k76tWjyDIeRKzcAWJWEkeNonF48fMD2rTRdYmTrUVAANCyJf9cVq9WbeCYfWQ2+f3Z0Htz7ySLGpVOYs2o3Fw0X9Ockhsc+JTwCcm8k+HOqztARATw66/8c3n8WLZOzSfGB+3D5bfwyywoQ0J13z7ZLW3dpElDjRw2fEn8Ag8vD8WO166butJq5NmzYnKJAaqx3LLF7qE159eg7AJlM3C//X5os6GNbIONSzRqRJZINgzfMZzSchSwCtb4eHGm1IMHO+WWt1rXClMOTlG8bPmZ5ai8qLLV7if+0iVDABpwYQhAd2HCBM31XrJs2iTmS23JEv6VGj3bWiIEoIjaPUBMLeHIkTQOL5MmAX//zTfG1KlAq1b8c9Hg4Xf8wXF8NekruwYMayIJoOolqBmV8oJB0YMwYNsAp8ct5r+JpkQgPBz4TVv6giKWRgWJTtWFJxfijyXygjdvYF7K6FXoatZN2rTAJWej5RxTc+DYg2OylzVY1QBzjswBTp8Wk0sMUI1lVJTdQzG3YlBghvLfdcj2Iei3tR/Z2YiKpWvShDribZhycIpqBq/XXi90jOgIvHxJcxHxXTlkCG0D26DFqzEwLhBNw5paDb/jr1wxBKABF4YAdBcmTtRc7yWLqFUNEVt1egSgRH2ObkR07wLUocfbTTxiBI3Di78/0Lo13xhTpgB/aQuaV0RDisfnhM9JHb9m8kzLQyIHEFNbCqh2mAfGBaJJmLP1TdSVqKRmiA0bgFKl+Ofy7BkJg/fvnQ5FX4vGT7PVYm7lAAAgAElEQVSl4+ZMJhNS+abCtefXFH0NdZM+PTVyOFA8qDgiL0fKXlY6pDTVRp46JSaXGKBylEj733nx6UWym1GgU0QneO31IpPtZMnEzKVZM2qIsmHRyUWqec39tvajFewXL8SZUg8bRslFNmjxahyzewy6R3a3Zj7HX7tmCEADLgwB6C6IEIAbN4pZ1Vi6lL9YX09dU4MGlFnLQ9eu/P59gBg/weHDyZial8mT+cXb5Mn8IhLQnONbdXFV64rfozeP4OHlgX/fmQvnVfKENaPiMWntaHVg+qHpScJw/Xrg99/55/LvvyQM3r51OnT+yXmkn5heMg3kxfsXYF4Mbz69Ia88mWQT3WTIAJw/7/Rw7eW1nRp0bPl2+rc4eOcgcOKEmFxigMpRIiLsHvr33b9gXgxvPzk/XxaszRk3boiLpWvenOphbYi8HKma19xmQxtMOjAp6d9ZhCn1iBFOnw/TDk1T9WrsHtmdOqg/fiQBeOOGIQANuDAEoLvg56er4F+SjRvFrGosW8Zv16Fg1eFEw4ZOBdq66dKFP8EDEJMoMmwYWT3wMmUK//atvz//NjIArFsHlCmjetqoXaOsmcCzj8xGlcU2r6PQUP6EGYBiBhWSM+S6Xntt7pVUj6jx76PK8+eyK0OWNBCrJY8Ndithu3bJZhvrJmNGauRwoMPGDvCO8Za8JNGUiJQ+Kcm0+vhxMbnEAN2MbrTvbE00JSK5d3LcenlL9jLrauT169TVLIKWLake1gYtec1W4fz0qThT6lGjnEpElpxaIhulaKHZmmaYfmi61ZIm/tYtQwAacGEIQHdh0iTdBf9OhIeLEYDLl/Mb9iqY9TohUaCtGxEZvoCYTOGhQ522eFxi6lT+Bg4RrytA84pZ5OVI/DyHMnYrLqyIeUdttvZDQsjzkRcVkfL07VMwL4Z3n+1Xa2otq4Xg42a7IY0rmqpYasNev3Y6ZDKZkG5iOkmDX6vXHUBmyT9JbxXr5quvqJHDgRE7R6DXZum6VMuq3JtPbyjCUUQuMUCfRRs2OD2cMyCnrE0PYJMXfPWquFSSv/6iGyobrv57Fal8UynmNZcKLkUpNpZmH4lub92MGePkEhB1JQrF5in7UlpTVN6+JQF4+7YhAA24MASguyDii3rDBqB0af65aPB8U0VPYXujRpRZy0OnTmIEYL9+VKTNw9ChTkXeLhEQwG/hImJlGdD82nr27hlS+qTEjLgZSOGTAk/f2hjnBgeT5yMvJ04A2eR97UwmE9JPTI9zT+xXwvLPyI89N83ZtGFhqjWNmnj1SrE79MdZP2LH9R1Oj688uzIpv3n7djJNFkHmzNTI4YBcXSRAW9UZ/Mzef3oiHNX4/Xe6cXCgeFBxRF2JkriAVghT+KTAzRc3qZs5TRoxc2ndmlbDbbBsw7/+6CzeLeSfkR/7bu9L8iQUYUo9bpyTUXzs3VjV1chf5vyCbde20c0GY4i/e9cQgAZcGALQXRCxVSeqrmnFClXPN1X0CMDGjfkFYMeOlKfMS//+Th5dupHo8nOJadP4TZxF1JYCulaXIy5FIP3E9E6WMJg/nzwfeTl5UrVOreLCilh6eqn1549fPiKZdzLcfXWXHli9WrWrWRMWe5CXLyUPV1tSDYtOLnJ63HefL9qFm/9doqPJNFkEX39NjRwOhJ0LQ7lQacFrl58cFycul7hsWVppdaDmspqynndP3j4B82JkZ3TpkrhUkjZt6CbbBst29M0XN2UuAjL6ZaSmpgcPZBNfdOPp6ZQVfvnZZaSZoCx2s0/JTp3c5puO+Pv3DQFowIUhAN0FEcX669eLqWtauVLV800VPZ2NEhYNuunQgeL0eBkwABg0iG+MwYNpHF6mT+ePcRNhLwTobjC6+u9Vp1xgBAWR5Q8vGjpVB2wbQFYiZuwsYABg1Sr+1zhgXY2RMwhuF94Ovvt8nR7/Z+M/STV527aRabIIsmalFVIHYm7FIF9gPslLVpxZgUqLzDd8egzc1ShXjlZaHbA2Vkhw+tFpygEGKJUkvXLHsGbataObIQe+mfoNjt4/KnnJp4RPSbGClsxnEZ6E3t60Y2GDXNmChURTIpJ5J6PaSXNHcvzDh4YANODCEIDugggBKKqwXcSX45492jsbmzYFZszg+30dOlCcHi8DB/ILwEGDnIxeXSIwkJ4bHkQYjANiLIbmzSPLH15OnwayZFE8ZfmZ5XYrXpGXI1F0XtGkEzQkm2jCXI+F588lD4/YOQI9o5xNwSssrICVZ1fSD1u2AEWUs3o1ky0b1Ug6cOXfK0jtm1qy3i0gNgAt1ppLDQ4e1G7grkaFCrTS6sDAbQMxKFr6Pbbt2raktIvz58WlkrRvT+8FB4rMLYKtV7dKXOCQoCLSk1Ai9jMhMQHJvJPh9svbkpc8f/88qXva3JEc//ixIQANuDAEoLsgwq9NVGH7qlX04c3D7t1AwYLazpXw6NLNP/9IfsDrRoR4EyEiARLFTaTrtjQjImMaEJMyM3cuWf7wcvasqlmxZcXvcwLVbPnt97O32RDR6AQkZcQ+eyZ52C4Kz4bsU7InNUJs3kymySLIkYO6pB2I/xgP5sXw4r3zSuXQ7UPRd4u5a/3AAXG5xBUrktB2wG+/H9pukK5LXXRyEaovNZuFi0wlkblBrLq4KpadXiZ5ybEHx5B9irnZ6NYtwMNDzFwmTJC8KcsZkBNx9+IkL7FsEZtMJmtHcvzTp4YANODCEIDugojEhrVrxRS2i6iP0iMAmzen7U4e2renD1ZeRGzfDhjAX0cI0LZ448Z8Y3h7U30kLyJypufMIcsfXs6dAzJlUjwl0ZSIjH4ZcfoRNUSUDy1v74MnwuoIsFpy4OlTycNbr251MoN+9eGVvRiLjASKF+efC0D2OEecO2xNJhPSTkiLi0+dTaLbhbfDhH3m944e+yY1KlememIHQk+EouYyaT/IifsnJonDM2fEpZJ06iRZI9x8TXOyVpEg4lJEkk/gzZviPAn9/CTrcn8L/o06jiU4eOcgvp1uXpk1dyTH//uvIQANuDAEoLsgQgBqSGvQhIgOST3eZiIEYLt24gQgbwNH//78ncQANcbwCkAvL6d6I5eIiuIXKbNn8/99AM1bg9WWVMOCEwvw4PUDJPdOjidvnyQdFJF2A1hNefHkieTh+/H3kcw7mV1t14mHJ/D1ZJsaRlEZ3gA1cBw+LHno+5nfJ3VB21BzWU2EngilH2JitNs3qVGlCgltByIvR6J4kPRrqe+WvklejSJTSWR8Qntt7oXhO6SN3+cdnYd6K801qyI9Cf39JR0f6q+sT3F8EkRcisCv880lGOaO5PgXLwwBaMCFIQDdhYAAfs83DXmtmhAhJPV4m7Vo4eTSr5u2bSWLvHUzZAi/h1+/fvxeggAJwEaN+Mbw9CSPRF5EbFPOnMm/pQ1Qc0CGDKqnDd0+FM3WNMOcI3NQdXFV+4NLlgB/yOf0aubTJxKAjx5JHjaZTMjin8UuhzfsXBjKLLCp1RUV4QhQRvKhQ5KHKi+qjCWnljg9XnBWwSSrGpGxdNWqkdB24PC9w/hmqrSRd/M1zREQazZsVrH70YVMVKTffj+02SBtv2UXzybSk3DKFMl6726R3TBmt3Se+YITC1BrWS364f59EoAvXxoC0IALQwC6C9Om8Xu+hYXx1+4BJAB5awl37NDubSbh0q+bNm1oa4WXoUP5Uzz69uVPEwFoxYx3y3T8eCfLCZfYuhUoWlT9PCVmzOBvagEo61ZDd+jNFzeRNzAv0k1Mh5mHHbrMFy8Gqlfnn4s5lxUPH8qeUmVxFTsrmAn7JtiLjvBwMRGOADVwxMZKHuqyqQtFidnwKeETknsnx51Xd+gBkbF0f/xBz7MDD18/BPNieP/ZOT/ZrjlGZCpJ9+5kwOzAstPLUHmRdC1ox4iOlEkMAJcvA2nTiplLQIDkbs/4PeOtKTqOTDowCX+vN9uE3b1LAvDVK0MAGnBhCEB3QYQAXL1ajABcu5a/m3j7duDnn7Wd26oVbYHz8PffTj5fLjFsGH+Ob58+/HnCANXM8TZNjBtHqx+8iLAqCQzkt7UB6MtYoz/c3Vd30SSsCR6+dhBoCxcCNWrwz+XLFxKADx7IntJ3S1+7rtcOGzvAc69n0gmiDNwBauA4cEDy0JSDU9B8jb2vpKW5wGqPIzKWrkYNYJGzB6LJZEKaCWkk6xELzCiQtE199Khi5J8uevakCDYH9t7ai/wzpLe8ay2rlVQ3evGiOE/C6dMlP+uDjgWh7gppo/T+W/snvYZu3wY8PBAfH28IQAMuDAHoLkyfzm/6K8rbbN06fkNpPQJQIqZJN3//7eT07xLDhwO9e/ON0bs3Bb7zMncuv23K2LFOqQMuIcKsWMRrHBCTEBEaCtSqxT+XxEQSgPfvy54SfDwYNZYmic2KCytSpJcFUQbuAJA3LzVySLDp8ianuLHIy5H2j+3YIS6WrmZNep4l+GXOL9hydYvdYxZheOnZJXpAZCpJr16S78nrz68jpU/KJAFsQ5G5RZLmqLHsQBMyN0KbLm+SrY1sGtYUgXFmp4Rbt4DkyQ0BaMCNIQDdBRGrI6K8zUR8IekRDH/9RT6IPLRuzT8GQF8SvaQzUzXTqxcwciT/XObN4zdOHjOGtr940SPo5RCxyg2IqcdasACoXZt/LiYTCcC7d2VPOXT3EHJMpXzdd5/fIf3E9Dj72CavV8SKu4X8+SmHWwInM2yQB6DdqqCIf2cLtWvT8yxBvZX1nBoeXn54CebF8OqDOVYvLo5qGkUgsyr/4csHMC/mvEIMILN/ZmsXuZbOc83MnClZCnH0/tEk2xkHSgWXwvoL5li9GzeAlCkNAWjAjSEA3QVRAlCEt9n69fxbUnq2DEWINxGriAAJN14BKLPdpJugIP7otNGjnYLnXUJPTaccIhqdAODaNSBVKr4xQkKAOnXUz9MCY2QULMPrj6/BvBgev3mMtefX4uc5P9sbMovq3gcofnHvXslDlnq/Wy9vWR/rFtkNo3bZvFa3bRMXS1e3LuU/S9BnSx8M2W7fKX/x6UWknZA26bmJjRVnSq3QmJV9SnanNJB3n9+BeTE8e2f2dxRpSSPTDX8//j6YF7N6V8rO8do1IHVqQwAacGMIQHdBRIH8ihViBOCGDZpzX2XZulV7uoGI7dtWrcQIwFGjSMDx0KMHCS9e5s+nL1EeRPx9AH1d3XKIsDoCxFhyBAfzP7cWPDyoLkuBwnMLY+bhmWga1jSpscCCqO59gBo49jhbvVj4cdaP2H59u/XnqourYvGpxUkn6HnfqvHnn3QTI0FAbIC9MTcktqgPHhRnSq2Q8S3lv3f136tI5ZsqSYyeOqWaPqOZuXMlm7u+JH6Bh5dHUl61mfef31tvIABQCUTatIYANODGEIDuggiLjOXLxZjbiuhK1PNFIhHUrpuWLfkbSQAxK2Y9ekh2HOomOJh/lUrEiiYgpjlAxv5CNzduAClS8I0hYnXVQrJkZBSswJ6be5B+Ynqk9k2Ny88u2x8UkbxjoWBB+reSocGqBph1eJb151wBuRB716ZrePNm/m5vC/XrUxmDBBsubkjytTPjt98Pf62zSUMSaUqtkM7TeHVjzIizj6KMuRVj3xxy8iTlLIsgKEi2tjfH1BxJCTFmLGLUunV/6RKQPr0hAA24MQSguyBKAFatyj+XjRv5BeCWLdq/SNq25bdwadGC30oGIAHIWzMnYzmhm5AQ/jq1ESP4m1oAfckucvj702ovL+YieC5E5RIDNJcbN1RPG7ZjmL3/nwVRtbsAifSdO2UPD44ejD5bqMvdsjVt3eYExBh+W2jQgDrZJTj58CS+mmQf89YuvB28Y7yTHhBpSq2Q8NN3S1+n7eiVZ1ei4kKbhjqRljTBwbI3HyXnl0TEpQi7x3bf3I0fZtpY81y4AGTMaAhAA24MAeguiEh9WLZMnADkNabVYxwswsRZhJk0QMKNt2u2WzdJ01ndLFjA36k6fDi/rQ1A24q8/nCTJkkmIOjGbIPBhahcYoC2o69fVz3NZDJJet8JK90AqE5zxw7Zw8HHg62GwicenkAW/yz29YibNvFH/llo1Ijq3SRwisMDbcWuu7Au6SSRptRDh8oavPsf8EerdfalCVMOTrF/TKQlzYIFsiv7f674E/OO2q+aLj61GNWW2KTWnDsHfPWVIQANuDEEoLswezZ/6oOoeKuICP5oKj0rCSJi3ETEyQEk3Hh987p2Jf89XkJDyUqDh2HD+JNNADFfxn5+JPZ5uXOHGi94EJVLDFBDytWrrl8vKpcYoA7e6GjZw6cenUL6ienx8sNLjN8zHvVXOqyCikwladyYdjZkyOKfBScengBA2c1pJ6TFhacXkk4QsepsQcHfc+XZlaiw0H4LfsC2ARi4bWDSA4cPU8yeCBQsiLps6oJxe+w/O3xifPDPxn+SHjhzBsiSxRCABtwYAtBdECUARcRbicgmjYzUvpLQvj2/AGzWjDqpeRk3jj85QyZ3VDcizIqHDOHPNgZoO65AAb4xJk4ksc+LOQmBCxExexZSp6bCfFcRdeMGUOf9tm2Kp1RaVAm++3yRY2oORF9zEIsiU0maNqXmNhl+C/7Nam1y88VNpPBJYd8BK9KUWqEUYv/t/fhuun2zSa1ltRB0zKaB5dAhcZY0ixbJ3th57vW0F3sAum7qah8Rd+oUkDWrIQANuDEEoLsgYkVCVL6piG0gPQLwn38AX1++39e0qRgBOH48f3Zu586UwcvLokX8cWUKtU+62LePvx5rwgQS+7zcu0cC0HbrUi+icokBMqW+fFn9PDlEvW8BarzaskXxlPCL4UjunRyFZhdyNkAWmUrSrJniqnz78PZWC5rNVzaj8FwH2ygR1kMWFLrhb7+8jeTeyfHxy0cAtFWfbUo2+2YMkZY0S5bIvq/XXViH34LtBXid5XUQfNzGTufECSB7dkMAGnBjCEB3QURNkqh808hI/kJwPauIHToAPj58v69JE8XVBs14egKdpPM4NdOpE+DlpX6eGosX8wuDQYOoA5IXER2Zvr4k9nm5f58EYKJzeoNmROUSAxQRdumS69eLEPoWihal+lsFEhIT8MucX5JizmwRkQJkQaUud835NSgyl5wCphycghZrHUzCo6PFmVIrNHdZBF/cvTgAFB+Y3Du5fb3mgQOUsiKCZctkV3wt0XxfEr9YH/tlzi/Yds1mVffYMeCbbwwBaMCNIQDdBRECcNEiMfmmUVHaGzjk0FNL1LEj4O2tfp4SKvVGmvHy4heAIv4+AK0U8G4NKthf6OLgQf4vQB8fEvu8PHxIAjAhwfUxROUSA0D69NSZ6SoLF/LXelooXpzevypYVrucWLsWKFtWzFxUrJniP8YjpU9KXH9+HW03tMX4PQ5lEyLypy2oRCI2Wt0I0w6RWN10eROKznNwMBCxAm5hxQrZms+ExAS7ODyTyYQMfhlw/sn5pJOOHAFy5TIEoAE3hgB0F0TYUijUluhCTwevHHqsZDp25F8xa9SI6rp48fam+fAgYkUToNow3q7uAQNkDXB1IWILTMRzCwCPHpEA/OycmKAZUbnEAGXEnj+vfp4cIrq9LZQoQavvrhIWJi6VREM6T+3ltdE+vD3STkibFLtmQY+VlBrjxyvW9vof8LdG4nnu9UT7cIdShb17+WtgLaxapWj781vwb1h7fi0AyipO5ZvKfjUyLg7Ik8cQgG5OC8bYJcbYO8bYBcZYUw3XeDPGHjDG3jDGYhhjRRyOF2eM7WOMvWWM3WeMeToc92SMJTDGXpvHeM0YW6nw+wwB6C4EBfHnvopaSRBhBqtHAIrYMlWwnNCFiFUqETWNgJju0P79qRGEl0OHgDx5+Mbw8uKvrwSAx49JAH765PoYAQFicokByog9d87160X4PVr49VdafXeV1avFmVJrSPiZc2QOmBfDhH0STWAibkQtqJR27L+9HzkDcsJkMqHhqoYIjHOoJxZhg2QhLEzxOe6wsYO1Ezj0RCgqLXIQi7GxwHffGQLQjSnLGPvAGGvCGEvOGGvGGHvPGPtN4ZphjLE7jLHCjLHUjDE/RiIvnfl4BsbYQ8bYBMZYKsZYUcbYPcbYAJsxPBlj+3XM0xCA7oIIAahgL6CLLVv446DCw7XHyYlommjYUNZ0Vhc+Pvx1aiK6mgEy9ub1h1PIQNVFXBx/F6TKKoxmnjwhAfhRZhtTC6Ji6QDgq6/ImsNVRMbS/fYbvfdcZeVKoGJF9fO00KaNqsH707dPMWLnCLuaNyt6GsnUUFl9fv/5PVL4pMCtl7fw7fRvEXMrxv4EkR3Ja9cqrrIGxAagSRg1KLUPb2/fAQxQPWK+fIYAdGMWMcY2ODwWzhhboHDNTcZYX5ufkzPGnjDG2pp/7sAYe8wYS2ZzTn/G2DWbnw0B+P9X5s/nj6YKDRWzkrB1K3/tjZ5uQhG2KQqpA7rw9eXvVG3Xjt/YGqBaId6EiL59yQONFxE+aOPG8XssAsDTpyQAP3xwfYwpU2iLUgSZMwOnT6ufJ4fIWLrSpem95yoiTal53wci/EgtaGhA+j3kd1RfWh0pfFLg1YdX9gdFdiSvWweUkUiEsfyq6zusyR95A/Ni5w2HZBdzPaIhAN2Xk4yxEQ6PjWKMHZc5PxNjzMRo5dCW7YyxAPP/T2eMbXM4Xp4xlshodZAxEoBvGAnHW4y2f/MrzNMQgO6CiFWABQvECEARxdfr12vvJhRhnFy/PjXS8DJhAr9XnYhoO0DMakyfPpQGwsuRI0DOnHxjqBTia+bZMxKA7yVSNbQyebKYXGIAyJKFvNlcZd48/tV/C7//TgLDVUSaUrdvz1cKISKS0oKG93Xw8WB0jOho7Qa2Izoa+OUXMXPZsEHxs/HRm0fw8PLA7pu7kcInBd5+emt/gtmU3RCA//csZiTUEs3/dfyzx3zedcZYD4drezLGrsqM+635+kIOj4cxxkLM/x/KGFvtcPxn81xym38uzBj7zvz/uRhjK8xzScekMQSguyBCAIaEyEYM6WLbNv4PO5W7XDu6duWPTqtXTzZ4XhcTJ/KnVbRpQ7FnvKxaxV+P1bs3meDyIiIKa8wY/pxlAHj+nATgu3eujzFpkphcYgDImhU4edL160XG0pUpQ1uMriLSlJq3GUqkJyFvCo2IXRELGzeqlscM3DYQybyToXxoeeeDe/YABQsaAvA/IB1j7GuFPxnN5/1XK4COpGJUi1hT4feiT58+GDRoEAYNGoRohRghg/+HiBBvISFiaolE+G/pEYDdupE44OHPP2krjRc/P/682jZtVIvfNbF6NVBe4gtAD716ASNH8s/l2DEgRw6+MUaPBnr04J/LixckAN+8cX0MUbF0AJAtG3D8uOvXz54tLpauXDlgzRrXrxfhPWmBt7tfzy6CGv7+fIJfZEfypk2aLLIWnlxoTUqxEB0djUHNm2NQ5szo06ePIQDdlEWMsfUOj7lSA/iUMdbG/PM/zLkGcACzrwF0xCIAa8kcN1YA3QUR27eiism3b+evd9HjJ9a9uxgBOH8+3xiAmJUhDd2PmhBhydGzJ6Ug8HL8OJA9O98YCmkMunj5kgTg69eujyEqlg6g5+XYMdevnzWLfCxFUL483Ti4iigvUYC/uUukJyFvzaeebHMtY/E0t+zYAfz8s7EC6MaUZdT125gxloIx1pyRHYxSF/BQxthtRtYvaRljkxh1+dp2AT9gjPkyxtIwxooxxu4y+y7gloyxrOb//4YxtoyRsEwv8zsNAeguiGjgENFIAogpeF6zRrt46dGDVod4qFuXBDAvvCsFANWWTZ7MP5c1a/i/AEU8twDFT2XLxjfGyJG0IsnLq1ckAHk+t0TF0gG0NX70qOvXi4ylq1iRSgdcJTRUnCl1ly58tb1hYfwr4BamTiVjalcRkY9uYcsWPnub6GigcGFDALo5zRn5AL5njF1kZAljy3nG2EiHx7wYY48Y+fzFMGcfwKKMunzfMbKEGedwfBOjBpC3jMTjSsbY9wpzNASguyDCwkWElQxAAvCnn/jG0PPhLWKVqk4d2gLnRURzgAYDXE2sXat9G10OEaurANW4Zc3KN8aIEdSUwkt8PAnAV6/Uz5VDVCwdQM0xhw+7fn1goLhYukqVqJPXVUSaUnfrxlfbK9KTcNo0Pt/HjRu1JxupsW0bn83W1q1A0aKGADTgxhCA7oIIE+egIP40EQDYuZPf80qPABRRp1a7thgBKMIepFUrxQgszYjIZeX9ErZw6hTw9dd8YwwbRrY0vLx5QwLw5UvXx/D2FhNLB5A9TpxE56hWRKaSVK5M/pGuIqqRDOBffV65kt8GyQJv9J8eX1M1eDuKN28Gihc3BKABN4YAdBdExLiJiJMDxJie6rl779WLv1O1Vi1aveBlyhR+g+CWLSlpgpf16/m7IEVY7ADkc5clC98YQ4eSMTUvb9+SAHz+3PUxRGQ+W8idm5JSXIV3dcqWqlXJysVV5s8XZ0rdsyffjZ0II3QLM2bwbbOLbEgx1/C5TGQkULKkIQANuDEEoLsgovhalJ3Erl1AwYJ8Y6xapd3DToRVSc2atI3OC2+tEEBf5tOm8c9lwwb+VQcRJtsAcPYsGR7zMGQIRdPx8u4dCcB//3V9DE9PMbF0AGUkx8a6fr2I15yFatWAJUtcv15UGQnA/75etow/C9sCb6ONyIaUXbv4SmwiIoDffjMEoAE3hgB0FxYvBqpX5xtj7lwxdhK7d/PnXurZvhFhVlyzJm2j8yIiI7Z5c9rW4yU8nN8IV0TMHkBZt5ky8Y0xeDAwYAD/XN6/JwH47JnrY4iKpQOA776jeC5XEZlKUr06fZa4yty5YnYRAHpf86TQLFkizpJmzhy+z0aRDSlmHz+XCQ8HSpc2BKABN4YAdBeWLOEXgLwfchb27AG+/55vDD2RUiLiymrUoFVUXqZN46/HataMao54EVF43rQeDvcAACAASURBVKkTnxebhfPngYwZ+cYYNAgYOJB/Lh8+kAB8+tT1McaOFRNLBwB58wL797t+vchUkho1+G6ERH2GAPw51CJuii3wClsRpuwWYmL4Pl/XrwfKlDEEoAE3hgB0F0Tc7c6eDTRqxD8Xc9QQF3oEIO8XBcC/8mFh+nS+YnGAOjpnzOCfS0QEvwDs2JEaHni5cAHIkIFvjIEDSQTy8vEjCcAnT1wfQ1QqCQDkz0/5rK4iMpWEtxRi1iwxnyEAbfcPHuz69SIa4yzwbm2LbEjZv59eM66ydi1QrpwhAA24MQSguyAigkmUoezevUCBAnxjLF+uPVO0Xz+qD+Phjz/ECEARlhxNmpC3Gy8REfzeY7xxXBYuXgTSp+cbY8AAPkFg4fNnEoCPH7s+hqhUEoDeK3v3un69yFSS2rX5mqFEehLyCn6RljS8Jvl6Ps/UOHiQVo1dJSwMqFDBEIAG3BgC0F1YtkyMABTx4R0Tw3eHCugr4OZdKQD4i98tzJjBLwAbN6Z/C142beJLDADI687Xl38uly4B6dLxjdG/P/9KLwB8+UIC8OFD18cQlUoC0Gr5nj2uXy8ylaROHT5DdJGehIMG8dV8irSk4U1aEpmRHBtLjUOusmoVUKmSIQANuDEEoLsgouNN1N37vn1Avnx8Y+j5wBSxMlS1Kv1OXkQ8h40a0XY8L5GR/PFT7dtT6gUvly8DadPyjSGi1hMAEhJIAD544PoYolJJACro373b9et9fcWlkvBGIor0JOTt+haVbATwJ5yIzEiOiwPy5HH9+hUrgCpVDAFowI0hAN0FEVsMIlavAKpR+b8UgCJqw6pU4fM/syBiG71hQyqm5yUqii8yCqCVpYkT+edy5QqQJg3fGCK6vQEgMZEE4P37ro8xfLiYVBKAPDN37nT9eh8fcabU9eqRH6iriOiCtzB0KJ/xt0hLGl6bLZEZyUeOkHm4q5h3iwwBaMCLIQDdBfNdHRczZvA3MAAkAHlqVAB9TS0iukOrVOFLQLAgogi+YUPqOuRl82agaFG+Mdq2pRozXq5eBVKn5htDhN8jAJhMJADv3XN9DFGpJAB5uu3Y4fr1Xl7UrCOCBg34XntTp/IboVvgFdmifE0B/iY7EVGdFo4do/xoVzH/XQwBaMCLIQDdBT1ds3Lwxh1ZOHCAvM140GPhwFsrBNBzx5OBamH2bH4bDN4vYQtbtvBlhgJAmzbUZcrLtWtAqlR8Y4iI/LPAGHD3ruvXi0olAYBChYDt212/3tNTXCpJw4Z85QeTJ4vzJOTdZhfxXrSwdClfiY3IesQTJ4Ds2V2/3rwaaQhAA14MAeguiLAZEFW/c/AgX5EyoG/LZPBg/oSISpXECMA5c/hXHerX59uGs7B1K1C4MN8Yf/8N+Pvzz+X6dSBlSr4xevak5gsReHgAd+64fr2oVBKAcl2jo12/XqQpdaNGfA1I/v7iLGlGjeLrtBblagDwl9iIrEc8dQrImtX1682rkYYANODFEIDugrmzi4vp08XU7/B2qQH6PLyGDOFfjalYkUQ0LyKSEOrVo/olXrZt4wuNB8hgePJk/rncuAGkSME3Ro8eZL8igmTJgFu3XL9exKqzhcKFSay7ikhTal4LIj8/WjUWAa/XoqiaZoD/BnvePHH1iGfO8OVqL1gA1KljCEADbgwB6C7oyc6VQ1SofGwsX5caoE8AitiOq1CBnkNeRHzQ83ZiWoiO5guNB2g7b8oU/rncvAkkT843RvfuJApEkDw5zclVRJlSA7RNv2WL69ePGQN06yZmLk2b8qXQiLSk4RW2okpaAP4kD5H1iOfOAV995fr1wcHAn38aAtCAG0MAugurV/NHDQUEiAmVP3QIyJ2bbww9RdMiCvLLl6fnkJegIP6tnrp1+bzYLGzfTvVlPLRqRYX9vNy+TatuPHTrBowbxz8XgFYjb9xw/XpRptQAdWpv3uz69SJNqXlzqEVa0vBubYu6oQX4s3xFpSwB/LGKQUFA/fqGADTgxhCA7oKIsHFRHXxxcXw2BYA+41URlhzly9NzyMv8+XyJAQAVi4eE8M9lxw7qMOWhZUu6MeDlzh1qvOChSxcSBSJImZLqEl2lf3/+9BkLxYuTZ6OrjBwpzpS6RQu+f2+RljS8zS1Tp4q5oQUoPq1sWdevF5mQcvEiX6zi3LlAw4aGADTgxhCA7oIoASiig+/wYX4BqKdrbvhwsgjhoVw5YM0avjEA/sgogD+Oy8LOneQxx0OLFrSSwsvdu/wCsHNnEgUiSJ2aOpNdRUT+tIUSJSi1xVVGjOB//Vto2ZJvxVekJY23N99YU6aI60hevx74/XfXrxeZkHL5Ml+qzuzZQOPGhgA04MYQgO7CmjUkYngQ9YF5+DCQMyffGHoE4IgR/KkMZcuKEYAi7B5q1aItcF527aKUCR54twQt3LtHAtBkcn2MTp1IYIggTRoyp3YVUabUAOU1R0S4fr1IU2remk9PTxLqIvDxoShCVxHZkbxhA1CqlOvXi0xIuXqVz1R95kygaVNDABpwYwhAd4F3iwKgbs/WrfnncuQIn1EpoG8lTUQsV5ky9BzyEhLClxkKUPPLwoX8c9m9G/jhB74xmjXjawqwcP8+CcDERNfH6NiRVoVEkDYtraS4iihTagD47Tdg40bXr+dNzLCldWs+259x48RZ0kyYwFdPKLIjeeNG+ndyFVH11QCVLvB4agYGAs2bGwLQgBtDALoLogSgiDvmo0f5BaAe36xRo/hroH7/HVi3jm8MgLZueR3/a9QgH0Re9uwBvv+eb4ymTclOg5cHD0gAJiS4PkaHDrQqJIJ06YBLl1y/XqQpdalStMLkKiI9CXmNv8eOFdeR7OdHSTSuIrIjedMmWql1FZHb0Tdv8lkqTZsGtGxpCEADbgwB6C6sW0erWDyI2jI5ehTIkYNvDD05niK6IEuXpjofXnhD4wFKQFm8mH8ue/cCBQrwjcHrC2fh4UMSgF++uD7GP/9Ql6kI0qenYnpXEWlKzfvaGzxYnCdh27Z82c+jR/N599kyaRLf55GvL98Wsi2RkdSs4yoit6N5O+rNtd6GADTgxRCA7gJvkTJAH7gitkyOHeOLKgKsVgWaEPGlw7sKY2HhQv7Q9z/+oLxOXmJigPz5+cZo3JgvGcLCo0ckAD9/dn2M9u1pW1AEGTIAFy64fn337uJMqcuU4Vt9HjiQPwvbAu9zLGI13gJvSYrIjuTNm8mux1VEbkfzdtSbd3oMAWjAiyEA3QVRApBny8XC8eNAtmx8Y8ybp10AijDCLVUKCA/nGwOgrdv/r73zDpOqyrb4Mmcw4giKGXNExSw4gCKgM8ZxdAgKBqJtQIFHMD1EB3N2TCim5zhPGR1UQECSKAL6gShmDKAIFFlHXO+PXfdZtN1QfdZup8D9+776oLvrnL51+1bVqnP2XqvYDOPKaNjQskdVRo4kd9xRm+Pkk7Vs2IxZs+xN6/vv0+c491x7I/WgRg3zU0ulfXvb7vRAbUDy9CRs1UrbZvdoyMq48UbNlqpvX7+M5Jde0nK1Pbej1Yaq/Ot8CMBAJQRgqfD3v9tWkoJac5MxcaIuAKvinO8RhaUW4mc8/LCt4Ck0bEgOHKgfy6hRZN262hwtW1q+scrs2famtWxZ+hxqfVohNWuS77yTPr5dOz9T6sMP1zwoPT0JW7fWGm08O5LVxonevf06ktVYRc/t6KyeNrWh6vrryb/8JQRgIBMCsFR47jnNpoD0+5Q6caIWVk6a6GjZsrj79uqlC8CDDvIRgI88YgJO4bjjfATg66+TO+ygzdGihYlxlW++sTetpUvT5zj7bK1DtZDNN7dM1VQ8TanVFJpOnfw8CVWrHc+O5AEDNOsUj9eFjJdf1mIVVU/DQrJyitR62muvJVu3DgEYyIQALBU8BKBqu5Dx9tvklltqc1QlOkmNjCJ1L7aMRx/VBeCxx5KPPaYfy+jR5Pbba3M0b27b8SrffmtvWkuWpM/xpz9Z/ZIHW2xBTp6cPt7TlPqoo7Qcak9PwvPO04TtZZfpudwZapZvz55+DSmvvqql6qipJoVkq+mp5RRXX022bRsCMJAJAVgqqD5VpAlAj22KSZPsDVahKgLQw3xWTWPIGDjQVvAUjjmGfPxx/VjGjCHr1NHmOOkka8hRmTPH3rQWL06fQzUpLmTLLe06TcXTk/Doo7W/98UX+3kSqlvbnh3Jt96qxad5ZiQPG6aZqnt8SM3IPkylrqb36UOef34IwEAmBGCp8L//a9uYCl51KpMn6wLw9tutA7UYPD5dq3msGQMH2gqewtFHk4MG6ccydixZu7Y2R7Nm5smoMneuvWktWpQ+x5lnajFlhWy1la1Up+LpSXjMMdqK70UX+XkStm9vK2epeHYkV+U1oCI8DOIzVE9NT3/E777TPkzlt8ZDAAYqIQBLBQ8B6GWbMHmy1VgpVCU83SN/dP/9ycGDtTlIeyM/5hhtDnVLMGPcOD2T+cQTLZVFZd48e9NasCB9jjPOsMYAD7bZxmpVU/H0JFRrPi+80M+SRrW38exIvuOO4uuAK8IjIzxjxAjNU9NzNTL7MLVwYdr4/NZ4CMBAJQRgqaA61ZMmAD0KladMsS5LhVtvLT483aPAer/9zOtL5fHHbQVP4cgjtaaADI9M5hNOsHg7lfnz7U1Lea04/XRrDPCgVi3zq0zF05OwYUPN91FdtStENbju3NmvI7kqTgAVccUVfg0po0Zplkqeq5HZcyn1w1SPHuRFF4UADGRCAJYKL7xgdWwKXp1q77xjPmsKt95afAG4x8rlvvv6CMBBg2wFT+GIIzRbkAyPTOamTS3eTiWXszet+fPT5zjtNJ9cYtLOy4QJ6ePPPVdLzCikUSMt+aVdOz9PQrWesFMnE14eVCUNqCI8I/LUjnrP1cgFC7Tn0lVXkR06hAAMZEIAlgoeAtDLOPXdd3UBWJUOQI/axX32IV98UZuDtK3bI4/U5jj8cM0YOMMjkq9JE4u3U8netObNS5/DK5eYtJXRN95IH+/pSahmP3ta0qgdxR06+HUk33uvlSCkUlbm15AyZozWUe+5GrlokT2X5s5NG9+tG9mpUwjAQCYEYKkweLCWVUmaAPQwTn33XXKzzbQ5br65eA+wa6/V7Wv23tvc/lWefNJW8BQaNCCfeUY/Fo9IvsaNNXGSsXCh9qZF+uUSk1YbOX58+nhPT8LGjTWR3batnyWN6il48cV+DSn3328lCKlccomJQA/GjdMaqjxXI5cssefSnDlp4y+/nOzSJQRgIBMCsFRQsypJHzsV0iK2Nt1Um2PAAKv5KobrrtMNrPfay9z+VZ56ylbwFNRs2AyPSL7jj9e2JzOyVYvvvkufwyuXmLQ383Hj0sd7ehI2aaJts7dpo5k3F6LW8F14oVZDWMgDD9i5SaVLF7+GFLWetqzMrzt62TJ7Ln3zTdr4Sy8lL7kkBGAgEwKwVPAQgF5eVVOn6gKwKjFQ11+vR9jtuSc5ZIg2B2lbt6oAPPRQy3ZW8UhkadRIa1DIWLxYW7Ug/XKJSdvOGzs2fbynJ2HTplqjjacljdrFe8EFfg0pDz5oq6OpdO7sl5AyYYJWT9u1q99q5A8/2HNp1qy08ZdcQl56aQjAQCYEYKnw4ovWyKDgFZ00dSq5ySbaHFURgB4ZxnvuaXFPKs88Y1u4CoccYtnOKm+/rQvAhg0t3UQl27b69tv0ObxyiUkr6B89On28pyWNarXzl7/4WdKoPn6eDSkPPWQr0Kl4JqS89ZZWTuGZ1/zjj/Zc+uqr9GO5/PIQgIFMCMBS4aWXrJFBoVcvH7PSadPIjTfW5rjpJjP+LYZ+/awoX2GPPfwE4GGHaXPUr2/RfioekXxeucRLl2rbVqRfLjFJ1q1rnZ2peFrSNGumpa2ce66fJY2a5OHZkPLII7YCnYpnQoq6mu7ZHb18uT2Xvvgi/Vi6dQsBGMiEACwVPASgl1v9e++RG22kzXHjjbbNVgz9+llRvkK9euQrr2hzkFa7d+ih2hz161u0n4pHJJ9XLnFWtzR7dvocXrnEpHm6jRqVPv6006xRyYOTTtIe1znn2Cq4B2qWr2dDyqOParGKqqdhIZMmaR+mOnTwE6M//WTPpZkz04/lqqtCAAYyIQBLhX/9yzpZFbzC06dP1wVg//5WaF8MN9xQ/H0rY/fdLfBd5dlnbQtX4eCDfQSgRyKLVy7x999rdUukXy4xSe60EzlyZPr4U0/18yRUVzbPPtvPkka1K/HMSH7sMS1W0bMeccoU7bnkKUZJcq21yM8+Sz+WHj1CAAYyIQBLhSFDrJNVoWdPn7ii6dPJDTfU5ujfv/hVvf79i18trIzddiOHDtXmIK12r359bY6DDrJoPxWPRBavXOKscP3rr9PnaNbMJ5aOtFzXESPSx3t6ErZsqTW3eHYkq4bFrVr5NaQMGqSl6rRv71ePqHqbqhF75VlnHfKTT9KP5b/+KwRgIBMCsFR4+WVdAHrlVb7/PrnBBtocN9xQvACsynZxZey6KzlsmDYHabV7Bx+szXHggRbtp+KRyOKVS6wWrpN+sXSk/b2HD08f72lJc/LJ2lyeHclXXqlFlnlG5Kmm6p71iKq1lacYJcn11iM/+ihtbLt2ZO/eIQADmRCApcLLL1snq0L37rY9oPLBB+T662tzVKWxoyoNI5WhCoKMf/zDVvAUDjjAkl1UPAy5vXKJ1cJ10i+WjrQVX0Xwe1rSnHKKZnB9xhn2HPBAfQ045xy/iLynntJM1T3rEadN05wNPMUoaR+wZ8xIG3veeWTfviEAA5kQgKXCK69YJ6uCV2D5jBm6AKyKtUtVLGMqY5ddyNde0+Ygbev2wAO1Ofbf35JdVDwMub1yidXCddIvlo60mk9ly9/TkkbdTvbsSO7RQ6sD9ozIe/ppzVLJsx5RrWtu29bPrJu0Y3n//bSxbdqQ11wTAjCQCQFYKrz6qo8A9AgsnzHDtigUrr+++HSPv/61+NSQyth5Zx8B+PzzugDcbz8z9lbx8GP0yiUmTQB+/nn6+MaNzRzYg3r1tKYfT0uaU0/VOoo9O5JVJ4A//ckvIu9//kezVGrVys8fUS1rad3aT4ySZrP13ntpY1u1Iq+7LgRgIBMCsFR49VV7U1O48kofAfjhh+S662pzVEUADhhQfG5wZey0k9YUkPHCC7aFq7DvvmbsreLhx+iVS0yaAEztXCTJ3//eJ5eYtA9Liu2PZ0fyaadpK3h//KNfR3KvXloakGc9otpR71mPqO5qeIpR0lb2p01LG3vuueT114cADGRCAJYKQ4fatpZCt27mnq/y0UfWpaZw3XX2Al4MN99sqygKO+6o2YJkvPCCbeEq7LOP+TqqePgxeuUSk2Zd8emn6eO9colJa5hSjL+bNSPvvdfnWNRUkT/8QashLKR3by0P3LMe8bnntI56T3/Ejz7SPtTmRZcbNWpYiUcK+W36EICBSgjAUmHYMB8BqHiAZXz8sS4Ar73WPjUXwy236AKwbl3NGDhj8GA9k3nvvc3XUcXDjscrl5gk11473bqC9MslJvVzrMa3FXLmmdqqmdpFXEjfvlavlopnPaLaUOXpj/jxx3b9puJZG0maJ+E776SNPftssn//EICBTAjAUmHYMOtsVFBNYDPUF0vSvMRaty7uvrfeattgCmo0WMY//6lnMu+1l/k6qnjY8XjlEpP2oeDjj9PHN2zoE0tH6qusnpY0Z52l+fipPoKFXH118c+7ilDrGQtR62k9/RE//dRWsEvhWEhLJZk8OW3sWWeRN90UAjCQCQFYKgwfblYmCpdfrsVAZXzyifZiSZoAbNOmuPveeqttgynssAM5erQ2B2m1e2ok3557+uQSe9jxeOUSk7aFlupdRvrF0pF6nWXTpn4dyWrjhGdDSlVW3ivC0yBbLac480y/7ejPP7ca1p9+Sj8Wr9pIktx6a8v6TuGMM8gBA0IABjIhAEuF117zEYBduujHon5aJm0lolgBeNtt5qWmsP32PgLwpZf0SD61QSHDoxvbK5aOtGP58MP08V6xdKTeae3ZkaxuD6pZwoVcd13xzVcVoXoaFvLPf2rlFKefrtVWFvLFFyYAly9PG6/WeZanVi3yrbfSxp52GnnLLSEAA5kQgKXCa6+Zl53CZZf5CUBAm6MqtUi33251UAp16pBjxmhzkFZXpiayqBYlGR7d2F6xdKStRqaa15J+sXSk7rXo2ZGsmic3a+bXkVwV/82K8DTIfuklbTXd0x7nyy/tNe3f//7PHwtJbrstOWFC2tg//pG87bYQgIFMCMBSYcQI87JTuPRSsmtX/Vg++0wXgH36FN+NeMcdVgelULs2OXasNgdptXtqIku9ej65xB7d2F6xdKTVI37wQfp4r1g60h6Xkrbi2ZF87rmaXYlnQ0q/fsVHMFZEixZ+BtnqhylPe5yvv7bXtB9+SD8Wr61xktxuO/KNN9LGnnIKeccdIQADmRCApcLIkboALCsjL7lEPxa1XoY0O4pi/cjuvFMXgNttR44bp81B+kTyqSkVGR7NOF6xdKR1JKemF5B+sXSkvrLp2ZGsesQ1berXkHLDDVaTmErz5n71iOpzydMeZ/Zse01btixtvOfWOGk7FqmvVy1bknfdFQIwkAkBWCqMHGlmxgplZXZTmTnz1xWAd91lKw8Kv/sdOX68NgfpE8mn5tRmeDTjeMXSkWZKPX16+nivWDpSr2087ji/jmQ1JaJJE7+M5BtvtC7RVDwNsl95RTO399yO/uYbe01bsuQ/fyykNa2llqw0b07ec08IwEAmBGCpMGqUmRkrXHKJrwBMLZgmLZGgXbvi7nvXXfaipvC736VvqRSivmmR1swzfLh+LB61mF6xdKTF0qWmF5C+sXRqd7NnR3KbNlpOrGdDyk03abnaJ57oZ5Ctmtt7bkfPmWPPpcWL04/Fa2WUtNf6VNuqZs3I++4LARjIhAAsFV5/XReAXbtaHaBK1jH344/pc1Qlk/Tuu23lQWHbbX0E4Kuv6obcu+zik0vsUYvpFUtHWnzV1Knp4xs08EslUf0NPTuSzzvPal5TOf54v4aUAQO0XG1Pf8RhwzRng+bN/bqj586159LChWnjPVdGSSv3SU0uOuEE8oEHQgAGMiEAS4XXXzczY4WuXa0TWEXtmCPJnj3JCy4o7r733GOfahVq1Urvqitk6FDdkHvnnX1yiT1qMb1i6Uhys83S46tI31QSdS7PjuTzz7cV71QaNfJrSFFjFT23o1VnA8/u6Hnz7LmU+l7n2ahDmjBO/ZDYpAn54IMhAAOZEIClwujRVhei0KWLjwD86isfAXjhhcXd9957dQG4zTbkm29qc5D6qgVptZweucQeW/FesXSk5Ze++276eM9UEnU18aij/BpS2rWzFe9UGjYkH33U51huuUVL1fHcjh4xQqtr9hRduZw9l+bPTxvv2ahD2i5Dap3w739PPvxwCMBAJgRgqTBmjC4AO3c2M2iVTACmWiaQZI8exQvA++6zF3uFrbdON1YtZPhw3Y9xxx19cok9tuK9YulIsmbN9PxS0jeVRK0n9GxIad/ePvCkcuyxfg0pt92mpep4bkerdc1Nm/qtRi5caM+luXPTxjdp4pccQ2peoY0akY8+GgIwkAkBWCqMGWNpFgqdO1sesErmmfX99+lzdO9OXnRRcfe97z6ra1HYaity4kRtDtK2ZVQ7Hq9cYo+teK9YOtIC7KdMSR/vmUqiCjjPhpQLL7QPPKl41iOqpuqe9jjqrkbjxn6ia/Fiey7NmZM23tM4nLTnZWpa0HHHkY89FgIwkAkBWCqMHWveUAqdOvkIwFmzNM8skrzqKvLii4u77/3326d9ha22Ss/WLETdtiL9cok9VmK9YulIcost0gPsSd9UEtVTsEED8plnfI7loovsek/Fsx5R9dQ87ji/7egxY7TXNE/RtWSJPZe++SZtvKcwJq00I3Vl/phjyEGDQgAGMiEAS4Vx43QB2LEj2a2bfiyqaSpJXnkl2aFDcfd94AHbYlHYckty0iRtDtLHj3H77X1i6TxWYr1i6Uj9HHumkqipIocd5teRfPHFdr2ncuSRfgkpqqWSpz3OuHGW0JOKp+hatsyeS7Nnp433FMakdeenNmfl61dDAAYqIQBLBfXFkjTBpbwRZWQCcOnS9DmqIgD/9jfb7lHYYgsfAejhx1injk8sncdKrFcqCamvsnqmkuRXQZLxbEhRP3h51iOqlkpHH+23HT1+vPlzpuLZHPPDD/Zc+vrrtPGewpg0g/ZUf8789RICMFAJAVgqjB9vcWYKHTpoW1EZqms+aW+IHTsWd98HH9QF4Oaba9uTGaNG6XY8tWv7xNJ5CHGvVBLSGm2UOkvlTa886huyZ0NKp05a81WDBn71iGpHvWde84QJ5s+Ziqfo+ve/7bn05Zdp4z236Ukty/rww8lnngkBGMiEACwV3nhDF4AXX+wjAL/9VheAV1xhb4zF8OCDVu+jULOm1qCQ8frrejf2dtv5xNJ5CHGvVBLSrHaUTmtPU2o1ys2zIaVzZ81+6bDD/OoR1YaqI47ws8d58027ZlLxXI1cvtyeS198kTbeM8eatOsvtR72sMPIZ58NARjIhAAsFd54Q9suIa0YvXt3/VgyAZgam0TaikjnzsXd96GHzH5CoUYNzaIkY/RovRt7u+18Ukk8/g5eqSSkmW0rXoueptTq9qBnQ0qXLloCj6dB9gMPaA1Vnt3REyfaqnEqnquRP/1kz6XPP08b73leSG0F+pBDyOeeCwEYyIQALBXU7RLSBKBiR5GR5WYuWpQ+x+WX2xtjMTz8sBV8K2y2mWZSnKF2LpJ+ucQefwevVBLSHpeStuJpSq02CChbcOVRM7jr1/erR1TraT1XI99+2xqHUvGsjSTtufTpp2ljPc8LaaI/9W+eXz0MARiohAAsFd58UxeAqh9ZRabZrwAADtBJREFUxnffabmZpG2JFSsAH3nEVnQU1JiyjLFj9Wacbbf1iaXz+Dt4pZKQ+ta2pyn18cdr8Wn7708OHuxzLGVlFsOYysEH+9UjPvSQVk7huRo5ebI1Z6XiWRtJkmuvTX7ySdpYz/NCakk2+Q8vIQADlRCApcKbb9oWm8IFF2iJBBlqcDppW2LFvik++qguADfd1EcAjhun12KqW6UZ2d9hwYL0ObxSSUi9ucXTlLpxY80jbr/9/BpSLr20+A87FeG5Ha2upnuuRk6ZYrW5qXha9ZDkuuuSH32UNtazaYi01c1UcZtvpgoBGKiEACwV3npLK5gmTQAqmaQZHsKjrMy2xoph4EAr6lfYZBNy6lRtDlK3riD1ZokMNcCe9EslIXV7G09TajWay7MhpSr1rhVxwAF+/ojqarpnc8y771ptbiqHHOK76rb++uSMGWljPUU6qWVR5z0EQwAGKiEAS4WJE3UB2L69jwD0EB5VqYsaONAsHxQ23picNk2bg/RpxlHtUjLmz9cC7Em/VBJSN7j2NKVWc2I9G1KuuKJ4y6OK2H9/v3pE9cPUgQf6CZ2pU21lPhXvVbcNNiDffz9trKdIJzUfy3yKSAjAQCUEYKmgdsyRZLt2ZK9e+rF4CI+qCMDHHrMXRIWNNiLfe0+bg/RpxvGKpcvl7O8wb176HF6pJKQuJnff3c+T8IQTLEIwFc96xG7dijc9rwjP7Wj1ueRp1j1tmn0wS8V71W2jjcjp09PGetaMkv+f55tEPkc4BGCgEgKwVHj7bRMOCuefT/burR9LJjwUAdi1a/HWGI8/bp5fChtumP7iXsiECXotplcs3YIF9neYOzd9Dq9UElLfTvb0JDzxRPO8S8WzHvHKK4vPva6Iffbx244eNEh7Lu23n5/QmT7dRFcq3qtum2ySvkvgWTJAajZG9eqRQ4eGAAxkQgCWCpMm+QjAPn30Y/FYeerSpXhz3EGDrCZGYcMN07d3ClHNa0nrfPRIJVm40P4O332XPodXKgmpN5R4ehI2a2apF6l41iN2724WTKnsvbffdvQTT5hpcSqeQuf9923bNRXvVTelUczTwoi0LvZUG6PddiOHDw8BGMiEACwVJk3SPLNI8rzzfASgx8pT587Fx2M98YQuAJX6nkLeekvfit98c59UkkWL7O8wZ076HF6pJKRuKePpSdi8OXnPPenjPesRe/SwBqxUPLejn3zSOkxT8RSjM2ZY40Uq++7rtzVOWkNKqleo54oxqXWx77ILOWJECMBAJgRgqaB6ZpFk27Zk3776sXisPHXubMXxxaCuWpD2RvPBB9ocpNViqiuxNWv6pJIsXmx/h2+/TZ/Dy5Sa1AWcpydhixbkXXelj/esR+zZ0xqwUtljDz9x8fTTllqRiqcY/fBDs15JxbNRh9Q+mNWr57diTFoTU2oX+047kaNGhQAMZCoVgEO8XgR+A7icqylTfATg1Vfrx5KtPCkCsFOnCgVghedKXbUgyfXWS7d4KERNLyC1lYZClizhEMAygVPxMqUm9S1cT0/Cli3JO+9c4VtVeh561iP26mUNWKl4iotnnjH/vFVQ6bnyFKMff0yus076eE8xStrra0Jt7pAhQ+wDw9Chfsdy4onpTUx165KjR4cADGQqFYBlSrTRbwyXczVlin1CVWjTxlcAKluPHTtad2Q5KjxXTz2lrVqQttLw4YfaHKS9QahC3CuVZOlSlgHk7Nnpc3iZUpO6aPL0JDz5ZPKOO1b4VpWeh571iL17W/lFKp7i4tlnLbViFVR6rjy3xj/5hFxrrfTxnmKUTO7OLysr8/3AQJInnZRew7r99uTYsSEAA5kQgA64nKt33tFc80mydWvymmv0Y/HYeuzQwbojy1HhuXr6aYtGUlhnnXSX/0ImT9aF+Kab+phSL1tmAnDWrPQ5vEypSSs+V7ZNPT0JTzmFvP32Fb5VpeehZz1inz62+p7Krrv6bUf//e/mn7cKKj1Xu+3mJ0Y/+8xeR1LxFKNk8nOhrKzM93ohrYTh7rvTxtauTY4fHwIwkKkBgDNnzmQul1vh1rFjx198L24V31zO1bhxzG22mTbH2Wcz17OnfiyzZjEHMPfRR+lztGvHXFlZcefqkUeYq19fO+a112ZuyhT9sY8Zw1yNGtocm2zC3IQJ+rHMmcOOAHMffJA+x5ZbMjdypH4suRxzu+7K3PPPp4+vXZu5vH+ZfGvRgrn+/Vf4XpWeh3XrMpdPU5Bv3bsz9+c/p4/faSfmBg/2OZZBg5g74IBV3q/Sc7Xzzszlc2bl27Rp9joyf37a+F120a638rdttmEu3z1blVvHjh2Z22EHv+sll2OuWTPmbropbWytWswNG8aZM2eGAAwk6sAuoLjFLW5xi1vc4rb63eogCBJYC3bx1Ihb3OIWt7jFLW6r1a0O7H08CIIgCIIgCIIgCIIgCIIgCIIgCIIgCII1l80B3AfgCwALALwMYI+Cn7cA8BaAHIBPAVxVbnwfAD/mxy7M/zuo3H32BzASwKL87+nj+QCqibMAjII97uUA1i7382Ie09UAvoSdlxEA9qmGOUqFX+N8/QRgCVa81srfZ3U4X+q5WtX4YuYA4lxlxHVl9APwTn78lwCeALB9FecA4lxlrCnXVbAG8zyAfwHYAsD6AG4B8DmAjQAcCmApTAQCwIEAvgbQqWB8H9gTqTI2BfAVgOvy8+8LYCaArm6PoHpoAnuRaItfvkAU85iuAPAZgL0BbADgv2EvJBs7zlFKVPf5AuwFtdFKjmF1OV/quVrZ+GLniHP1M3FdGdcDOAjAurDmgUEAJlVxjjhXP7OmXFfBGsrGsNW7wwq+twGAfwM4G8ANMHFYyLUA3i/4elUCsDWAWVjxCdYFwIy0Q/7VOQ6/fIEo5jF9jBWF8joAZgM4x3GOUqS6zhdgL6jHr+R3r27nK/VcrWx8sXPEufqZuK4q5oD8PDWrMEecq59Z066rYA1jY9hF26DgexvBROFNAPrjlwLwv/NjNsl/3Qe2fD0bwCewT0I7Fdz/5grmOCI/x6bqA/gVqOgFYlWPqQbsyd+g3H1eBvBXxzlKkeo6X8jf5ysA38LKEtoV/Gx1PF8p52pV44uZI87VisR1VTHdYCKl2DniXK3ImnZdBWsgL+dvtWCi7g6YALwPwFEAlgH4A+zTySGwLeDlALbLj98bwA75/28H4HEAH+LnZey/AXiy3O/cMz9HbfdH409FLxCrekzbw57ce5S7z1MA7necoxSprvMF2HbKBrBtl2YA5gK4MP+z1fF8pZyrVY0vZo44VysS19UvaQz7YN+kCnPEuVqRNe26CtZAtgbwMKzG4UsAfQFMhdU4AMDpACYCmANgHIBesC3iDSuZb31Y3WDj/NexAvgzsQL4Mx6PtTeA0fn/r47nK1YAi6c6VwDL81u/rloAmAfg5HLfj+uq+HNVEav7dRX8BtgG1rlUWfHqLVh5zV8mALNPQ63wy3qKrli9awCLeUwV1Xd8A+DPDnOUco2I9/la2WPtDWCMOMd/ktRztbLxxc4R56pyfsvX1TkwQdMYvySuqxVZ2bmqiNX9ugrWQOrBRB8A7AbgFQAv5L9eC9YJvA5sS7cV7II/vGD8GQC2yv9/WwADYRd2ViO4KWxl8VrYquF+sC7jUu8CXhu2fN8U9gKxcf7rtVDcY7ocZpuzD6yush9slbWwC1ido5So7vN1EICDAawHux6bAvgOQMcqzFEqqOdqZeNR5Bxxroy4rn6mE2yb8qhK5o/r6mdWda7WpOsqWINpC7voFsFa0vvBVvEAq114A8B8mIfRcNhSeCHPwxpAFuXnGQRgl3L32Re2argYVhTby/tBVAOtYUv0y/O37P/H5n9ezGPqC6uZXISKPZ485igVqvt8tQAwDXYdzoVZLrSv4hylgnquVjW+mDmAOFdAXFeF/ATge9i5KPSuKxQ5cV0ZqzpXa9J1FQRBEARBEARBEARBEARBEARBEARBEARBEARBEARBEARBEARBEARBEARBEARBEARBEARBEARBEARBEARBEARBEARBEARBEARrHt0BDPkVfs+6AN4BcEg1zV8Hlhi0RTXNHwRBEARBsFqQxUgtgMVL/YjKo7iqmy4Anqvm3zEAwO3V/DuCIAiCIAhWG66FZW7/J1gLwMcATqjm37MXTNzWqObfEwRBEARBsFpQmQDsA+D1gq9fg62iPQUgB+BzAGfBQuzHwlYOxwPYvWDM2gAug4XUzwfwJoDjC35+CIClADYo+N6OsOD7tgCmwELrR8G2cjsC+BQWdn8vTEACwHoA7oaF3OdgorJjucfzGYAzKj4FQRAEQRAEvy1WJgBHFXz9Gkx4ZdvDXWDibDCAHWC1fM8C+FfBmL4A3gawW/7rU/Jjds5/fSGAqeV+byYAhwDYCsDGMCE6HUA/mNjbFcA8mAAFgHYAJuLnOr9aAA4sN+9gADdW8DiDIAiCIAh+c1RFAD5Q8HUNmFA7s+B7pwL4ruDr+QCalJv3FQA98v/vDls9LCQTgEcWfK8LbAt3rYLvvQCr7QOAVgDeB3AMTIhWxOMA/lbJz4IgCIIgCH5TVEUAXlPw9TowoXZswfdOAPBD/v+18j+fD1s5nAtbtVsI4M78fSpbAVwOYJeC750P29Yt5EkA9+f/vzaAS2Fb0PMBvAjg4HL3jxXAIAiCIAiCPNUlANcHsBjA0Sv53VkN4PoF30sRgIVsDFsZnFnu+59ixdXKIAiCIAiC3yzVJQABE2JjAeyZ/3oj2DZt1ihSURdwtgVcFQHYCEB9WH3gugCuBvBJwX2zLuCav3iUQRAEQRAEv0GKFYDD8UsBuBwrF4BrAegM4F3Y9u/XsO3ZvQru0xXAPwq+TlkBPCv/OxbAahBfgwnCjJsRPoBBEARBEAQlQ3UngdSGWcBsWU3zB0EQBEEQBEEQBEEQBEEQBEEQBEEQBEEQBEEQBEEQBEEQBEEQBEEQBEEQBEEQBEEQBEEQBEEQBEEQBEEQBEEQBEEQBEEQBEEQBEEQBEEQBEEQBEEQBEEQBEEQBEEQBEEQBEEQBEEQBEEQBEGA/wO1ZBfwoGUwIAAAAABJRU5ErkJggg==\">"
      ],
      "text/plain": [
       "<IPython.core.display.HTML object>"
      ]
     },
     "metadata": {},
     "output_type": "display_data"
    }
   ],
   "source": [
    "#time vs temporal average graph\n",
    "figure()\n",
    "plot(tavg_time, d, 'r', alpha = 1)\n",
    "plot(tavg_time, follow, 'g', alpha =1)\n",
    "ylabel(\"Temporal average\")\n",
    "xlabel (\"Time(ms)\")\n",
    "plt.grid('off')"
   ]
  },
  {
   "cell_type": "markdown",
   "metadata": {},
   "source": [
    "### Finding a threshold"
   ]
  },
  {
   "cell_type": "code",
   "execution_count": 26,
   "metadata": {
    "collapsed": true
   },
   "outputs": [],
   "source": [
    "time_notrans = tavg_time[range(9800,12000)]\n",
    "data_notrans_mean= tavg_data.squeeze().T[:,range(9800, 10000)]\n",
    "data_notrans= tavg_data.squeeze().T[:,range(9800, 12000)]\n",
    "\n",
    "data_notrans_posthr= []\n",
    "data_notrans_negthr= []\n",
    "data_notrans_thr= []\n",
    "\n",
    "for node in range(len(data_notrans_mean)):\n",
    "    data_notrans_posthr.append(np.array(data_notrans[node]>(data_notrans_mean[node].max())))\n",
    "    data_notrans_negthr.append(np.array(data_notrans[node]<(data_notrans_mean[node].min())))\n",
    "    data_notrans_thr.append(np.array(data_notrans_posthr[node] + data_notrans_negthr[node]))"
   ]
  },
  {
   "cell_type": "markdown",
   "metadata": {},
   "source": [
    "### Finding activation times"
   ]
  },
  {
   "cell_type": "code",
   "execution_count": 27,
   "metadata": {
    "collapsed": true
   },
   "outputs": [],
   "source": [
    "activation_time=np.array(np.zeros(len(data_notrans_thr)))\n",
    "for node in range(len(data_notrans_thr)):\n",
    "    for time in range(9800,12000):\n",
    "        if np.array(data_notrans_thr[node][time -9800]) == True:\n",
    "            activation_time[node]=time\n",
    "            break\n",
    "        else:\n",
    "            activation_time[node]= nan\n",
    "#activation_time"
   ]
  },
  {
   "cell_type": "code",
   "execution_count": 28,
   "metadata": {
    "collapsed": false
   },
   "outputs": [
    {
     "data": {
      "text/plain": [
       "array([ 10000.,  10551.,  10226.,  10597.,  11343.,  10001.,  10001.,\n",
       "        10031.,  10004.,  11227.,  10168.,  10306.,  10123.,  10004.,\n",
       "        10054.,  10007.,  10006.])"
      ]
     },
     "execution_count": 28,
     "metadata": {},
     "output_type": "execute_result"
    }
   ],
   "source": [
    "s = [stim_node,36,69,72,22,13,14,40,66,8,19, 18,3,56,49,1,2]\n",
    "activation_time_spec=np.array(np.zeros(len(s)))\n",
    "i= 0\n",
    "for node in s: \n",
    "    for time in range(9800,12000):\n",
    "        if np.array(data_notrans_thr[node][time -9800]) == True:\n",
    "            activation_time_spec[i]=time\n",
    "            break\n",
    "        else:\n",
    "            activation_time_spec[i]= nan\n",
    "    i += 1\n",
    "activation_time_spec"
   ]
  },
  {
   "cell_type": "code",
   "execution_count": null,
   "metadata": {
    "collapsed": true
   },
   "outputs": [],
   "source": [
    "activation_times_spec=np.zeros(len(activation_time_spec))\n",
    "for i in range(len(activation_time_spec)):\n",
    "    if activation_time_spec[i] == 0 or activation_time_spec[i] < 10000:\n",
    "        activation_times_spec[i]= nan\n",
    "    else:\n",
    "        activation_times_spec[i]= activation_time_spec[i] - 10000"
   ]
  },
  {
   "cell_type": "markdown",
   "metadata": {},
   "source": [
    "Save the activation times externally for future use. "
   ]
  },
  {
   "cell_type": "code",
   "execution_count": null,
   "metadata": {
    "collapsed": true
   },
   "outputs": [],
   "source": [
    "cd /tmp/"
   ]
  },
  {
   "cell_type": "code",
   "execution_count": null,
   "metadata": {
    "collapsed": false
   },
   "outputs": [],
   "source": [
    "file_name= stim_name + '_data.txt'\n",
    "np.savetxt(file_name, activation_times_spec)"
   ]
  },
  {
   "cell_type": "markdown",
   "metadata": {},
   "source": [
    "### Loading in region labels"
   ]
  },
  {
   "cell_type": "code",
   "execution_count": null,
   "metadata": {
    "collapsed": true
   },
   "outputs": [],
   "source": [
    "import pandas as pd\n",
    "pd.set_option('display.max_rows',200)\n",
    "df_tavg = pd.DataFrame(np.squeeze(tavg_data),index=tavg_time)\n",
    "labs= pd.read_csv('/home/htian/Data/kelly_matrix/labelnames.txt',sep='\\t')['acronym'].values\n",
    "lh_labs = [l + '_L' for l in labs]\n",
    "rh_labs = [l + '_R' for l in labs]\n",
    "region_labels_lr = np.concatenate([lh_labs, rh_labs])\n",
    "df_tavg_labs = df_tavg.copy()\n",
    "df_tavg_labs.columns= region_labels_lr"
   ]
  },
  {
   "cell_type": "markdown",
   "metadata": {},
   "source": [
    "### Bar graphs"
   ]
  },
  {
   "cell_type": "code",
   "execution_count": null,
   "metadata": {
    "collapsed": true
   },
   "outputs": [],
   "source": [
    "lab_spec= np.array(['stim' ,'FEF', 'V2', 'V4', '7a', '35', '36', 'Ig', 'TF', '24/ACC', '46', \n",
    "                    '45', '12', 'Pro', 'PAC', '10', '11'])"
   ]
  },
  {
   "cell_type": "code",
   "execution_count": null,
   "metadata": {
    "collapsed": false
   },
   "outputs": [],
   "source": [
    "df_activation_spec= pd.DataFrame(activation_times_spec, lab_spec) \n",
    "lst_nodes = [i for i in range(154) if i != stim_node]\n",
    "labels_nostim=region_labels_lr[lst_nodes]"
   ]
  },
  {
   "cell_type": "code",
   "execution_count": null,
   "metadata": {
    "collapsed": false
   },
   "outputs": [],
   "source": [
    "df_activation_spec_sort = df_activation_spec.sort(columns= 0)"
   ]
  },
  {
   "cell_type": "code",
   "execution_count": null,
   "metadata": {
    "collapsed": false
   },
   "outputs": [],
   "source": [
    "df_activation_spec_sort = df_activation_spec.sort(columns =0)\n",
    "ax = df_activation_spec_sort.plot(kind='barh', title=\"distances\", figsize=(9,6), legend=False)\n",
    "y_pos = np.arange(len(df_activation_spec_sort))\n",
    "width= 0.05\n",
    "rects = ax.barh(y_pos, df_activation_spec_sort, width)\n",
    "\n",
    "ax.set_ylabel('node acronyms')\n",
    "ax.set_xlabel('time activation(ms)')\n",
    "ax.invert_yaxis()\n",
    "ax.set_title('Node Activation Times')\n",
    "ax.set_xlim(0,1600)"
   ]
  },
  {
   "cell_type": "markdown",
   "metadata": {},
   "source": [
    "### distances from stim"
   ]
  },
  {
   "cell_type": "code",
   "execution_count": null,
   "metadata": {
    "collapsed": false
   },
   "outputs": [],
   "source": [
    "i =stim_node \n",
    "distances= np.array(np.zeros(len(new_conn.tract_lengths)))\n",
    "\n",
    "for j in range(len(new_conn.tract_lengths)): \n",
    "    distances[j]= new_conn.tract_lengths[i, j]"
   ]
  },
  {
   "cell_type": "code",
   "execution_count": null,
   "metadata": {
    "collapsed": false
   },
   "outputs": [],
   "source": [
    "df_distances= pd.DataFrame([labs, distances[:77]]).T\n",
    "df_distances_labs= df_distances.sort(columns= 1, ascending= True) "
   ]
  },
  {
   "cell_type": "code",
   "execution_count": null,
   "metadata": {
    "collapsed": false
   },
   "outputs": [],
   "source": [
    "ax = df_distances_labs.plot(kind='barh', title=\"distances\", figsize=(10,10), legend=False)\n",
    "y_pos = np.arange(len(distances[:77])) \n",
    "width= 0. \n",
    "rects = ax.barh(y_pos,df_distances_labs[1], width) \n",
    "ax.set_ylabel('node acronyms') \n",
    "ax.set_xlabel('Distances')\n",
    "ax.set_title('Distance from stim node') \n",
    "ax.invert_yaxis()\n",
    "ax.set_yticks(range(len(labs))) \n",
    "ytickNames = ax.set_yticklabels(df_distances_labs[0])"
   ]
  },
  {
   "cell_type": "markdown",
   "metadata": {},
   "source": [
    "### Finding amplitudes of each node"
   ]
  },
  {
   "cell_type": "code",
   "execution_count": null,
   "metadata": {
    "collapsed": true
   },
   "outputs": [],
   "source": [
    "import pandas as pd"
   ]
  },
  {
   "cell_type": "code",
   "execution_count": null,
   "metadata": {
    "collapsed": false
   },
   "outputs": [],
   "source": [
    "#no stim node in this data set \n",
    "data_nostim= nostimnode.T\n",
    "\n",
    "max_amp= [] \n",
    "for node in range(len(data_nostim)): \n",
    "    max_amp.append(max(abs(data_nostim[node, range(9800,10000)])))\n",
    "\n",
    "df_max_amp= pd.DataFrame(max_amp, labels_nostim) \n",
    "df_max_amp_sort= df_max_amp.sort(columns=0) "
   ]
  },
  {
   "cell_type": "code",
   "execution_count": null,
   "metadata": {
    "collapsed": false
   },
   "outputs": [],
   "source": [
    "ax = df_max_amp_sort.plot(kind='barh', title=\"amplitudes\", figsize=(10,10), legend=False) \n",
    "y_pos = np.arange(len(df_max_amp_sort)) \n",
    "width= 0. \n",
    "rects = ax.barh(y_pos, df_max_amp_sort, width)\n",
    "ax.set_ylabel('node acronyms') \n",
    "ax.set_xlabel('amplitude') \n",
    "ax.invert_yaxis() \n",
    "ax.set_title('Amplitudes')"
   ]
  },
  {
   "cell_type": "markdown",
   "metadata": {},
   "source": [
    "### Heat map"
   ]
  },
  {
   "cell_type": "code",
   "execution_count": null,
   "metadata": {
    "collapsed": false
   },
   "outputs": [],
   "source": [
    "import seaborn as sns \n",
    "fig, ax = plt.subplots(figsize = (10, 10)) \n",
    "sns.heatmap(df_tavg_labs.ix[9800:12000].T, ax=ax, vmin=-0.001, vmax=0.001, xticklabels='') \n",
    "ax.imshow(df_tavg.ix[9800:12000].T.values,vmin=-0.001, vmax=0.001, \n",
    "          aspect='auto',cmap='coolwarm', interpolation='none') \n",
    "ax.set_yticklabels \n",
    "ax.grid('off') \n",
    "for label in ax.get_yticklabels(): \n",
    "    label.set_rotation(0)"
   ]
  },
  {
   "cell_type": "markdown",
   "metadata": {},
   "source": [
    "### Covariance Matrix"
   ]
  },
  {
   "cell_type": "code",
   "execution_count": null,
   "metadata": {
    "collapsed": false
   },
   "outputs": [],
   "source": [
    "dat_raw= (nostimnode).T \n",
    "dat_notrans_prestim= np.squeeze(dat_raw)[:,range(9800, 10000)] \n",
    "dat_notrans_prestim.shape\n",
    "\n",
    "lst_nodes = [i for i in range(154) if i != stim_node] \n",
    "labels_nostim=region_labels_lr[lst_nodes]"
   ]
  },
  {
   "cell_type": "code",
   "execution_count": null,
   "metadata": {
    "collapsed": false
   },
   "outputs": [],
   "source": [
    "fig, ax= plt.subplots(figsize= (9,9)) \n",
    "fig.canvas.draw() \n",
    "ax.set_xticks(range(len(labels_nostim))) \n",
    "ax.set_yticks(range(len(labels_nostim))) \n",
    "ax.set_xticklabels(labels_nostim,rotation=90,fontsize=8) \n",
    "ax.set_yticklabels(labels_nostim, fontsize=8) \n",
    "plt.imshow(np.cov(dat_notrans_prestim), cmap= 'jet') \n",
    "plt.grid('off') \n",
    "plt.colorbar()"
   ]
  },
  {
   "cell_type": "markdown",
   "metadata": {},
   "source": [
    "### Eigen vector matrix"
   ]
  },
  {
   "cell_type": "code",
   "execution_count": null,
   "metadata": {
    "collapsed": false
   },
   "outputs": [],
   "source": [
    "from scipy.linalg import eig\n",
    "\n",
    "dat_notrans_cov = np.cov(dat_notrans_prestim) \n",
    "dat_notrans_cov_evals, dat_notrans_cov_evecs = np.linalg.eig(dat_notrans_cov)\n",
    "fig, ax =plt.subplots(figsize= (9,9)) \n",
    "fig.canvas.draw() \n",
    "ax.set_xticks(range(len(labels_nostim))) \n",
    "ax.set_yticks(range(len(labels_nostim))) \n",
    "ax.set_xticklabels(labels_nostim,rotation=90,fontsize=8) \n",
    "ax.set_yticklabels(labels_nostim, fontsize= 8)\n",
    "\n",
    "#changed all 154 to 155 to take 0 into account \n",
    "dat_notrans_cov_evecs_155 = np.zeros([155,155]) \n",
    "dat_notrans_cov_evecs_155[:153,:153] = dat_notrans_cov_evecs \n",
    "plt.imshow(dat_notrans_cov_evecs_155, cmap= 'jet') \n",
    "plt.grid('off') \n",
    "plt.colorbar()"
   ]
  },
  {
   "cell_type": "markdown",
   "metadata": {},
   "source": [
    "### Time slice on brain using surface plotting"
   ]
  },
  {
   "cell_type": "markdown",
   "metadata": {},
   "source": [
    "### Make fig"
   ]
  },
  {
   "cell_type": "code",
   "execution_count": null,
   "metadata": {
    "collapsed": true
   },
   "outputs": [],
   "source": [
    "ctx_file= '/home/htian/Data/newzip.zip'\n",
    "rm= np.loadtxt('/home/htian/Data/region_mapping.txt')\n",
    "hemi= np.loadtxt('/home/htian/Data/fv91_srfData_20170215/hemispheres.txt')\n",
    "ctx = cortex.Cortex.from_file(source_file = ctx_file)\n",
    "vtx,tri = ctx.vertices,ctx.triangles\n",
    "\n",
    "notstim= np.squeeze(tavg_data).copy()\n",
    "notstim[:, stim_node]= 0\n",
    "           \n",
    "m = np.array([(np.abs(notstim[i])).max() for i in range(len(notstim))])\n",
    "for i in range(len(notstim)):\n",
    "    for j in range(len(notstim[1])):\n",
    "        notstim[i,j] /= m[i]\n",
    "\n",
    "df_notstim = pd.DataFrame(notstim,index=tavg_time)"
   ]
  },
  {
   "cell_type": "code",
   "execution_count": null,
   "metadata": {
    "collapsed": true
   },
   "outputs": [],
   "source": [
    "cd '/tmp'"
   ]
  },
  {
   "cell_type": "code",
   "execution_count": null,
   "metadata": {
    "collapsed": false
   },
   "outputs": [],
   "source": [
    "fig, ax = plt.subplots(ncols=1, nrows=10)\n",
    "cmap = cm.Reds\n",
    "cmap.set_under(color='w')\n",
    "\n",
    "kws = {'edgecolors': 'k', 'vmin': 0, 'cmap': cmap, \n",
    "       'vmax': 1, 'alpha': None, 'linewidth': 0.01}\n",
    "\n",
    "\n",
    "#ts=[10000.5, 10050.5, 10100.5, 10150.5, 10200.5, 10250.5, 10300.5, 100.5, 10400.5, 10450.5]\n",
    "ts=[10000.5, 10175.5, 10350.5, 10525.5, 10700.5, 10875.5, 11050.5, 11225.5, 11400.5, 11575.5]\n",
    "\n",
    "for t_it,t in enumerate(ts):\n",
    "    data = np.append(df_notstim.ix[t].abs().values, nan)\n",
    " \n",
    "    plot_surface_mpl_mv(vtx=vtx ,tri= tri,rm=rm,data=data, figsize=(10,10),\n",
    "                    hemi=hemi ,shade_kwargs=kws) \n",
    "    \n",
    "    f = '/tmp/braintmp_' + stim_name +'_t%1.1fms.png' %t\n",
    "    plt.savefig(f,bbox_inches='tight')\n",
    "    plt.close()\n",
    "    plt.show()"
   ]
  },
  {
   "cell_type": "code",
   "execution_count": null,
   "metadata": {
    "collapsed": false
   },
   "outputs": [],
   "source": [
    "fig, ax = plt.subplots(nrows=10, figsize= (12,60))\n",
    "for t_it,t in enumerate(ts):\n",
    "    f =  '/tmp/braintmp_' + stim_name + '_t%1.1fms.png' %t\n",
    "    ax[t_it].imshow(plt.imread(f))\n",
    "    ax[t_it].axis('off')\n",
    "    ax[t_it].set_title('t=%1.1fms' %t,fontsize=9)\n"
   ]
  },
  {
   "cell_type": "code",
   "execution_count": null,
   "metadata": {
    "collapsed": false,
    "scrolled": false
   },
   "outputs": [],
   "source": [
    "fig, ax = plt.subplots(ncols=1, nrows=10)\n",
    "cmap = cm.Reds\n",
    "cmap.set_under(color='w')\n",
    "\n",
    "kws = {'edgecolors': 'k', 'vmin': 0, 'cmap': cmap, \n",
    "       'vmax': 0.01, 'alpha': None, 'linewidth': 0.01}\n",
    "\n",
    "\n",
    "#ts=[10000.5, 10050.5, 10100.5, 10150.5, 10200.5, 10250.5, 10300.5, 100.5, 10400.5, 10450.5]\n",
    "ts=[10000.5, 10175.5, 10350.5, 10525.5, 10700.5, 10875.5, 11050.5, 11225.5, 11400.5, 11575.5]\n",
    "\n",
    "for t_it,t in enumerate(ts):\n",
    "    data = np.append(df_notstim.ix[t].abs().values, nan)\n",
    " \n",
    "    plot_surface_mpl_mv(vtx=vtx ,tri= tri,rm=rm,data=data, figsize=(10,10),\n",
    "                    hemi=hemi ,shade_kwargs=kws) \n",
    "    \n",
    "    f = '/tmp/braintmp_' + stim_name +'_t%1.1fms.png' %t\n",
    "    plt.savefig(f,bbox_inches='tight')\n",
    "    plt.close()\n",
    "    plt.show()"
   ]
  },
  {
   "cell_type": "code",
   "execution_count": null,
   "metadata": {
    "collapsed": false,
    "scrolled": false
   },
   "outputs": [],
   "source": [
    "fig, ax = plt.subplots(nrows=10, figsize= (12,60))\n",
    "for t_it,t in enumerate(ts):\n",
    "    f =  '/tmp/braintmp_' + stim_name + '_t%1.1fms.png' %t\n",
    "    ax[t_it].imshow(plt.imread(f))\n",
    "    ax[t_it].axis('off')\n",
    "    ax[t_it].set_title('t=%1.1fms' %t,fontsize=9)\n"
   ]
  },
  {
   "cell_type": "markdown",
   "metadata": {},
   "source": [
    "### Plotting eigenvector on brain"
   ]
  },
  {
   "cell_type": "code",
   "execution_count": null,
   "metadata": {
    "collapsed": false
   },
   "outputs": [],
   "source": [
    "#display the data\n",
    "kws = {'edgecolors': 'k', 'vmin': -1, 'cmap': 'coolwarm', 'vmax': 1, 'alpha': None, 'linewidth': 0.01}\n",
    "fig, ax = plt.subplots(ncols=4,nrows=2,figsize=(12,6))\n",
    "for e_it in range(4): \n",
    "    dat = dat_notrans_cov_evecs_155[:,e_it]\n",
    "    \n",
    "    plot_surface_mpl(vtx=vtx,tri=tri,data=dat,rm=rm,ax=ax[0][e_it],\n",
    "                 shade_kwargs=kws,view='rh_lat', title='evec %s' %e_it)\n",
    "    \n",
    "    plot_surface_mpl(vtx=vtx,tri=tri,data=dat,rm=rm,ax=ax[1][e_it],\n",
    "                 shade_kwargs=kws,view='superior')"
   ]
  },
  {
   "cell_type": "code",
   "execution_count": null,
   "metadata": {
    "collapsed": false
   },
   "outputs": [],
   "source": [
    "#display the data with one color\n",
    "\n",
    "kws = {'edgecolors': 'k', 'vmin': 0, 'cmap': 'Reds', #'vmin': 0.4\n",
    "       'vmax': 1, 'alpha': None, 'linewidth': 0.01}\n",
    "\n",
    "fig, ax = plt.subplots(ncols=4,nrows=2,figsize=(12,6))\n",
    "\n",
    "for e_it in range(4):\n",
    "    dat = np.abs(dat_notrans_cov_evecs_155[:,e_it])\n",
    "\n",
    "    plot_surface_mpl(vtx=vtx,tri=tri,data=dat,rm=rm,ax=ax[0][e_it],\n",
    "                     shade_kwargs=kws,view='rh_lat', title='evec %s' %e_it)\n",
    "\n",
    "    plot_surface_mpl(vtx=vtx,tri=tri,data=dat,rm=rm,ax=ax[1][e_it],\n",
    "                     shade_kwargs=kws,view='superior')"
   ]
  },
  {
   "cell_type": "markdown",
   "metadata": {},
   "source": [
    "---"
   ]
  },
  {
   "cell_type": "markdown",
   "metadata": {},
   "source": [
    "### all activation times"
   ]
  },
  {
   "cell_type": "markdown",
   "metadata": {},
   "source": [
    "After running all the stimulations you wanted, load in all your files that you saved previously. Here, we will be saving all the activation times in a dataframe to compare activation times of all stimulations."
   ]
  },
  {
   "cell_type": "code",
   "execution_count": null,
   "metadata": {
    "collapsed": false
   },
   "outputs": [],
   "source": [
    "import pandas as pd\n",
    "act_times= []\n",
    "act_times.append(np.array(np.loadtxt('S_data.txt')))\n",
    "act_times.append(np.array(np.loadtxt('CA3_data.txt')))\n",
    "act_times.append(np.array(np.loadtxt('CA1_data.txt')))\n",
    "act_times.append(np.array(np.loadtxt('ER_data.txt')))\n",
    "act_times= np.array(act_times)\n"
   ]
  },
  {
   "cell_type": "code",
   "execution_count": null,
   "metadata": {
    "collapsed": true
   },
   "outputs": [],
   "source": [
    "col_labs= ['S','CA3', 'CA1', 'ER']"
   ]
  },
  {
   "cell_type": "code",
   "execution_count": null,
   "metadata": {
    "collapsed": false
   },
   "outputs": [],
   "source": [
    "df_activation_spec_all = pd.DataFrame(act_times.T,lab_spec, columns= col_labs) \n",
    "df_activation_spec_all"
   ]
  },
  {
   "cell_type": "markdown",
   "metadata": {},
   "source": [
    "Here we visualizing the data with a bar graph."
   ]
  },
  {
   "cell_type": "code",
   "execution_count": null,
   "metadata": {
    "collapsed": false
   },
   "outputs": [],
   "source": [
    "ax= df_activation_spec_all.plot(kind='barh', title='Activation times', figsize=(10,10))\n",
    "\n",
    "ax.set_ylabel('node acronyms')\n",
    "ax.set_xlabel('time activation(ms)')\n",
    "ax.invert_yaxis()\n",
    "ax.set_title('Node Activation Times')\n",
    "ax.set_xlim(0,2000)"
   ]
  }
 ],
 "metadata": {
  "anaconda-cloud": {},
  "kernelspec": {
   "display_name": "Python [default]",
   "language": "python",
   "name": "python2"
  },
  "language_info": {
   "codemirror_mode": {
    "name": "ipython",
    "version": 2
   },
   "file_extension": ".py",
   "mimetype": "text/x-python",
   "name": "python",
   "nbconvert_exporter": "python",
   "pygments_lexer": "ipython2",
   "version": "2.7.13"
  }
 },
 "nbformat": 4,
 "nbformat_minor": 2
}
